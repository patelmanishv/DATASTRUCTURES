{
 "cells": [
  {
   "cell_type": "raw",
   "metadata": {},
   "source": [
    "---\n",
    "title: \"Using os and sys modules in Python\"\n",
    "format: \n",
    "    revealjs:\n",
    "        slide-number: true\n",
    "        theme: dark\n",
    "        width: 1400\n",
    "        height: 900\n",
    "        highlight-style: vim-dark\n",
    "        center: true\n",
    "        incremental: true\n",
    "        footer: \"Manish Patel\"\n",
    "        progress: true\n",
    "jupyter: python3\n",
    "embed-resources: true\n",
    "execute:\n",
    "  echo: true\n",
    "---"
   ]
  },
  {
   "cell_type": "markdown",
   "metadata": {},
   "source": [
    "### The Python `os` Module\n",
    "\n",
    "Documentation for the os module is [here](https://docs.python.org/3/library/os.html)."
   ]
  },
  {
   "cell_type": "code",
   "execution_count": 2,
   "metadata": {},
   "outputs": [],
   "source": [
    "import os"
   ]
  },
  {
   "cell_type": "code",
   "execution_count": 5,
   "metadata": {},
   "outputs": [
    {
     "data": {
      "text/plain": [
       "True"
      ]
     },
     "execution_count": 5,
     "metadata": {},
     "output_type": "execute_result"
    }
   ],
   "source": [
    "os.path.exists(\"old.txt\")"
   ]
  },
  {
   "cell_type": "code",
   "execution_count": 4,
   "metadata": {},
   "outputs": [
    {
     "name": "stdout",
     "output_type": "stream",
     "text": [
      "Size of the file is 9 bytes.\n"
     ]
    }
   ],
   "source": [
    "size = os.path.getsize(\"old.txt\")\n",
    "  \n",
    "print(\"Size of the file is\", size,\"bytes.\")"
   ]
  },
  {
   "cell_type": "markdown",
   "metadata": {},
   "source": [
    "## MAKE A DIRECTORY "
   ]
  },
  {
   "cell_type": "code",
   "execution_count": 6,
   "metadata": {},
   "outputs": [],
   "source": [
    "# make a directory\n",
    "os.mkdir('new_directory')"
   ]
  },
  {
   "cell_type": "markdown",
   "metadata": {},
   "source": [
    "## CREATE A FILE"
   ]
  },
  {
   "cell_type": "code",
   "execution_count": 7,
   "metadata": {},
   "outputs": [],
   "source": [
    "my_file = open('old.txt', 'w')\n",
    "my_file.write('something')\n",
    "my_file.close()"
   ]
  },
  {
   "cell_type": "markdown",
   "metadata": {},
   "source": [
    "## RENAME"
   ]
  },
  {
   "cell_type": "code",
   "execution_count": 8,
   "metadata": {},
   "outputs": [],
   "source": [
    "os.rename('old.txt', 'new.txt')"
   ]
  },
  {
   "cell_type": "markdown",
   "metadata": {},
   "source": [
    "## Get current working directory - equivalent to pwd in bash"
   ]
  },
  {
   "cell_type": "code",
   "execution_count": 9,
   "metadata": {},
   "outputs": [
    {
     "data": {
      "text/plain": [
       "'C:\\\\Users\\\\ravi\\\\Documents'"
      ]
     },
     "execution_count": 9,
     "metadata": {},
     "output_type": "execute_result"
    }
   ],
   "source": [
    "os.getcwd()"
   ]
  },
  {
   "cell_type": "code",
   "execution_count": 11,
   "metadata": {},
   "outputs": [],
   "source": [
    "os.mkdir(\"chapter9\")"
   ]
  },
  {
   "cell_type": "code",
   "execution_count": 12,
   "metadata": {},
   "outputs": [
    {
     "data": {
      "text/plain": [
       "'C:\\\\Users\\\\ravi\\\\Documents\\\\chapter9'"
      ]
     },
     "execution_count": 12,
     "metadata": {},
     "output_type": "execute_result"
    }
   ],
   "source": [
    "# the equivalent of cd\n",
    "os.chdir('chapter9')\n",
    "os.getcwd()"
   ]
  },
  {
   "cell_type": "code",
   "execution_count": 13,
   "metadata": {},
   "outputs": [
    {
     "name": "stdout",
     "output_type": "stream",
     "text": [
      "my directory: C:\\Users\\ravi\\Documents\\chapter9\n"
     ]
    }
   ],
   "source": [
    "my_directory = os.getcwd()\n",
    "print('my directory:', my_directory)"
   ]
  },
  {
   "cell_type": "code",
   "execution_count": 14,
   "metadata": {},
   "outputs": [],
   "source": [
    "my_file = open('newer.txt', 'w')\n",
    "my_file.write('something')\n",
    "my_file.close()"
   ]
  },
  {
   "cell_type": "code",
   "execution_count": 15,
   "metadata": {},
   "outputs": [],
   "source": [
    "my_file = open('../newest.txt', 'w')\n",
    "my_file.write('something')\n",
    "my_file.close()"
   ]
  },
  {
   "cell_type": "markdown",
   "metadata": {},
   "source": [
    "## CHANGE WORKING DIRECTORY"
   ]
  },
  {
   "cell_type": "code",
   "execution_count": 16,
   "metadata": {},
   "outputs": [
    {
     "data": {
      "text/plain": [
       "'C:\\\\Users\\\\ravi\\\\Documents\\\\chapter9'"
      ]
     },
     "execution_count": 16,
     "metadata": {},
     "output_type": "execute_result"
    }
   ],
   "source": [
    "os.getcwd()"
   ]
  },
  {
   "cell_type": "code",
   "execution_count": 17,
   "metadata": {},
   "outputs": [],
   "source": [
    "os.chdir(r\"C:\\Users\\ravi\\Documents\\\\\")"
   ]
  },
  {
   "cell_type": "code",
   "execution_count": 18,
   "metadata": {},
   "outputs": [
    {
     "data": {
      "text/plain": [
       "'C:\\\\Users\\\\ravi\\\\Documents'"
      ]
     },
     "execution_count": 18,
     "metadata": {},
     "output_type": "execute_result"
    }
   ],
   "source": [
    "os.getcwd()"
   ]
  },
  {
   "cell_type": "markdown",
   "metadata": {},
   "source": [
    "# `shutil` Module"
   ]
  },
  {
   "cell_type": "code",
   "execution_count": 19,
   "metadata": {},
   "outputs": [],
   "source": [
    "import shutil"
   ]
  },
  {
   "cell_type": "code",
   "execution_count": 20,
   "metadata": {},
   "outputs": [
    {
     "data": {
      "text/plain": [
       "'copy_of_newest.txt'"
      ]
     },
     "execution_count": 20,
     "metadata": {},
     "output_type": "execute_result"
    }
   ],
   "source": [
    "shutil.copy('newest.txt', 'copy_of_newest.txt')"
   ]
  },
  {
   "cell_type": "code",
   "execution_count": 21,
   "metadata": {},
   "outputs": [],
   "source": [
    "os.rename('copy_of_newest.txt', 'copy of newest.txt')"
   ]
  },
  {
   "cell_type": "code",
   "execution_count": 22,
   "metadata": {},
   "outputs": [
    {
     "data": {
      "text/plain": [
       "'copy_of_newest.txt'"
      ]
     },
     "execution_count": 22,
     "metadata": {},
     "output_type": "execute_result"
    }
   ],
   "source": [
    "shutil.copy('copy of newest.txt', 'copy_of_newest.txt')"
   ]
  },
  {
   "cell_type": "code",
   "execution_count": 23,
   "metadata": {},
   "outputs": [
    {
     "name": "stdout",
     "output_type": "stream",
     "text": [
      "C:\\Users\\ravi\\Documents\\chapter9\n"
     ]
    }
   ],
   "source": [
    "cd chapter9"
   ]
  },
  {
   "cell_type": "code",
   "execution_count": 24,
   "metadata": {},
   "outputs": [
    {
     "data": {
      "text/plain": [
       "'C:\\\\Users\\\\ravi\\\\Documents\\\\chapter9'"
      ]
     },
     "execution_count": 24,
     "metadata": {},
     "output_type": "execute_result"
    }
   ],
   "source": [
    "os.getcwd()"
   ]
  },
  {
   "cell_type": "code",
   "execution_count": 25,
   "metadata": {},
   "outputs": [
    {
     "name": "stdout",
     "output_type": "stream",
     "text": [
      "C:\\Users\\ravi\\Documents\n"
     ]
    }
   ],
   "source": [
    "cd .."
   ]
  },
  {
   "cell_type": "code",
   "execution_count": 26,
   "metadata": {},
   "outputs": [
    {
     "data": {
      "text/plain": [
       "'C:\\\\Users\\\\ravi\\\\Documents'"
      ]
     },
     "execution_count": 26,
     "metadata": {},
     "output_type": "execute_result"
    }
   ],
   "source": [
    "os.getcwd()"
   ]
  },
  {
   "cell_type": "code",
   "execution_count": 27,
   "metadata": {},
   "outputs": [
    {
     "name": "stdout",
     "output_type": "stream",
     "text": [
      "C:\\Users\\ravi\\Documents\\chapter9\n"
     ]
    }
   ],
   "source": [
    "cd chapter9"
   ]
  },
  {
   "cell_type": "markdown",
   "metadata": {},
   "source": [
    "# Python 3 `pathlib` module\n",
    "\n",
    "- The [pathlib](https://docs.python.org/3/library/pathlib.html) module lets you do many things with paths. This has replaced the older `os.path` module."
   ]
  },
  {
   "cell_type": "code",
   "execution_count": 31,
   "metadata": {},
   "outputs": [
    {
     "name": "stdout",
     "output_type": "stream",
     "text": [
      "chapter9\n"
     ]
    }
   ],
   "source": [
    "import pathlib\n",
    "\n",
    "path = pathlib.Path('chapter9')\n",
    "print(path)"
   ]
  },
  {
   "cell_type": "code",
   "execution_count": 32,
   "metadata": {},
   "outputs": [
    {
     "name": "stdout",
     "output_type": "stream",
     "text": [
      "That path exists\n"
     ]
    }
   ],
   "source": [
    "if path.exists():\n",
    "    print(\"That path exists\")\n",
    "else:\n",
    "    print(\"no such path\")"
   ]
  },
  {
   "cell_type": "code",
   "execution_count": 33,
   "metadata": {},
   "outputs": [],
   "source": [
    "os.chdir(r\"C:\\Users\\ravi\\Documents\\\\\")"
   ]
  },
  {
   "cell_type": "code",
   "execution_count": 34,
   "metadata": {},
   "outputs": [
    {
     "data": {
      "text/plain": [
       "'C:\\\\Users\\\\ravi\\\\Documents'"
      ]
     },
     "execution_count": 34,
     "metadata": {},
     "output_type": "execute_result"
    }
   ],
   "source": [
    "os.getcwd()"
   ]
  },
  {
   "cell_type": "code",
   "execution_count": 35,
   "metadata": {},
   "outputs": [],
   "source": [
    "# removing single files\n",
    "os.remove('copy of newest.txt')"
   ]
  },
  {
   "cell_type": "code",
   "execution_count": 36,
   "metadata": {},
   "outputs": [],
   "source": [
    "os.mkdir('empty_directory')"
   ]
  },
  {
   "cell_type": "code",
   "execution_count": 37,
   "metadata": {},
   "outputs": [],
   "source": [
    "# removes empty directory\n",
    "os.rmdir('empty_directory')"
   ]
  },
  {
   "cell_type": "code",
   "execution_count": 38,
   "metadata": {},
   "outputs": [
    {
     "ename": "OSError",
     "evalue": "[WinError 145] The directory is not empty: 'chapter9'",
     "output_type": "error",
     "traceback": [
      "\u001b[1;31m---------------------------------------------------------------------------\u001b[0m",
      "\u001b[1;31mOSError\u001b[0m                                   Traceback (most recent call last)",
      "\u001b[1;32m<ipython-input-38-87c5e3889acb>\u001b[0m in \u001b[0;36m<module>\u001b[1;34m\u001b[0m\n\u001b[0;32m      1\u001b[0m \u001b[1;31m# does not work with directory with files in\u001b[0m\u001b[1;33m\u001b[0m\u001b[1;33m\u001b[0m\u001b[1;33m\u001b[0m\u001b[0m\n\u001b[1;32m----> 2\u001b[1;33m \u001b[0mos\u001b[0m\u001b[1;33m.\u001b[0m\u001b[0mrmdir\u001b[0m\u001b[1;33m(\u001b[0m\u001b[1;34m'chapter9'\u001b[0m\u001b[1;33m)\u001b[0m\u001b[1;33m\u001b[0m\u001b[1;33m\u001b[0m\u001b[0m\n\u001b[0m",
      "\u001b[1;31mOSError\u001b[0m: [WinError 145] The directory is not empty: 'chapter9'"
     ]
    }
   ],
   "source": [
    "# does not work with directory with files in\n",
    "os.rmdir('chapter9')"
   ]
  },
  {
   "cell_type": "markdown",
   "metadata": {},
   "source": [
    "## REMOVE ENTIRE DIRECTORY"
   ]
  },
  {
   "cell_type": "code",
   "execution_count": 39,
   "metadata": {},
   "outputs": [],
   "source": [
    "# remove entire tree\n",
    "shutil.rmtree('chapter9')"
   ]
  },
  {
   "cell_type": "code",
   "execution_count": 40,
   "metadata": {},
   "outputs": [
    {
     "data": {
      "text/plain": [
       "['!qhlogs.doc',\n",
       " '.ipynb_checkpoints',\n",
       " '.Renviron',\n",
       " '.Rhistory',\n",
       " '01_06_Errors_and_Debugging.ipynb',\n",
       " '02_05_Exception_Handling.ipynb',\n",
       " '09-Errors-and-Exceptions.ipynb',\n",
       " '1 - Pandas .ipynb',\n",
       " '2Random Module, Buttons, Canvas, Timers.ipynb',\n",
       " 'access_web_resources.ipynb',\n",
       " 'API.ipynb',\n",
       " 'Assignment - 11.ipynb',\n",
       " 'Assignment - 12.ipynb',\n",
       " 'Assignment - 15.ipynb',\n",
       " 'Assignment - 16.ipynb',\n",
       " 'Astro_Image_1.ipynb',\n",
       " 'aws.ipynb',\n",
       " 'basic_git_tutorial.ipynb',\n",
       " 'BeautifulSoup.ipynb',\n",
       " 'CHAPTER 8.ipynb',\n",
       " 'Chapter9.ipynb',\n",
       " 'check.ipynb',\n",
       " 'check1.ipynb',\n",
       " 'Classes.ipynb',\n",
       " 'client.py',\n",
       " 'client.py.bak',\n",
       " 'copy_of_newest.txt',\n",
       " 'CSS.ipynb',\n",
       " 'Custom Office Templates',\n",
       " 'data',\n",
       " 'dataDeluxCare.db',\n",
       " 'Dataframe.ipynb',\n",
       " 'debugging.ipynb',\n",
       " 'Default.rdp',\n",
       " 'demo.css',\n",
       " 'desktop.ini',\n",
       " 'DJANGO.ipynb',\n",
       " 'docs',\n",
       " 'downloaded_file.zip',\n",
       " 'DSA.ipynb',\n",
       " 'eggs.csv',\n",
       " 'errors and exceptions.ipynb',\n",
       " 'Exception.ipynb',\n",
       " 'EXCEPTIONS HANDLING IN PYTHON.ipynb',\n",
       " 'fi.txt',\n",
       " 'FILE EXERCISES.ipynb',\n",
       " 'file programs.ipynb',\n",
       " 'File_handling.ipynb',\n",
       " 'GAME PROGRAMMING.ipynb',\n",
       " 'hi.txt',\n",
       " 'images',\n",
       " 'introduction_data_retrieval.ipynb',\n",
       " 'kavit1.py',\n",
       " 'L1_Database_Systems.ipynb',\n",
       " 'L1_Principles.ipynb',\n",
       " 'L5_ER_Modeling.ipynb',\n",
       " 'ljiet',\n",
       " 'Machine Learninig.ipynb',\n",
       " 'main.py',\n",
       " 'man',\n",
       " 'manish.html',\n",
       " 'manishnewfile.txt',\n",
       " 'manishtest.txt',\n",
       " 'mannu',\n",
       " 'mod11.py',\n",
       " 'mod12.py',\n",
       " 'modcheck.py',\n",
       " 'modulecheck.py',\n",
       " 'My Data Sources',\n",
       " 'My Music',\n",
       " 'My Pictures',\n",
       " 'My Videos',\n",
       " 'mysql.ipynb',\n",
       " 'mysqlinpython.ipynb',\n",
       " 'New Text Document.txt',\n",
       " 'new.txt',\n",
       " 'newest.txt',\n",
       " 'newmanishfile.txt',\n",
       " 'newuser',\n",
       " 'newvenv.ipynb',\n",
       " 'new_directory',\n",
       " 'numpy',\n",
       " 'numpy.ipynb',\n",
       " 'OneNote Notebooks',\n",
       " 'OOP-QB.ipynb',\n",
       " 'OOP-QB.slides.html',\n",
       " 'OOPS CONCEPT.ipynb',\n",
       " 'OOPS IN PYTHON.ipynb',\n",
       " 'OOPS PROGRAMS.ipynb',\n",
       " 'oops.ipynb',\n",
       " 'Oopslides.ipynb',\n",
       " 'Oopslides.slides.html',\n",
       " 'oops_program.ipynb',\n",
       " 'OOP_Part3_VHA.ipynb',\n",
       " 'out.txt',\n",
       " 'PoPCites.csv',\n",
       " 'PoPMetrics.csv',\n",
       " 'prog.html',\n",
       " 'prog.ipynb',\n",
       " 'prog_files',\n",
       " 'Python Scripts',\n",
       " 'python.txt',\n",
       " 'qb.xlsx',\n",
       " 'react.html',\n",
       " 'react.ipynb',\n",
       " 'react_files',\n",
       " 'README.txt',\n",
       " 'Requests.qmd',\n",
       " 'Requests_files',\n",
       " 'Sample.json',\n",
       " 'SEARCHINGALGORITHMS.html',\n",
       " 'SEARCHINGALGORITHMS.ipynb',\n",
       " 'server.py',\n",
       " 'SORTING ALGORITHMS.ipynb',\n",
       " 'sqlite',\n",
       " 'sqlite.ipynb',\n",
       " 'Status codes.png',\n",
       " 'STRING METHODS.ipynb',\n",
       " 'STRING PROGRAMS.ipynb',\n",
       " 'string.ipynb',\n",
       " 'T4_MATPLOTLIB_A7_F2.ipynb',\n",
       " 'this',\n",
       " 'UNIT - 2 (3).ipynb',\n",
       " 'UNIT - 3 (2).ipynb',\n",
       " 'UNIT-5 PROGRAMS.ipynb',\n",
       " 'Unit10_QB.ipynb',\n",
       " 'UNIT9.ipynb',\n",
       " 'Unit9_QB.ipynb',\n",
       " 'Untitled Folder 1',\n",
       " 'Untitled.ipynb',\n",
       " 'updated.txt',\n",
       " 'Venv.qmd',\n",
       " 'Venv_files',\n",
       " 'vishal.py',\n",
       " 'WindowsPowerShell',\n",
       " 'worked_exercises_text_files',\n",
       " '__pycache__']"
      ]
     },
     "execution_count": 40,
     "metadata": {},
     "output_type": "execute_result"
    }
   ],
   "source": [
    "# the ls equivalent\n",
    "os.listdir()"
   ]
  },
  {
   "cell_type": "markdown",
   "metadata": {},
   "source": [
    "## SORTED DIRECTORIES"
   ]
  },
  {
   "cell_type": "code",
   "execution_count": 41,
   "metadata": {},
   "outputs": [
    {
     "data": {
      "text/plain": [
       "['!qhlogs.doc',\n",
       " '.Renviron',\n",
       " '.Rhistory',\n",
       " '.ipynb_checkpoints',\n",
       " '01_06_Errors_and_Debugging.ipynb',\n",
       " '02_05_Exception_Handling.ipynb',\n",
       " '09-Errors-and-Exceptions.ipynb',\n",
       " '1 - Pandas .ipynb',\n",
       " '2Random Module, Buttons, Canvas, Timers.ipynb',\n",
       " 'API.ipynb',\n",
       " 'Assignment - 11.ipynb',\n",
       " 'Assignment - 12.ipynb',\n",
       " 'Assignment - 15.ipynb',\n",
       " 'Assignment - 16.ipynb',\n",
       " 'Astro_Image_1.ipynb',\n",
       " 'BeautifulSoup.ipynb',\n",
       " 'CHAPTER 8.ipynb',\n",
       " 'CSS.ipynb',\n",
       " 'Chapter9.ipynb',\n",
       " 'Classes.ipynb',\n",
       " 'Custom Office Templates',\n",
       " 'DJANGO.ipynb',\n",
       " 'DSA.ipynb',\n",
       " 'Dataframe.ipynb',\n",
       " 'Default.rdp',\n",
       " 'EXCEPTIONS HANDLING IN PYTHON.ipynb',\n",
       " 'Exception.ipynb',\n",
       " 'FILE EXERCISES.ipynb',\n",
       " 'File_handling.ipynb',\n",
       " 'GAME PROGRAMMING.ipynb',\n",
       " 'L1_Database_Systems.ipynb',\n",
       " 'L1_Principles.ipynb',\n",
       " 'L5_ER_Modeling.ipynb',\n",
       " 'Machine Learninig.ipynb',\n",
       " 'My Data Sources',\n",
       " 'My Music',\n",
       " 'My Pictures',\n",
       " 'My Videos',\n",
       " 'New Text Document.txt',\n",
       " 'OOP-QB.ipynb',\n",
       " 'OOP-QB.slides.html',\n",
       " 'OOPS CONCEPT.ipynb',\n",
       " 'OOPS IN PYTHON.ipynb',\n",
       " 'OOPS PROGRAMS.ipynb',\n",
       " 'OOP_Part3_VHA.ipynb',\n",
       " 'OneNote Notebooks',\n",
       " 'Oopslides.ipynb',\n",
       " 'Oopslides.slides.html',\n",
       " 'PoPCites.csv',\n",
       " 'PoPMetrics.csv',\n",
       " 'Python Scripts',\n",
       " 'README.txt',\n",
       " 'Requests.qmd',\n",
       " 'Requests_files',\n",
       " 'SEARCHINGALGORITHMS.html',\n",
       " 'SEARCHINGALGORITHMS.ipynb',\n",
       " 'SORTING ALGORITHMS.ipynb',\n",
       " 'STRING METHODS.ipynb',\n",
       " 'STRING PROGRAMS.ipynb',\n",
       " 'Sample.json',\n",
       " 'Status codes.png',\n",
       " 'T4_MATPLOTLIB_A7_F2.ipynb',\n",
       " 'UNIT - 2 (3).ipynb',\n",
       " 'UNIT - 3 (2).ipynb',\n",
       " 'UNIT-5 PROGRAMS.ipynb',\n",
       " 'UNIT9.ipynb',\n",
       " 'Unit10_QB.ipynb',\n",
       " 'Unit9_QB.ipynb',\n",
       " 'Untitled Folder 1',\n",
       " 'Untitled.ipynb',\n",
       " 'Venv.qmd',\n",
       " 'Venv_files',\n",
       " 'WindowsPowerShell',\n",
       " '__pycache__',\n",
       " 'access_web_resources.ipynb',\n",
       " 'aws.ipynb',\n",
       " 'basic_git_tutorial.ipynb',\n",
       " 'check.ipynb',\n",
       " 'check1.ipynb',\n",
       " 'client.py',\n",
       " 'client.py.bak',\n",
       " 'copy_of_newest.txt',\n",
       " 'data',\n",
       " 'dataDeluxCare.db',\n",
       " 'debugging.ipynb',\n",
       " 'demo.css',\n",
       " 'desktop.ini',\n",
       " 'docs',\n",
       " 'downloaded_file.zip',\n",
       " 'eggs.csv',\n",
       " 'errors and exceptions.ipynb',\n",
       " 'fi.txt',\n",
       " 'file programs.ipynb',\n",
       " 'hi.txt',\n",
       " 'images',\n",
       " 'introduction_data_retrieval.ipynb',\n",
       " 'kavit1.py',\n",
       " 'ljiet',\n",
       " 'main.py',\n",
       " 'man',\n",
       " 'manish.html',\n",
       " 'manishnewfile.txt',\n",
       " 'manishtest.txt',\n",
       " 'mannu',\n",
       " 'mod11.py',\n",
       " 'mod12.py',\n",
       " 'modcheck.py',\n",
       " 'modulecheck.py',\n",
       " 'mysql.ipynb',\n",
       " 'mysqlinpython.ipynb',\n",
       " 'new.txt',\n",
       " 'new_directory',\n",
       " 'newest.txt',\n",
       " 'newmanishfile.txt',\n",
       " 'newuser',\n",
       " 'newvenv.ipynb',\n",
       " 'numpy',\n",
       " 'numpy.ipynb',\n",
       " 'oops.ipynb',\n",
       " 'oops_program.ipynb',\n",
       " 'out.txt',\n",
       " 'prog.html',\n",
       " 'prog.ipynb',\n",
       " 'prog_files',\n",
       " 'python.txt',\n",
       " 'qb.xlsx',\n",
       " 'react.html',\n",
       " 'react.ipynb',\n",
       " 'react_files',\n",
       " 'server.py',\n",
       " 'sqlite',\n",
       " 'sqlite.ipynb',\n",
       " 'string.ipynb',\n",
       " 'this',\n",
       " 'updated.txt',\n",
       " 'vishal.py',\n",
       " 'worked_exercises_text_files']"
      ]
     },
     "execution_count": 41,
     "metadata": {},
     "output_type": "execute_result"
    }
   ],
   "source": [
    "sorted(os.listdir())"
   ]
  },
  {
   "cell_type": "markdown",
   "metadata": {},
   "source": [
    "## LIST OF DIRECTORIES"
   ]
  },
  {
   "cell_type": "code",
   "execution_count": 42,
   "metadata": {},
   "outputs": [
    {
     "name": "stdout",
     "output_type": "stream",
     "text": [
      "Directory: .ipynb_checkpoints\n",
      "Directory: Custom Office Templates\n",
      "Directory: data\n",
      "Directory: docs\n",
      "Directory: images\n",
      "Directory: ljiet\n",
      "Directory: man\n",
      "Directory: mannu\n",
      "Directory: My Data Sources\n",
      "Directory: My Music\n",
      "Directory: My Pictures\n",
      "Directory: My Videos\n",
      "Directory: newuser\n",
      "Directory: new_directory\n",
      "Directory: numpy\n",
      "Directory: OneNote Notebooks\n",
      "Directory: prog_files\n",
      "Directory: Python Scripts\n",
      "Directory: react_files\n",
      "Directory: Requests_files\n",
      "Directory: sqlite\n",
      "Directory: this\n",
      "Directory: Untitled Folder 1\n",
      "Directory: Venv_files\n",
      "Directory: WindowsPowerShell\n",
      "Directory: worked_exercises_text_files\n",
      "Directory: __pycache__\n"
     ]
    }
   ],
   "source": [
    "for file_name in os.listdir():\n",
    "    path = pathlib.Path(file_name)\n",
    "    if path.is_dir():\n",
    "        print('Directory:', path)"
   ]
  },
  {
   "cell_type": "markdown",
   "metadata": {},
   "source": [
    "# PYTHON `sys` MODULE"
   ]
  },
  {
   "cell_type": "code",
   "execution_count": 43,
   "metadata": {},
   "outputs": [],
   "source": [
    "import sys"
   ]
  },
  {
   "cell_type": "markdown",
   "metadata": {},
   "source": [
    "## The platform the code is currently running on"
   ]
  },
  {
   "cell_type": "code",
   "execution_count": 44,
   "metadata": {},
   "outputs": [
    {
     "data": {
      "text/plain": [
       "'win32'"
      ]
     },
     "execution_count": 44,
     "metadata": {},
     "output_type": "execute_result"
    }
   ],
   "source": [
    "sys.platform"
   ]
  },
  {
   "cell_type": "markdown",
   "metadata": {},
   "source": [
    "## The directories where Python will look for things to import"
   ]
  },
  {
   "cell_type": "code",
   "execution_count": 45,
   "metadata": {},
   "outputs": [
    {
     "data": {
      "text/plain": [
       "['C:\\\\Users\\\\ravi\\\\Documents',\n",
       " 'C:\\\\Users\\\\ravi\\\\anaconda3\\\\python38.zip',\n",
       " 'C:\\\\Users\\\\ravi\\\\anaconda3\\\\DLLs',\n",
       " 'C:\\\\Users\\\\ravi\\\\anaconda3\\\\lib',\n",
       " 'C:\\\\Users\\\\ravi\\\\anaconda3',\n",
       " '',\n",
       " 'C:\\\\Users\\\\ravi\\\\anaconda3\\\\lib\\\\site-packages',\n",
       " 'C:\\\\Users\\\\ravi\\\\anaconda3\\\\lib\\\\site-packages\\\\win32',\n",
       " 'C:\\\\Users\\\\ravi\\\\anaconda3\\\\lib\\\\site-packages\\\\win32\\\\lib',\n",
       " 'C:\\\\Users\\\\ravi\\\\anaconda3\\\\lib\\\\site-packages\\\\Pythonwin',\n",
       " 'C:\\\\Users\\\\ravi\\\\anaconda3\\\\lib\\\\site-packages\\\\IPython\\\\extensions',\n",
       " 'C:\\\\Users\\\\ravi\\\\.ipython']"
      ]
     },
     "execution_count": 45,
     "metadata": {},
     "output_type": "execute_result"
    }
   ],
   "source": [
    "sys.path"
   ]
  },
  {
   "cell_type": "markdown",
   "metadata": {},
   "source": [
    "## SYSTEM EXIT"
   ]
  },
  {
   "cell_type": "code",
   "execution_count": 46,
   "metadata": {},
   "outputs": [
    {
     "name": "stdout",
     "output_type": "stream",
     "text": [
      "Help on built-in function exit in module sys:\n",
      "\n",
      "exit(status=None, /)\n",
      "    Exit the interpreter by raising SystemExit(status).\n",
      "    \n",
      "    If the status is omitted or None, it defaults to zero (i.e., success).\n",
      "    If the status is an integer, it will be used as the system exit status.\n",
      "    If it is another kind of object, it will be printed and the system\n",
      "    exit status will be one (i.e., failure).\n",
      "\n"
     ]
    }
   ],
   "source": [
    "help(sys.exit) "
   ]
  },
  {
   "cell_type": "code",
   "execution_count": 47,
   "metadata": {},
   "outputs": [
    {
     "name": "stdout",
     "output_type": "stream",
     "text": [
      "C:\\Users\\ravi\\anaconda3\\lib\\site-packages\\ipykernel_launcher.py\n",
      "Number of arguments present = 3\n",
      "Total argument list: ['C:\\\\Users\\\\ravi\\\\anaconda3\\\\lib\\\\site-packages\\\\ipykernel_launcher.py', '-f', 'C:\\\\Users\\\\ravi\\\\AppData\\\\Roaming\\\\jupyter\\\\runtime\\\\kernel-401e1ab6-6b28-497a-aef2-f60bc6f79da1.json']\n"
     ]
    }
   ],
   "source": [
    "print(sys.argv[0])\n",
    "print('Number of arguments present =', len(sys.argv))\n",
    "print('Total argument list:', str(sys.argv))"
   ]
  },
  {
   "cell_type": "markdown",
   "metadata": {},
   "source": [
    "## Variable's greatest integer"
   ]
  },
  {
   "cell_type": "code",
   "execution_count": 48,
   "metadata": {},
   "outputs": [
    {
     "data": {
      "text/plain": [
       "9223372036854775807"
      ]
     },
     "execution_count": 48,
     "metadata": {},
     "output_type": "execute_result"
    }
   ],
   "source": [
    "sys.maxsize"
   ]
  },
  {
   "cell_type": "code",
   "execution_count": 49,
   "metadata": {},
   "outputs": [
    {
     "data": {
      "text/plain": [
       "'3.8.5 (default, Sep  3 2020, 21:29:08) [MSC v.1916 64 bit (AMD64)]'"
      ]
     },
     "execution_count": 49,
     "metadata": {},
     "output_type": "execute_result"
    }
   ],
   "source": [
    "sys.version"
   ]
  },
  {
   "cell_type": "markdown",
   "metadata": {},
   "source": [
    "## RETURN SIZE OF AN OBJECT"
   ]
  },
  {
   "cell_type": "code",
   "execution_count": 50,
   "metadata": {},
   "outputs": [
    {
     "name": "stdout",
     "output_type": "stream",
     "text": [
      "28\n"
     ]
    }
   ],
   "source": [
    "m = 9\n",
    "print(sys.getsizeof(m))"
   ]
  },
  {
   "cell_type": "markdown",
   "metadata": {},
   "source": [
    "## RECURSION LIMIT "
   ]
  },
  {
   "cell_type": "code",
   "execution_count": 51,
   "metadata": {},
   "outputs": [
    {
     "name": "stdout",
     "output_type": "stream",
     "text": [
      "3000\n"
     ]
    }
   ],
   "source": [
    "Max_limit = sys.getrecursionlimit() \n",
    "print(Max_limit) "
   ]
  },
  {
   "cell_type": "code",
   "execution_count": 52,
   "metadata": {},
   "outputs": [
    {
     "data": {
      "text/plain": [
       "'nt'"
      ]
     },
     "execution_count": 52,
     "metadata": {},
     "output_type": "execute_result"
    }
   ],
   "source": [
    "os.name"
   ]
  }
 ],
 "metadata": {
  "kernelspec": {
   "display_name": "Python 3 (ipykernel)",
   "language": "python",
   "name": "python3"
  },
  "language_info": {
   "codemirror_mode": {
    "name": "ipython",
    "version": 3
   },
   "file_extension": ".py",
   "mimetype": "text/x-python",
   "name": "python",
   "nbconvert_exporter": "python",
   "pygments_lexer": "ipython3",
   "version": "3.11.2"
  }
 },
 "nbformat": 4,
 "nbformat_minor": 4
}
