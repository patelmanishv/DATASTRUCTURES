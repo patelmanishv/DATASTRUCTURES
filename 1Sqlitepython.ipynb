{
 "cells": [
  {
   "cell_type": "raw",
   "metadata": {},
   "source": [
    "---\n",
    "title: \"SQLite in Python\"\n",
    "format: \n",
    "    revealjs:\n",
    "        slide-number: true\n",
    "        theme: dark\n",
    "        highlight-style: \"vim-dark\"\n",
    "        incremental: true\n",
    "        footer: \"Manish Patel\"\n",
    "        progress: true\n",
    "        spotlight:\n",
    "            size: 35\n",
    "    \n",
    "revealjs-plugins:\n",
    "  - spotlight\n",
    "jupyter: python3\n",
    "execute:\n",
    "  echo: true\n",
    "---"
   ]
  },
  {
   "cell_type": "markdown",
   "metadata": {},
   "source": [
    "\n",
    "## Transaction (Begin, Commit, Rollback) {.smaller}\n",
    "\n",
    "Generally the SQLite is in auto-commit mode. \n",
    "\n",
    "- BEGIN – start the transaction;\n",
    "- COMMIT – commit the transaction that means all the changes saved to database;\n",
    "- ROLLBACK – rollback the complete transaction.\n",
    "\n",
    "Transactional control commands are only used with commands INSERT, UPDATE, and DELETE. They cannot be used while creating tables or dropping them because these operations are automatically committed in the database.\n",
    "\n",
    "\n",
    "The ***DELETE*** is a very dangerous command so it is better to firstly back up your database before applying it. "
   ]
  },
  {
   "cell_type": "markdown",
   "metadata": {},
   "source": [
    "## IMPORT SQLITE3"
   ]
  },
  {
   "cell_type": "code",
   "execution_count": 1,
   "metadata": {},
   "outputs": [],
   "source": [
    "import sqlite3 as lite\n",
    "import sys"
   ]
  },
  {
   "cell_type": "markdown",
   "metadata": {},
   "source": [
    "## 1. Connect to database"
   ]
  },
  {
   "cell_type": "code",
   "execution_count": 2,
   "metadata": {},
   "outputs": [],
   "source": [
    "con = lite.connect('demo.db3')"
   ]
  },
  {
   "cell_type": "markdown",
   "metadata": {},
   "source": [
    "## CREATE TABLE"
   ]
  },
  {
   "cell_type": "code",
   "execution_count": 3,
   "metadata": {},
   "outputs": [],
   "source": [
    "with con:\n",
    "    cur = con.cursor() \n",
    "    \n",
    "    sql = \"\"\"\n",
    "    DROP TABLE  IF EXISTS watershed_yearly_bk;\n",
    "    CREATE TABLE watershed_yearly_bk AS SELECT YR, PREC_mm FROM watershed_yearly\n",
    "    \"\"\"\n",
    "    \n",
    "    cur.executescript(sql)    "
   ]
  },
  {
   "cell_type": "markdown",
   "metadata": {},
   "source": [
    "## UPDATE TABLE"
   ]
  },
  {
   "cell_type": "code",
   "execution_count": 4,
   "metadata": {},
   "outputs": [],
   "source": [
    "with con:\n",
    "    cur = con.cursor()\n",
    "    sql = \"\"\"\n",
    "    UPDATE watershed_yearly_bk\n",
    "    SET PREC_mm = NULL\n",
    "    WHERE\n",
    "    PREC_mm < 850.0\n",
    "    \"\"\"    \n",
    "    cur.executescript(sql)   "
   ]
  },
  {
   "cell_type": "markdown",
   "metadata": {},
   "source": [
    "## RETRIEVE TABLE {.smaller}"
   ]
  },
  {
   "cell_type": "code",
   "execution_count": 5,
   "metadata": {},
   "outputs": [
    {
     "name": "stdout",
     "output_type": "stream",
     "text": [
      "(1981, 895.6051025390625)\n",
      "(1982, 884.670654296875)\n",
      "(1983, None)\n",
      "(1984, 867.5743408203125)\n",
      "(1985, None)\n",
      "(1986, None)\n",
      "(1987, 1007.8944702148438)\n",
      "(1988, 895.8466186523438)\n",
      "(1989, 930.10546875)\n",
      "(1990, None)\n",
      "(1991, 984.4703369140625)\n",
      "(1992, 907.9463500976562)\n",
      "(1993, 1057.7733154296875)\n",
      "(1994, None)\n",
      "(1995, None)\n",
      "(1996, None)\n",
      "(1997, None)\n",
      "(1998, None)\n",
      "(1999, None)\n",
      "(2000, None)\n",
      "(2001, None)\n",
      "(2002, None)\n",
      "(2003, None)\n",
      "(2004, None)\n",
      "(2005, 855.0092163085938)\n",
      "(2006, None)\n",
      "(2007, None)\n",
      "(2008, None)\n",
      "(2009, 1040.9012451171875)\n",
      "(2010, 905.66845703125)\n"
     ]
    }
   ],
   "source": [
    "with con:      \n",
    "    cur = con.cursor()    \n",
    "    cur.execute(\"SELECT * FROM watershed_yearly_bk\")\n",
    "\n",
    "    rows = cur.fetchall()\n",
    "\n",
    "    for row in rows:\n",
    "        print(row)"
   ]
  },
  {
   "cell_type": "markdown",
   "metadata": {},
   "source": [
    "## ROLLBACK a  DELETE transaction"
   ]
  },
  {
   "cell_type": "code",
   "execution_count": 6,
   "metadata": {},
   "outputs": [
    {
     "data": {
      "text/plain": [
       "<sqlite3.Cursor at 0x26b1f18d260>"
      ]
     },
     "execution_count": 6,
     "metadata": {},
     "output_type": "execute_result"
    }
   ],
   "source": [
    "con.isolation_level = None\n",
    "cur = con.cursor()\n",
    "cur.execute(\"BEGIN\")\n",
    "sql = \"\"\"\n",
    "      DELETE FROM watershed_yearly_bk WHERE PREC_mm IS NULL\n",
    "      \"\"\"\n",
    "cur = con.execute(sql)\n",
    "cur.execute(\"ROLLBACK\")"
   ]
  },
  {
   "cell_type": "markdown",
   "metadata": {},
   "source": [
    "## FINAL VIEW {.smaller}"
   ]
  },
  {
   "cell_type": "code",
   "execution_count": 7,
   "metadata": {},
   "outputs": [
    {
     "name": "stdout",
     "output_type": "stream",
     "text": [
      "(1981, 895.6051025390625)\n",
      "(1982, 884.670654296875)\n",
      "(1983, None)\n",
      "(1984, 867.5743408203125)\n",
      "(1985, None)\n",
      "(1986, None)\n",
      "(1987, 1007.8944702148438)\n",
      "(1988, 895.8466186523438)\n",
      "(1989, 930.10546875)\n",
      "(1990, None)\n",
      "(1991, 984.4703369140625)\n",
      "(1992, 907.9463500976562)\n",
      "(1993, 1057.7733154296875)\n",
      "(1994, None)\n",
      "(1995, None)\n",
      "(1996, None)\n",
      "(1997, None)\n",
      "(1998, None)\n",
      "(1999, None)\n",
      "(2000, None)\n",
      "(2001, None)\n",
      "(2002, None)\n",
      "(2003, None)\n",
      "(2004, None)\n",
      "(2005, 855.0092163085938)\n",
      "(2006, None)\n",
      "(2007, None)\n",
      "(2008, None)\n",
      "(2009, 1040.9012451171875)\n",
      "(2010, 905.66845703125)\n"
     ]
    }
   ],
   "source": [
    "cur = con.cursor()    \n",
    "cur.execute(\"SELECT * FROM watershed_yearly_bk\")\n",
    "\n",
    "rows = cur.fetchall()\n",
    "\n",
    "for row in rows:\n",
    "    print(row)"
   ]
  },
  {
   "cell_type": "markdown",
   "metadata": {},
   "source": [
    "## COMMIT a DELETE transaction"
   ]
  },
  {
   "cell_type": "code",
   "execution_count": 8,
   "metadata": {},
   "outputs": [
    {
     "data": {
      "text/plain": [
       "<sqlite3.Cursor at 0x26b1f18d2d0>"
      ]
     },
     "execution_count": 8,
     "metadata": {},
     "output_type": "execute_result"
    }
   ],
   "source": [
    "cur = con.cursor()\n",
    "cur.execute(\"BEGIN\")\n",
    "sql = \"\"\"\n",
    "      DELETE FROM watershed_yearly_bk WHERE PREC_mm IS NULL\n",
    "      \"\"\"\n",
    "cur = con.execute(sql)\n",
    "cur.execute(\"COMMIT\")"
   ]
  },
  {
   "cell_type": "markdown",
   "metadata": {},
   "source": [
    "## SELECT TABLE"
   ]
  },
  {
   "cell_type": "code",
   "execution_count": 9,
   "metadata": {
    "scrolled": true
   },
   "outputs": [
    {
     "name": "stdout",
     "output_type": "stream",
     "text": [
      "(1981, 895.6051025390625)\n",
      "(1982, 884.670654296875)\n",
      "(1984, 867.5743408203125)\n",
      "(1987, 1007.8944702148438)\n",
      "(1988, 895.8466186523438)\n",
      "(1989, 930.10546875)\n",
      "(1991, 984.4703369140625)\n",
      "(1992, 907.9463500976562)\n",
      "(1993, 1057.7733154296875)\n",
      "(2005, 855.0092163085938)\n",
      "(2009, 1040.9012451171875)\n",
      "(2010, 905.66845703125)\n"
     ]
    }
   ],
   "source": [
    "cur = con.cursor()    \n",
    "cur.execute(\"SELECT * FROM watershed_yearly_bk\")\n",
    "\n",
    "rows = cur.fetchall()\n",
    "\n",
    "for row in rows:\n",
    "    print(row)"
   ]
  },
  {
   "cell_type": "markdown",
   "metadata": {},
   "source": [
    "## Close the db connection"
   ]
  },
  {
   "cell_type": "code",
   "execution_count": 10,
   "metadata": {},
   "outputs": [],
   "source": [
    "con.close()"
   ]
  },
  {
   "cell_type": "markdown",
   "metadata": {},
   "source": [
    "## Load SQL"
   ]
  },
  {
   "cell_type": "code",
   "execution_count": 1,
   "metadata": {},
   "outputs": [],
   "source": [
    "%load_ext sql"
   ]
  },
  {
   "cell_type": "markdown",
   "metadata": {},
   "source": [
    "## Create a table\n",
    "- `%%sql` let you use multiple SQL statements inside a single cell. \n",
    "- It is now time to create one using a standard SQL command – `CREATE TABLE`. \n",
    "- If the table already existed in the database, an error will pop up. \n",
    "- In addition, we set ***PRIMARY KEY*** on USERID to prevent from inserting duplicate writers into the table."
   ]
  },
  {
   "cell_type": "markdown",
   "metadata": {},
   "source": [
    "## Table Creation"
   ]
  },
  {
   "cell_type": "code",
   "execution_count": 2,
   "metadata": {},
   "outputs": [
    {
     "name": "stdout",
     "output_type": "stream",
     "text": [
      "Done.\n"
     ]
    },
    {
     "data": {
      "text/plain": [
       "[]"
      ]
     },
     "execution_count": 2,
     "metadata": {},
     "output_type": "execute_result"
    }
   ],
   "source": [
    "#| code-line-numbers: \"1|2|3-8\"\n",
    "#| echo: true\n",
    "#| output-location: fragment\n",
    "#| auto-animate: true\n",
    "\n",
    "%%sql sqlite://\n",
    "CREATE TABLE writer(\n",
    "    FirstName VARCHAR(50) NOT NULL,\n",
    "    LastName VARCHAR(50) NOT NULL,  \n",
    "    USERID int  NOT NULL UNIQUE, \n",
    "    PRIMARY KEY (USERID)\n",
    ");"
   ]
  },
  {
   "cell_type": "markdown",
   "metadata": {},
   "source": [
    "## Add data to the table\n",
    "\n",
    "The table we have just created is empty. Now we insert some sample data inside it. To populate this data in the form of rows, we use the command INSERT.\n"
   ]
  },
  {
   "cell_type": "markdown",
   "metadata": {},
   "source": [
    "## Insert into table"
   ]
  },
  {
   "cell_type": "code",
   "execution_count": 3,
   "metadata": {},
   "outputs": [
    {
     "name": "stdout",
     "output_type": "stream",
     "text": [
      "1 rows affected.\n",
      "1 rows affected.\n",
      "1 rows affected.\n"
     ]
    },
    {
     "data": {
      "text/plain": [
       "[]"
      ]
     },
     "execution_count": 3,
     "metadata": {},
     "output_type": "execute_result"
    }
   ],
   "source": [
    "#| code-line-numbers: \"1,2\"\n",
    "#| echo: true\n",
    "#| output-location: fragment\n",
    "%%sql sqlite://\n",
    "INSERT INTO writer VALUES ('William', 'Shakespeare', 1616);\n",
    "INSERT INTO writer VALUES ('Lin', 'Han', 1996);\n",
    "INSERT INTO writer VALUES ('Peter', 'Brecht', 1978);"
   ]
  },
  {
   "cell_type": "markdown",
   "metadata": {},
   "source": [
    "## Write the First Query\n",
    "\n",
    "- Let us now turn our attention to writing a simple query to check the results of our previous operations in which we created a table and inserted three rows of data into it. For this, we would use the command called SELECT.\n",
    "\n",
    "- We can put the query result into a variable such as the following sqlres."
   ]
  },
  {
   "cell_type": "markdown",
   "metadata": {},
   "source": [
    "## Write Query "
   ]
  },
  {
   "cell_type": "code",
   "execution_count": 4,
   "metadata": {},
   "outputs": [
    {
     "name": "stdout",
     "output_type": "stream",
     "text": [
      " * sqlite://\n",
      "Done.\n"
     ]
    },
    {
     "data": {
      "text/html": [
       "<table>\n",
       "    <thead>\n",
       "        <tr>\n",
       "            <th>FirstName</th>\n",
       "            <th>LastName</th>\n",
       "            <th>USERID</th>\n",
       "        </tr>\n",
       "    </thead>\n",
       "    <tbody>\n",
       "        <tr>\n",
       "            <td>William</td>\n",
       "            <td>Shakespeare</td>\n",
       "            <td>1616</td>\n",
       "        </tr>\n",
       "        <tr>\n",
       "            <td>Lin</td>\n",
       "            <td>Han</td>\n",
       "            <td>1996</td>\n",
       "        </tr>\n",
       "        <tr>\n",
       "            <td>Peter</td>\n",
       "            <td>Brecht</td>\n",
       "            <td>1978</td>\n",
       "        </tr>\n",
       "    </tbody>\n",
       "</table>"
      ],
      "text/plain": [
       "[('William', 'Shakespeare', 1616),\n",
       " ('Lin', 'Han', 1996),\n",
       " ('Peter', 'Brecht', 1978)]"
      ]
     },
     "execution_count": 4,
     "metadata": {},
     "output_type": "execute_result"
    }
   ],
   "source": [
    "#| code-line-numbers: \"1|2\"\n",
    "#| echo: true\n",
    "#| output-location: fragment\n",
    "#| auto-animate: true\n",
    "\n",
    "sqlres = %sql SELECT * from writer\n",
    "sqlres"
   ]
  },
  {
   "cell_type": "markdown",
   "metadata": {},
   "source": [
    "## Select FirstName, LastName"
   ]
  },
  {
   "cell_type": "code",
   "execution_count": 5,
   "metadata": {},
   "outputs": [
    {
     "name": "stdout",
     "output_type": "stream",
     "text": [
      " * sqlite://\n",
      "Done.\n"
     ]
    },
    {
     "data": {
      "text/html": [
       "<table>\n",
       "    <thead>\n",
       "        <tr>\n",
       "            <th>FirstName</th>\n",
       "            <th>LastName</th>\n",
       "        </tr>\n",
       "    </thead>\n",
       "    <tbody>\n",
       "        <tr>\n",
       "            <td>William</td>\n",
       "            <td>Shakespeare</td>\n",
       "        </tr>\n",
       "        <tr>\n",
       "            <td>Lin</td>\n",
       "            <td>Han</td>\n",
       "        </tr>\n",
       "        <tr>\n",
       "            <td>Peter</td>\n",
       "            <td>Brecht</td>\n",
       "        </tr>\n",
       "    </tbody>\n",
       "</table>"
      ],
      "text/plain": [
       "[('William', 'Shakespeare'), ('Lin', 'Han'), ('Peter', 'Brecht')]"
      ]
     },
     "execution_count": 5,
     "metadata": {},
     "output_type": "execute_result"
    }
   ],
   "source": [
    "#| code-line-numbers: \"1|2\"\n",
    "#| echo: true\n",
    "#| output-location: fragment\n",
    "#| auto-animate: true\n",
    "sqlres = %sql SELECT FirstName, LastName from writer\n",
    "sqlres"
   ]
  },
  {
   "cell_type": "markdown",
   "metadata": {},
   "source": [
    "## List  tables in a database\n",
    "\n",
    "- Table and index names can be list by doing a **SELECT** on a special table named \"***SQLITE_MASTER***\". \n",
    "- Every SQLite database has an SQLITE_MASTER table that defines the schema for the database. For tables, the ***type*** field will always be '***table***' and the name field will be the name of the table. \n",
    "- So to get a list of all tables in the database, use the following SELECT command:"
   ]
  },
  {
   "cell_type": "markdown",
   "metadata": {},
   "source": [
    "##"
   ]
  },
  {
   "cell_type": "markdown",
   "metadata": {},
   "source": [
    "## LOAD DATABASE"
   ]
  },
  {
   "cell_type": "code",
   "execution_count": 6,
   "metadata": {},
   "outputs": [],
   "source": [
    "%sql sqlite:///demo.db3"
   ]
  },
  {
   "cell_type": "markdown",
   "metadata": {},
   "source": [
    "## {.smaller}"
   ]
  },
  {
   "cell_type": "code",
   "execution_count": 7,
   "metadata": {},
   "outputs": [
    {
     "name": "stdout",
     "output_type": "stream",
     "text": [
      "   sqlite://\n",
      " * sqlite:///demo.db3\n",
      "Done.\n"
     ]
    },
    {
     "data": {
      "text/html": [
       "<table>\n",
       "    <thead>\n",
       "        <tr>\n",
       "            <th>name</th>\n",
       "        </tr>\n",
       "    </thead>\n",
       "    <tbody>\n",
       "        <tr>\n",
       "            <td>rch</td>\n",
       "        </tr>\n",
       "        <tr>\n",
       "            <td>hru</td>\n",
       "        </tr>\n",
       "        <tr>\n",
       "            <td>sub</td>\n",
       "        </tr>\n",
       "        <tr>\n",
       "            <td>sed</td>\n",
       "        </tr>\n",
       "        <tr>\n",
       "            <td>watershed_daily</td>\n",
       "        </tr>\n",
       "        <tr>\n",
       "            <td>watershed_monthly</td>\n",
       "        </tr>\n",
       "        <tr>\n",
       "            <td>watershed_yearly</td>\n",
       "        </tr>\n",
       "        <tr>\n",
       "            <td>channel_dimension</td>\n",
       "        </tr>\n",
       "        <tr>\n",
       "            <td>hru_info</td>\n",
       "        </tr>\n",
       "        <tr>\n",
       "            <td>sub_info</td>\n",
       "        </tr>\n",
       "        <tr>\n",
       "            <td>rch_info</td>\n",
       "        </tr>\n",
       "        <tr>\n",
       "            <td>ave_plant</td>\n",
       "        </tr>\n",
       "        <tr>\n",
       "            <td>ave_annual_hru</td>\n",
       "        </tr>\n",
       "        <tr>\n",
       "            <td>ave_monthly_basin</td>\n",
       "        </tr>\n",
       "        <tr>\n",
       "            <td>ave_annual_basin</td>\n",
       "        </tr>\n",
       "        <tr>\n",
       "            <td>sqlite_sequence</td>\n",
       "        </tr>\n",
       "        <tr>\n",
       "            <td>watershed_yearly_bk</td>\n",
       "        </tr>\n",
       "        <tr>\n",
       "            <td>Temperature</td>\n",
       "        </tr>\n",
       "    </tbody>\n",
       "</table>"
      ],
      "text/plain": [
       "[('rch',),\n",
       " ('hru',),\n",
       " ('sub',),\n",
       " ('sed',),\n",
       " ('watershed_daily',),\n",
       " ('watershed_monthly',),\n",
       " ('watershed_yearly',),\n",
       " ('channel_dimension',),\n",
       " ('hru_info',),\n",
       " ('sub_info',),\n",
       " ('rch_info',),\n",
       " ('ave_plant',),\n",
       " ('ave_annual_hru',),\n",
       " ('ave_monthly_basin',),\n",
       " ('ave_annual_basin',),\n",
       " ('sqlite_sequence',),\n",
       " ('watershed_yearly_bk',),\n",
       " ('Temperature',)]"
      ]
     },
     "execution_count": 7,
     "metadata": {},
     "output_type": "execute_result"
    }
   ],
   "source": [
    "#| code-line-numbers: \"1\"\n",
    "#| echo: true\n",
    "#| output-location: slide\n",
    "#| auto-animate: true\n",
    "\n",
    "%sql SELECT name FROM sqlite_master WHERE type='table' "
   ]
  },
  {
   "cell_type": "markdown",
   "metadata": {},
   "source": [
    "## Select rch"
   ]
  },
  {
   "cell_type": "code",
   "execution_count": 9,
   "metadata": {},
   "outputs": [
    {
     "name": "stdout",
     "output_type": "stream",
     "text": [
      "   sqlite://\n",
      " * sqlite:///demo.db3\n",
      "Done.\n"
     ]
    },
    {
     "data": {
      "text/html": [
       "<table>\n",
       "    <thead>\n",
       "        <tr>\n",
       "            <th>RCH</th>\n",
       "            <th>YR</th>\n",
       "            <th>MO</th>\n",
       "            <th>FLOW_INcms</th>\n",
       "            <th>FLOW_OUTcms</th>\n",
       "            <th>EVAPcms</th>\n",
       "            <th>TLOSScms</th>\n",
       "            <th>SED_INtons</th>\n",
       "            <th>SED_OUTtons</th>\n",
       "            <th>SEDCONCmg_kg</th>\n",
       "            <th>ORGN_INkg</th>\n",
       "            <th>ORGN_OUTkg</th>\n",
       "            <th>ORGP_INkg</th>\n",
       "            <th>ORGP_OUTkg</th>\n",
       "            <th>NO3_INkg</th>\n",
       "            <th>NO3_OUTkg</th>\n",
       "            <th>NH4_INkg</th>\n",
       "            <th>NH4_OUTkg</th>\n",
       "            <th>NO2_INkg</th>\n",
       "            <th>NO2_OUTkg</th>\n",
       "            <th>MINP_INkg</th>\n",
       "            <th>MINP_OUTkg</th>\n",
       "            <th>CHLA_INkg</th>\n",
       "            <th>CHLA_OUTkg</th>\n",
       "            <th>CBOD_INkg</th>\n",
       "            <th>CBOD_OUTkg</th>\n",
       "            <th>DISOX_INkg</th>\n",
       "            <th>DISOX_OUTkg</th>\n",
       "            <th>SOLPST_INmg</th>\n",
       "            <th>SOLPST_OUTmg</th>\n",
       "            <th>SORPST_INmg</th>\n",
       "            <th>SORPST_OUTmg</th>\n",
       "            <th>REACTPSTmg</th>\n",
       "            <th>VOLPSTmg</th>\n",
       "            <th>SETTLPSTmg</th>\n",
       "            <th>RESUSP_PSTmg</th>\n",
       "            <th>DIFFUSEPSTmg</th>\n",
       "            <th>REACBEDPSTmg</th>\n",
       "            <th>BURYPSTmg</th>\n",
       "            <th>BED_PSTmg</th>\n",
       "            <th>BACTP_OUTct</th>\n",
       "            <th>BACTLP_OUTct</th>\n",
       "            <th>CMETAL_1kg</th>\n",
       "            <th>CMETAL_2kg</th>\n",
       "            <th>CMETAL_3kg</th>\n",
       "            <th>TOT_Nkg</th>\n",
       "            <th>TOT_Pkg</th>\n",
       "            <th>NO3ConcMg_l</th>\n",
       "            <th>WTMPdegc</th>\n",
       "        </tr>\n",
       "    </thead>\n",
       "    <tbody>\n",
       "    </tbody>\n",
       "</table>"
      ],
      "text/plain": [
       "[]"
      ]
     },
     "execution_count": 9,
     "metadata": {},
     "output_type": "execute_result"
    }
   ],
   "source": [
    "%sql select * from rch LIMIT 0"
   ]
  },
  {
   "cell_type": "markdown",
   "metadata": {},
   "source": [
    "## Retrieving Data with SELECT {.smaller}\n",
    "\n",
    "- When working with databases and SQL, the most common task is to request data from one or more tables, which returns this data in the form of a result table. \n",
    "- These result tables are called result-sets. \n",
    "- In most applications, ***SELECT*** is the most commonly used data query language (DQL) command. Moreover, the ***SELECT*** can do far more than simply retrieve and display data and I will show you in the following sections. `SELECT column1, column2, columnN FROM table_name;`\n",
    "- Here, `column1, column2`... are the fields (or columns) of a table (table_name).\n",
    "\n",
    "- However, if you want query all records, just use: `SELECT * FROM table_name;`"
   ]
  },
  {
   "cell_type": "markdown",
   "metadata": {},
   "source": [
    "## SELECT"
   ]
  },
  {
   "cell_type": "code",
   "execution_count": 135,
   "metadata": {},
   "outputs": [
    {
     "name": "stdout",
     "output_type": "stream",
     "text": [
      "   sqlite://\n",
      " * sqlite:///demo.db3\n",
      "Done.\n"
     ]
    },
    {
     "data": {
      "text/html": [
       "<table>\n",
       "    <thead>\n",
       "        <tr>\n",
       "            <th>YR</th>\n",
       "            <th>PREC_mm</th>\n",
       "            <th>SURQ_mm</th>\n",
       "            <th>LATQ_mm</th>\n",
       "            <th>GWQ_mm</th>\n",
       "            <th>PERCOLA_mm</th>\n",
       "            <th>TILEQ_mm</th>\n",
       "            <th>SW_mm</th>\n",
       "            <th>ET_mm</th>\n",
       "            <th>PET_mm</th>\n",
       "            <th>WYLD_mm</th>\n",
       "            <th>SYLD_tons</th>\n",
       "            <th>NO3_SURQ</th>\n",
       "            <th>NO3_LATQ</th>\n",
       "            <th>NO3_PERC</th>\n",
       "            <th>NO3_CROP</th>\n",
       "            <th>N_ORG</th>\n",
       "            <th>P_SOL</th>\n",
       "            <th>P_ORG</th>\n",
       "            <th>TILENO3</th>\n",
       "        </tr>\n",
       "    </thead>\n",
       "    <tbody>\n",
       "        <tr>\n",
       "            <td>1981</td>\n",
       "            <td>895.6051025390625</td>\n",
       "            <td>130.3574676513672</td>\n",
       "            <td>51.33439254760742</td>\n",
       "            <td>406.0739440917969</td>\n",
       "            <td>443.198486328125</td>\n",
       "            <td>0.0</td>\n",
       "            <td>18819.70703125</td>\n",
       "            <td>236.98300170898438</td>\n",
       "            <td>840.6874389648438</td>\n",
       "            <td>609.706787109375</td>\n",
       "            <td>91.08026123046875</td>\n",
       "            <td>0.03293686360120773</td>\n",
       "            <td>0.06417319178581238</td>\n",
       "            <td>5.615890026092529</td>\n",
       "            <td>7.339915752410889</td>\n",
       "            <td>11.857464790344238</td>\n",
       "            <td>0.008220621384680271</td>\n",
       "            <td>1.461671233177185</td>\n",
       "            <td>0.0</td>\n",
       "        </tr>\n",
       "        <tr>\n",
       "            <td>1982</td>\n",
       "            <td>884.670654296875</td>\n",
       "            <td>92.21265411376953</td>\n",
       "            <td>50.34769058227539</td>\n",
       "            <td>367.41070556640625</td>\n",
       "            <td>424.6783752441406</td>\n",
       "            <td>0.0</td>\n",
       "            <td>19425.8359375</td>\n",
       "            <td>256.79083251953125</td>\n",
       "            <td>872.07470703125</td>\n",
       "            <td>530.0245971679688</td>\n",
       "            <td>64.80978393554688</td>\n",
       "            <td>0.00797836109995842</td>\n",
       "            <td>0.04918050765991211</td>\n",
       "            <td>4.239809036254883</td>\n",
       "            <td>7.676506042480469</td>\n",
       "            <td>10.873835563659668</td>\n",
       "            <td>0.007697358727455139</td>\n",
       "            <td>1.343782901763916</td>\n",
       "            <td>0.0</td>\n",
       "        </tr>\n",
       "        <tr>\n",
       "            <td>1983</td>\n",
       "            <td>816.6605224609375</td>\n",
       "            <td>129.16310119628906</td>\n",
       "            <td>54.47308349609375</td>\n",
       "            <td>445.33306884765625</td>\n",
       "            <td>462.76324462890625</td>\n",
       "            <td>0.0</td>\n",
       "            <td>18476.1953125</td>\n",
       "            <td>237.70555114746094</td>\n",
       "            <td>797.04736328125</td>\n",
       "            <td>652.8157958984375</td>\n",
       "            <td>92.04792785644531</td>\n",
       "            <td>0.13790887594223022</td>\n",
       "            <td>0.048595353960990906</td>\n",
       "            <td>3.882063388824463</td>\n",
       "            <td>7.301627159118652</td>\n",
       "            <td>12.202207565307617</td>\n",
       "            <td>0.015354366973042488</td>\n",
       "            <td>1.5196093320846558</td>\n",
       "            <td>0.0</td>\n",
       "        </tr>\n",
       "        <tr>\n",
       "            <td>1984</td>\n",
       "            <td>867.5743408203125</td>\n",
       "            <td>95.57946014404297</td>\n",
       "            <td>46.948646545410156</td>\n",
       "            <td>347.2448425292969</td>\n",
       "            <td>408.5397033691406</td>\n",
       "            <td>0.0</td>\n",
       "            <td>17727.712890625</td>\n",
       "            <td>223.08975219726562</td>\n",
       "            <td>911.25634765625</td>\n",
       "            <td>510.37933349609375</td>\n",
       "            <td>63.0908203125</td>\n",
       "            <td>0.01470834668725729</td>\n",
       "            <td>0.0440557599067688</td>\n",
       "            <td>5.141480922698975</td>\n",
       "            <td>6.492110729217529</td>\n",
       "            <td>10.941608428955078</td>\n",
       "            <td>0.011575199663639069</td>\n",
       "            <td>1.3742408752441406</td>\n",
       "            <td>0.0</td>\n",
       "        </tr>\n",
       "        <tr>\n",
       "            <td>1985</td>\n",
       "            <td>637.7255249023438</td>\n",
       "            <td>75.55760192871094</td>\n",
       "            <td>45.336883544921875</td>\n",
       "            <td>358.2953186035156</td>\n",
       "            <td>361.4852294921875</td>\n",
       "            <td>0.0</td>\n",
       "            <td>15840.5400390625</td>\n",
       "            <td>236.32135009765625</td>\n",
       "            <td>990.8557739257812</td>\n",
       "            <td>499.33990478515625</td>\n",
       "            <td>49.63069152832031</td>\n",
       "            <td>0.05470645800232887</td>\n",
       "            <td>0.046555422246456146</td>\n",
       "            <td>3.113034963607788</td>\n",
       "            <td>6.522554874420166</td>\n",
       "            <td>8.959033966064453</td>\n",
       "            <td>0.010798747651278973</td>\n",
       "            <td>1.1150814294815063</td>\n",
       "            <td>0.0</td>\n",
       "        </tr>\n",
       "    </tbody>\n",
       "</table>"
      ],
      "text/plain": [
       "[(1981, 895.6051025390625, 130.3574676513672, 51.33439254760742, 406.0739440917969, 443.198486328125, 0.0, 18819.70703125, 236.98300170898438, 840.6874389648438, 609.706787109375, 91.08026123046875, 0.03293686360120773, 0.06417319178581238, 5.615890026092529, 7.339915752410889, 11.857464790344238, 0.008220621384680271, 1.461671233177185, 0.0),\n",
       " (1982, 884.670654296875, 92.21265411376953, 50.34769058227539, 367.41070556640625, 424.6783752441406, 0.0, 19425.8359375, 256.79083251953125, 872.07470703125, 530.0245971679688, 64.80978393554688, 0.00797836109995842, 0.04918050765991211, 4.239809036254883, 7.676506042480469, 10.873835563659668, 0.007697358727455139, 1.343782901763916, 0.0),\n",
       " (1983, 816.6605224609375, 129.16310119628906, 54.47308349609375, 445.33306884765625, 462.76324462890625, 0.0, 18476.1953125, 237.70555114746094, 797.04736328125, 652.8157958984375, 92.04792785644531, 0.13790887594223022, 0.048595353960990906, 3.882063388824463, 7.301627159118652, 12.202207565307617, 0.015354366973042488, 1.5196093320846558, 0.0),\n",
       " (1984, 867.5743408203125, 95.57946014404297, 46.948646545410156, 347.2448425292969, 408.5397033691406, 0.0, 17727.712890625, 223.08975219726562, 911.25634765625, 510.37933349609375, 63.0908203125, 0.01470834668725729, 0.0440557599067688, 5.141480922698975, 6.492110729217529, 10.941608428955078, 0.011575199663639069, 1.3742408752441406, 0.0),\n",
       " (1985, 637.7255249023438, 75.55760192871094, 45.336883544921875, 358.2953186035156, 361.4852294921875, 0.0, 15840.5400390625, 236.32135009765625, 990.8557739257812, 499.33990478515625, 49.63069152832031, 0.05470645800232887, 0.046555422246456146, 3.113034963607788, 6.522554874420166, 8.959033966064453, 0.010798747651278973, 1.1150814294815063, 0.0)]"
      ]
     },
     "execution_count": 135,
     "metadata": {},
     "output_type": "execute_result"
    }
   ],
   "source": [
    "%sql SELECT * From watershed_yearly LIMIT 5"
   ]
  },
  {
   "cell_type": "markdown",
   "metadata": {},
   "source": [
    "## SELECT CUSTOM COLUMNS {.smaller}"
   ]
  },
  {
   "cell_type": "code",
   "execution_count": 128,
   "metadata": {},
   "outputs": [
    {
     "name": "stdout",
     "output_type": "stream",
     "text": [
      "   sqlite://\n",
      " * sqlite:///demo.db3\n",
      "Done.\n"
     ]
    },
    {
     "data": {
      "text/html": [
       "<table>\n",
       "    <thead>\n",
       "        <tr>\n",
       "            <th>YR</th>\n",
       "            <th>PREC_mm</th>\n",
       "            <th>PET_mm</th>\n",
       "        </tr>\n",
       "    </thead>\n",
       "    <tbody>\n",
       "        <tr>\n",
       "            <td>1981</td>\n",
       "            <td>895.6051025390625</td>\n",
       "            <td>840.6874389648438</td>\n",
       "        </tr>\n",
       "        <tr>\n",
       "            <td>1982</td>\n",
       "            <td>884.670654296875</td>\n",
       "            <td>872.07470703125</td>\n",
       "        </tr>\n",
       "        <tr>\n",
       "            <td>1983</td>\n",
       "            <td>816.6605224609375</td>\n",
       "            <td>797.04736328125</td>\n",
       "        </tr>\n",
       "        <tr>\n",
       "            <td>1984</td>\n",
       "            <td>867.5743408203125</td>\n",
       "            <td>911.25634765625</td>\n",
       "        </tr>\n",
       "        <tr>\n",
       "            <td>1985</td>\n",
       "            <td>637.7255249023438</td>\n",
       "            <td>990.8557739257812</td>\n",
       "        </tr>\n",
       "    </tbody>\n",
       "</table>"
      ],
      "text/plain": [
       "[(1981, 895.6051025390625, 840.6874389648438),\n",
       " (1982, 884.670654296875, 872.07470703125),\n",
       " (1983, 816.6605224609375, 797.04736328125),\n",
       " (1984, 867.5743408203125, 911.25634765625),\n",
       " (1985, 637.7255249023438, 990.8557739257812)]"
      ]
     },
     "execution_count": 128,
     "metadata": {},
     "output_type": "execute_result"
    }
   ],
   "source": [
    "%sql SELECT YR, PREC_mm, PET_mm From watershed_yearly LIMIT 5"
   ]
  },
  {
   "cell_type": "markdown",
   "metadata": {},
   "source": [
    "## SELECT CUSTOM COLUMNS {.smaller}"
   ]
  },
  {
   "cell_type": "code",
   "execution_count": 129,
   "metadata": {},
   "outputs": [
    {
     "name": "stdout",
     "output_type": "stream",
     "text": [
      "   sqlite://\n",
      " * sqlite:///demo.db3\n",
      "Done.\n"
     ]
    },
    {
     "data": {
      "text/html": [
       "<table>\n",
       "    <thead>\n",
       "        <tr>\n",
       "            <th>YR</th>\n",
       "            <th>PREC_mm</th>\n",
       "            <th>PET_mm</th>\n",
       "            <th>PET_mm-PREC_mm</th>\n",
       "        </tr>\n",
       "    </thead>\n",
       "    <tbody>\n",
       "        <tr>\n",
       "            <td>1981</td>\n",
       "            <td>895.6051025390625</td>\n",
       "            <td>840.6874389648438</td>\n",
       "            <td>-54.91766357421875</td>\n",
       "        </tr>\n",
       "        <tr>\n",
       "            <td>1982</td>\n",
       "            <td>884.670654296875</td>\n",
       "            <td>872.07470703125</td>\n",
       "            <td>-12.595947265625</td>\n",
       "        </tr>\n",
       "        <tr>\n",
       "            <td>1983</td>\n",
       "            <td>816.6605224609375</td>\n",
       "            <td>797.04736328125</td>\n",
       "            <td>-19.6131591796875</td>\n",
       "        </tr>\n",
       "        <tr>\n",
       "            <td>1984</td>\n",
       "            <td>867.5743408203125</td>\n",
       "            <td>911.25634765625</td>\n",
       "            <td>43.6820068359375</td>\n",
       "        </tr>\n",
       "        <tr>\n",
       "            <td>1985</td>\n",
       "            <td>637.7255249023438</td>\n",
       "            <td>990.8557739257812</td>\n",
       "            <td>353.1302490234375</td>\n",
       "        </tr>\n",
       "    </tbody>\n",
       "</table>"
      ],
      "text/plain": [
       "[(1981, 895.6051025390625, 840.6874389648438, -54.91766357421875),\n",
       " (1982, 884.670654296875, 872.07470703125, -12.595947265625),\n",
       " (1983, 816.6605224609375, 797.04736328125, -19.6131591796875),\n",
       " (1984, 867.5743408203125, 911.25634765625, 43.6820068359375),\n",
       " (1985, 637.7255249023438, 990.8557739257812, 353.1302490234375)]"
      ]
     },
     "execution_count": 129,
     "metadata": {},
     "output_type": "execute_result"
    }
   ],
   "source": [
    "%sql SELECT YR, PREC_mm, PET_mm, PET_mm-PREC_mm From watershed_yearly LIMIT 5"
   ]
  },
  {
   "cell_type": "markdown",
   "metadata": {},
   "source": [
    "## CREATE ALIASES"
   ]
  },
  {
   "cell_type": "code",
   "execution_count": 130,
   "metadata": {},
   "outputs": [
    {
     "name": "stdout",
     "output_type": "stream",
     "text": [
      "   sqlite://\n",
      " * sqlite:///demo.db3\n",
      "Done.\n"
     ]
    },
    {
     "data": {
      "text/html": [
       "<table>\n",
       "    <thead>\n",
       "        <tr>\n",
       "            <th>YR</th>\n",
       "            <th>PREC_mm</th>\n",
       "            <th>PET_mm</th>\n",
       "            <th>PED_mm</th>\n",
       "        </tr>\n",
       "    </thead>\n",
       "    <tbody>\n",
       "        <tr>\n",
       "            <td>1981</td>\n",
       "            <td>895.6051025390625</td>\n",
       "            <td>840.6874389648438</td>\n",
       "            <td>-54.91766357421875</td>\n",
       "        </tr>\n",
       "        <tr>\n",
       "            <td>1982</td>\n",
       "            <td>884.670654296875</td>\n",
       "            <td>872.07470703125</td>\n",
       "            <td>-12.595947265625</td>\n",
       "        </tr>\n",
       "        <tr>\n",
       "            <td>1983</td>\n",
       "            <td>816.6605224609375</td>\n",
       "            <td>797.04736328125</td>\n",
       "            <td>-19.6131591796875</td>\n",
       "        </tr>\n",
       "        <tr>\n",
       "            <td>1984</td>\n",
       "            <td>867.5743408203125</td>\n",
       "            <td>911.25634765625</td>\n",
       "            <td>43.6820068359375</td>\n",
       "        </tr>\n",
       "        <tr>\n",
       "            <td>1985</td>\n",
       "            <td>637.7255249023438</td>\n",
       "            <td>990.8557739257812</td>\n",
       "            <td>353.1302490234375</td>\n",
       "        </tr>\n",
       "    </tbody>\n",
       "</table>"
      ],
      "text/plain": [
       "[(1981, 895.6051025390625, 840.6874389648438, -54.91766357421875),\n",
       " (1982, 884.670654296875, 872.07470703125, -12.595947265625),\n",
       " (1983, 816.6605224609375, 797.04736328125, -19.6131591796875),\n",
       " (1984, 867.5743408203125, 911.25634765625, 43.6820068359375),\n",
       " (1985, 637.7255249023438, 990.8557739257812, 353.1302490234375)]"
      ]
     },
     "execution_count": 130,
     "metadata": {},
     "output_type": "execute_result"
    }
   ],
   "source": [
    "%sql SELECT YR, PREC_mm, PET_mm, PET_mm-PREC_mm as PED_mm From watershed_yearly LIMIT 5"
   ]
  },
  {
   "cell_type": "markdown",
   "metadata": {},
   "source": [
    "## ROW CONTRAINTS Returned by a SELECT Query {.smaller}\n",
    "\n",
    "- Often it is not convenient to show all rows on screen as you have to scroll. \n",
    "- We can use use SQLite ***LIMIT*** clause to constrain the number of rows returned by a query. \n",
    "- This can be used for testing or to prevent consuming excessive resources if the query returns more information than expected.\n",
    "\n",
    "- The following illustrates the syntax of the LIMIT clause: `SELECT column_list FROM table_name LIMIT row_count;`\n"
   ]
  },
  {
   "cell_type": "markdown",
   "metadata": {},
   "source": [
    "## LIMIT {.smaller}"
   ]
  },
  {
   "cell_type": "code",
   "execution_count": 14,
   "metadata": {},
   "outputs": [
    {
     "name": "stdout",
     "output_type": "stream",
     "text": [
      "   sqlite://\n",
      " * sqlite:///demo.db3\n",
      "Done.\n"
     ]
    },
    {
     "data": {
      "text/html": [
       "<table>\n",
       "    <thead>\n",
       "        <tr>\n",
       "            <th>YR</th>\n",
       "            <th>PREC_mm</th>\n",
       "            <th>SURQ_mm</th>\n",
       "            <th>LATQ_mm</th>\n",
       "            <th>GWQ_mm</th>\n",
       "            <th>PERCOLA_mm</th>\n",
       "            <th>TILEQ_mm</th>\n",
       "            <th>SW_mm</th>\n",
       "            <th>ET_mm</th>\n",
       "            <th>PET_mm</th>\n",
       "            <th>WYLD_mm</th>\n",
       "            <th>SYLD_tons</th>\n",
       "            <th>NO3_SURQ</th>\n",
       "            <th>NO3_LATQ</th>\n",
       "            <th>NO3_PERC</th>\n",
       "            <th>NO3_CROP</th>\n",
       "            <th>N_ORG</th>\n",
       "            <th>P_SOL</th>\n",
       "            <th>P_ORG</th>\n",
       "            <th>TILENO3</th>\n",
       "        </tr>\n",
       "    </thead>\n",
       "    <tbody>\n",
       "        <tr>\n",
       "            <td>1981</td>\n",
       "            <td>895.6051025390625</td>\n",
       "            <td>130.3574676513672</td>\n",
       "            <td>51.33439254760742</td>\n",
       "            <td>406.0739440917969</td>\n",
       "            <td>443.198486328125</td>\n",
       "            <td>0.0</td>\n",
       "            <td>18819.70703125</td>\n",
       "            <td>236.98300170898438</td>\n",
       "            <td>840.6874389648438</td>\n",
       "            <td>609.706787109375</td>\n",
       "            <td>91.08026123046875</td>\n",
       "            <td>0.03293686360120773</td>\n",
       "            <td>0.06417319178581238</td>\n",
       "            <td>5.615890026092529</td>\n",
       "            <td>7.339915752410889</td>\n",
       "            <td>11.857464790344238</td>\n",
       "            <td>0.008220621384680271</td>\n",
       "            <td>1.461671233177185</td>\n",
       "            <td>0.0</td>\n",
       "        </tr>\n",
       "        <tr>\n",
       "            <td>1982</td>\n",
       "            <td>884.670654296875</td>\n",
       "            <td>92.21265411376953</td>\n",
       "            <td>50.34769058227539</td>\n",
       "            <td>367.41070556640625</td>\n",
       "            <td>424.6783752441406</td>\n",
       "            <td>0.0</td>\n",
       "            <td>19425.8359375</td>\n",
       "            <td>256.79083251953125</td>\n",
       "            <td>872.07470703125</td>\n",
       "            <td>530.0245971679688</td>\n",
       "            <td>64.80978393554688</td>\n",
       "            <td>0.00797836109995842</td>\n",
       "            <td>0.04918050765991211</td>\n",
       "            <td>4.239809036254883</td>\n",
       "            <td>7.676506042480469</td>\n",
       "            <td>10.873835563659668</td>\n",
       "            <td>0.007697358727455139</td>\n",
       "            <td>1.343782901763916</td>\n",
       "            <td>0.0</td>\n",
       "        </tr>\n",
       "        <tr>\n",
       "            <td>1983</td>\n",
       "            <td>816.6605224609375</td>\n",
       "            <td>129.16310119628906</td>\n",
       "            <td>54.47308349609375</td>\n",
       "            <td>445.33306884765625</td>\n",
       "            <td>462.76324462890625</td>\n",
       "            <td>0.0</td>\n",
       "            <td>18476.1953125</td>\n",
       "            <td>237.70555114746094</td>\n",
       "            <td>797.04736328125</td>\n",
       "            <td>652.8157958984375</td>\n",
       "            <td>92.04792785644531</td>\n",
       "            <td>0.13790887594223022</td>\n",
       "            <td>0.048595353960990906</td>\n",
       "            <td>3.882063388824463</td>\n",
       "            <td>7.301627159118652</td>\n",
       "            <td>12.202207565307617</td>\n",
       "            <td>0.015354366973042488</td>\n",
       "            <td>1.5196093320846558</td>\n",
       "            <td>0.0</td>\n",
       "        </tr>\n",
       "        <tr>\n",
       "            <td>1984</td>\n",
       "            <td>867.5743408203125</td>\n",
       "            <td>95.57946014404297</td>\n",
       "            <td>46.948646545410156</td>\n",
       "            <td>347.2448425292969</td>\n",
       "            <td>408.5397033691406</td>\n",
       "            <td>0.0</td>\n",
       "            <td>17727.712890625</td>\n",
       "            <td>223.08975219726562</td>\n",
       "            <td>911.25634765625</td>\n",
       "            <td>510.37933349609375</td>\n",
       "            <td>63.0908203125</td>\n",
       "            <td>0.01470834668725729</td>\n",
       "            <td>0.0440557599067688</td>\n",
       "            <td>5.141480922698975</td>\n",
       "            <td>6.492110729217529</td>\n",
       "            <td>10.941608428955078</td>\n",
       "            <td>0.011575199663639069</td>\n",
       "            <td>1.3742408752441406</td>\n",
       "            <td>0.0</td>\n",
       "        </tr>\n",
       "        <tr>\n",
       "            <td>1985</td>\n",
       "            <td>637.7255249023438</td>\n",
       "            <td>75.55760192871094</td>\n",
       "            <td>45.336883544921875</td>\n",
       "            <td>358.2953186035156</td>\n",
       "            <td>361.4852294921875</td>\n",
       "            <td>0.0</td>\n",
       "            <td>15840.5400390625</td>\n",
       "            <td>236.32135009765625</td>\n",
       "            <td>990.8557739257812</td>\n",
       "            <td>499.33990478515625</td>\n",
       "            <td>49.63069152832031</td>\n",
       "            <td>0.05470645800232887</td>\n",
       "            <td>0.046555422246456146</td>\n",
       "            <td>3.113034963607788</td>\n",
       "            <td>6.522554874420166</td>\n",
       "            <td>8.959033966064453</td>\n",
       "            <td>0.010798747651278973</td>\n",
       "            <td>1.1150814294815063</td>\n",
       "            <td>0.0</td>\n",
       "        </tr>\n",
       "        <tr>\n",
       "            <td>1986</td>\n",
       "            <td>733.8412475585938</td>\n",
       "            <td>65.63016510009766</td>\n",
       "            <td>36.76259231567383</td>\n",
       "            <td>241.9388427734375</td>\n",
       "            <td>281.6683349609375</td>\n",
       "            <td>0.0</td>\n",
       "            <td>16059.4345703125</td>\n",
       "            <td>243.0305633544922</td>\n",
       "            <td>977.513427734375</td>\n",
       "            <td>358.09368896484375</td>\n",
       "            <td>48.7893180847168</td>\n",
       "            <td>0.0010510582942515612</td>\n",
       "            <td>0.040558818727731705</td>\n",
       "            <td>2.8865158557891846</td>\n",
       "            <td>6.505890369415283</td>\n",
       "            <td>7.870068073272705</td>\n",
       "            <td>0.013286528177559376</td>\n",
       "            <td>0.970182478427887</td>\n",
       "            <td>0.0</td>\n",
       "        </tr>\n",
       "        <tr>\n",
       "            <td>1987</td>\n",
       "            <td>1007.8944702148438</td>\n",
       "            <td>110.28632354736328</td>\n",
       "            <td>62.23741912841797</td>\n",
       "            <td>445.5394592285156</td>\n",
       "            <td>493.0043029785156</td>\n",
       "            <td>0.0</td>\n",
       "            <td>19541.869140625</td>\n",
       "            <td>256.9570007324219</td>\n",
       "            <td>841.0055541992188</td>\n",
       "            <td>641.2118530273438</td>\n",
       "            <td>76.02854919433594</td>\n",
       "            <td>0.013590915128588676</td>\n",
       "            <td>0.05216805264353752</td>\n",
       "            <td>3.6147713661193848</td>\n",
       "            <td>5.987320899963379</td>\n",
       "            <td>14.57848834991455</td>\n",
       "            <td>0.019578929990530014</td>\n",
       "            <td>1.8156678676605225</td>\n",
       "            <td>0.0</td>\n",
       "        </tr>\n",
       "        <tr>\n",
       "            <td>1988</td>\n",
       "            <td>895.8466186523438</td>\n",
       "            <td>149.65235900878906</td>\n",
       "            <td>61.493255615234375</td>\n",
       "            <td>450.4956970214844</td>\n",
       "            <td>493.1164245605469</td>\n",
       "            <td>0.0</td>\n",
       "            <td>17205.849609375</td>\n",
       "            <td>220.8395233154297</td>\n",
       "            <td>891.13330078125</td>\n",
       "            <td>686.12744140625</td>\n",
       "            <td>101.2978744506836</td>\n",
       "            <td>0.025784092023968697</td>\n",
       "            <td>0.04415411874651909</td>\n",
       "            <td>3.241307258605957</td>\n",
       "            <td>5.892490386962891</td>\n",
       "            <td>13.989458084106445</td>\n",
       "            <td>0.030675839632749557</td>\n",
       "            <td>1.7415385246276855</td>\n",
       "            <td>0.0</td>\n",
       "        </tr>\n",
       "        <tr>\n",
       "            <td>1989</td>\n",
       "            <td>930.10546875</td>\n",
       "            <td>111.37128448486328</td>\n",
       "            <td>57.6666145324707</td>\n",
       "            <td>418.1727600097656</td>\n",
       "            <td>474.9247741699219</td>\n",
       "            <td>0.0</td>\n",
       "            <td>17915.3359375</td>\n",
       "            <td>208.58026123046875</td>\n",
       "            <td>805.931884765625</td>\n",
       "            <td>609.6959838867188</td>\n",
       "            <td>74.79584503173828</td>\n",
       "            <td>0.016387958079576492</td>\n",
       "            <td>0.04736720025539398</td>\n",
       "            <td>3.692014217376709</td>\n",
       "            <td>5.3133368492126465</td>\n",
       "            <td>10.229286193847656</td>\n",
       "            <td>0.025520162656903267</td>\n",
       "            <td>1.2660586833953857</td>\n",
       "            <td>0.0</td>\n",
       "        </tr>\n",
       "        <tr>\n",
       "            <td>1990</td>\n",
       "            <td>751.4553833007812</td>\n",
       "            <td>102.00208282470703</td>\n",
       "            <td>54.310569763183594</td>\n",
       "            <td>409.75189208984375</td>\n",
       "            <td>435.1587829589844</td>\n",
       "            <td>0.0</td>\n",
       "            <td>16842.517578125</td>\n",
       "            <td>213.63233947753906</td>\n",
       "            <td>966.4890747070312</td>\n",
       "            <td>589.3450317382812</td>\n",
       "            <td>73.0428695678711</td>\n",
       "            <td>0.007093863561749458</td>\n",
       "            <td>0.04154253378510475</td>\n",
       "            <td>3.0770206451416016</td>\n",
       "            <td>5.872688293457031</td>\n",
       "            <td>9.7684326171875</td>\n",
       "            <td>0.025202790275216103</td>\n",
       "            <td>1.2055107355117798</td>\n",
       "            <td>0.0</td>\n",
       "        </tr>\n",
       "    </tbody>\n",
       "</table>"
      ],
      "text/plain": [
       "[(1981, 895.6051025390625, 130.3574676513672, 51.33439254760742, 406.0739440917969, 443.198486328125, 0.0, 18819.70703125, 236.98300170898438, 840.6874389648438, 609.706787109375, 91.08026123046875, 0.03293686360120773, 0.06417319178581238, 5.615890026092529, 7.339915752410889, 11.857464790344238, 0.008220621384680271, 1.461671233177185, 0.0),\n",
       " (1982, 884.670654296875, 92.21265411376953, 50.34769058227539, 367.41070556640625, 424.6783752441406, 0.0, 19425.8359375, 256.79083251953125, 872.07470703125, 530.0245971679688, 64.80978393554688, 0.00797836109995842, 0.04918050765991211, 4.239809036254883, 7.676506042480469, 10.873835563659668, 0.007697358727455139, 1.343782901763916, 0.0),\n",
       " (1983, 816.6605224609375, 129.16310119628906, 54.47308349609375, 445.33306884765625, 462.76324462890625, 0.0, 18476.1953125, 237.70555114746094, 797.04736328125, 652.8157958984375, 92.04792785644531, 0.13790887594223022, 0.048595353960990906, 3.882063388824463, 7.301627159118652, 12.202207565307617, 0.015354366973042488, 1.5196093320846558, 0.0),\n",
       " (1984, 867.5743408203125, 95.57946014404297, 46.948646545410156, 347.2448425292969, 408.5397033691406, 0.0, 17727.712890625, 223.08975219726562, 911.25634765625, 510.37933349609375, 63.0908203125, 0.01470834668725729, 0.0440557599067688, 5.141480922698975, 6.492110729217529, 10.941608428955078, 0.011575199663639069, 1.3742408752441406, 0.0),\n",
       " (1985, 637.7255249023438, 75.55760192871094, 45.336883544921875, 358.2953186035156, 361.4852294921875, 0.0, 15840.5400390625, 236.32135009765625, 990.8557739257812, 499.33990478515625, 49.63069152832031, 0.05470645800232887, 0.046555422246456146, 3.113034963607788, 6.522554874420166, 8.959033966064453, 0.010798747651278973, 1.1150814294815063, 0.0),\n",
       " (1986, 733.8412475585938, 65.63016510009766, 36.76259231567383, 241.9388427734375, 281.6683349609375, 0.0, 16059.4345703125, 243.0305633544922, 977.513427734375, 358.09368896484375, 48.7893180847168, 0.0010510582942515612, 0.040558818727731705, 2.8865158557891846, 6.505890369415283, 7.870068073272705, 0.013286528177559376, 0.970182478427887, 0.0),\n",
       " (1987, 1007.8944702148438, 110.28632354736328, 62.23741912841797, 445.5394592285156, 493.0043029785156, 0.0, 19541.869140625, 256.9570007324219, 841.0055541992188, 641.2118530273438, 76.02854919433594, 0.013590915128588676, 0.05216805264353752, 3.6147713661193848, 5.987320899963379, 14.57848834991455, 0.019578929990530014, 1.8156678676605225, 0.0),\n",
       " (1988, 895.8466186523438, 149.65235900878906, 61.493255615234375, 450.4956970214844, 493.1164245605469, 0.0, 17205.849609375, 220.8395233154297, 891.13330078125, 686.12744140625, 101.2978744506836, 0.025784092023968697, 0.04415411874651909, 3.241307258605957, 5.892490386962891, 13.989458084106445, 0.030675839632749557, 1.7415385246276855, 0.0),\n",
       " (1989, 930.10546875, 111.37128448486328, 57.6666145324707, 418.1727600097656, 474.9247741699219, 0.0, 17915.3359375, 208.58026123046875, 805.931884765625, 609.6959838867188, 74.79584503173828, 0.016387958079576492, 0.04736720025539398, 3.692014217376709, 5.3133368492126465, 10.229286193847656, 0.025520162656903267, 1.2660586833953857, 0.0),\n",
       " (1990, 751.4553833007812, 102.00208282470703, 54.310569763183594, 409.75189208984375, 435.1587829589844, 0.0, 16842.517578125, 213.63233947753906, 966.4890747070312, 589.3450317382812, 73.0428695678711, 0.007093863561749458, 0.04154253378510475, 3.0770206451416016, 5.872688293457031, 9.7684326171875, 0.025202790275216103, 1.2055107355117798, 0.0)]"
      ]
     },
     "execution_count": 14,
     "metadata": {},
     "output_type": "execute_result"
    }
   ],
   "source": [
    "%sql SELECT * From watershed_yearly LIMIT 10"
   ]
  },
  {
   "cell_type": "markdown",
   "metadata": {},
   "source": [
    "## Filtering a Query with WHERE\n",
    "\n",
    "Sometimes, you’ll want to only check the rows returned by a query, where one or more columns meet certain criteria. This can be done with a WHERE statement. The WHERE clause is an optional clause of the SELECT statement. It appears after the FROM clause as the following statement:\n",
    ">SELECT column_list FROM table_name WHERE search_condition;"
   ]
  },
  {
   "cell_type": "markdown",
   "metadata": {},
   "source": [
    "## Example {.smaller}"
   ]
  },
  {
   "cell_type": "code",
   "execution_count": 15,
   "metadata": {},
   "outputs": [
    {
     "name": "stdout",
     "output_type": "stream",
     "text": [
      "   sqlite://\n",
      " * sqlite:///demo.db3\n",
      "Done.\n"
     ]
    },
    {
     "data": {
      "text/html": [
       "<table>\n",
       "    <thead>\n",
       "        <tr>\n",
       "            <th>RCH</th>\n",
       "            <th>YR</th>\n",
       "            <th>MO</th>\n",
       "            <th>FLOW_INcms</th>\n",
       "            <th>FLOW_OUTcms</th>\n",
       "            <th>EVAPcms</th>\n",
       "            <th>TLOSScms</th>\n",
       "            <th>SED_INtons</th>\n",
       "            <th>SED_OUTtons</th>\n",
       "            <th>SEDCONCmg_kg</th>\n",
       "            <th>ORGN_INkg</th>\n",
       "            <th>ORGN_OUTkg</th>\n",
       "            <th>ORGP_INkg</th>\n",
       "            <th>ORGP_OUTkg</th>\n",
       "            <th>NO3_INkg</th>\n",
       "            <th>NO3_OUTkg</th>\n",
       "            <th>NH4_INkg</th>\n",
       "            <th>NH4_OUTkg</th>\n",
       "            <th>NO2_INkg</th>\n",
       "            <th>NO2_OUTkg</th>\n",
       "            <th>MINP_INkg</th>\n",
       "            <th>MINP_OUTkg</th>\n",
       "            <th>CHLA_INkg</th>\n",
       "            <th>CHLA_OUTkg</th>\n",
       "            <th>CBOD_INkg</th>\n",
       "            <th>CBOD_OUTkg</th>\n",
       "            <th>DISOX_INkg</th>\n",
       "            <th>DISOX_OUTkg</th>\n",
       "            <th>SOLPST_INmg</th>\n",
       "            <th>SOLPST_OUTmg</th>\n",
       "            <th>SORPST_INmg</th>\n",
       "            <th>SORPST_OUTmg</th>\n",
       "            <th>REACTPSTmg</th>\n",
       "            <th>VOLPSTmg</th>\n",
       "            <th>SETTLPSTmg</th>\n",
       "            <th>RESUSP_PSTmg</th>\n",
       "            <th>DIFFUSEPSTmg</th>\n",
       "            <th>REACBEDPSTmg</th>\n",
       "            <th>BURYPSTmg</th>\n",
       "            <th>BED_PSTmg</th>\n",
       "            <th>BACTP_OUTct</th>\n",
       "            <th>BACTLP_OUTct</th>\n",
       "            <th>CMETAL_1kg</th>\n",
       "            <th>CMETAL_2kg</th>\n",
       "            <th>CMETAL_3kg</th>\n",
       "            <th>TOT_Nkg</th>\n",
       "            <th>TOT_Pkg</th>\n",
       "            <th>NO3ConcMg_l</th>\n",
       "            <th>WTMPdegc</th>\n",
       "        </tr>\n",
       "    </thead>\n",
       "    <tbody>\n",
       "        <tr>\n",
       "            <td>1</td>\n",
       "            <td>1981</td>\n",
       "            <td>1</td>\n",
       "            <td>146.34376525878906</td>\n",
       "            <td>146.2524871826172</td>\n",
       "            <td>0.09128088504076004</td>\n",
       "            <td>0.0</td>\n",
       "            <td>2.3320461650655488e-07</td>\n",
       "            <td>61619.46484375</td>\n",
       "            <td>155.3719024658203</td>\n",
       "            <td>0.016086287796497345</td>\n",
       "            <td>0.0</td>\n",
       "            <td>0.04825887829065323</td>\n",
       "            <td>0.0</td>\n",
       "            <td>362.0486755371094</td>\n",
       "            <td>361.8135070800781</td>\n",
       "            <td>203.620849609375</td>\n",
       "            <td>421.18377685546875</td>\n",
       "            <td>0.0</td>\n",
       "            <td>23.0184326171875</td>\n",
       "            <td>0.016107244417071342</td>\n",
       "            <td>0.0</td>\n",
       "            <td>1.1839052307949238e-11</td>\n",
       "            <td>0.0</td>\n",
       "            <td>0.0</td>\n",
       "            <td>0.0</td>\n",
       "            <td>5627225.0</td>\n",
       "            <td>5623486.5</td>\n",
       "            <td>0.0</td>\n",
       "            <td>0.0</td>\n",
       "            <td>0.0</td>\n",
       "            <td>0.0</td>\n",
       "            <td>0.0</td>\n",
       "            <td>0.0</td>\n",
       "            <td>0.0</td>\n",
       "            <td>0.0</td>\n",
       "            <td>0.0</td>\n",
       "            <td>0.0</td>\n",
       "            <td>0.0</td>\n",
       "            <td>0.0</td>\n",
       "            <td>0.0</td>\n",
       "            <td>0.0</td>\n",
       "            <td>0.0</td>\n",
       "            <td>0.0</td>\n",
       "            <td>0.0</td>\n",
       "            <td>806.0157470703125</td>\n",
       "            <td>0.0</td>\n",
       "            <td>0.0</td>\n",
       "            <td>0.0</td>\n",
       "        </tr>\n",
       "        <tr>\n",
       "            <td>2</td>\n",
       "            <td>1981</td>\n",
       "            <td>1</td>\n",
       "            <td>96.22569274902344</td>\n",
       "            <td>96.18285369873047</td>\n",
       "            <td>0.042821284383535385</td>\n",
       "            <td>0.0</td>\n",
       "            <td>1.6426764659627224e-07</td>\n",
       "            <td>0.0</td>\n",
       "            <td>0.0</td>\n",
       "            <td>0.01363153662532568</td>\n",
       "            <td>0.0</td>\n",
       "            <td>0.04089462012052536</td>\n",
       "            <td>0.0</td>\n",
       "            <td>315.60052490234375</td>\n",
       "            <td>315.4579772949219</td>\n",
       "            <td>0.0</td>\n",
       "            <td>127.00502014160156</td>\n",
       "            <td>0.0</td>\n",
       "            <td>0.0</td>\n",
       "            <td>0.013656049966812134</td>\n",
       "            <td>0.0</td>\n",
       "            <td>4.136972177163251e-16</td>\n",
       "            <td>0.0</td>\n",
       "            <td>0.0</td>\n",
       "            <td>0.0</td>\n",
       "            <td>3757606.5</td>\n",
       "            <td>3698301.5</td>\n",
       "            <td>0.0</td>\n",
       "            <td>0.0</td>\n",
       "            <td>0.0</td>\n",
       "            <td>0.0</td>\n",
       "            <td>0.0</td>\n",
       "            <td>0.0</td>\n",
       "            <td>0.0</td>\n",
       "            <td>0.0</td>\n",
       "            <td>0.0</td>\n",
       "            <td>0.0</td>\n",
       "            <td>0.0</td>\n",
       "            <td>0.0</td>\n",
       "            <td>0.0</td>\n",
       "            <td>0.0</td>\n",
       "            <td>0.0</td>\n",
       "            <td>0.0</td>\n",
       "            <td>0.0</td>\n",
       "            <td>442.4630126953125</td>\n",
       "            <td>0.0</td>\n",
       "            <td>0.0</td>\n",
       "            <td>0.0</td>\n",
       "        </tr>\n",
       "        <tr>\n",
       "            <td>3</td>\n",
       "            <td>1981</td>\n",
       "            <td>1</td>\n",
       "            <td>11.952718734741211</td>\n",
       "            <td>11.861368179321289</td>\n",
       "            <td>0.09135182946920395</td>\n",
       "            <td>0.0</td>\n",
       "            <td>2.0325823868461157e-07</td>\n",
       "            <td>2.0325823868461157e-07</td>\n",
       "            <td>6.595060941805286e-09</td>\n",
       "            <td>0.01146628800779581</td>\n",
       "            <td>0.0</td>\n",
       "            <td>0.03439886122941971</td>\n",
       "            <td>0.009118038229644299</td>\n",
       "            <td>48.2963752746582</td>\n",
       "            <td>47.93150329589844</td>\n",
       "            <td>0.0</td>\n",
       "            <td>62.467620849609375</td>\n",
       "            <td>0.0</td>\n",
       "            <td>0.0</td>\n",
       "            <td>0.011485105380415916</td>\n",
       "            <td>0.0</td>\n",
       "            <td>5.941028783295818e-14</td>\n",
       "            <td>0.0</td>\n",
       "            <td>0.0</td>\n",
       "            <td>0.0</td>\n",
       "            <td>360979.90625</td>\n",
       "            <td>456115.90625</td>\n",
       "            <td>0.0</td>\n",
       "            <td>0.0</td>\n",
       "            <td>0.0</td>\n",
       "            <td>0.0</td>\n",
       "            <td>0.0</td>\n",
       "            <td>0.0</td>\n",
       "            <td>0.0</td>\n",
       "            <td>0.0</td>\n",
       "            <td>0.0</td>\n",
       "            <td>0.0</td>\n",
       "            <td>0.0</td>\n",
       "            <td>0.0</td>\n",
       "            <td>0.0</td>\n",
       "            <td>0.0</td>\n",
       "            <td>0.0</td>\n",
       "            <td>0.0</td>\n",
       "            <td>0.0</td>\n",
       "            <td>110.39912414550781</td>\n",
       "            <td>0.009118038229644299</td>\n",
       "            <td>0.0</td>\n",
       "            <td>0.0</td>\n",
       "        </tr>\n",
       "        <tr>\n",
       "            <td>4</td>\n",
       "            <td>1981</td>\n",
       "            <td>1</td>\n",
       "            <td>49.48649215698242</td>\n",
       "            <td>49.40651321411133</td>\n",
       "            <td>0.07998340576887131</td>\n",
       "            <td>0.0</td>\n",
       "            <td>3.913226720442253e-08</td>\n",
       "            <td>0.0</td>\n",
       "            <td>0.0</td>\n",
       "            <td>0.00722243869677186</td>\n",
       "            <td>0.0</td>\n",
       "            <td>0.021667316555976868</td>\n",
       "            <td>0.0</td>\n",
       "            <td>46.54270553588867</td>\n",
       "            <td>46.46895217895508</td>\n",
       "            <td>0.0</td>\n",
       "            <td>76.61585235595703</td>\n",
       "            <td>0.0</td>\n",
       "            <td>0.0</td>\n",
       "            <td>0.0072422930970788</td>\n",
       "            <td>0.0</td>\n",
       "            <td>1.1632789449796794e-15</td>\n",
       "            <td>0.0</td>\n",
       "            <td>0.0</td>\n",
       "            <td>0.0</td>\n",
       "            <td>1160040.75</td>\n",
       "            <td>1899717.625</td>\n",
       "            <td>0.0</td>\n",
       "            <td>0.0</td>\n",
       "            <td>0.0</td>\n",
       "            <td>0.0</td>\n",
       "            <td>0.0</td>\n",
       "            <td>0.0</td>\n",
       "            <td>0.0</td>\n",
       "            <td>0.0</td>\n",
       "            <td>0.0</td>\n",
       "            <td>0.0</td>\n",
       "            <td>0.0</td>\n",
       "            <td>0.0</td>\n",
       "            <td>0.0</td>\n",
       "            <td>0.0</td>\n",
       "            <td>0.0</td>\n",
       "            <td>0.0</td>\n",
       "            <td>0.0</td>\n",
       "            <td>123.08480834960938</td>\n",
       "            <td>0.0</td>\n",
       "            <td>0.0</td>\n",
       "            <td>0.0</td>\n",
       "        </tr>\n",
       "        <tr>\n",
       "            <td>5</td>\n",
       "            <td>1981</td>\n",
       "            <td>1</td>\n",
       "            <td>274.0668029785156</td>\n",
       "            <td>272.10601806640625</td>\n",
       "            <td>1.9608064889907837</td>\n",
       "            <td>0.0</td>\n",
       "            <td>2257869.75</td>\n",
       "            <td>116675.171875</td>\n",
       "            <td>157.49276733398438</td>\n",
       "            <td>1408498.0</td>\n",
       "            <td>1259125.625</td>\n",
       "            <td>501261.6875</td>\n",
       "            <td>416320.25</td>\n",
       "            <td>46281.1640625</td>\n",
       "            <td>44271.08984375</td>\n",
       "            <td>483.65142822265625</td>\n",
       "            <td>1362.450439453125</td>\n",
       "            <td>23.0184326171875</td>\n",
       "            <td>66.76303100585938</td>\n",
       "            <td>1289.9833984375</td>\n",
       "            <td>3866.024169921875</td>\n",
       "            <td>26296.953125</td>\n",
       "            <td>0.0</td>\n",
       "            <td>54013716.0</td>\n",
       "            <td>21046212.0</td>\n",
       "            <td>9425129.0</td>\n",
       "            <td>9136200.0</td>\n",
       "            <td>0.0</td>\n",
       "            <td>0.0</td>\n",
       "            <td>0.0</td>\n",
       "            <td>0.0</td>\n",
       "            <td>0.0</td>\n",
       "            <td>0.0</td>\n",
       "            <td>0.0</td>\n",
       "            <td>0.0</td>\n",
       "            <td>0.0</td>\n",
       "            <td>0.0</td>\n",
       "            <td>0.0</td>\n",
       "            <td>0.0</td>\n",
       "            <td>0.0</td>\n",
       "            <td>0.0</td>\n",
       "            <td>0.0</td>\n",
       "            <td>0.0</td>\n",
       "            <td>0.0</td>\n",
       "            <td>1304826.0</td>\n",
       "            <td>420186.28125</td>\n",
       "            <td>0.0</td>\n",
       "            <td>0.0</td>\n",
       "        </tr>\n",
       "    </tbody>\n",
       "</table>"
      ],
      "text/plain": [
       "[(1, 1981, 1, 146.34376525878906, 146.2524871826172, 0.09128088504076004, 0.0, 2.3320461650655488e-07, 61619.46484375, 155.3719024658203, 0.016086287796497345, 0.0, 0.04825887829065323, 0.0, 362.0486755371094, 361.8135070800781, 203.620849609375, 421.18377685546875, 0.0, 23.0184326171875, 0.016107244417071342, 0.0, 1.1839052307949238e-11, 0.0, 0.0, 0.0, 5627225.0, 5623486.5, 0.0, 0.0, 0.0, 0.0, 0.0, 0.0, 0.0, 0.0, 0.0, 0.0, 0.0, 0.0, 0.0, 0.0, 0.0, 0.0, 0.0, 806.0157470703125, 0.0, 0.0, 0.0),\n",
       " (2, 1981, 1, 96.22569274902344, 96.18285369873047, 0.042821284383535385, 0.0, 1.6426764659627224e-07, 0.0, 0.0, 0.01363153662532568, 0.0, 0.04089462012052536, 0.0, 315.60052490234375, 315.4579772949219, 0.0, 127.00502014160156, 0.0, 0.0, 0.013656049966812134, 0.0, 4.136972177163251e-16, 0.0, 0.0, 0.0, 3757606.5, 3698301.5, 0.0, 0.0, 0.0, 0.0, 0.0, 0.0, 0.0, 0.0, 0.0, 0.0, 0.0, 0.0, 0.0, 0.0, 0.0, 0.0, 0.0, 442.4630126953125, 0.0, 0.0, 0.0),\n",
       " (3, 1981, 1, 11.952718734741211, 11.861368179321289, 0.09135182946920395, 0.0, 2.0325823868461157e-07, 2.0325823868461157e-07, 6.595060941805286e-09, 0.01146628800779581, 0.0, 0.03439886122941971, 0.009118038229644299, 48.2963752746582, 47.93150329589844, 0.0, 62.467620849609375, 0.0, 0.0, 0.011485105380415916, 0.0, 5.941028783295818e-14, 0.0, 0.0, 0.0, 360979.90625, 456115.90625, 0.0, 0.0, 0.0, 0.0, 0.0, 0.0, 0.0, 0.0, 0.0, 0.0, 0.0, 0.0, 0.0, 0.0, 0.0, 0.0, 0.0, 110.39912414550781, 0.009118038229644299, 0.0, 0.0),\n",
       " (4, 1981, 1, 49.48649215698242, 49.40651321411133, 0.07998340576887131, 0.0, 3.913226720442253e-08, 0.0, 0.0, 0.00722243869677186, 0.0, 0.021667316555976868, 0.0, 46.54270553588867, 46.46895217895508, 0.0, 76.61585235595703, 0.0, 0.0, 0.0072422930970788, 0.0, 1.1632789449796794e-15, 0.0, 0.0, 0.0, 1160040.75, 1899717.625, 0.0, 0.0, 0.0, 0.0, 0.0, 0.0, 0.0, 0.0, 0.0, 0.0, 0.0, 0.0, 0.0, 0.0, 0.0, 0.0, 0.0, 123.08480834960938, 0.0, 0.0, 0.0),\n",
       " (5, 1981, 1, 274.0668029785156, 272.10601806640625, 1.9608064889907837, 0.0, 2257869.75, 116675.171875, 157.49276733398438, 1408498.0, 1259125.625, 501261.6875, 416320.25, 46281.1640625, 44271.08984375, 483.65142822265625, 1362.450439453125, 23.0184326171875, 66.76303100585938, 1289.9833984375, 3866.024169921875, 26296.953125, 0.0, 54013716.0, 21046212.0, 9425129.0, 9136200.0, 0.0, 0.0, 0.0, 0.0, 0.0, 0.0, 0.0, 0.0, 0.0, 0.0, 0.0, 0.0, 0.0, 0.0, 0.0, 0.0, 0.0, 1304826.0, 420186.28125, 0.0, 0.0)]"
      ]
     },
     "execution_count": 15,
     "metadata": {},
     "output_type": "execute_result"
    }
   ],
   "source": [
    "%sql SELECT * From rch LIMIT 5"
   ]
  },
  {
   "cell_type": "markdown",
   "metadata": {},
   "source": [
    "## Check the number of rows\n",
    "\n",
    "There should be 8280 rows. This can be done with the SQLite `COUNT` function. We will touch other SQLite function over the next few notebooks."
   ]
  },
  {
   "cell_type": "code",
   "execution_count": 16,
   "metadata": {},
   "outputs": [
    {
     "name": "stdout",
     "output_type": "stream",
     "text": [
      "   sqlite://\n",
      " * sqlite:///demo.db3\n",
      "Done.\n"
     ]
    },
    {
     "data": {
      "text/html": [
       "<table>\n",
       "    <thead>\n",
       "        <tr>\n",
       "            <th>nrow</th>\n",
       "        </tr>\n",
       "    </thead>\n",
       "    <tbody>\n",
       "        <tr>\n",
       "            <td>8280</td>\n",
       "        </tr>\n",
       "    </tbody>\n",
       "</table>"
      ],
      "text/plain": [
       "[(8280,)]"
      ]
     },
     "execution_count": 16,
     "metadata": {},
     "output_type": "execute_result"
    }
   ],
   "source": [
    "%sql SELECT COUNT(*) as nrow From rch"
   ]
  },
  {
   "cell_type": "markdown",
   "metadata": {},
   "source": [
    "## Use WHERE to retrieve data\n",
    "\n",
    "- Let’s say we are interested in records for only the year 1981. Using a WHERE is pretty straightforward for a simple criterion like this. "
   ]
  },
  {
   "cell_type": "markdown",
   "metadata": {},
   "source": [
    "## Example "
   ]
  },
  {
   "cell_type": "code",
   "execution_count": 131,
   "metadata": {},
   "outputs": [
    {
     "name": "stdout",
     "output_type": "stream",
     "text": [
      "   sqlite://\n",
      " * sqlite:///demo.db3\n",
      "Done.\n"
     ]
    },
    {
     "data": {
      "text/html": [
       "<table>\n",
       "    <thead>\n",
       "        <tr>\n",
       "            <th>RCH</th>\n",
       "            <th>YR</th>\n",
       "            <th>MO</th>\n",
       "            <th>FLOW_INcms</th>\n",
       "            <th>FLOW_OUTcms</th>\n",
       "        </tr>\n",
       "    </thead>\n",
       "    <tbody>\n",
       "        <tr>\n",
       "            <td>1</td>\n",
       "            <td>1981</td>\n",
       "            <td>1</td>\n",
       "            <td>146.34376525878906</td>\n",
       "            <td>146.2524871826172</td>\n",
       "        </tr>\n",
       "        <tr>\n",
       "            <td>2</td>\n",
       "            <td>1981</td>\n",
       "            <td>1</td>\n",
       "            <td>96.22569274902344</td>\n",
       "            <td>96.18285369873047</td>\n",
       "        </tr>\n",
       "        <tr>\n",
       "            <td>3</td>\n",
       "            <td>1981</td>\n",
       "            <td>1</td>\n",
       "            <td>11.952718734741211</td>\n",
       "            <td>11.861368179321289</td>\n",
       "        </tr>\n",
       "        <tr>\n",
       "            <td>4</td>\n",
       "            <td>1981</td>\n",
       "            <td>1</td>\n",
       "            <td>49.48649215698242</td>\n",
       "            <td>49.40651321411133</td>\n",
       "        </tr>\n",
       "        <tr>\n",
       "            <td>5</td>\n",
       "            <td>1981</td>\n",
       "            <td>1</td>\n",
       "            <td>274.0668029785156</td>\n",
       "            <td>272.10601806640625</td>\n",
       "        </tr>\n",
       "    </tbody>\n",
       "</table>"
      ],
      "text/plain": [
       "[(1, 1981, 1, 146.34376525878906, 146.2524871826172),\n",
       " (2, 1981, 1, 96.22569274902344, 96.18285369873047),\n",
       " (3, 1981, 1, 11.952718734741211, 11.861368179321289),\n",
       " (4, 1981, 1, 49.48649215698242, 49.40651321411133),\n",
       " (5, 1981, 1, 274.0668029785156, 272.10601806640625)]"
      ]
     },
     "execution_count": 131,
     "metadata": {},
     "output_type": "execute_result"
    }
   ],
   "source": [
    "%sql SELECT RCH, YR, MO, FLOW_INcms, FLOW_OUTcms From rch WHERE YR=1981 LIMIT 5"
   ]
  },
  {
   "cell_type": "markdown",
   "metadata": {},
   "source": [
    "## Using *AND* to further filter data\n",
    "\n",
    "There are 23 RCHs. We are only intersted in the 10th RCH. We can add another filter condition with an ***AND*** statement."
   ]
  },
  {
   "cell_type": "markdown",
   "metadata": {},
   "source": [
    "## Filtering with `and` and `where`"
   ]
  },
  {
   "cell_type": "code",
   "execution_count": 132,
   "metadata": {},
   "outputs": [
    {
     "name": "stdout",
     "output_type": "stream",
     "text": [
      "   sqlite://\n",
      " * sqlite:///demo.db3\n",
      "Done.\n"
     ]
    },
    {
     "data": {
      "text/html": [
       "<table>\n",
       "    <thead>\n",
       "        <tr>\n",
       "            <th>RCH</th>\n",
       "            <th>YR</th>\n",
       "            <th>MO</th>\n",
       "            <th>FLOW_INcms</th>\n",
       "            <th>FLOW_OUTcms</th>\n",
       "        </tr>\n",
       "    </thead>\n",
       "    <tbody>\n",
       "        <tr>\n",
       "            <td>10</td>\n",
       "            <td>1981</td>\n",
       "            <td>1</td>\n",
       "            <td>53.9464225769043</td>\n",
       "            <td>53.8569450378418</td>\n",
       "        </tr>\n",
       "        <tr>\n",
       "            <td>10</td>\n",
       "            <td>1981</td>\n",
       "            <td>2</td>\n",
       "            <td>29.24818229675293</td>\n",
       "            <td>29.110872268676758</td>\n",
       "        </tr>\n",
       "        <tr>\n",
       "            <td>10</td>\n",
       "            <td>1981</td>\n",
       "            <td>3</td>\n",
       "            <td>8.964656829833984</td>\n",
       "            <td>8.776240348815918</td>\n",
       "        </tr>\n",
       "        <tr>\n",
       "            <td>10</td>\n",
       "            <td>1981</td>\n",
       "            <td>4</td>\n",
       "            <td>14.47266674041748</td>\n",
       "            <td>14.112871170043945</td>\n",
       "        </tr>\n",
       "        <tr>\n",
       "            <td>10</td>\n",
       "            <td>1981</td>\n",
       "            <td>5</td>\n",
       "            <td>283.8179626464844</td>\n",
       "            <td>283.138671875</td>\n",
       "        </tr>\n",
       "    </tbody>\n",
       "</table>"
      ],
      "text/plain": [
       "[(10, 1981, 1, 53.9464225769043, 53.8569450378418),\n",
       " (10, 1981, 2, 29.24818229675293, 29.110872268676758),\n",
       " (10, 1981, 3, 8.964656829833984, 8.776240348815918),\n",
       " (10, 1981, 4, 14.47266674041748, 14.112871170043945),\n",
       " (10, 1981, 5, 283.8179626464844, 283.138671875)]"
      ]
     },
     "execution_count": 132,
     "metadata": {},
     "output_type": "execute_result"
    }
   ],
   "source": [
    "%sql SELECT RCH, YR, MO, FLOW_INcms, FLOW_OUTcms From rch WHERE YR=1981 AND RCH=10 LIMIT 5"
   ]
  },
  {
   "cell_type": "markdown",
   "metadata": {},
   "source": [
    "## More combinations of filters {.smaller}"
   ]
  },
  {
   "cell_type": "markdown",
   "metadata": {},
   "source": [
    "We also can further filter data with the operators of ***!=*** or ***<>*** to get data except 1981."
   ]
  },
  {
   "cell_type": "code",
   "execution_count": 45,
   "metadata": {},
   "outputs": [
    {
     "name": "stdout",
     "output_type": "stream",
     "text": [
      "   sqlite://\n",
      " * sqlite:///demo.db3\n",
      "Done.\n"
     ]
    },
    {
     "data": {
      "text/html": [
       "<table>\n",
       "    <thead>\n",
       "        <tr>\n",
       "            <th>RCH</th>\n",
       "            <th>YR</th>\n",
       "            <th>MO</th>\n",
       "            <th>FLOW_INcms</th>\n",
       "            <th>FLOW_OUTcms</th>\n",
       "        </tr>\n",
       "    </thead>\n",
       "    <tbody>\n",
       "        <tr>\n",
       "            <td>10</td>\n",
       "            <td>1982</td>\n",
       "            <td>6</td>\n",
       "            <td>302.1027526855469</td>\n",
       "            <td>301.51776123046875</td>\n",
       "        </tr>\n",
       "        <tr>\n",
       "            <td>10</td>\n",
       "            <td>1983</td>\n",
       "            <td>6</td>\n",
       "            <td>365.0164489746094</td>\n",
       "            <td>364.4071350097656</td>\n",
       "        </tr>\n",
       "        <tr>\n",
       "            <td>10</td>\n",
       "            <td>1984</td>\n",
       "            <td>6</td>\n",
       "            <td>449.14593505859375</td>\n",
       "            <td>447.8120422363281</td>\n",
       "        </tr>\n",
       "        <tr>\n",
       "            <td>10</td>\n",
       "            <td>1985</td>\n",
       "            <td>6</td>\n",
       "            <td>758.1435546875</td>\n",
       "            <td>756.645263671875</td>\n",
       "        </tr>\n",
       "        <tr>\n",
       "            <td>10</td>\n",
       "            <td>1986</td>\n",
       "            <td>6</td>\n",
       "            <td>870.4126586914062</td>\n",
       "            <td>869.0577392578125</td>\n",
       "        </tr>\n",
       "    </tbody>\n",
       "</table>"
      ],
      "text/plain": [
       "[(10, 1982, 6, 302.1027526855469, 301.51776123046875),\n",
       " (10, 1983, 6, 365.0164489746094, 364.4071350097656),\n",
       " (10, 1984, 6, 449.14593505859375, 447.8120422363281),\n",
       " (10, 1985, 6, 758.1435546875, 756.645263671875),\n",
       " (10, 1986, 6, 870.4126586914062, 869.0577392578125)]"
      ]
     },
     "execution_count": 45,
     "metadata": {},
     "output_type": "execute_result"
    }
   ],
   "source": [
    "%sql SELECT RCH, YR, MO, FLOW_INcms, FLOW_OUTcms From rch WHERE YR<>1981 and RCH=10 and MO=6 LIMIT 5"
   ]
  },
  {
   "cell_type": "markdown",
   "metadata": {},
   "source": [
    "##"
   ]
  },
  {
   "cell_type": "code",
   "execution_count": 20,
   "metadata": {},
   "outputs": [
    {
     "name": "stdout",
     "output_type": "stream",
     "text": [
      "   sqlite://\n",
      " * sqlite:///demo.db3\n",
      "Done.\n"
     ]
    },
    {
     "data": {
      "text/html": [
       "<table>\n",
       "    <thead>\n",
       "        <tr>\n",
       "            <th>RCH</th>\n",
       "            <th>YR</th>\n",
       "            <th>MO</th>\n",
       "            <th>FLOW_INcms</th>\n",
       "            <th>FLOW_OUTcms</th>\n",
       "        </tr>\n",
       "    </thead>\n",
       "    <tbody>\n",
       "        <tr>\n",
       "            <td>10</td>\n",
       "            <td>2010</td>\n",
       "            <td>3</td>\n",
       "            <td>3.4298956394195557</td>\n",
       "            <td>3.0846056938171387</td>\n",
       "        </tr>\n",
       "        <tr>\n",
       "            <td>10</td>\n",
       "            <td>2010</td>\n",
       "            <td>6</td>\n",
       "            <td>736.3016357421875</td>\n",
       "            <td>734.9920654296875</td>\n",
       "        </tr>\n",
       "        <tr>\n",
       "            <td>10</td>\n",
       "            <td>2010</td>\n",
       "            <td>9</td>\n",
       "            <td>218.40797424316406</td>\n",
       "            <td>218.24456787109375</td>\n",
       "        </tr>\n",
       "        <tr>\n",
       "            <td>10</td>\n",
       "            <td>2010</td>\n",
       "            <td>12</td>\n",
       "            <td>36.9558219909668</td>\n",
       "            <td>36.877464294433594</td>\n",
       "        </tr>\n",
       "    </tbody>\n",
       "</table>"
      ],
      "text/plain": [
       "[(10, 2010, 3, 3.4298956394195557, 3.0846056938171387),\n",
       " (10, 2010, 6, 736.3016357421875, 734.9920654296875),\n",
       " (10, 2010, 9, 218.40797424316406, 218.24456787109375),\n",
       " (10, 2010, 12, 36.9558219909668, 36.877464294433594)]"
      ]
     },
     "execution_count": 20,
     "metadata": {},
     "output_type": "execute_result"
    }
   ],
   "source": [
    "%sql SELECT RCH, YR, MO, FLOW_INcms, FLOW_OUTcms From rch WHERE YR>2009 and RCH=10 and (MO=3 or MO=6 or MO=9 or MO=12)"
   ]
  },
  {
   "cell_type": "markdown",
   "metadata": {},
   "source": [
    "##"
   ]
  },
  {
   "cell_type": "markdown",
   "metadata": {},
   "source": [
    "Or we can simplify the above filter using the ***IN*** statement."
   ]
  },
  {
   "cell_type": "code",
   "execution_count": 21,
   "metadata": {},
   "outputs": [
    {
     "name": "stdout",
     "output_type": "stream",
     "text": [
      "   sqlite://\n",
      " * sqlite:///demo.db3\n",
      "Done.\n"
     ]
    },
    {
     "data": {
      "text/html": [
       "<table>\n",
       "    <thead>\n",
       "        <tr>\n",
       "            <th>RCH</th>\n",
       "            <th>YR</th>\n",
       "            <th>MO</th>\n",
       "            <th>FLOW_INcms</th>\n",
       "            <th>FLOW_OUTcms</th>\n",
       "        </tr>\n",
       "    </thead>\n",
       "    <tbody>\n",
       "        <tr>\n",
       "            <td>10</td>\n",
       "            <td>2010</td>\n",
       "            <td>3</td>\n",
       "            <td>3.4298956394195557</td>\n",
       "            <td>3.0846056938171387</td>\n",
       "        </tr>\n",
       "        <tr>\n",
       "            <td>10</td>\n",
       "            <td>2010</td>\n",
       "            <td>6</td>\n",
       "            <td>736.3016357421875</td>\n",
       "            <td>734.9920654296875</td>\n",
       "        </tr>\n",
       "        <tr>\n",
       "            <td>10</td>\n",
       "            <td>2010</td>\n",
       "            <td>9</td>\n",
       "            <td>218.40797424316406</td>\n",
       "            <td>218.24456787109375</td>\n",
       "        </tr>\n",
       "        <tr>\n",
       "            <td>10</td>\n",
       "            <td>2010</td>\n",
       "            <td>12</td>\n",
       "            <td>36.9558219909668</td>\n",
       "            <td>36.877464294433594</td>\n",
       "        </tr>\n",
       "    </tbody>\n",
       "</table>"
      ],
      "text/plain": [
       "[(10, 2010, 3, 3.4298956394195557, 3.0846056938171387),\n",
       " (10, 2010, 6, 736.3016357421875, 734.9920654296875),\n",
       " (10, 2010, 9, 218.40797424316406, 218.24456787109375),\n",
       " (10, 2010, 12, 36.9558219909668, 36.877464294433594)]"
      ]
     },
     "execution_count": 21,
     "metadata": {},
     "output_type": "execute_result"
    }
   ],
   "source": [
    "%sql SELECT RCH, YR, MO, FLOW_INcms, FLOW_OUTcms From rch WHERE YR>2009 and RCH=10 and MO in (3, 6, 9, 12)"
   ]
  },
  {
   "cell_type": "markdown",
   "metadata": {},
   "source": [
    "## {.smaller}"
   ]
  },
  {
   "cell_type": "markdown",
   "metadata": {},
   "source": [
    "Or the months are ***NOT*** in 3, 6, 9, 12"
   ]
  },
  {
   "cell_type": "code",
   "execution_count": 22,
   "metadata": {},
   "outputs": [
    {
     "name": "stdout",
     "output_type": "stream",
     "text": [
      "   sqlite://\n",
      " * sqlite:///demo.db3\n",
      "Done.\n"
     ]
    },
    {
     "data": {
      "text/html": [
       "<table>\n",
       "    <thead>\n",
       "        <tr>\n",
       "            <th>RCH</th>\n",
       "            <th>YR</th>\n",
       "            <th>MO</th>\n",
       "            <th>FLOW_INcms</th>\n",
       "            <th>FLOW_OUTcms</th>\n",
       "        </tr>\n",
       "    </thead>\n",
       "    <tbody>\n",
       "        <tr>\n",
       "            <td>10</td>\n",
       "            <td>2010</td>\n",
       "            <td>1</td>\n",
       "            <td>9.619468688964844</td>\n",
       "            <td>9.422823905944824</td>\n",
       "        </tr>\n",
       "        <tr>\n",
       "            <td>10</td>\n",
       "            <td>2010</td>\n",
       "            <td>2</td>\n",
       "            <td>6.129702091217041</td>\n",
       "            <td>5.864690780639648</td>\n",
       "        </tr>\n",
       "        <tr>\n",
       "            <td>10</td>\n",
       "            <td>2010</td>\n",
       "            <td>4</td>\n",
       "            <td>258.67010498046875</td>\n",
       "            <td>258.1203918457031</td>\n",
       "        </tr>\n",
       "        <tr>\n",
       "            <td>10</td>\n",
       "            <td>2010</td>\n",
       "            <td>5</td>\n",
       "            <td>1513.6510009765625</td>\n",
       "            <td>1512.5479736328125</td>\n",
       "        </tr>\n",
       "        <tr>\n",
       "            <td>10</td>\n",
       "            <td>2010</td>\n",
       "            <td>7</td>\n",
       "            <td>583.045654296875</td>\n",
       "            <td>582.3214721679688</td>\n",
       "        </tr>\n",
       "        <tr>\n",
       "            <td>10</td>\n",
       "            <td>2010</td>\n",
       "            <td>8</td>\n",
       "            <td>371.0841369628906</td>\n",
       "            <td>370.7648010253906</td>\n",
       "        </tr>\n",
       "        <tr>\n",
       "            <td>10</td>\n",
       "            <td>2010</td>\n",
       "            <td>10</td>\n",
       "            <td>123.48409271240234</td>\n",
       "            <td>123.36622619628906</td>\n",
       "        </tr>\n",
       "        <tr>\n",
       "            <td>10</td>\n",
       "            <td>2010</td>\n",
       "            <td>11</td>\n",
       "            <td>68.6158676147461</td>\n",
       "            <td>68.5250473022461</td>\n",
       "        </tr>\n",
       "    </tbody>\n",
       "</table>"
      ],
      "text/plain": [
       "[(10, 2010, 1, 9.619468688964844, 9.422823905944824),\n",
       " (10, 2010, 2, 6.129702091217041, 5.864690780639648),\n",
       " (10, 2010, 4, 258.67010498046875, 258.1203918457031),\n",
       " (10, 2010, 5, 1513.6510009765625, 1512.5479736328125),\n",
       " (10, 2010, 7, 583.045654296875, 582.3214721679688),\n",
       " (10, 2010, 8, 371.0841369628906, 370.7648010253906),\n",
       " (10, 2010, 10, 123.48409271240234, 123.36622619628906),\n",
       " (10, 2010, 11, 68.6158676147461, 68.5250473022461)]"
      ]
     },
     "execution_count": 22,
     "metadata": {},
     "output_type": "execute_result"
    }
   ],
   "source": [
    "%sql SELECT RCH, YR, MO, FLOW_INcms, FLOW_OUTcms From rch WHERE YR>2009 and RCH=10 and MO NOT IN (3,6,9,12)"
   ]
  },
  {
   "cell_type": "markdown",
   "metadata": {},
   "source": [
    "## Filter with math operators {.smaller}\n",
    "For example,  we could use the modulus operator (%) to filter the MOs."
   ]
  },
  {
   "cell_type": "code",
   "execution_count": 23,
   "metadata": {},
   "outputs": [
    {
     "name": "stdout",
     "output_type": "stream",
     "text": [
      "   sqlite://\n",
      " * sqlite:///demo.db3\n",
      "Done.\n"
     ]
    },
    {
     "data": {
      "text/html": [
       "<table>\n",
       "    <thead>\n",
       "        <tr>\n",
       "            <th>RCH</th>\n",
       "            <th>YR</th>\n",
       "            <th>MO</th>\n",
       "            <th>FLOW_INcms</th>\n",
       "            <th>FLOW_OUTcms</th>\n",
       "        </tr>\n",
       "    </thead>\n",
       "    <tbody>\n",
       "        <tr>\n",
       "            <td>10</td>\n",
       "            <td>2010</td>\n",
       "            <td>3</td>\n",
       "            <td>3.4298956394195557</td>\n",
       "            <td>3.0846056938171387</td>\n",
       "        </tr>\n",
       "        <tr>\n",
       "            <td>10</td>\n",
       "            <td>2010</td>\n",
       "            <td>6</td>\n",
       "            <td>736.3016357421875</td>\n",
       "            <td>734.9920654296875</td>\n",
       "        </tr>\n",
       "        <tr>\n",
       "            <td>10</td>\n",
       "            <td>2010</td>\n",
       "            <td>9</td>\n",
       "            <td>218.40797424316406</td>\n",
       "            <td>218.24456787109375</td>\n",
       "        </tr>\n",
       "        <tr>\n",
       "            <td>10</td>\n",
       "            <td>2010</td>\n",
       "            <td>12</td>\n",
       "            <td>36.9558219909668</td>\n",
       "            <td>36.877464294433594</td>\n",
       "        </tr>\n",
       "    </tbody>\n",
       "</table>"
      ],
      "text/plain": [
       "[(10, 2010, 3, 3.4298956394195557, 3.0846056938171387),\n",
       " (10, 2010, 6, 736.3016357421875, 734.9920654296875),\n",
       " (10, 2010, 9, 218.40797424316406, 218.24456787109375),\n",
       " (10, 2010, 12, 36.9558219909668, 36.877464294433594)]"
      ]
     },
     "execution_count": 23,
     "metadata": {},
     "output_type": "execute_result"
    }
   ],
   "source": [
    "%sql SELECT RCH, YR, MO, FLOW_INcms, FLOW_OUTcms From rch WHERE YR>2009 and RCH=10 and MO % 3 = 0"
   ]
  },
  {
   "cell_type": "markdown",
   "metadata": {},
   "source": [
    "## SELECT"
   ]
  },
  {
   "cell_type": "code",
   "execution_count": 28,
   "metadata": {},
   "outputs": [
    {
     "name": "stdout",
     "output_type": "stream",
     "text": [
      "   sqlite://\n",
      " * sqlite:///demo.db3\n",
      "Done.\n"
     ]
    },
    {
     "data": {
      "text/html": [
       "<table>\n",
       "    <thead>\n",
       "        <tr>\n",
       "            <th>YR</th>\n",
       "            <th>MO</th>\n",
       "            <th>PREC_mm</th>\n",
       "            <th>SURQ_mm</th>\n",
       "            <th>LATQ_mm</th>\n",
       "            <th>GWQ_mm</th>\n",
       "            <th>PERCOLA_mm</th>\n",
       "            <th>TILEQ_mm</th>\n",
       "            <th>SW_mm</th>\n",
       "            <th>ET_mm</th>\n",
       "            <th>PET_mm</th>\n",
       "            <th>WYLD_mm</th>\n",
       "            <th>SYLD_tons</th>\n",
       "            <th>NO3_SURQ</th>\n",
       "            <th>NO3_LATQ</th>\n",
       "            <th>NO3_PERC</th>\n",
       "            <th>NO3_CROP</th>\n",
       "            <th>N_ORG</th>\n",
       "            <th>P_SOL</th>\n",
       "            <th>P_ORG</th>\n",
       "            <th>TILENO3</th>\n",
       "        </tr>\n",
       "    </thead>\n",
       "    <tbody>\n",
       "        <tr>\n",
       "            <td>1981</td>\n",
       "            <td>1</td>\n",
       "            <td>96.2901611328125</td>\n",
       "            <td>0.5159813761711121</td>\n",
       "            <td>0.4125469923019409</td>\n",
       "            <td>6.688113689422607</td>\n",
       "            <td>19.906705856323242</td>\n",
       "            <td>0.0</td>\n",
       "            <td>1854.2242431640625</td>\n",
       "            <td>6.871741771697998</td>\n",
       "            <td>12.269017219543457</td>\n",
       "            <td>8.681976318359375</td>\n",
       "            <td>0.17933471500873566</td>\n",
       "            <td>0.00021739966177847236</td>\n",
       "            <td>0.0022701763082295656</td>\n",
       "            <td>1.3104768991470337</td>\n",
       "            <td>0.0</td>\n",
       "            <td>0.1262282431125641</td>\n",
       "            <td>0.00011268912930972874</td>\n",
       "            <td>0.015406808815896511</td>\n",
       "            <td>0.0</td>\n",
       "        </tr>\n",
       "        <tr>\n",
       "            <td>1981</td>\n",
       "            <td>2</td>\n",
       "            <td>160.22804260253906</td>\n",
       "            <td>3.346802234649658</td>\n",
       "            <td>0.6452788710594177</td>\n",
       "            <td>9.148776054382324</td>\n",
       "            <td>34.36812210083008</td>\n",
       "            <td>0.0</td>\n",
       "            <td>1766.2530517578125</td>\n",
       "            <td>9.165532112121582</td>\n",
       "            <td>14.773177146911621</td>\n",
       "            <td>13.862184524536133</td>\n",
       "            <td>1.2127171754837036</td>\n",
       "            <td>0.0006267096032388508</td>\n",
       "            <td>0.001955678453668952</td>\n",
       "            <td>1.174126386642456</td>\n",
       "            <td>0.0</td>\n",
       "            <td>0.8965995907783508</td>\n",
       "            <td>0.0005604379111900926</td>\n",
       "            <td>0.10999998450279236</td>\n",
       "            <td>0.0</td>\n",
       "        </tr>\n",
       "        <tr>\n",
       "            <td>1981</td>\n",
       "            <td>3</td>\n",
       "            <td>136.6529083251953</td>\n",
       "            <td>3.8249943256378174</td>\n",
       "            <td>1.4813165664672852</td>\n",
       "            <td>18.518495559692383</td>\n",
       "            <td>34.367244720458984</td>\n",
       "            <td>0.0</td>\n",
       "            <td>1990.7535400390625</td>\n",
       "            <td>13.520476341247559</td>\n",
       "            <td>23.363500595092773</td>\n",
       "            <td>25.018510818481445</td>\n",
       "            <td>1.2629601955413818</td>\n",
       "            <td>0.0008495681686326861</td>\n",
       "            <td>0.007548550609499216</td>\n",
       "            <td>0.5044968724250793</td>\n",
       "            <td>0.0</td>\n",
       "            <td>0.6799346208572388</td>\n",
       "            <td>0.0005445934948511422</td>\n",
       "            <td>0.08338834345340729</td>\n",
       "            <td>0.0</td>\n",
       "        </tr>\n",
       "    </tbody>\n",
       "</table>"
      ],
      "text/plain": [
       "[(1981, 1, 96.2901611328125, 0.5159813761711121, 0.4125469923019409, 6.688113689422607, 19.906705856323242, 0.0, 1854.2242431640625, 6.871741771697998, 12.269017219543457, 8.681976318359375, 0.17933471500873566, 0.00021739966177847236, 0.0022701763082295656, 1.3104768991470337, 0.0, 0.1262282431125641, 0.00011268912930972874, 0.015406808815896511, 0.0),\n",
       " (1981, 2, 160.22804260253906, 3.346802234649658, 0.6452788710594177, 9.148776054382324, 34.36812210083008, 0.0, 1766.2530517578125, 9.165532112121582, 14.773177146911621, 13.862184524536133, 1.2127171754837036, 0.0006267096032388508, 0.001955678453668952, 1.174126386642456, 0.0, 0.8965995907783508, 0.0005604379111900926, 0.10999998450279236, 0.0),\n",
       " (1981, 3, 136.6529083251953, 3.8249943256378174, 1.4813165664672852, 18.518495559692383, 34.367244720458984, 0.0, 1990.7535400390625, 13.520476341247559, 23.363500595092773, 25.018510818481445, 1.2629601955413818, 0.0008495681686326861, 0.007548550609499216, 0.5044968724250793, 0.0, 0.6799346208572388, 0.0005445934948511422, 0.08338834345340729, 0.0)]"
      ]
     },
     "execution_count": 28,
     "metadata": {},
     "output_type": "execute_result"
    }
   ],
   "source": [
    "%sql SELECT * From watershed_monthly LIMIT 3"
   ]
  },
  {
   "cell_type": "markdown",
   "metadata": {},
   "source": [
    "## Calculate the difference between two columns {.smaller}"
   ]
  },
  {
   "cell_type": "code",
   "execution_count": 31,
   "metadata": {},
   "outputs": [
    {
     "name": "stdout",
     "output_type": "stream",
     "text": [
      "Done.\n"
     ]
    },
    {
     "data": {
      "text/html": [
       "<table>\n",
       "    <thead>\n",
       "        <tr>\n",
       "            <th>YR</th>\n",
       "            <th>MO</th>\n",
       "            <th>Precipitation</th>\n",
       "            <th>PET</th>\n",
       "            <th>PED</th>\n",
       "        </tr>\n",
       "    </thead>\n",
       "    <tbody>\n",
       "        <tr>\n",
       "            <td>1981</td>\n",
       "            <td>1</td>\n",
       "            <td>96.2901611328125</td>\n",
       "            <td>12.269017219543457</td>\n",
       "            <td>-84.02114391326904</td>\n",
       "        </tr>\n",
       "        <tr>\n",
       "            <td>1981</td>\n",
       "            <td>2</td>\n",
       "            <td>160.22804260253906</td>\n",
       "            <td>14.773177146911621</td>\n",
       "            <td>-145.45486545562744</td>\n",
       "        </tr>\n",
       "        <tr>\n",
       "            <td>1981</td>\n",
       "            <td>3</td>\n",
       "            <td>136.6529083251953</td>\n",
       "            <td>23.363500595092773</td>\n",
       "            <td>-113.28940773010254</td>\n",
       "        </tr>\n",
       "        <tr>\n",
       "            <td>1981</td>\n",
       "            <td>4</td>\n",
       "            <td>118.85740661621094</td>\n",
       "            <td>36.195560455322266</td>\n",
       "            <td>-82.66184616088867</td>\n",
       "        </tr>\n",
       "        <tr>\n",
       "            <td>1981</td>\n",
       "            <td>5</td>\n",
       "            <td>84.54698181152344</td>\n",
       "            <td>89.7725601196289</td>\n",
       "            <td>5.225578308105469</td>\n",
       "        </tr>\n",
       "        <tr>\n",
       "            <td>1981</td>\n",
       "            <td>6</td>\n",
       "            <td>44.83718490600586</td>\n",
       "            <td>123.68331909179688</td>\n",
       "            <td>78.84613418579102</td>\n",
       "        </tr>\n",
       "        <tr>\n",
       "            <td>1981</td>\n",
       "            <td>7</td>\n",
       "            <td>32.325984954833984</td>\n",
       "            <td>174.00889587402344</td>\n",
       "            <td>141.68291091918945</td>\n",
       "        </tr>\n",
       "        <tr>\n",
       "            <td>1981</td>\n",
       "            <td>8</td>\n",
       "            <td>20.65149688720703</td>\n",
       "            <td>152.6374969482422</td>\n",
       "            <td>131.98600006103516</td>\n",
       "        </tr>\n",
       "        <tr>\n",
       "            <td>1981</td>\n",
       "            <td>9</td>\n",
       "            <td>16.57965660095215</td>\n",
       "            <td>115.8529052734375</td>\n",
       "            <td>99.27324867248535</td>\n",
       "        </tr>\n",
       "        <tr>\n",
       "            <td>1981</td>\n",
       "            <td>10</td>\n",
       "            <td>59.67293167114258</td>\n",
       "            <td>43.6953010559082</td>\n",
       "            <td>-15.977630615234375</td>\n",
       "        </tr>\n",
       "    </tbody>\n",
       "</table>"
      ],
      "text/plain": [
       "[(1981, 1, 96.2901611328125, 12.269017219543457, -84.02114391326904),\n",
       " (1981, 2, 160.22804260253906, 14.773177146911621, -145.45486545562744),\n",
       " (1981, 3, 136.6529083251953, 23.363500595092773, -113.28940773010254),\n",
       " (1981, 4, 118.85740661621094, 36.195560455322266, -82.66184616088867),\n",
       " (1981, 5, 84.54698181152344, 89.7725601196289, 5.225578308105469),\n",
       " (1981, 6, 44.83718490600586, 123.68331909179688, 78.84613418579102),\n",
       " (1981, 7, 32.325984954833984, 174.00889587402344, 141.68291091918945),\n",
       " (1981, 8, 20.65149688720703, 152.6374969482422, 131.98600006103516),\n",
       " (1981, 9, 16.57965660095215, 115.8529052734375, 99.27324867248535),\n",
       " (1981, 10, 59.67293167114258, 43.6953010559082, -15.977630615234375)]"
      ]
     },
     "execution_count": 31,
     "metadata": {},
     "output_type": "execute_result"
    }
   ],
   "source": [
    "%%sql sqlite:///demo.db3\n",
    "SELECT YR, MO,  \n",
    "PREC_mm as Precipitation, \n",
    "PET_mm as PET, \n",
    "PET_mm-PREC_mm as PED \n",
    "From watershed_monthly LIMIT 10"
   ]
  },
  {
   "cell_type": "markdown",
   "metadata": {},
   "source": [
    "## MORE OPERATIONS {.smaller}"
   ]
  },
  {
   "cell_type": "code",
   "execution_count": 32,
   "metadata": {},
   "outputs": [
    {
     "name": "stdout",
     "output_type": "stream",
     "text": [
      "Done.\n"
     ]
    },
    {
     "data": {
      "text/html": [
       "<table>\n",
       "    <thead>\n",
       "        <tr>\n",
       "            <th>YR</th>\n",
       "            <th>MO</th>\n",
       "            <th>Precipitation</th>\n",
       "            <th>PET</th>\n",
       "            <th>PED_Ratio</th>\n",
       "        </tr>\n",
       "    </thead>\n",
       "    <tbody>\n",
       "        <tr>\n",
       "            <td>1981</td>\n",
       "            <td>1</td>\n",
       "            <td>96.2901611328125</td>\n",
       "            <td>12.269017219543457</td>\n",
       "            <td>-87.25828571143332</td>\n",
       "        </tr>\n",
       "        <tr>\n",
       "            <td>1981</td>\n",
       "            <td>2</td>\n",
       "            <td>160.22804260253906</td>\n",
       "            <td>14.773177146911621</td>\n",
       "            <td>-90.7799053730202</td>\n",
       "        </tr>\n",
       "        <tr>\n",
       "            <td>1981</td>\n",
       "            <td>3</td>\n",
       "            <td>136.6529083251953</td>\n",
       "            <td>23.363500595092773</td>\n",
       "            <td>-82.90303449708202</td>\n",
       "        </tr>\n",
       "        <tr>\n",
       "            <td>1981</td>\n",
       "            <td>4</td>\n",
       "            <td>118.85740661621094</td>\n",
       "            <td>36.195560455322266</td>\n",
       "            <td>-69.54707200351655</td>\n",
       "        </tr>\n",
       "        <tr>\n",
       "            <td>1981</td>\n",
       "            <td>5</td>\n",
       "            <td>84.54698181152344</td>\n",
       "            <td>89.7725601196289</td>\n",
       "            <td>6.180679896716599</td>\n",
       "        </tr>\n",
       "        <tr>\n",
       "            <td>1981</td>\n",
       "            <td>6</td>\n",
       "            <td>44.83718490600586</td>\n",
       "            <td>123.68331909179688</td>\n",
       "            <td>175.84987628255342</td>\n",
       "        </tr>\n",
       "        <tr>\n",
       "            <td>1981</td>\n",
       "            <td>7</td>\n",
       "            <td>32.325984954833984</td>\n",
       "            <td>174.00889587402344</td>\n",
       "            <td>438.29418072534986</td>\n",
       "        </tr>\n",
       "        <tr>\n",
       "            <td>1981</td>\n",
       "            <td>8</td>\n",
       "            <td>20.65149688720703</td>\n",
       "            <td>152.6374969482422</td>\n",
       "            <td>639.1110570914423</td>\n",
       "        </tr>\n",
       "        <tr>\n",
       "            <td>1981</td>\n",
       "            <td>9</td>\n",
       "            <td>16.57965660095215</td>\n",
       "            <td>115.8529052734375</td>\n",
       "            <td>598.7654090904647</td>\n",
       "        </tr>\n",
       "        <tr>\n",
       "            <td>1981</td>\n",
       "            <td>10</td>\n",
       "            <td>59.67293167114258</td>\n",
       "            <td>43.6953010559082</td>\n",
       "            <td>-26.775340456351415</td>\n",
       "        </tr>\n",
       "    </tbody>\n",
       "</table>"
      ],
      "text/plain": [
       "[(1981, 1, 96.2901611328125, 12.269017219543457, -87.25828571143332),\n",
       " (1981, 2, 160.22804260253906, 14.773177146911621, -90.7799053730202),\n",
       " (1981, 3, 136.6529083251953, 23.363500595092773, -82.90303449708202),\n",
       " (1981, 4, 118.85740661621094, 36.195560455322266, -69.54707200351655),\n",
       " (1981, 5, 84.54698181152344, 89.7725601196289, 6.180679896716599),\n",
       " (1981, 6, 44.83718490600586, 123.68331909179688, 175.84987628255342),\n",
       " (1981, 7, 32.325984954833984, 174.00889587402344, 438.29418072534986),\n",
       " (1981, 8, 20.65149688720703, 152.6374969482422, 639.1110570914423),\n",
       " (1981, 9, 16.57965660095215, 115.8529052734375, 598.7654090904647),\n",
       " (1981, 10, 59.67293167114258, 43.6953010559082, -26.775340456351415)]"
      ]
     },
     "execution_count": 32,
     "metadata": {},
     "output_type": "execute_result"
    }
   ],
   "source": [
    "%%sql sqlite:///demo.db3\n",
    "SELECT YR, MO,  PREC_mm as Precipitation, \n",
    "PET_mm as PET, \n",
    "(PET_mm-PREC_mm)/PREC_mm*100.0 as PED_Ratio \n",
    "From watershed_monthly LIMIT 10"
   ]
  },
  {
   "cell_type": "markdown",
   "metadata": {},
   "source": [
    "## Use math operators in a WHERE statement {.smaller}\n",
    "\n",
    "For example, we could use the modulus operator (%) to filter the MOs."
   ]
  },
  {
   "cell_type": "markdown",
   "metadata": {},
   "source": [
    "## EXAMPLE {.smaller}"
   ]
  },
  {
   "cell_type": "code",
   "execution_count": 33,
   "metadata": {},
   "outputs": [
    {
     "name": "stdout",
     "output_type": "stream",
     "text": [
      "Done.\n"
     ]
    },
    {
     "data": {
      "text/html": [
       "<table>\n",
       "    <thead>\n",
       "        <tr>\n",
       "            <th>RCH</th>\n",
       "            <th>YR</th>\n",
       "            <th>MO</th>\n",
       "            <th>FLOW_INcms</th>\n",
       "            <th>FLOW_OUTcms</th>\n",
       "        </tr>\n",
       "    </thead>\n",
       "    <tbody>\n",
       "        <tr>\n",
       "            <td>10</td>\n",
       "            <td>2010</td>\n",
       "            <td>3</td>\n",
       "            <td>3.4298956394195557</td>\n",
       "            <td>3.0846056938171387</td>\n",
       "        </tr>\n",
       "        <tr>\n",
       "            <td>10</td>\n",
       "            <td>2010</td>\n",
       "            <td>6</td>\n",
       "            <td>736.3016357421875</td>\n",
       "            <td>734.9920654296875</td>\n",
       "        </tr>\n",
       "        <tr>\n",
       "            <td>10</td>\n",
       "            <td>2010</td>\n",
       "            <td>9</td>\n",
       "            <td>218.40797424316406</td>\n",
       "            <td>218.24456787109375</td>\n",
       "        </tr>\n",
       "        <tr>\n",
       "            <td>10</td>\n",
       "            <td>2010</td>\n",
       "            <td>12</td>\n",
       "            <td>36.9558219909668</td>\n",
       "            <td>36.877464294433594</td>\n",
       "        </tr>\n",
       "    </tbody>\n",
       "</table>"
      ],
      "text/plain": [
       "[(10, 2010, 3, 3.4298956394195557, 3.0846056938171387),\n",
       " (10, 2010, 6, 736.3016357421875, 734.9920654296875),\n",
       " (10, 2010, 9, 218.40797424316406, 218.24456787109375),\n",
       " (10, 2010, 12, 36.9558219909668, 36.877464294433594)]"
      ]
     },
     "execution_count": 33,
     "metadata": {},
     "output_type": "execute_result"
    }
   ],
   "source": [
    "%%sql sqlite:///demo.db3\n",
    "SELECT RCH, YR, MO, FLOW_INcms, FLOW_OUTcms \n",
    "From rch \n",
    "WHERE YR>2009 \n",
    "and RCH=10 \n",
    "and MO % 3 = 0"
   ]
  },
  {
   "cell_type": "markdown",
   "metadata": {},
   "source": [
    "## Statistics with Aggregate Functions\n",
    "\n",
    "So far, we’ve performed math operations across columns in each row of a table. We also can calculate a result from values within the same column using aggregate function, which calculate a single result from multiple inputs. Two of the most-used aggregate functions in data analysis are avg() and sum()."
   ]
  },
  {
   "cell_type": "markdown",
   "metadata": {},
   "source": [
    "## EXAMPLE"
   ]
  },
  {
   "cell_type": "code",
   "execution_count": 34,
   "metadata": {},
   "outputs": [
    {
     "name": "stdout",
     "output_type": "stream",
     "text": [
      "Done.\n"
     ]
    },
    {
     "data": {
      "text/html": [
       "<table>\n",
       "    <thead>\n",
       "        <tr>\n",
       "            <th>avg(FLOW_INcms)</th>\n",
       "            <th>avg(FLOW_OUTcms)</th>\n",
       "        </tr>\n",
       "    </thead>\n",
       "    <tbody>\n",
       "        <tr>\n",
       "            <td>559.361707683415</td>\n",
       "            <td>557.2792260827198</td>\n",
       "        </tr>\n",
       "    </tbody>\n",
       "</table>"
      ],
      "text/plain": [
       "[(559.361707683415, 557.2792260827198)]"
      ]
     },
     "execution_count": 34,
     "metadata": {},
     "output_type": "execute_result"
    }
   ],
   "source": [
    "%%sql sqlite:///demo.db3\n",
    "SELECT avg(FLOW_INcms), avg(FLOW_OUTcms) \n",
    "From rch "
   ]
  },
  {
   "cell_type": "markdown",
   "metadata": {},
   "source": [
    "## SUM\n",
    "\n",
    "sum - calculates the sum of the values in that column (omits null values)."
   ]
  },
  {
   "cell_type": "code",
   "execution_count": 35,
   "metadata": {},
   "outputs": [
    {
     "name": "stdout",
     "output_type": "stream",
     "text": [
      "   sqlite://\n",
      " * sqlite:///demo.db3\n",
      "Done.\n"
     ]
    },
    {
     "data": {
      "text/html": [
       "<table>\n",
       "    <thead>\n",
       "        <tr>\n",
       "            <th>sum(FLOW_INcms)</th>\n",
       "            <th>sum(FLOW_OUTcms)</th>\n",
       "        </tr>\n",
       "    </thead>\n",
       "    <tbody>\n",
       "        <tr>\n",
       "            <td>4631514.939618677</td>\n",
       "            <td>4614271.9919649195</td>\n",
       "        </tr>\n",
       "    </tbody>\n",
       "</table>"
      ],
      "text/plain": [
       "[(4631514.939618677, 4614271.9919649195)]"
      ]
     },
     "execution_count": 35,
     "metadata": {},
     "output_type": "execute_result"
    }
   ],
   "source": [
    "%%sql \n",
    "SELECT sum(FLOW_INcms), sum(FLOW_OUTcms) \n",
    "From rch "
   ]
  },
  {
   "cell_type": "markdown",
   "metadata": {},
   "source": [
    "## Extreme values\n",
    "\n",
    "max - calculates the maximum value in that column (omits null values).\n",
    "\n",
    "min - calculates the minimum value in that column (omits null values)."
   ]
  },
  {
   "cell_type": "code",
   "execution_count": 36,
   "metadata": {},
   "outputs": [
    {
     "name": "stdout",
     "output_type": "stream",
     "text": [
      "   sqlite://\n",
      " * sqlite:///demo.db3\n",
      "Done.\n"
     ]
    },
    {
     "data": {
      "text/html": [
       "<table>\n",
       "    <thead>\n",
       "        <tr>\n",
       "            <th>min(FLOW_INcms)</th>\n",
       "            <th>max(FLOW_OUTcms)</th>\n",
       "        </tr>\n",
       "    </thead>\n",
       "    <tbody>\n",
       "        <tr>\n",
       "            <td>0.20121553540229797</td>\n",
       "            <td>10499.5498046875</td>\n",
       "        </tr>\n",
       "    </tbody>\n",
       "</table>"
      ],
      "text/plain": [
       "[(0.20121553540229797, 10499.5498046875)]"
      ]
     },
     "execution_count": 36,
     "metadata": {},
     "output_type": "execute_result"
    }
   ],
   "source": [
    "%%sql \n",
    "SELECT min(FLOW_INcms), max(FLOW_OUTcms) \n",
    "From rch "
   ]
  },
  {
   "cell_type": "markdown",
   "metadata": {},
   "source": [
    "## Average Function"
   ]
  },
  {
   "cell_type": "code",
   "execution_count": 37,
   "metadata": {},
   "outputs": [
    {
     "name": "stdout",
     "output_type": "stream",
     "text": [
      "   sqlite://\n",
      " * sqlite:///demo.db3\n",
      "Done.\n"
     ]
    },
    {
     "data": {
      "text/html": [
       "<table>\n",
       "    <thead>\n",
       "        <tr>\n",
       "            <th>AVG_FlowIn</th>\n",
       "            <th>AVG_FlowOut</th>\n",
       "        </tr>\n",
       "    </thead>\n",
       "    <tbody>\n",
       "        <tr>\n",
       "            <td>559.361707683415</td>\n",
       "            <td>557.2792260827198</td>\n",
       "        </tr>\n",
       "    </tbody>\n",
       "</table>"
      ],
      "text/plain": [
       "[(559.361707683415, 557.2792260827198)]"
      ]
     },
     "execution_count": 37,
     "metadata": {},
     "output_type": "execute_result"
    }
   ],
   "source": [
    "%%sql \n",
    "SELECT sum(FLOW_INcms)/COUNT(FLOW_INcms) as AVG_FlowIn, \n",
    "sum(FLOW_OUTcms)/COUNT(FLOW_OUTcms) as AVG_FlowOut\n",
    "From rch "
   ]
  },
  {
   "cell_type": "markdown",
   "metadata": {},
   "source": [
    "## Aggregating data with GROUP BY and ORDER BY\n",
    "\n",
    "- The `GROUP BY` clause is an optional clause of the SELECT statement. The GROUP BY clause a selected group of rows into summary rows by values of one or more columns. \n",
    "\n",
    "- The GROUP BY clause returns one row for each group. For each group, you can apply an aggregate function such as `MIN, MAX, SUM, COUNT, or AVG` to provide more information about each group."
   ]
  },
  {
   "cell_type": "markdown",
   "metadata": {},
   "source": [
    "## Check unique values\n",
    "\n",
    "- Firstly, let's have a look at the number of RCH. \n",
    "- We can use the `DISTINCT` keyword in conjunction with SELECT statement to eliminate all the duplicate records and fetching only the unique records."
   ]
  },
  {
   "cell_type": "markdown",
   "metadata": {},
   "source": [
    "## EXAMPLE {.smaller}"
   ]
  },
  {
   "cell_type": "code",
   "execution_count": 38,
   "metadata": {},
   "outputs": [
    {
     "name": "stdout",
     "output_type": "stream",
     "text": [
      "   sqlite://\n",
      " * sqlite:///demo.db3\n",
      "Done.\n"
     ]
    },
    {
     "data": {
      "text/html": [
       "<table>\n",
       "    <thead>\n",
       "        <tr>\n",
       "            <th>nRCH</th>\n",
       "        </tr>\n",
       "    </thead>\n",
       "    <tbody>\n",
       "        <tr>\n",
       "            <td>23</td>\n",
       "        </tr>\n",
       "    </tbody>\n",
       "</table>"
      ],
      "text/plain": [
       "[(23,)]"
      ]
     },
     "execution_count": 38,
     "metadata": {},
     "output_type": "execute_result"
    }
   ],
   "source": [
    "%%sql \n",
    "SELECT COUNT(DISTINCT RCH) AS nRCH\n",
    "FROM rch"
   ]
  },
  {
   "cell_type": "markdown",
   "metadata": {},
   "source": [
    "We also can use the ***GROUP BY*** clause to get back a cleaner output, with fewer rows – only unique values returned. "
   ]
  },
  {
   "cell_type": "markdown",
   "metadata": {},
   "source": [
    "## Use aggregate  functions on Groups\n",
    "\n",
    "- We can get more details trough aggregating data on group than on whole columns."
   ]
  },
  {
   "cell_type": "markdown",
   "metadata": {},
   "source": [
    "## EXAMPLE"
   ]
  },
  {
   "cell_type": "code",
   "execution_count": 44,
   "metadata": {},
   "outputs": [
    {
     "name": "stdout",
     "output_type": "stream",
     "text": [
      "   sqlite://\n",
      " * sqlite:///demo.db3\n",
      "Done.\n"
     ]
    },
    {
     "data": {
      "text/html": [
       "<table>\n",
       "    <thead>\n",
       "        <tr>\n",
       "            <th>RCH</th>\n",
       "        </tr>\n",
       "    </thead>\n",
       "    <tbody>\n",
       "        <tr>\n",
       "            <td>1</td>\n",
       "        </tr>\n",
       "        <tr>\n",
       "            <td>2</td>\n",
       "        </tr>\n",
       "        <tr>\n",
       "            <td>3</td>\n",
       "        </tr>\n",
       "        <tr>\n",
       "            <td>4</td>\n",
       "        </tr>\n",
       "        <tr>\n",
       "            <td>5</td>\n",
       "        </tr>\n",
       "    </tbody>\n",
       "</table>"
      ],
      "text/plain": [
       "[(1,), (2,), (3,), (4,), (5,)]"
      ]
     },
     "execution_count": 44,
     "metadata": {},
     "output_type": "execute_result"
    }
   ],
   "source": [
    "%%sql \n",
    "SELECT RCH\n",
    "FROM rch\n",
    "GROUP BY RCH LIMIT 5"
   ]
  },
  {
   "cell_type": "markdown",
   "metadata": {},
   "source": [
    "## Math functions {.smaller}"
   ]
  },
  {
   "cell_type": "code",
   "execution_count": 43,
   "metadata": {},
   "outputs": [
    {
     "name": "stdout",
     "output_type": "stream",
     "text": [
      "   sqlite://\n",
      " * sqlite:///demo.db3\n",
      "Done.\n"
     ]
    },
    {
     "data": {
      "text/html": [
       "<table>\n",
       "    <thead>\n",
       "        <tr>\n",
       "            <th>RCH</th>\n",
       "            <th>AVG(FLOW_INcms)</th>\n",
       "            <th>AVG(FLOW_OUTcms)</th>\n",
       "        </tr>\n",
       "    </thead>\n",
       "    <tbody>\n",
       "        <tr>\n",
       "            <td>1</td>\n",
       "            <td>631.8990093310674</td>\n",
       "            <td>629.7380514648225</td>\n",
       "        </tr>\n",
       "        <tr>\n",
       "            <td>2</td>\n",
       "            <td>333.0202187087801</td>\n",
       "            <td>332.79249324997267</td>\n",
       "        </tr>\n",
       "        <tr>\n",
       "            <td>3</td>\n",
       "            <td>152.36708157062532</td>\n",
       "            <td>151.58638913697666</td>\n",
       "        </tr>\n",
       "        <tr>\n",
       "            <td>4</td>\n",
       "            <td>270.92289432916374</td>\n",
       "            <td>270.5829954958624</td>\n",
       "        </tr>\n",
       "        <tr>\n",
       "            <td>5</td>\n",
       "            <td>933.1512839211358</td>\n",
       "            <td>921.7582115385268</td>\n",
       "        </tr>\n",
       "    </tbody>\n",
       "</table>"
      ],
      "text/plain": [
       "[(1, 631.8990093310674, 629.7380514648225),\n",
       " (2, 333.0202187087801, 332.79249324997267),\n",
       " (3, 152.36708157062532, 151.58638913697666),\n",
       " (4, 270.92289432916374, 270.5829954958624),\n",
       " (5, 933.1512839211358, 921.7582115385268)]"
      ]
     },
     "execution_count": 43,
     "metadata": {},
     "output_type": "execute_result"
    }
   ],
   "source": [
    "%%sql \n",
    "SELECT RCH, AVG(FLOW_INcms), AVG(FLOW_OUTcms)\n",
    "FROM rch\n",
    "GROUP BY RCH LIMIT 5"
   ]
  },
  {
   "cell_type": "markdown",
   "metadata": {},
   "source": [
    "## Order/Sort Records\n",
    "\n",
    "Firstly, let us check the years and months with the maximum FLOW_INcms"
   ]
  },
  {
   "cell_type": "markdown",
   "metadata": {},
   "source": [
    "## EXAMPLE {.smaller}"
   ]
  },
  {
   "cell_type": "code",
   "execution_count": 42,
   "metadata": {},
   "outputs": [
    {
     "name": "stdout",
     "output_type": "stream",
     "text": [
      "   sqlite://\n",
      " * sqlite:///demo.db3\n",
      "Done.\n"
     ]
    },
    {
     "data": {
      "text/html": [
       "<table>\n",
       "    <thead>\n",
       "        <tr>\n",
       "            <th>RCH</th>\n",
       "            <th>YR</th>\n",
       "            <th>MO</th>\n",
       "            <th>MAX(FLOW_INcms)</th>\n",
       "        </tr>\n",
       "    </thead>\n",
       "    <tbody>\n",
       "        <tr>\n",
       "            <td>1</td>\n",
       "            <td>1997</td>\n",
       "            <td>7</td>\n",
       "            <td>3758.952392578125</td>\n",
       "        </tr>\n",
       "        <tr>\n",
       "            <td>2</td>\n",
       "            <td>1997</td>\n",
       "            <td>7</td>\n",
       "            <td>1820.2337646484375</td>\n",
       "        </tr>\n",
       "        <tr>\n",
       "            <td>3</td>\n",
       "            <td>1981</td>\n",
       "            <td>5</td>\n",
       "            <td>871.1177368164062</td>\n",
       "        </tr>\n",
       "        <tr>\n",
       "            <td>4</td>\n",
       "            <td>1997</td>\n",
       "            <td>7</td>\n",
       "            <td>1919.5400390625</td>\n",
       "        </tr>\n",
       "        <tr>\n",
       "            <td>5</td>\n",
       "            <td>1997</td>\n",
       "            <td>7</td>\n",
       "            <td>3961.945068359375</td>\n",
       "        </tr>\n",
       "    </tbody>\n",
       "</table>"
      ],
      "text/plain": [
       "[(1, 1997, 7, 3758.952392578125),\n",
       " (2, 1997, 7, 1820.2337646484375),\n",
       " (3, 1981, 5, 871.1177368164062),\n",
       " (4, 1997, 7, 1919.5400390625),\n",
       " (5, 1997, 7, 3961.945068359375)]"
      ]
     },
     "execution_count": 42,
     "metadata": {},
     "output_type": "execute_result"
    }
   ],
   "source": [
    "%%sql \n",
    "SELECT RCH, YR, MO, MAX(FLOW_INcms)\n",
    "FROM rch\n",
    "GROUP BY RCH LIMIT 5"
   ]
  },
  {
   "cell_type": "markdown",
   "metadata": {},
   "source": [
    "## ORDER BY {.smaller}"
   ]
  },
  {
   "cell_type": "code",
   "execution_count": 47,
   "metadata": {},
   "outputs": [
    {
     "name": "stdout",
     "output_type": "stream",
     "text": [
      "   sqlite://\n",
      " * sqlite:///demo.db3\n",
      "Done.\n"
     ]
    },
    {
     "data": {
      "text/html": [
       "<table>\n",
       "    <thead>\n",
       "        <tr>\n",
       "            <th>RCH</th>\n",
       "            <th>YR</th>\n",
       "            <th>MO</th>\n",
       "            <th>ROUND(MAX(FLOW_INcms),2)</th>\n",
       "        </tr>\n",
       "    </thead>\n",
       "    <tbody>\n",
       "        <tr>\n",
       "            <td>3</td>\n",
       "            <td>1981</td>\n",
       "            <td>5</td>\n",
       "            <td>871.12</td>\n",
       "        </tr>\n",
       "        <tr>\n",
       "            <td>7</td>\n",
       "            <td>1992</td>\n",
       "            <td>3</td>\n",
       "            <td>352.16</td>\n",
       "        </tr>\n",
       "        <tr>\n",
       "            <td>6</td>\n",
       "            <td>1992</td>\n",
       "            <td>6</td>\n",
       "            <td>10503.72</td>\n",
       "        </tr>\n",
       "        <tr>\n",
       "            <td>8</td>\n",
       "            <td>1994</td>\n",
       "            <td>5</td>\n",
       "            <td>7693.54</td>\n",
       "        </tr>\n",
       "        <tr>\n",
       "            <td>9</td>\n",
       "            <td>1994</td>\n",
       "            <td>5</td>\n",
       "            <td>7507.54</td>\n",
       "        </tr>\n",
       "    </tbody>\n",
       "</table>"
      ],
      "text/plain": [
       "[(3, 1981, 5, 871.12),\n",
       " (7, 1992, 3, 352.16),\n",
       " (6, 1992, 6, 10503.72),\n",
       " (8, 1994, 5, 7693.54),\n",
       " (9, 1994, 5, 7507.54)]"
      ]
     },
     "execution_count": 47,
     "metadata": {},
     "output_type": "execute_result"
    }
   ],
   "source": [
    "%%sql \n",
    "SELECT RCH, YR, MO, ROUND(MAX(FLOW_INcms),2)\n",
    "FROM rch\n",
    "GROUP BY RCH\n",
    "ORDER BY YR, MO LIMIT 5"
   ]
  },
  {
   "cell_type": "markdown",
   "metadata": {},
   "source": [
    "## ORDER BY AND GROUP BY"
   ]
  },
  {
   "cell_type": "code",
   "execution_count": 51,
   "metadata": {},
   "outputs": [
    {
     "name": "stdout",
     "output_type": "stream",
     "text": [
      "Done.\n"
     ]
    },
    {
     "data": {
      "text/html": [
       "<table>\n",
       "    <thead>\n",
       "        <tr>\n",
       "            <th>RCH</th>\n",
       "            <th>YR</th>\n",
       "            <th>MO</th>\n",
       "            <th>ROUND(MAX(FLOW_INcms),2)</th>\n",
       "        </tr>\n",
       "    </thead>\n",
       "    <tbody>\n",
       "        <tr>\n",
       "            <td>15</td>\n",
       "            <td>2010</td>\n",
       "            <td>2</td>\n",
       "            <td>445.3</td>\n",
       "        </tr>\n",
       "        <tr>\n",
       "            <td>10</td>\n",
       "            <td>2010</td>\n",
       "            <td>5</td>\n",
       "            <td>1513.65</td>\n",
       "        </tr>\n",
       "        <tr>\n",
       "            <td>12</td>\n",
       "            <td>2010</td>\n",
       "            <td>5</td>\n",
       "            <td>3167.54</td>\n",
       "        </tr>\n",
       "        <tr>\n",
       "            <td>16</td>\n",
       "            <td>1999</td>\n",
       "            <td>5</td>\n",
       "            <td>1628.88</td>\n",
       "        </tr>\n",
       "        <tr>\n",
       "            <td>13</td>\n",
       "            <td>1997</td>\n",
       "            <td>6</td>\n",
       "            <td>3291.48</td>\n",
       "        </tr>\n",
       "    </tbody>\n",
       "</table>"
      ],
      "text/plain": [
       "[(15, 2010, 2, 445.3),\n",
       " (10, 2010, 5, 1513.65),\n",
       " (12, 2010, 5, 3167.54),\n",
       " (16, 1999, 5, 1628.88),\n",
       " (13, 1997, 6, 3291.48)]"
      ]
     },
     "execution_count": 51,
     "metadata": {},
     "output_type": "execute_result"
    }
   ],
   "source": [
    "%%sql sqlite:///demo.db3\n",
    "SELECT RCH, YR, MO, ROUND(MAX(FLOW_INcms),2)\n",
    "FROM rch\n",
    "GROUP BY RCH\n",
    "ORDER BY YR DESC, MO LIMIT 5"
   ]
  },
  {
   "cell_type": "markdown",
   "metadata": {},
   "source": [
    "## Filter data on groups with the HAVING clause {.smaller}\n"
   ]
  },
  {
   "cell_type": "code",
   "execution_count": 133,
   "metadata": {},
   "outputs": [
    {
     "name": "stdout",
     "output_type": "stream",
     "text": [
      "   sqlite://\n",
      " * sqlite:///demo.db3\n",
      "Done.\n"
     ]
    },
    {
     "data": {
      "text/html": [
       "<table>\n",
       "    <thead>\n",
       "        <tr>\n",
       "            <th>RCH</th>\n",
       "            <th>YR</th>\n",
       "            <th>MO</th>\n",
       "            <th>MAX_FLOWIN</th>\n",
       "        </tr>\n",
       "    </thead>\n",
       "    <tbody>\n",
       "        <tr>\n",
       "            <td>12</td>\n",
       "            <td>2010</td>\n",
       "            <td>5</td>\n",
       "            <td>3167.544921875</td>\n",
       "        </tr>\n",
       "        <tr>\n",
       "            <td>13</td>\n",
       "            <td>1997</td>\n",
       "            <td>6</td>\n",
       "            <td>3291.47900390625</td>\n",
       "        </tr>\n",
       "        <tr>\n",
       "            <td>1</td>\n",
       "            <td>1997</td>\n",
       "            <td>7</td>\n",
       "            <td>3758.952392578125</td>\n",
       "        </tr>\n",
       "        <tr>\n",
       "            <td>5</td>\n",
       "            <td>1997</td>\n",
       "            <td>7</td>\n",
       "            <td>3961.945068359375</td>\n",
       "        </tr>\n",
       "        <tr>\n",
       "            <td>8</td>\n",
       "            <td>1994</td>\n",
       "            <td>5</td>\n",
       "            <td>7693.54345703125</td>\n",
       "        </tr>\n",
       "    </tbody>\n",
       "</table>"
      ],
      "text/plain": [
       "[(12, 2010, 5, 3167.544921875),\n",
       " (13, 1997, 6, 3291.47900390625),\n",
       " (1, 1997, 7, 3758.952392578125),\n",
       " (5, 1997, 7, 3961.945068359375),\n",
       " (8, 1994, 5, 7693.54345703125)]"
      ]
     },
     "execution_count": 133,
     "metadata": {},
     "output_type": "execute_result"
    }
   ],
   "source": [
    "%%sql \n",
    "SELECT RCH, YR, MO, MAX(FLOW_INcms) as MAX_FLOWIN\n",
    "FROM rch\n",
    "GROUP BY RCH\n",
    "HAVING MAX_FLOWIN > 3000.0\n",
    "ORDER BY YR DESC, MO LIMIT 5"
   ]
  },
  {
   "cell_type": "markdown",
   "metadata": {},
   "source": [
    "## EXAMPLE VIEW"
   ]
  },
  {
   "cell_type": "code",
   "execution_count": 55,
   "metadata": {},
   "outputs": [
    {
     "name": "stdout",
     "output_type": "stream",
     "text": [
      "   sqlite://\n",
      " * sqlite:///demo.db3\n",
      "Done.\n"
     ]
    },
    {
     "data": {
      "text/html": [
       "<table>\n",
       "    <thead>\n",
       "        <tr>\n",
       "            <th>RCH</th>\n",
       "            <th>YR</th>\n",
       "            <th>MO</th>\n",
       "            <th>FLOW_INcms</th>\n",
       "            <th>FLOW_OUTcms</th>\n",
       "            <th>EVAPcms</th>\n",
       "            <th>TLOSScms</th>\n",
       "            <th>SED_INtons</th>\n",
       "            <th>SED_OUTtons</th>\n",
       "            <th>SEDCONCmg_kg</th>\n",
       "            <th>ORGN_INkg</th>\n",
       "            <th>ORGN_OUTkg</th>\n",
       "            <th>ORGP_INkg</th>\n",
       "            <th>ORGP_OUTkg</th>\n",
       "            <th>NO3_INkg</th>\n",
       "            <th>NO3_OUTkg</th>\n",
       "            <th>NH4_INkg</th>\n",
       "            <th>NH4_OUTkg</th>\n",
       "            <th>NO2_INkg</th>\n",
       "            <th>NO2_OUTkg</th>\n",
       "            <th>MINP_INkg</th>\n",
       "            <th>MINP_OUTkg</th>\n",
       "            <th>CHLA_INkg</th>\n",
       "            <th>CHLA_OUTkg</th>\n",
       "            <th>CBOD_INkg</th>\n",
       "            <th>CBOD_OUTkg</th>\n",
       "            <th>DISOX_INkg</th>\n",
       "            <th>DISOX_OUTkg</th>\n",
       "            <th>SOLPST_INmg</th>\n",
       "            <th>SOLPST_OUTmg</th>\n",
       "            <th>SORPST_INmg</th>\n",
       "            <th>SORPST_OUTmg</th>\n",
       "            <th>REACTPSTmg</th>\n",
       "            <th>VOLPSTmg</th>\n",
       "            <th>SETTLPSTmg</th>\n",
       "            <th>RESUSP_PSTmg</th>\n",
       "            <th>DIFFUSEPSTmg</th>\n",
       "            <th>REACBEDPSTmg</th>\n",
       "            <th>BURYPSTmg</th>\n",
       "            <th>BED_PSTmg</th>\n",
       "            <th>BACTP_OUTct</th>\n",
       "            <th>BACTLP_OUTct</th>\n",
       "            <th>CMETAL_1kg</th>\n",
       "            <th>CMETAL_2kg</th>\n",
       "            <th>CMETAL_3kg</th>\n",
       "            <th>TOT_Nkg</th>\n",
       "            <th>TOT_Pkg</th>\n",
       "            <th>NO3ConcMg_l</th>\n",
       "            <th>WTMPdegc</th>\n",
       "        </tr>\n",
       "    </thead>\n",
       "    <tbody>\n",
       "        <tr>\n",
       "            <td>1</td>\n",
       "            <td>1981</td>\n",
       "            <td>1</td>\n",
       "            <td>146.34376525878906</td>\n",
       "            <td>146.2524871826172</td>\n",
       "            <td>0.09128088504076004</td>\n",
       "            <td>0.0</td>\n",
       "            <td>2.3320461650655488e-07</td>\n",
       "            <td>61619.46484375</td>\n",
       "            <td>155.3719024658203</td>\n",
       "            <td>0.016086287796497345</td>\n",
       "            <td>0.0</td>\n",
       "            <td>0.04825887829065323</td>\n",
       "            <td>0.0</td>\n",
       "            <td>362.0486755371094</td>\n",
       "            <td>361.8135070800781</td>\n",
       "            <td>203.620849609375</td>\n",
       "            <td>421.18377685546875</td>\n",
       "            <td>0.0</td>\n",
       "            <td>23.0184326171875</td>\n",
       "            <td>0.016107244417071342</td>\n",
       "            <td>0.0</td>\n",
       "            <td>1.1839052307949238e-11</td>\n",
       "            <td>0.0</td>\n",
       "            <td>0.0</td>\n",
       "            <td>0.0</td>\n",
       "            <td>5627225.0</td>\n",
       "            <td>5623486.5</td>\n",
       "            <td>0.0</td>\n",
       "            <td>0.0</td>\n",
       "            <td>0.0</td>\n",
       "            <td>0.0</td>\n",
       "            <td>0.0</td>\n",
       "            <td>0.0</td>\n",
       "            <td>0.0</td>\n",
       "            <td>0.0</td>\n",
       "            <td>0.0</td>\n",
       "            <td>0.0</td>\n",
       "            <td>0.0</td>\n",
       "            <td>0.0</td>\n",
       "            <td>0.0</td>\n",
       "            <td>0.0</td>\n",
       "            <td>0.0</td>\n",
       "            <td>0.0</td>\n",
       "            <td>0.0</td>\n",
       "            <td>806.0157470703125</td>\n",
       "            <td>0.0</td>\n",
       "            <td>0.0</td>\n",
       "            <td>0.0</td>\n",
       "        </tr>\n",
       "        <tr>\n",
       "            <td>2</td>\n",
       "            <td>1981</td>\n",
       "            <td>1</td>\n",
       "            <td>96.22569274902344</td>\n",
       "            <td>96.18285369873047</td>\n",
       "            <td>0.042821284383535385</td>\n",
       "            <td>0.0</td>\n",
       "            <td>1.6426764659627224e-07</td>\n",
       "            <td>0.0</td>\n",
       "            <td>0.0</td>\n",
       "            <td>0.01363153662532568</td>\n",
       "            <td>0.0</td>\n",
       "            <td>0.04089462012052536</td>\n",
       "            <td>0.0</td>\n",
       "            <td>315.60052490234375</td>\n",
       "            <td>315.4579772949219</td>\n",
       "            <td>0.0</td>\n",
       "            <td>127.00502014160156</td>\n",
       "            <td>0.0</td>\n",
       "            <td>0.0</td>\n",
       "            <td>0.013656049966812134</td>\n",
       "            <td>0.0</td>\n",
       "            <td>4.136972177163251e-16</td>\n",
       "            <td>0.0</td>\n",
       "            <td>0.0</td>\n",
       "            <td>0.0</td>\n",
       "            <td>3757606.5</td>\n",
       "            <td>3698301.5</td>\n",
       "            <td>0.0</td>\n",
       "            <td>0.0</td>\n",
       "            <td>0.0</td>\n",
       "            <td>0.0</td>\n",
       "            <td>0.0</td>\n",
       "            <td>0.0</td>\n",
       "            <td>0.0</td>\n",
       "            <td>0.0</td>\n",
       "            <td>0.0</td>\n",
       "            <td>0.0</td>\n",
       "            <td>0.0</td>\n",
       "            <td>0.0</td>\n",
       "            <td>0.0</td>\n",
       "            <td>0.0</td>\n",
       "            <td>0.0</td>\n",
       "            <td>0.0</td>\n",
       "            <td>0.0</td>\n",
       "            <td>442.4630126953125</td>\n",
       "            <td>0.0</td>\n",
       "            <td>0.0</td>\n",
       "            <td>0.0</td>\n",
       "        </tr>\n",
       "        <tr>\n",
       "            <td>3</td>\n",
       "            <td>1981</td>\n",
       "            <td>1</td>\n",
       "            <td>11.952718734741211</td>\n",
       "            <td>11.861368179321289</td>\n",
       "            <td>0.09135182946920395</td>\n",
       "            <td>0.0</td>\n",
       "            <td>2.0325823868461157e-07</td>\n",
       "            <td>2.0325823868461157e-07</td>\n",
       "            <td>6.595060941805286e-09</td>\n",
       "            <td>0.01146628800779581</td>\n",
       "            <td>0.0</td>\n",
       "            <td>0.03439886122941971</td>\n",
       "            <td>0.009118038229644299</td>\n",
       "            <td>48.2963752746582</td>\n",
       "            <td>47.93150329589844</td>\n",
       "            <td>0.0</td>\n",
       "            <td>62.467620849609375</td>\n",
       "            <td>0.0</td>\n",
       "            <td>0.0</td>\n",
       "            <td>0.011485105380415916</td>\n",
       "            <td>0.0</td>\n",
       "            <td>5.941028783295818e-14</td>\n",
       "            <td>0.0</td>\n",
       "            <td>0.0</td>\n",
       "            <td>0.0</td>\n",
       "            <td>360979.90625</td>\n",
       "            <td>456115.90625</td>\n",
       "            <td>0.0</td>\n",
       "            <td>0.0</td>\n",
       "            <td>0.0</td>\n",
       "            <td>0.0</td>\n",
       "            <td>0.0</td>\n",
       "            <td>0.0</td>\n",
       "            <td>0.0</td>\n",
       "            <td>0.0</td>\n",
       "            <td>0.0</td>\n",
       "            <td>0.0</td>\n",
       "            <td>0.0</td>\n",
       "            <td>0.0</td>\n",
       "            <td>0.0</td>\n",
       "            <td>0.0</td>\n",
       "            <td>0.0</td>\n",
       "            <td>0.0</td>\n",
       "            <td>0.0</td>\n",
       "            <td>110.39912414550781</td>\n",
       "            <td>0.009118038229644299</td>\n",
       "            <td>0.0</td>\n",
       "            <td>0.0</td>\n",
       "        </tr>\n",
       "    </tbody>\n",
       "</table>"
      ],
      "text/plain": [
       "[(1, 1981, 1, 146.34376525878906, 146.2524871826172, 0.09128088504076004, 0.0, 2.3320461650655488e-07, 61619.46484375, 155.3719024658203, 0.016086287796497345, 0.0, 0.04825887829065323, 0.0, 362.0486755371094, 361.8135070800781, 203.620849609375, 421.18377685546875, 0.0, 23.0184326171875, 0.016107244417071342, 0.0, 1.1839052307949238e-11, 0.0, 0.0, 0.0, 5627225.0, 5623486.5, 0.0, 0.0, 0.0, 0.0, 0.0, 0.0, 0.0, 0.0, 0.0, 0.0, 0.0, 0.0, 0.0, 0.0, 0.0, 0.0, 0.0, 806.0157470703125, 0.0, 0.0, 0.0),\n",
       " (2, 1981, 1, 96.22569274902344, 96.18285369873047, 0.042821284383535385, 0.0, 1.6426764659627224e-07, 0.0, 0.0, 0.01363153662532568, 0.0, 0.04089462012052536, 0.0, 315.60052490234375, 315.4579772949219, 0.0, 127.00502014160156, 0.0, 0.0, 0.013656049966812134, 0.0, 4.136972177163251e-16, 0.0, 0.0, 0.0, 3757606.5, 3698301.5, 0.0, 0.0, 0.0, 0.0, 0.0, 0.0, 0.0, 0.0, 0.0, 0.0, 0.0, 0.0, 0.0, 0.0, 0.0, 0.0, 0.0, 442.4630126953125, 0.0, 0.0, 0.0),\n",
       " (3, 1981, 1, 11.952718734741211, 11.861368179321289, 0.09135182946920395, 0.0, 2.0325823868461157e-07, 2.0325823868461157e-07, 6.595060941805286e-09, 0.01146628800779581, 0.0, 0.03439886122941971, 0.009118038229644299, 48.2963752746582, 47.93150329589844, 0.0, 62.467620849609375, 0.0, 0.0, 0.011485105380415916, 0.0, 5.941028783295818e-14, 0.0, 0.0, 0.0, 360979.90625, 456115.90625, 0.0, 0.0, 0.0, 0.0, 0.0, 0.0, 0.0, 0.0, 0.0, 0.0, 0.0, 0.0, 0.0, 0.0, 0.0, 0.0, 0.0, 110.39912414550781, 0.009118038229644299, 0.0, 0.0)]"
      ]
     },
     "execution_count": 55,
     "metadata": {},
     "output_type": "execute_result"
    }
   ],
   "source": [
    "%sql SELECT * From rch LIMIT 3"
   ]
  },
  {
   "cell_type": "markdown",
   "metadata": {},
   "source": [
    "## INNER JOIN\n",
    "\n",
    "The INNER JOIN allows us to merge two tables together. But if we are going to merge tables, we need to define a commonality between the two so records from both tables line up. We need to define one or more fields they have in common and join on them.\n",
    "\n",
    "### Check common columns\n",
    "\n",
    "Here we take the tables of ***rch*** and ***sub*** as an example. There are three commom columns of RCH/SUB, YR and MO."
   ]
  },
  {
   "cell_type": "markdown",
   "metadata": {},
   "source": [
    "## EXAMPLE {.smaller}"
   ]
  },
  {
   "cell_type": "code",
   "execution_count": 56,
   "metadata": {},
   "outputs": [
    {
     "name": "stdout",
     "output_type": "stream",
     "text": [
      "   sqlite://\n",
      " * sqlite:///demo.db3\n",
      "Done.\n"
     ]
    },
    {
     "data": {
      "text/html": [
       "<table>\n",
       "    <thead>\n",
       "        <tr>\n",
       "            <th>SUB</th>\n",
       "            <th>YR</th>\n",
       "            <th>MO</th>\n",
       "            <th>PRECIPmm</th>\n",
       "            <th>SNOMELTmm</th>\n",
       "            <th>PETmm</th>\n",
       "            <th>ETmm</th>\n",
       "            <th>SWmm</th>\n",
       "            <th>PERCmm</th>\n",
       "            <th>SURQmm</th>\n",
       "            <th>GW_Qmm</th>\n",
       "            <th>WYLDmm</th>\n",
       "            <th>SYLDt_ha</th>\n",
       "            <th>ORGNkg_ha</th>\n",
       "            <th>ORGPkg_ha</th>\n",
       "            <th>NSURQkg_ha</th>\n",
       "            <th>SOLPkg_ha</th>\n",
       "            <th>SEDPkg_ha</th>\n",
       "            <th>LAT_Q_mm</th>\n",
       "            <th>LATNO3kg_h</th>\n",
       "            <th>GWNO3kg_ha</th>\n",
       "            <th>CHOLAmic_L</th>\n",
       "            <th>CBODU_mg_L</th>\n",
       "            <th>DOXQ_mg_L</th>\n",
       "            <th>TNO3kg_ha</th>\n",
       "            <th>QTILEmm</th>\n",
       "            <th>TVAPkg_ha</th>\n",
       "        </tr>\n",
       "    </thead>\n",
       "    <tbody>\n",
       "        <tr>\n",
       "            <td>1</td>\n",
       "            <td>1981</td>\n",
       "            <td>1</td>\n",
       "            <td>35.60198974609375</td>\n",
       "            <td>0.0</td>\n",
       "            <td>3.7207436561584473</td>\n",
       "            <td>0.24964235723018646</td>\n",
       "            <td>10.79859447479248</td>\n",
       "            <td>0.0</td>\n",
       "            <td>2.3795111701474525e-05</td>\n",
       "            <td>0.05372961238026619</td>\n",
       "            <td>0.2988955080509186</td>\n",
       "            <td>3.4497936191729694e-13</td>\n",
       "            <td>2.37964208338326e-08</td>\n",
       "            <td>2.37964208338326e-08</td>\n",
       "            <td>2.37964208338326e-08</td>\n",
       "            <td>2.37964208338326e-08</td>\n",
       "            <td>4.75928416676652e-08</td>\n",
       "            <td>0.0078118653036653996</td>\n",
       "            <td>0.0</td>\n",
       "            <td>1.5622873661413905e-07</td>\n",
       "            <td>0.0</td>\n",
       "            <td>0.0</td>\n",
       "            <td>0.0</td>\n",
       "            <td>0.0</td>\n",
       "            <td>0.0</td>\n",
       "            <td>0.0</td>\n",
       "        </tr>\n",
       "        <tr>\n",
       "            <td>2</td>\n",
       "            <td>1981</td>\n",
       "            <td>1</td>\n",
       "            <td>108.60607147216797</td>\n",
       "            <td>0.0</td>\n",
       "            <td>3.4504077434539795</td>\n",
       "            <td>0.45720556378364563</td>\n",
       "            <td>56.32500457763672</td>\n",
       "            <td>0.0</td>\n",
       "            <td>1.7237898646271788e-05</td>\n",
       "            <td>28.572050094604492</td>\n",
       "            <td>32.59342956542969</td>\n",
       "            <td>2.077378118700915e-13</td>\n",
       "            <td>1.7238855676282583e-08</td>\n",
       "            <td>1.7238855676282583e-08</td>\n",
       "            <td>1.7238855676282583e-08</td>\n",
       "            <td>1.7238855676282583e-08</td>\n",
       "            <td>3.4477711352565166e-08</td>\n",
       "            <td>0.03393149375915527</td>\n",
       "            <td>1.6220961697399616e-05</td>\n",
       "            <td>0.00038287980714812875</td>\n",
       "            <td>0.0</td>\n",
       "            <td>0.0</td>\n",
       "            <td>0.0</td>\n",
       "            <td>0.0</td>\n",
       "            <td>0.0</td>\n",
       "            <td>0.0</td>\n",
       "        </tr>\n",
       "        <tr>\n",
       "            <td>3</td>\n",
       "            <td>1981</td>\n",
       "            <td>1</td>\n",
       "            <td>149.30836486816406</td>\n",
       "            <td>0.0</td>\n",
       "            <td>10.566324234008789</td>\n",
       "            <td>6.027106285095215</td>\n",
       "            <td>71.0020980834961</td>\n",
       "            <td>0.0</td>\n",
       "            <td>2.4236529498011805e-05</td>\n",
       "            <td>3.9627554416656494</td>\n",
       "            <td>5.274456977844238</td>\n",
       "            <td>3.348758173971761e-13</td>\n",
       "            <td>1.8891142872234923e-08</td>\n",
       "            <td>1.8891142872234923e-08</td>\n",
       "            <td>1.8891142872234923e-08</td>\n",
       "            <td>1.8891142872234923e-08</td>\n",
       "            <td>3.7782285744469846e-08</td>\n",
       "            <td>0.00791492685675621</td>\n",
       "            <td>3.7224147035885835e-06</td>\n",
       "            <td>7.582882244605571e-05</td>\n",
       "            <td>0.0</td>\n",
       "            <td>0.0</td>\n",
       "            <td>0.0</td>\n",
       "            <td>0.0</td>\n",
       "            <td>0.0</td>\n",
       "            <td>0.0</td>\n",
       "        </tr>\n",
       "    </tbody>\n",
       "</table>"
      ],
      "text/plain": [
       "[(1, 1981, 1, 35.60198974609375, 0.0, 3.7207436561584473, 0.24964235723018646, 10.79859447479248, 0.0, 2.3795111701474525e-05, 0.05372961238026619, 0.2988955080509186, 3.4497936191729694e-13, 2.37964208338326e-08, 2.37964208338326e-08, 2.37964208338326e-08, 2.37964208338326e-08, 4.75928416676652e-08, 0.0078118653036653996, 0.0, 1.5622873661413905e-07, 0.0, 0.0, 0.0, 0.0, 0.0, 0.0),\n",
       " (2, 1981, 1, 108.60607147216797, 0.0, 3.4504077434539795, 0.45720556378364563, 56.32500457763672, 0.0, 1.7237898646271788e-05, 28.572050094604492, 32.59342956542969, 2.077378118700915e-13, 1.7238855676282583e-08, 1.7238855676282583e-08, 1.7238855676282583e-08, 1.7238855676282583e-08, 3.4477711352565166e-08, 0.03393149375915527, 1.6220961697399616e-05, 0.00038287980714812875, 0.0, 0.0, 0.0, 0.0, 0.0, 0.0),\n",
       " (3, 1981, 1, 149.30836486816406, 0.0, 10.566324234008789, 6.027106285095215, 71.0020980834961, 0.0, 2.4236529498011805e-05, 3.9627554416656494, 5.274456977844238, 3.348758173971761e-13, 1.8891142872234923e-08, 1.8891142872234923e-08, 1.8891142872234923e-08, 1.8891142872234923e-08, 3.7782285744469846e-08, 0.00791492685675621, 3.7224147035885835e-06, 7.582882244605571e-05, 0.0, 0.0, 0.0, 0.0, 0.0, 0.0)]"
      ]
     },
     "execution_count": 56,
     "metadata": {},
     "output_type": "execute_result"
    }
   ],
   "source": [
    "%sql SELECT * From sub LIMIT 3"
   ]
  },
  {
   "cell_type": "markdown",
   "metadata": {},
   "source": [
    "## Make an inner join\n",
    "\n",
    "The syntax for the INNER JOIN in SQLite is:\n",
    ">SELECT columns<br>\n",
    ">FROM table1<br> \n",
    ">INNER JOIN table2<br>\n",
    ">ON table1.column = table2.column;\n",
    "\n",
    "Join on RCH/SUB, YR and MO. \n",
    "\n",
    "***Note***: When SELECTing the common columns, have to clearly asign a table'name. If column names or table names are too long, we can use aliases to give them short names."
   ]
  },
  {
   "cell_type": "markdown",
   "metadata": {},
   "source": [
    "## EXAMPLE {.smaller}"
   ]
  },
  {
   "cell_type": "code",
   "execution_count": 57,
   "metadata": {},
   "outputs": [
    {
     "name": "stdout",
     "output_type": "stream",
     "text": [
      "   sqlite://\n",
      " * sqlite:///demo.db3\n",
      "Done.\n"
     ]
    },
    {
     "data": {
      "text/html": [
       "<table>\n",
       "    <thead>\n",
       "        <tr>\n",
       "            <th>RCH</th>\n",
       "            <th>YR</th>\n",
       "            <th>MO</th>\n",
       "            <th>FLOW_INcms</th>\n",
       "            <th>FLOW_OUTcms</th>\n",
       "            <th>PRECIPmm</th>\n",
       "            <th>PETmm</th>\n",
       "        </tr>\n",
       "    </thead>\n",
       "    <tbody>\n",
       "        <tr>\n",
       "            <td>1</td>\n",
       "            <td>1981</td>\n",
       "            <td>1</td>\n",
       "            <td>146.34376525878906</td>\n",
       "            <td>146.2524871826172</td>\n",
       "            <td>35.60198974609375</td>\n",
       "            <td>3.7207436561584473</td>\n",
       "        </tr>\n",
       "        <tr>\n",
       "            <td>2</td>\n",
       "            <td>1981</td>\n",
       "            <td>1</td>\n",
       "            <td>96.22569274902344</td>\n",
       "            <td>96.18285369873047</td>\n",
       "            <td>108.60607147216797</td>\n",
       "            <td>3.4504077434539795</td>\n",
       "        </tr>\n",
       "        <tr>\n",
       "            <td>3</td>\n",
       "            <td>1981</td>\n",
       "            <td>1</td>\n",
       "            <td>11.952718734741211</td>\n",
       "            <td>11.861368179321289</td>\n",
       "            <td>149.30836486816406</td>\n",
       "            <td>10.566324234008789</td>\n",
       "        </tr>\n",
       "        <tr>\n",
       "            <td>4</td>\n",
       "            <td>1981</td>\n",
       "            <td>1</td>\n",
       "            <td>49.48649215698242</td>\n",
       "            <td>49.40651321411133</td>\n",
       "            <td>108.60604858398438</td>\n",
       "            <td>10.674993515014648</td>\n",
       "        </tr>\n",
       "        <tr>\n",
       "            <td>5</td>\n",
       "            <td>1981</td>\n",
       "            <td>1</td>\n",
       "            <td>274.0668029785156</td>\n",
       "            <td>272.10601806640625</td>\n",
       "            <td>201.311279296875</td>\n",
       "            <td>27.179243087768555</td>\n",
       "        </tr>\n",
       "    </tbody>\n",
       "</table>"
      ],
      "text/plain": [
       "[(1, 1981, 1, 146.34376525878906, 146.2524871826172, 35.60198974609375, 3.7207436561584473),\n",
       " (2, 1981, 1, 96.22569274902344, 96.18285369873047, 108.60607147216797, 3.4504077434539795),\n",
       " (3, 1981, 1, 11.952718734741211, 11.861368179321289, 149.30836486816406, 10.566324234008789),\n",
       " (4, 1981, 1, 49.48649215698242, 49.40651321411133, 108.60604858398438, 10.674993515014648),\n",
       " (5, 1981, 1, 274.0668029785156, 272.10601806640625, 201.311279296875, 27.179243087768555)]"
      ]
     },
     "execution_count": 57,
     "metadata": {},
     "output_type": "execute_result"
    }
   ],
   "source": [
    "%%sql \n",
    "SELECT RCH, rch.YR, rch.MO, FLOW_INcms, FLOW_OUTcms, PRECIPmm, PETmm\n",
    "FROM rch INNER JOIN sub\n",
    "ON rch.RCH = sub.SUB and rch.YR=sub.YR and rch.MO=sub.MO\n",
    "LIMIT 5"
   ]
  },
  {
   "cell_type": "markdown",
   "metadata": {},
   "source": [
    "## LEFT JOIN\n",
    "\n",
    "Similar to the INNER JOIN clause, the LEFT JOIN clause is an optional clause of the SELECT statement. You use the LEFT JOIN clause to query data from multiple correlated tables. This type of join returns all rows from the LEFT-hand table specified in the ON condition and only those rows from the other table where the joined fields are equal (join condition is met).\n",
    "\n",
    "The syntax for the SQLite LEFT OUTER JOIN is:\n",
    ">SELECT columns<br>\n",
    ">FROM table1<br>\n",
    ">LEFT [OUTER] JOIN table2<br>\n",
    ">ON table1.column = table2.column;"
   ]
  },
  {
   "cell_type": "markdown",
   "metadata": {},
   "source": [
    "## EXAMPLE {.smaller}"
   ]
  },
  {
   "cell_type": "code",
   "execution_count": 58,
   "metadata": {},
   "outputs": [
    {
     "name": "stdout",
     "output_type": "stream",
     "text": [
      "   sqlite://\n",
      " * sqlite:///demo.db3\n",
      "Done.\n"
     ]
    },
    {
     "data": {
      "text/html": [
       "<table>\n",
       "    <thead>\n",
       "        <tr>\n",
       "            <th>RCH</th>\n",
       "            <th>YR</th>\n",
       "            <th>MO</th>\n",
       "            <th>FLOW_INcms</th>\n",
       "            <th>FLOW_OUTcms</th>\n",
       "            <th>PRECIPmm</th>\n",
       "            <th>PETmm</th>\n",
       "        </tr>\n",
       "    </thead>\n",
       "    <tbody>\n",
       "        <tr>\n",
       "            <td>1</td>\n",
       "            <td>1981</td>\n",
       "            <td>1</td>\n",
       "            <td>146.34376525878906</td>\n",
       "            <td>146.2524871826172</td>\n",
       "            <td>35.60198974609375</td>\n",
       "            <td>3.7207436561584473</td>\n",
       "        </tr>\n",
       "        <tr>\n",
       "            <td>2</td>\n",
       "            <td>1981</td>\n",
       "            <td>1</td>\n",
       "            <td>96.22569274902344</td>\n",
       "            <td>96.18285369873047</td>\n",
       "            <td>108.60607147216797</td>\n",
       "            <td>3.4504077434539795</td>\n",
       "        </tr>\n",
       "        <tr>\n",
       "            <td>3</td>\n",
       "            <td>1981</td>\n",
       "            <td>1</td>\n",
       "            <td>11.952718734741211</td>\n",
       "            <td>11.861368179321289</td>\n",
       "            <td>149.30836486816406</td>\n",
       "            <td>10.566324234008789</td>\n",
       "        </tr>\n",
       "        <tr>\n",
       "            <td>4</td>\n",
       "            <td>1981</td>\n",
       "            <td>1</td>\n",
       "            <td>49.48649215698242</td>\n",
       "            <td>49.40651321411133</td>\n",
       "            <td>108.60604858398438</td>\n",
       "            <td>10.674993515014648</td>\n",
       "        </tr>\n",
       "        <tr>\n",
       "            <td>5</td>\n",
       "            <td>1981</td>\n",
       "            <td>1</td>\n",
       "            <td>274.0668029785156</td>\n",
       "            <td>272.10601806640625</td>\n",
       "            <td>201.311279296875</td>\n",
       "            <td>27.179243087768555</td>\n",
       "        </tr>\n",
       "    </tbody>\n",
       "</table>"
      ],
      "text/plain": [
       "[(1, 1981, 1, 146.34376525878906, 146.2524871826172, 35.60198974609375, 3.7207436561584473),\n",
       " (2, 1981, 1, 96.22569274902344, 96.18285369873047, 108.60607147216797, 3.4504077434539795),\n",
       " (3, 1981, 1, 11.952718734741211, 11.861368179321289, 149.30836486816406, 10.566324234008789),\n",
       " (4, 1981, 1, 49.48649215698242, 49.40651321411133, 108.60604858398438, 10.674993515014648),\n",
       " (5, 1981, 1, 274.0668029785156, 272.10601806640625, 201.311279296875, 27.179243087768555)]"
      ]
     },
     "execution_count": 58,
     "metadata": {},
     "output_type": "execute_result"
    }
   ],
   "source": [
    "%%sql \n",
    "SELECT RCH, rch.YR, rch.MO, FLOW_INcms, FLOW_OUTcms, PRECIPmm, PETmm\n",
    "FROM rch LEFT JOIN sub\n",
    "ON rch.RCH = sub.SUB and rch.YR=sub.YR and rch.MO=sub.MO\n",
    "LIMIT 5"
   ]
  },
  {
   "cell_type": "markdown",
   "metadata": {},
   "source": [
    "## CROSS JOIN\n",
    "\n",
    "Another type of join is called a SQLite CROSS JOIN. This type of join returns a combined result set with every row from the first table matched with every row from the second table. This is also called a Cartesian Product.\n",
    "\n",
    "The syntax for the SQLite CROSS JOIN is:\n",
    ">SELECT columns<br>\n",
    ">FROM table1<br>\n",
    ">CROSS JOIN table2;"
   ]
  },
  {
   "cell_type": "markdown",
   "metadata": {},
   "source": [
    "## EXAMPLE {.smaller}"
   ]
  },
  {
   "cell_type": "code",
   "execution_count": 59,
   "metadata": {},
   "outputs": [
    {
     "name": "stdout",
     "output_type": "stream",
     "text": [
      "   sqlite://\n",
      " * sqlite:///demo.db3\n",
      "Done.\n"
     ]
    },
    {
     "data": {
      "text/html": [
       "<table>\n",
       "    <thead>\n",
       "        <tr>\n",
       "            <th>RCH</th>\n",
       "            <th>YR</th>\n",
       "            <th>MO</th>\n",
       "            <th>FLOW_INcms</th>\n",
       "            <th>FLOW_OUTcms</th>\n",
       "            <th>PRECIPmm</th>\n",
       "            <th>PETmm</th>\n",
       "        </tr>\n",
       "    </thead>\n",
       "    <tbody>\n",
       "        <tr>\n",
       "            <td>1</td>\n",
       "            <td>1981</td>\n",
       "            <td>1</td>\n",
       "            <td>146.34376525878906</td>\n",
       "            <td>146.2524871826172</td>\n",
       "            <td>35.60198974609375</td>\n",
       "            <td>3.7207436561584473</td>\n",
       "        </tr>\n",
       "        <tr>\n",
       "            <td>1</td>\n",
       "            <td>1981</td>\n",
       "            <td>1</td>\n",
       "            <td>146.34376525878906</td>\n",
       "            <td>146.2524871826172</td>\n",
       "            <td>108.60607147216797</td>\n",
       "            <td>3.4504077434539795</td>\n",
       "        </tr>\n",
       "        <tr>\n",
       "            <td>1</td>\n",
       "            <td>1981</td>\n",
       "            <td>1</td>\n",
       "            <td>146.34376525878906</td>\n",
       "            <td>146.2524871826172</td>\n",
       "            <td>149.30836486816406</td>\n",
       "            <td>10.566324234008789</td>\n",
       "        </tr>\n",
       "        <tr>\n",
       "            <td>1</td>\n",
       "            <td>1981</td>\n",
       "            <td>1</td>\n",
       "            <td>146.34376525878906</td>\n",
       "            <td>146.2524871826172</td>\n",
       "            <td>108.60604858398438</td>\n",
       "            <td>10.674993515014648</td>\n",
       "        </tr>\n",
       "        <tr>\n",
       "            <td>1</td>\n",
       "            <td>1981</td>\n",
       "            <td>1</td>\n",
       "            <td>146.34376525878906</td>\n",
       "            <td>146.2524871826172</td>\n",
       "            <td>201.311279296875</td>\n",
       "            <td>27.179243087768555</td>\n",
       "        </tr>\n",
       "    </tbody>\n",
       "</table>"
      ],
      "text/plain": [
       "[(1, 1981, 1, 146.34376525878906, 146.2524871826172, 35.60198974609375, 3.7207436561584473),\n",
       " (1, 1981, 1, 146.34376525878906, 146.2524871826172, 108.60607147216797, 3.4504077434539795),\n",
       " (1, 1981, 1, 146.34376525878906, 146.2524871826172, 149.30836486816406, 10.566324234008789),\n",
       " (1, 1981, 1, 146.34376525878906, 146.2524871826172, 108.60604858398438, 10.674993515014648),\n",
       " (1, 1981, 1, 146.34376525878906, 146.2524871826172, 201.311279296875, 27.179243087768555)]"
      ]
     },
     "execution_count": 59,
     "metadata": {},
     "output_type": "execute_result"
    }
   ],
   "source": [
    "%%sql \n",
    "SELECT RCH, rch.YR, rch.MO, FLOW_INcms, FLOW_OUTcms, PRECIPmm, PETmm\n",
    "FROM rch\n",
    "CROSS JOIN sub\n",
    "LIMIT 5"
   ]
  },
  {
   "cell_type": "markdown",
   "metadata": {},
   "source": [
    "## Querying Multiple Tables Using JOIN\n",
    "\n",
    "We can use the following syntax to join multiple tables:\n",
    "```SQL\n",
    "SELECT columns\n",
    "FROM table1\n",
    "INNER JOIN table2 ON table1.column = table2.column\n",
    "INNER JOIN table3 ON table1.column = table3.column\n",
    "INNER JOIN tablen ON table1.column = tablen.column;\n",
    "```\n",
    " "
   ]
  },
  {
   "cell_type": "markdown",
   "metadata": {},
   "source": [
    "## Calculate Seasonal Runoff\n",
    "\n",
    "There are two key steps:  \n",
    "1. use the CASE and Subquery to convert months to named seasons;<br>\n",
    "2. calculate seasonal mean with aggregate functions on groups.\n",
    "\n",
    "In addition, we also use another filter keyword of ***BETWEEN*** to span months into seasons."
   ]
  },
  {
   "cell_type": "markdown",
   "metadata": {},
   "source": [
    "## EXAMPLE {.smaller}"
   ]
  },
  {
   "cell_type": "code",
   "execution_count": 61,
   "metadata": {},
   "outputs": [
    {
     "name": "stdout",
     "output_type": "stream",
     "text": [
      "   sqlite://\n",
      " * sqlite:///demo.db3\n",
      "Done.\n"
     ]
    },
    {
     "data": {
      "text/html": [
       "<table>\n",
       "    <thead>\n",
       "        <tr>\n",
       "            <th>RCH</th>\n",
       "            <th>Quarter</th>\n",
       "            <th>Runoff</th>\n",
       "        </tr>\n",
       "    </thead>\n",
       "    <tbody>\n",
       "        <tr>\n",
       "            <td>1</td>\n",
       "            <td>DJF</td>\n",
       "            <td>99.20499053531223</td>\n",
       "        </tr>\n",
       "        <tr>\n",
       "            <td>1</td>\n",
       "            <td>JJA</td>\n",
       "            <td>1405.262297990587</td>\n",
       "        </tr>\n",
       "        <tr>\n",
       "            <td>1</td>\n",
       "            <td>MAM</td>\n",
       "            <td>559.7469320191277</td>\n",
       "        </tr>\n",
       "        <tr>\n",
       "            <td>1</td>\n",
       "            <td>SON</td>\n",
       "            <td>454.73798531426326</td>\n",
       "        </tr>\n",
       "        <tr>\n",
       "            <td>2</td>\n",
       "            <td>DJF</td>\n",
       "            <td>56.328539085388186</td>\n",
       "        </tr>\n",
       "    </tbody>\n",
       "</table>"
      ],
      "text/plain": [
       "[(1, 'DJF', 99.20499053531223),\n",
       " (1, 'JJA', 1405.262297990587),\n",
       " (1, 'MAM', 559.7469320191277),\n",
       " (1, 'SON', 454.73798531426326),\n",
       " (2, 'DJF', 56.328539085388186)]"
      ]
     },
     "execution_count": 61,
     "metadata": {},
     "output_type": "execute_result"
    }
   ],
   "source": [
    "%%sql \n",
    "SELECT RCH, Quarter, AVG(FLOW_OUTcms) as Runoff\n",
    "FROM(\n",
    "SELECT RCH, YR, \n",
    "CASE \n",
    "    WHEN (MO) BETWEEN 3 AND 5 THEN 'MAM'   \n",
    "    WHEN (MO) BETWEEN 6 and 8 THEN 'JJA'\n",
    "    WHEN (MO) BETWEEN 9 and 11 THEN 'SON'\n",
    "    ELSE 'DJF' \n",
    "END Quarter,\n",
    "FLOW_OUTcms\n",
    "from rch)\n",
    "GROUP BY RCH, Quarter LIMIT 5"
   ]
  },
  {
   "cell_type": "markdown",
   "metadata": {},
   "source": [
    "## Using Views to Simplify Queries\n",
    "\n",
    "SQLite views are created using the CREATE VIEW statement. SQLite views can be created from a single table, multiple tables, or another view. Following is the basic [CREATE VIEW syntax](http://www.sqlitetutorial.net/sqlite-create-view/):\n",
    ">CREATE [TEMP | TEMPORARY] VIEW view_name AS<br>\n",
    ">SELECT column1, column2.....<br>\n",
    ">FROM table_name<br>\n",
    ">WHERE [condition];\n",
    "\n",
    "- SQLite view is read only. It means you cannot use INSERT, DELETE, and UPDATE statement to update data in the base tables through the view."
   ]
  },
  {
   "cell_type": "markdown",
   "metadata": {},
   "source": [
    "## Simplifying queries with views {.smaller}\n",
    "\n",
    "In the previous notebook, we used CASE and Subquery to calculate seasonal runoff from the table of rch. Here we use a view to simplify the calculation."
   ]
  },
  {
   "cell_type": "code",
   "execution_count": 62,
   "metadata": {},
   "outputs": [
    {
     "name": "stdout",
     "output_type": "stream",
     "text": [
      "   sqlite://\n",
      " * sqlite:///demo.db3\n",
      "Done.\n"
     ]
    },
    {
     "data": {
      "text/html": [
       "<table>\n",
       "    <thead>\n",
       "        <tr>\n",
       "            <th>RCH</th>\n",
       "            <th>Quarter</th>\n",
       "            <th>Runoff</th>\n",
       "        </tr>\n",
       "    </thead>\n",
       "    <tbody>\n",
       "        <tr>\n",
       "            <td>1</td>\n",
       "            <td>DJF</td>\n",
       "            <td>99.20499053531223</td>\n",
       "        </tr>\n",
       "        <tr>\n",
       "            <td>1</td>\n",
       "            <td>JJA</td>\n",
       "            <td>1405.262297990587</td>\n",
       "        </tr>\n",
       "        <tr>\n",
       "            <td>1</td>\n",
       "            <td>MAM</td>\n",
       "            <td>559.7469320191277</td>\n",
       "        </tr>\n",
       "        <tr>\n",
       "            <td>1</td>\n",
       "            <td>SON</td>\n",
       "            <td>454.73798531426326</td>\n",
       "        </tr>\n",
       "        <tr>\n",
       "            <td>2</td>\n",
       "            <td>DJF</td>\n",
       "            <td>56.328539085388186</td>\n",
       "        </tr>\n",
       "    </tbody>\n",
       "</table>"
      ],
      "text/plain": [
       "[(1, 'DJF', 99.20499053531223),\n",
       " (1, 'JJA', 1405.262297990587),\n",
       " (1, 'MAM', 559.7469320191277),\n",
       " (1, 'SON', 454.73798531426326),\n",
       " (2, 'DJF', 56.328539085388186)]"
      ]
     },
     "execution_count": 62,
     "metadata": {},
     "output_type": "execute_result"
    }
   ],
   "source": [
    "%%sql \n",
    "SELECT RCH, Quarter, AVG(FLOW_OUTcms) as Runoff\n",
    "FROM(\n",
    "SELECT RCH, YR, \n",
    "CASE \n",
    "    WHEN (MO) BETWEEN 3 AND 5 THEN 'MAM'   \n",
    "    WHEN (MO) BETWEEN 6 and 8 THEN 'JJA'\n",
    "    WHEN (MO) BETWEEN 9 and 11 THEN 'SON'\n",
    "    ELSE 'DJF' \n",
    "END Quarter,\n",
    "FLOW_OUTcms\n",
    "from rch)\n",
    "GROUP BY RCH, Quarter\n",
    "LIMIT 5"
   ]
  },
  {
   "cell_type": "markdown",
   "metadata": {},
   "source": [
    "## Creating a view"
   ]
  },
  {
   "cell_type": "code",
   "execution_count": 63,
   "metadata": {},
   "outputs": [
    {
     "name": "stdout",
     "output_type": "stream",
     "text": [
      "   sqlite://\n",
      " * sqlite:///demo.db3\n",
      "Done.\n"
     ]
    },
    {
     "data": {
      "text/plain": [
       "[]"
      ]
     },
     "execution_count": 63,
     "metadata": {},
     "output_type": "execute_result"
    }
   ],
   "source": [
    "%%sql \n",
    "CREATE VIEW RCH_VW AS SELECT RCH, YR, \n",
    "CASE \n",
    "    WHEN (MO) BETWEEN 3 AND 5 THEN 'MAM'   \n",
    "    WHEN (MO) BETWEEN 6 and 8 THEN 'JJA'\n",
    "    WHEN (MO) BETWEEN 9 and 11 THEN 'SON'\n",
    "    ELSE 'DJF' \n",
    "END Quarter,\n",
    "FLOW_OUTcms\n",
    "from rch"
   ]
  },
  {
   "cell_type": "markdown",
   "metadata": {},
   "source": [
    "## SELECT RCH_VW"
   ]
  },
  {
   "cell_type": "code",
   "execution_count": 64,
   "metadata": {},
   "outputs": [
    {
     "name": "stdout",
     "output_type": "stream",
     "text": [
      "   sqlite://\n",
      " * sqlite:///demo.db3\n",
      "Done.\n"
     ]
    },
    {
     "data": {
      "text/html": [
       "<table>\n",
       "    <thead>\n",
       "        <tr>\n",
       "            <th>RCH</th>\n",
       "            <th>YR</th>\n",
       "            <th>Quarter</th>\n",
       "            <th>FLOW_OUTcms</th>\n",
       "        </tr>\n",
       "    </thead>\n",
       "    <tbody>\n",
       "        <tr>\n",
       "            <td>1</td>\n",
       "            <td>1981</td>\n",
       "            <td>DJF</td>\n",
       "            <td>146.2524871826172</td>\n",
       "        </tr>\n",
       "        <tr>\n",
       "            <td>2</td>\n",
       "            <td>1981</td>\n",
       "            <td>DJF</td>\n",
       "            <td>96.18285369873047</td>\n",
       "        </tr>\n",
       "        <tr>\n",
       "            <td>3</td>\n",
       "            <td>1981</td>\n",
       "            <td>DJF</td>\n",
       "            <td>11.861368179321289</td>\n",
       "        </tr>\n",
       "        <tr>\n",
       "            <td>4</td>\n",
       "            <td>1981</td>\n",
       "            <td>DJF</td>\n",
       "            <td>49.40651321411133</td>\n",
       "        </tr>\n",
       "        <tr>\n",
       "            <td>5</td>\n",
       "            <td>1981</td>\n",
       "            <td>DJF</td>\n",
       "            <td>272.10601806640625</td>\n",
       "        </tr>\n",
       "    </tbody>\n",
       "</table>"
      ],
      "text/plain": [
       "[(1, 1981, 'DJF', 146.2524871826172),\n",
       " (2, 1981, 'DJF', 96.18285369873047),\n",
       " (3, 1981, 'DJF', 11.861368179321289),\n",
       " (4, 1981, 'DJF', 49.40651321411133),\n",
       " (5, 1981, 'DJF', 272.10601806640625)]"
      ]
     },
     "execution_count": 64,
     "metadata": {},
     "output_type": "execute_result"
    }
   ],
   "source": [
    "%%sql \n",
    "SELECT * \n",
    "FROM RCH_VW \n",
    "LIMIT 5"
   ]
  },
  {
   "cell_type": "markdown",
   "metadata": {},
   "source": [
    "## Recalculate seasonal runoffs with views\n",
    "\n",
    ":) The codes really really get shorter."
   ]
  },
  {
   "cell_type": "code",
   "execution_count": 65,
   "metadata": {},
   "outputs": [
    {
     "name": "stdout",
     "output_type": "stream",
     "text": [
      "   sqlite://\n",
      " * sqlite:///demo.db3\n",
      "Done.\n"
     ]
    },
    {
     "data": {
      "text/html": [
       "<table>\n",
       "    <thead>\n",
       "        <tr>\n",
       "            <th>RCH</th>\n",
       "            <th>Quarter</th>\n",
       "            <th>Runoff</th>\n",
       "        </tr>\n",
       "    </thead>\n",
       "    <tbody>\n",
       "        <tr>\n",
       "            <td>1</td>\n",
       "            <td>DJF</td>\n",
       "            <td>99.20499053531223</td>\n",
       "        </tr>\n",
       "        <tr>\n",
       "            <td>1</td>\n",
       "            <td>JJA</td>\n",
       "            <td>1405.262297990587</td>\n",
       "        </tr>\n",
       "        <tr>\n",
       "            <td>1</td>\n",
       "            <td>MAM</td>\n",
       "            <td>559.7469320191277</td>\n",
       "        </tr>\n",
       "        <tr>\n",
       "            <td>1</td>\n",
       "            <td>SON</td>\n",
       "            <td>454.73798531426326</td>\n",
       "        </tr>\n",
       "        <tr>\n",
       "            <td>2</td>\n",
       "            <td>DJF</td>\n",
       "            <td>56.328539085388186</td>\n",
       "        </tr>\n",
       "    </tbody>\n",
       "</table>"
      ],
      "text/plain": [
       "[(1, 'DJF', 99.20499053531223),\n",
       " (1, 'JJA', 1405.262297990587),\n",
       " (1, 'MAM', 559.7469320191277),\n",
       " (1, 'SON', 454.73798531426326),\n",
       " (2, 'DJF', 56.328539085388186)]"
      ]
     },
     "execution_count": 65,
     "metadata": {},
     "output_type": "execute_result"
    }
   ],
   "source": [
    "%%sql \n",
    "SELECT RCH, Quarter, AVG(FLOW_OUTcms) as Runoff\n",
    "FROM RCH_VW\n",
    "GROUP BY RCH, Quarter\n",
    "LIMIT 5"
   ]
  },
  {
   "cell_type": "markdown",
   "metadata": {},
   "source": [
    "## Deleting Views\n",
    "\n",
    "It is quite easy to delete views. Just drop it like the following."
   ]
  },
  {
   "cell_type": "code",
   "execution_count": 66,
   "metadata": {
    "scrolled": true
   },
   "outputs": [
    {
     "name": "stdout",
     "output_type": "stream",
     "text": [
      "   sqlite://\n",
      " * sqlite:///demo.db3\n",
      "Done.\n"
     ]
    },
    {
     "data": {
      "text/plain": [
       "[]"
      ]
     },
     "execution_count": 66,
     "metadata": {},
     "output_type": "execute_result"
    }
   ],
   "source": [
    "%sql DROP VIEW RCH_VW"
   ]
  }
 ],
 "metadata": {
  "kernelspec": {
   "display_name": "Python 3 (ipykernel)",
   "language": "python",
   "name": "python3"
  },
  "language_info": {
   "codemirror_mode": {
    "name": "ipython",
    "version": 3
   },
   "file_extension": ".py",
   "mimetype": "text/x-python",
   "name": "python",
   "nbconvert_exporter": "python",
   "pygments_lexer": "ipython3",
   "version": "3.9.13"
  }
 },
 "nbformat": 4,
 "nbformat_minor": 4
}
