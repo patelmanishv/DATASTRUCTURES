{
 "cells": [
  {
   "cell_type": "markdown",
   "id": "93d51259",
   "metadata": {},
   "source": [
    "# File Handling Assignment - 14"
   ]
  },
  {
   "cell_type": "markdown",
   "id": "27e5df7c",
   "metadata": {},
   "source": [
    "1. Write a Python program to read an entire text file. \n",
    "\n",
    "1. Write a Python program to read first n lines of a file. \n",
    "\n",
    "1. Write a Python program to read last n lines of a file. \n",
    "\n",
    "1. Write a Python program to read a file line by line store it into a variable. \n",
    "\n",
    "1. Write a python program to find the longest words. \n",
    "\n",
    "1. Write a Python program to count the frequency of words in a file. \n",
    "\n",
    "1. Write a Python program to write a list to a file. \n",
    "\n",
    "1. Write a Python program to combine each line from first file with the corresponding line in second file. \n",
    "\n",
    "1. Write a Python program to assess if a file is closed or not. \n",
    "\n",
    "1. Write a Python program to generate 26 text files named A.txt, B.txt, and so on up to Z.txt. \n",
    "\n",
    "\n"
   ]
  }
 ],
 "metadata": {
  "kernelspec": {
   "display_name": "Python 3 (ipykernel)",
   "language": "python",
   "name": "python3"
  },
  "language_info": {
   "codemirror_mode": {
    "name": "ipython",
    "version": 3
   },
   "file_extension": ".py",
   "mimetype": "text/x-python",
   "name": "python",
   "nbconvert_exporter": "python",
   "pygments_lexer": "ipython3",
   "version": "3.11.2"
  }
 },
 "nbformat": 4,
 "nbformat_minor": 5
}
