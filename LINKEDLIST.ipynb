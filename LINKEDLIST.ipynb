{
 "cells": [
  {
   "cell_type": "raw",
   "id": "ee839e73",
   "metadata": {},
   "source": [
    "---\n",
    "title: \"Implementing Linked List data structure in Python\"\n",
    "format: \n",
    "    revealjs:\n",
    "        slide-number: true\n",
    "        theme: dark\n",
    "        width: 1400\n",
    "        height: 900\n",
    "        highlight-style: vim-dark\n",
    "        center: true\n",
    "        incremental: true\n",
    "        footer: \"Manish Patel\"\n",
    "        progress: true\n",
    "jupyter: python3\n",
    "embed-resources: true\n",
    "execute:\n",
    "  echo: true\n",
    "---"
   ]
  },
  {
   "cell_type": "markdown",
   "id": "63ffb841",
   "metadata": {},
   "source": [
    "# Linked Lists"
   ]
  },
  {
   "cell_type": "markdown",
   "id": "28eb5cf1",
   "metadata": {},
   "source": [
    "## What are Linked Lists?"
   ]
  },
  {
   "cell_type": "markdown",
   "id": "a851cee5",
   "metadata": {},
   "source": [
    "A linked List is a data structure used for storing collections of data. A linked list has the following properties.\n",
    "* Successive elements a reconnected by pointers\n",
    "* The last element points to NULL(__None__ in Python)\n",
    "* Can grow or shrink in size during execution of a program\n",
    "* Can be made just as long as required (until systems memory exhausts)\n",
    "* Does not waste memory space (but takes some extra memory for pointers)"
   ]
  },
  {
   "cell_type": "markdown",
   "id": "1900a1b9",
   "metadata": {},
   "source": [
    "## Properties of Linked Lists: {.smaller}"
   ]
  },
  {
   "cell_type": "markdown",
   "id": "e2b0bf5f",
   "metadata": {},
   "source": [
    "* Linked lists are linear data structures that hold data in individual objects called nodes. These nodes hold both the data and a reference to the next node in the list.\n",
    "* Each node contains a value, and a reference (also known as a pointer) to the next node. The last node, points to a null node. This means the list is at its end.\n",
    "* Linked lists offer some important advantages over other linear data structures. Unlike arrays, they are a dynamic data structure, resizable at run-time. Also, the insertion and deletion operations are efficient and easily implemented.\n",
    "* However, linked lists do have some drawbacks. Unlike arrays, linked lists aren't fast at finding the __n__th item.To find a node at position __n__, you have to start the search at the first node in the linked list, following the path of references  times. Also, because linked lists are inherently sequential in the forward direction, operations like backwards traversal--visiting every node starting from the end and ending in the front--is especially cumbersome. (__Only sequential search possible__)\n",
    "* Additionally, linked lists use more storage than the array due to their property of referencing the next node in the linked list.\n",
    "* Finally, unlike an array whose values are all stored in contiguous memory, a linked list's nodes are at arbitrary, possibly far apart locations in memory."
   ]
  },
  {
   "cell_type": "raw",
   "id": "b2ee619c",
   "metadata": {},
   "source": [
    "---"
   ]
  },
  {
   "cell_type": "code",
   "execution_count": 1,
   "id": "255ddade",
   "metadata": {},
   "outputs": [],
   "source": [
    "# Linked List and Node can be accomodated in separate classes for convenience\n",
    "class Node(object):\n",
    "    # Each node has its data and a pointer that points to next node in the Linked List\n",
    "    def __init__(self, data, next = None):\n",
    "        self.data = data;\n",
    "        self.next = next;\n",
    "        \n",
    "    # function to set data\n",
    "    def setData(self, data):\n",
    "        self.data = data;\n",
    "        \n",
    "    # function to get data of a particular node\n",
    "    def getData(self):\n",
    "        return self.data\n",
    "    \n",
    "    # function to set next node\n",
    "    def setNext(self, next):\n",
    "        self.next = next\n",
    "        \n",
    "    # function to get the next node\n",
    "    def getNext(self):\n",
    "        return self.next\n",
    "    \n",
    "class LinkedList(object):\n",
    "    # Defining the head of the linked list\n",
    "    def __init__(self):\n",
    "        self.head = None\n",
    "        \n",
    "    # printing the data in the linked list\n",
    "    def printLinkedList(self):\n",
    "        temp = self.head\n",
    "        while(temp):\n",
    "            print(temp.data, end=' ')\n",
    "            temp = temp.next\n",
    "            \n",
    "    # inserting the node at the beginning\n",
    "    def insertAtStart(self, data):\n",
    "        newNode = Node(data)\n",
    "        newNode.next = self.head\n",
    "        self.head = newNode\n",
    "        \n",
    "    # inserting the node in between the linked list (after a specific node)\n",
    "    def insertBetween(self, previousNode, data):\n",
    "        if (previousNode.next is None):\n",
    "            print('Previous node should have next node!')\n",
    "        else:\n",
    "            newNode = Node(data)\n",
    "            newNode.next = previousNode.next\n",
    "            previousNode.next = newNode\n",
    "            \n",
    "    # inserting at the end of linked list\n",
    "    def insertAtEnd(self, data):\n",
    "        newNode = Node(data)\n",
    "        temp = self.head\n",
    "        while(temp.next != None):         # get last node\n",
    "            temp = temp.next\n",
    "        temp.next = newNode\n",
    "        \n",
    "    # deleting an item based on data(or key)\n",
    "    def delete(self, data):\n",
    "        temp = self.head\n",
    "        # if data/key is found in head node itself\n",
    "        if (temp.next is not None):\n",
    "            if(temp.data == data):\n",
    "                self.head = temp.next\n",
    "                temp = None\n",
    "                return\n",
    "            else:\n",
    "                #  else search all the nodes\n",
    "                while(temp.next != None):\n",
    "                    if(temp.data == data):\n",
    "                        break\n",
    "                    prev = temp          #save current node as previous so that we can go on to next node\n",
    "                    temp = temp.next\n",
    "                \n",
    "                # node not found\n",
    "                if temp == None:\n",
    "                    return\n",
    "                \n",
    "                prev.next = temp.next\n",
    "                return\n",
    "            \n",
    "    # iterative search\n",
    "    def search(self, node, data):\n",
    "        if node == None:\n",
    "            return False\n",
    "        if node.data == data:\n",
    "            return True\n",
    "        return self.search(node.getNext(), data)\n",
    "            \n"
   ]
  },
  {
   "cell_type": "markdown",
   "id": "0f06ad40",
   "metadata": {},
   "source": [
    "## Create a List object"
   ]
  },
  {
   "cell_type": "code",
   "execution_count": 2,
   "id": "b40fe2ba",
   "metadata": {},
   "outputs": [],
   "source": [
    "List = LinkedList()"
   ]
  },
  {
   "cell_type": "markdown",
   "id": "3f22b143",
   "metadata": {},
   "source": [
    "## CREATE HEAD NODE"
   ]
  },
  {
   "cell_type": "code",
   "execution_count": 3,
   "id": "73654651",
   "metadata": {},
   "outputs": [
    {
     "name": "stdout",
     "output_type": "stream",
     "text": [
      "1 "
     ]
    }
   ],
   "source": [
    "List.head = Node(1)\n",
    "\n",
    "node2 = Node(2)\n",
    "\n",
    "List.printLinkedList()"
   ]
  },
  {
   "cell_type": "markdown",
   "id": "a968dd95",
   "metadata": {},
   "source": [
    "## UPDATE"
   ]
  },
  {
   "cell_type": "code",
   "execution_count": 4,
   "id": "4ff644af",
   "metadata": {},
   "outputs": [
    {
     "name": "stdout",
     "output_type": "stream",
     "text": [
      "1 2 "
     ]
    }
   ],
   "source": [
    "List.head.setNext(node2) \n",
    "List.printLinkedList()"
   ]
  },
  {
   "cell_type": "code",
   "execution_count": 5,
   "id": "567b985c",
   "metadata": {},
   "outputs": [
    {
     "name": "stdout",
     "output_type": "stream",
     "text": [
      "1 2 3 "
     ]
    }
   ],
   "source": [
    "node3 = Node(3)\n",
    "node2.setNext(node3)\n",
    "List.printLinkedList()"
   ]
  },
  {
   "cell_type": "markdown",
   "id": "be2118de",
   "metadata": {},
   "source": [
    "## INSERT"
   ]
  },
  {
   "cell_type": "code",
   "execution_count": 6,
   "id": "55846bad",
   "metadata": {},
   "outputs": [
    {
     "name": "stdout",
     "output_type": "stream",
     "text": [
      "4 1 2 3 "
     ]
    }
   ],
   "source": [
    "List.insertAtStart(4) \n",
    "\n",
    "List.printLinkedList()"
   ]
  },
  {
   "cell_type": "code",
   "execution_count": 7,
   "id": "bb461c33",
   "metadata": {},
   "outputs": [
    {
     "name": "stdout",
     "output_type": "stream",
     "text": [
      "4 1 2 5 3 "
     ]
    }
   ],
   "source": [
    "List.insertBetween(node2, 5)  \n",
    "List.printLinkedList()"
   ]
  },
  {
   "cell_type": "code",
   "execution_count": 8,
   "id": "391274b1",
   "metadata": {},
   "outputs": [
    {
     "name": "stdout",
     "output_type": "stream",
     "text": [
      "4 1 2 5 3 6 "
     ]
    }
   ],
   "source": [
    "List.insertAtEnd(6)\n",
    "List.printLinkedList()"
   ]
  },
  {
   "cell_type": "markdown",
   "id": "f8ba1110",
   "metadata": {},
   "source": [
    "## SEARCH"
   ]
  },
  {
   "cell_type": "code",
   "execution_count": 9,
   "id": "29d8a509",
   "metadata": {},
   "outputs": [
    {
     "name": "stdout",
     "output_type": "stream",
     "text": [
      "True\n"
     ]
    }
   ],
   "source": [
    "print(List.search(List.head, 1))"
   ]
  },
  {
   "cell_type": "markdown",
   "id": "1def9e37",
   "metadata": {},
   "source": [
    "## DELETE "
   ]
  },
  {
   "cell_type": "code",
   "execution_count": 10,
   "id": "cbf392ff",
   "metadata": {},
   "outputs": [
    {
     "name": "stdout",
     "output_type": "stream",
     "text": [
      "4 1 2 5 6 "
     ]
    }
   ],
   "source": [
    "List.delete(3)\n",
    "List.printLinkedList()"
   ]
  }
 ],
 "metadata": {
  "kernelspec": {
   "display_name": "Python 3 (ipykernel)",
   "language": "python",
   "name": "python3"
  },
  "language_info": {
   "codemirror_mode": {
    "name": "ipython",
    "version": 3
   },
   "file_extension": ".py",
   "mimetype": "text/x-python",
   "name": "python",
   "nbconvert_exporter": "python",
   "pygments_lexer": "ipython3",
   "version": "3.11.2"
  }
 },
 "nbformat": 4,
 "nbformat_minor": 5
}
