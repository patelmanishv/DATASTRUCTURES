{
 "cells": [
  {
   "cell_type": "raw",
   "metadata": {},
   "source": [
    "---\n",
    "title: \"Date & Time in Python\"\n",
    "format: \n",
    "    revealjs:\n",
    "        slide-number: true\n",
    "        theme: dark\n",
    "        width: 1400\n",
    "        height: 900\n",
    "        highlight-style: vim-dark\n",
    "        center: true\n",
    "        incremental: true\n",
    "        footer: \"Manish Patel\"\n",
    "        progress: true\n",
    "jupyter: python3\n",
    "embed-resources: true\n",
    "execute:\n",
    "  echo: true\n",
    "---"
   ]
  },
  {
   "cell_type": "markdown",
   "metadata": {},
   "source": [
    "## <font color='red'>What will be Covered?</font>\n",
    "- Times\n",
    "- Dates\n",
    "- timedeltas\n",
    "- Date Arithmetic\n",
    "- Comparing Values\n",
    "- Combining Dates and Times\n",
    "- Formating and Parsing\n",
    "\n",
    "\n",
    "## <font color='red'>What is the `datetime` Module?</font>\n",
    "\n",
    "- The `datetime` module supplies classes to work with date and time. \n",
    "- These classes provide a number of functions to deal with dates, times and time intervals.  \n",
    "- Date and datetime are an object in Python, so when you manipulate them, you are actually manipulating objects and not string or timestamps.\n",
    "\n",
    "\n",
    "## Terms {.smaller}\n",
    "The `datetime` module provides high-level interface classes:\n",
    "\n",
    "- `date`: An idealized date that assumes the Gregorian calendar extends infinitely into the future and past. It stores the year, month, and day as attributes.\n",
    "- `time`: An idealized time that assumes there are 86,400 seconds per day with no leap seconds. This object stores the hour, minute, second, microsecond, and tzinfo (time zone information).\n",
    "- `datetime`: A combination of a date and a time. It has all the attributes of both classes.\n",
    "- `timedelta`: A duration expressing the difference between two date, time, or datetime objects to microsecond resolution.\n",
    "- `tzinfo`: Provides time zone information objects.\n",
    "- `timezone`: A class that implements the `tzinfo` abstract base class as a fixed offset from the UTC.\n",
    "\n",
    "In this presentation, we will focus on the first four classes."
   ]
  },
  {
   "cell_type": "markdown",
   "metadata": {},
   "source": [
    "## IMPORT MODULES"
   ]
  },
  {
   "cell_type": "code",
   "execution_count": 2,
   "metadata": {},
   "outputs": [],
   "source": [
    "import datetime\n",
    "import numpy as np\n",
    "import pandas as pd"
   ]
  },
  {
   "cell_type": "markdown",
   "metadata": {},
   "source": [
    "## <font color='red'>Times</font>"
   ]
  },
  {
   "cell_type": "markdown",
   "metadata": {},
   "source": [
    "Time values are represented with the <B>time</B> class. Times have attributes for hour, minute, second, and microsecond. \n",
    "\n",
    "**SYNTAX**\n",
    "```python\n",
    "datetime.time(hour=0, minute=0, second=0, microsecond=0, tzinfo=None, *, fold=0)\n",
    "```"
   ]
  },
  {
   "cell_type": "markdown",
   "metadata": {},
   "source": [
    "## EXAMPLE"
   ]
  },
  {
   "cell_type": "code",
   "execution_count": 3,
   "metadata": {},
   "outputs": [
    {
     "name": "stdout",
     "output_type": "stream",
     "text": [
      "01:02:03\n",
      "hour  :      1\n",
      "minute:      2\n",
      "second:      3\n",
      "microsecond: 0\n",
      "tzinfo:      None\n"
     ]
    }
   ],
   "source": [
    "t = datetime.time(1, 2, 3)\n",
    "print (t)\n",
    "print ('hour  :     ', t.hour)\n",
    "print ('minute:     ', t.minute)\n",
    "print ('second:     ', t.second)\n",
    "print ('microsecond:', t.microsecond)\n",
    "print ('tzinfo:     ', t.tzinfo)"
   ]
  },
  {
   "cell_type": "markdown",
   "metadata": {},
   "source": [
    "The variable <B>t</B> only holds values of time, and not a date associated with the time.\n",
    "<P>\n"
   ]
  },
  {
   "cell_type": "markdown",
   "metadata": {},
   "source": [
    "## DATETIME RANGE\n",
    "- You can get the valid range of times in a single day:"
   ]
  },
  {
   "cell_type": "code",
   "execution_count": 4,
   "metadata": {},
   "outputs": [
    {
     "name": "stdout",
     "output_type": "stream",
     "text": [
      "Earliest  : 00:00:00\n",
      "Latest    : 23:59:59.999999\n",
      "Resolution: 0:00:00.000001\n"
     ]
    }
   ],
   "source": [
    "print ('Earliest  :', datetime.time.min)\n",
    "print ('Latest    :', datetime.time.max)\n",
    "print ('Resolution:', datetime.time.resolution)"
   ]
  },
  {
   "cell_type": "markdown",
   "metadata": {},
   "source": [
    "Note that the resolution for time is limited to whole microseconds."
   ]
  },
  {
   "cell_type": "markdown",
   "metadata": {},
   "source": [
    "## <font color='red'>Dates</font>"
   ]
  },
  {
   "cell_type": "markdown",
   "metadata": {},
   "source": [
    "Calendar date values are represented with the **date** class.\n",
    "\n",
    "It is easy to create a date representing today’s date using the **today()** class method.\n",
    "\n",
    "**SYNTAX**\n",
    "```python\n",
    "datetime.date(year, month, day)\n",
    "```"
   ]
  },
  {
   "cell_type": "markdown",
   "metadata": {},
   "source": [
    "## Example"
   ]
  },
  {
   "cell_type": "code",
   "execution_count": 5,
   "metadata": {},
   "outputs": [
    {
     "name": "stdout",
     "output_type": "stream",
     "text": [
      "today:   2023-04-01\n",
      "ctime:   Sat Apr  1 00:00:00 2023\n",
      "tuple:   time.struct_time(tm_year=2023, tm_mon=4, tm_mday=1, tm_hour=0, tm_min=0, tm_sec=0, tm_wday=5, tm_yday=91, tm_isdst=-1)\n",
      "ordinal: 738611\n",
      "Year:    2023\n",
      "Mon:     4\n",
      "Day :    1\n"
     ]
    }
   ],
   "source": [
    "today = datetime.date.today()\n",
    "print ('today:  ', today)\n",
    "print ('ctime:  ', today.ctime())\n",
    "print ('tuple:  ', today.timetuple())\n",
    "print ('ordinal:', today.toordinal())\n",
    "print ('Year:   ', today.year)\n",
    "print ('Mon:    ', today.month)\n",
    "print ('Day :   ', today.day)"
   ]
  },
  {
   "cell_type": "markdown",
   "metadata": {},
   "source": [
    "## TIMESTAMPS"
   ]
  },
  {
   "cell_type": "markdown",
   "metadata": {},
   "source": [
    "There are also class methods for creating instances from integers (using proleptic Gregorian ordinal values, which starts counting from Jan. 1 of the year 1) or POSIX timestamp values.\n",
    "\n",
    "The following example illustrates the different value types used by:\n",
    "\n",
    "- `fromordinal()`: Return the date corresponding to the proleptic Gregorian ordinal, where January 1 of year 1 has ordinal 1.\n",
    "- `fromtimestamp()`: Return the local date corresponding to the timestamp."
   ]
  },
  {
   "cell_type": "markdown",
   "metadata": {},
   "source": [
    "## EXAMPLE"
   ]
  },
  {
   "cell_type": "code",
   "execution_count": 6,
   "metadata": {},
   "outputs": [
    {
     "name": "stdout",
     "output_type": "stream",
     "text": [
      "o = 733114 and fromordinal(o) = 2008-03-13:\n",
      "t = 1680367319.1860108 and fromtimestamp(t) = 2023-04-01\n"
     ]
    }
   ],
   "source": [
    "import time\n",
    "\n",
    "o = 733114\n",
    "print ('o = {} and fromordinal(o) = {}:'.format(o, datetime.date.fromordinal(o)))\n",
    "\n",
    "t = time.time()\n",
    "print ('t = {} and fromtimestamp(t) = {}'.format(t, datetime.date.fromtimestamp(t)))"
   ]
  },
  {
   "cell_type": "markdown",
   "metadata": {},
   "source": [
    "## EXAMPLE "
   ]
  },
  {
   "cell_type": "markdown",
   "metadata": {},
   "source": [
    "We can also determine the range of date values:"
   ]
  },
  {
   "cell_type": "code",
   "execution_count": 7,
   "metadata": {},
   "outputs": [
    {
     "name": "stdout",
     "output_type": "stream",
     "text": [
      "Earliest  : 0001-01-01\n",
      "Latest    : 9999-12-31\n",
      "Resolution: 1 day, 0:00:00\n"
     ]
    }
   ],
   "source": [
    "print ('Earliest  :', datetime.date.min)\n",
    "print ('Latest    :', datetime.date.max)\n",
    "print ('Resolution:', datetime.date.resolution)"
   ]
  },
  {
   "cell_type": "markdown",
   "metadata": {},
   "source": [
    "Note too that the resolution for dates is a whole day.\n",
    "<P>\n"
   ]
  },
  {
   "cell_type": "markdown",
   "metadata": {},
   "source": [
    "## REPLACE\n",
    "- Another way to create new date instances uses the <B>replace()</B> method of an existing date. For example, you can change the year, leaving the day and month alone."
   ]
  },
  {
   "cell_type": "code",
   "execution_count": 8,
   "metadata": {},
   "outputs": [
    {
     "name": "stdout",
     "output_type": "stream",
     "text": [
      "d1: 2008-03-12\n",
      "d2: 2009-03-12\n"
     ]
    }
   ],
   "source": [
    "d1 = datetime.date(2008, 3, 12)\n",
    "print ('d1:', d1)\n",
    "\n",
    "d2 = d1.replace(year=2009)\n",
    "print ('d2:', d2)"
   ]
  },
  {
   "cell_type": "markdown",
   "metadata": {},
   "source": [
    "## <font color='red'>timedeltas</font>"
   ]
  },
  {
   "cell_type": "markdown",
   "metadata": {},
   "source": [
    "We can use <B>datetime</B> to perform basic arithmetic on date values via the <B>timedelta</B> class.\n",
    "\n",
    "```python\n",
    "datetime.timedelta(days=0, seconds=0, microseconds=0, \n",
    "                   milliseconds=0, minutes=0, hours=0, weeks=0)\n",
    "```"
   ]
  },
  {
   "cell_type": "code",
   "execution_count": 9,
   "metadata": {},
   "outputs": [
    {
     "name": "stdout",
     "output_type": "stream",
     "text": [
      "microseconds: 0:00:00.000001\n",
      "milliseconds: 0:00:00.001000\n",
      "seconds     : 0:00:01\n",
      "minutes     : 0:01:00\n",
      "hours       : 1:00:00\n",
      "days        : 1 day, 0:00:00\n",
      "weeks       : 7 days, 0:00:00\n"
     ]
    }
   ],
   "source": [
    "print (\"microseconds:\", datetime.timedelta(microseconds=1))\n",
    "print (\"milliseconds:\", datetime.timedelta(milliseconds=1))\n",
    "print (\"seconds     :\", datetime.timedelta(seconds=1))\n",
    "print (\"minutes     :\", datetime.timedelta(minutes=1))\n",
    "print (\"hours       :\", datetime.timedelta(hours=1))\n",
    "print (\"days        :\", datetime.timedelta(days=1))\n",
    "print (\"weeks       :\", datetime.timedelta(weeks=1))"
   ]
  },
  {
   "cell_type": "markdown",
   "metadata": {},
   "source": [
    "## <font color='red'>Date Arithmetic</font>"
   ]
  },
  {
   "cell_type": "markdown",
   "metadata": {},
   "source": [
    "Date math uses the standard arithmetic operators. The following example with date objects illustrates using <B>timedelta</B> objects to compute new dates, and subtracting date instances to produce timedeltas (including a negative delta value)."
   ]
  },
  {
   "cell_type": "markdown",
   "metadata": {},
   "source": [
    "## Example"
   ]
  },
  {
   "cell_type": "code",
   "execution_count": 10,
   "metadata": {},
   "outputs": [
    {
     "name": "stdout",
     "output_type": "stream",
     "text": [
      "Today    : 2023-04-01\n",
      "One day  : 1 day, 0:00:00\n",
      "Yesterday: 2023-03-31\n",
      "Tomorrow : 2023-04-02\n",
      "tomorrow - yesterday: 2 days, 0:00:00\n",
      "yesterday - tomorrow: -2 days, 0:00:00\n"
     ]
    }
   ],
   "source": [
    "today = datetime.date.today()\n",
    "print ('Today    :', today)\n",
    "\n",
    "one_day = datetime.timedelta(days=1)\n",
    "print ('One day  :', one_day)\n",
    "\n",
    "yesterday = today - one_day\n",
    "print ('Yesterday:', yesterday)\n",
    "\n",
    "tomorrow = today + one_day\n",
    "print ('Tomorrow :', tomorrow)\n",
    "\n",
    "print ('tomorrow - yesterday:', tomorrow - yesterday)\n",
    "print ('yesterday - tomorrow:', yesterday - tomorrow)"
   ]
  },
  {
   "cell_type": "markdown",
   "metadata": {},
   "source": [
    "## <font color='red'>Comparing Values</font>"
   ]
  },
  {
   "cell_type": "markdown",
   "metadata": {},
   "source": [
    "Both date and time values can be compared using the standard operators to determine which is earlier or later."
   ]
  },
  {
   "cell_type": "markdown",
   "metadata": {},
   "source": [
    "## Example"
   ]
  },
  {
   "cell_type": "code",
   "execution_count": 11,
   "metadata": {},
   "outputs": [
    {
     "name": "stdout",
     "output_type": "stream",
     "text": [
      "Times:\n",
      "\tt1: 12:55:00\n",
      "\tt2: 13:05:00\n",
      "\tt1 < t2: True\n",
      "Dates:\n",
      "\td1: 2023-04-01\n",
      "\td2: 2023-04-02\n",
      "\td1 > d2: False\n"
     ]
    }
   ],
   "source": [
    "print ('Times:')\n",
    "t1 = datetime.time(12, 55, 0)\n",
    "print ('\\tt1:', t1)\n",
    "t2 = datetime.time(13, 5, 0)\n",
    "print ('\\tt2:', t2)\n",
    "print ('\\tt1 < t2:', t1 < t2)\n",
    "\n",
    "print ('Dates:')\n",
    "d1 = datetime.date.today()\n",
    "print ('\\td1:', d1)\n",
    "d2 = datetime.date.today() + datetime.timedelta(days=1)\n",
    "print ('\\td2:', d2)\n",
    "print ('\\td1 > d2:', d1 > d2)"
   ]
  },
  {
   "cell_type": "markdown",
   "metadata": {},
   "source": [
    "## <font color='red'>Combining Dates and Times</font>"
   ]
  },
  {
   "cell_type": "markdown",
   "metadata": {},
   "source": [
    "We can use the datetime class to hold values consisting of both date and time components. \n",
    "\n",
    "**SYNTAX**\n",
    "```python\n",
    "datetime.datetime(year, month, day, \n",
    "                  hour=0, minute=0, second=0, microsecond=0, tzinfo=None, *, fold=0)\n",
    "```\n",
    "## Example"
   ]
  },
  {
   "cell_type": "code",
   "execution_count": 12,
   "metadata": {},
   "outputs": [
    {
     "name": "stdout",
     "output_type": "stream",
     "text": [
      "Now    : 2023-04-01 22:12:21.792221\n",
      "Today  : 2023-04-01 22:12:21.792221\n",
      "UTC Now: 2023-04-01 16:42:21.793222\n",
      "year : 2023\n",
      "month : 4\n",
      "day : 1\n",
      "hour : 22\n",
      "minute : 12\n",
      "second : 21\n",
      "microsecond : 793222\n"
     ]
    }
   ],
   "source": [
    "print('Now    :', datetime.datetime.now())\n",
    "print('Today  :', datetime.datetime.today())\n",
    "print('UTC Now:', datetime.datetime.utcnow())\n",
    "\n",
    "d = datetime.datetime.now()\n",
    "for attr in [ 'year', 'month', 'day', 'hour', 'minute', 'second', 'microsecond']:\n",
    "    print (attr, ':', getattr(d, attr))"
   ]
  },
  {
   "cell_type": "markdown",
   "metadata": {},
   "source": [
    "## DATETIME OBJECT"
   ]
  },
  {
   "cell_type": "code",
   "execution_count": 13,
   "metadata": {},
   "outputs": [
    {
     "name": "stdout",
     "output_type": "stream",
     "text": [
      "Current date & time =         2023-04-01 22:12:24.066695 \n",
      "Date and time in ISO format = 2023-04-01T22:12:24.066695\n",
      "Current year =                2023 \n",
      "Current month =               4 \n",
      "Current date (day) =          1 \n",
      "dd/mm/yyyy format =           1/4/2023\n",
      "Current hour =                22 \n",
      "Current minute =              12 \n",
      "Current second =              24\n",
      "hh:mm:ss format =             22:4:24\n"
     ]
    }
   ],
   "source": [
    "NOW = datetime.datetime.now()\n",
    " \n",
    "print( \"Current date & time =         %s \" %NOW)\n",
    "print( \"Date and time in ISO format = %s\" %NOW.isoformat())\n",
    "print( \"Current year =                %s \" %NOW.year)\n",
    "print( \"Current month =               %s \" %NOW.month)\n",
    "print( \"Current date (day) =          %s \" %NOW.day)\n",
    "print( \"dd/mm/yyyy format =           %s/%s/%s\" % (NOW.day, NOW.month, NOW.year))\n",
    "print( \"Current hour =                %s \" %NOW.hour)\n",
    "print( \"Current minute =              %s \" %NOW.minute)\n",
    "print( \"Current second =              %s\" %NOW.second)\n",
    "print( \"hh:mm:ss format =             %s:%s:%s\" % (NOW.hour, NOW.month, NOW.second))"
   ]
  },
  {
   "cell_type": "markdown",
   "metadata": {},
   "source": [
    "## Combine()"
   ]
  },
  {
   "cell_type": "markdown",
   "metadata": {},
   "source": [
    "* Just as with date, datetime provides convenient class methods for creating new instances. It also includes `fromordinal()` and `fromtimestamp()`. \n",
    "* In addition, `combine()` can be useful if you already have a date instance and time instance and want to create a datetime."
   ]
  },
  {
   "cell_type": "markdown",
   "metadata": {},
   "source": [
    "## Example"
   ]
  },
  {
   "cell_type": "code",
   "execution_count": 14,
   "metadata": {},
   "outputs": [
    {
     "name": "stdout",
     "output_type": "stream",
     "text": [
      "t : 01:02:03\n",
      "d : 2023-04-01\n",
      "dt: 2023-04-01 01:02:03\n"
     ]
    }
   ],
   "source": [
    "t = datetime.time(1, 2, 3)\n",
    "print ('t :', t)\n",
    "\n",
    "d = datetime.date.today()\n",
    "print ('d :', d)\n",
    "\n",
    "dt = datetime.datetime.combine(d, t)\n",
    "print ('dt:', dt)"
   ]
  },
  {
   "cell_type": "markdown",
   "metadata": {},
   "source": [
    "## <font color='red'>Formating and Parsing</font>"
   ]
  },
  {
   "cell_type": "markdown",
   "metadata": {},
   "source": [
    "* The default string representation of a datetime object uses the format: YYYY-MM-DDTHH:MM:SS.mmmmmm \n",
    "* Alternate formats can be generated using `strftime()` function. \n",
    "        - Uses different control code to give an output.\n",
    "        - Each control code resembles different parameters like year,month, weekday and date.\n",
    "* If your input data includes timestamp values parsable with `time.strptime()`, then `datetime.strptime()` is a convenient way to convert them to datetime instances."
   ]
  },
  {
   "cell_type": "markdown",
   "metadata": {},
   "source": [
    "## **Useful `strptime` and `strftime` Patterns** {.smaller}\n",
    "---\n",
    "## {.smaller}\n",
    "|Directive | Meaning |\n",
    "| --- | --- |\n",
    "|  `%a` | Weekday as locale's abbreviated name |\n",
    "|  `%A` | Weekday as locale's full name |\n",
    "|  `%w` | Weekday as decimal number, where 0 is Sunday and 6 is Saturday |\n",
    "|  `%d` | Day of the month as a zero-padded decimal number |\n",
    "|  `%b` | Month as locale's abbreviated name |\n",
    "|  `%B` | Weekday as locale's full name |\n",
    "|  `%m` | Month as zero-padded decimal number |\n",
    "|  `%y` | Year without century as a zero-padded decimal number name |\n",
    "|  `%Y` | Year with century as a decimal number |\n",
    "|  `%H` | Hour (24-hour clock) as a zero-padded decimal number |\n",
    "\n",
    "## {.smaller}\n",
    "\n",
    "|Directive | Meaning |\n",
    "| --- | --- |\n",
    "|  `%I` | Hour (12-hour clock) as a zero-padded decimal number |\n",
    "|  `%p` | Locale equivalent of either AM or PM |\n",
    "|  `%M` | Minute as a zero-padded decimal number |\n",
    "|  `%S` | Second as a zero-padded decimal number |\n",
    "|  `%f` | Microsecond as a zero-padded decimal number |\n",
    "|  `%j` | Day of the year as a zero-padded decimal number |\n",
    "|  `%W` | Week number of the year (Monday as the first day of the week) as a decimal number |\n",
    "|  `%U` | Week number of the year (Sunday as the first day of the week) as a decimal number |\n",
    "|  `%c` | Locale’s appropriate date and time representation |\n",
    "|  `%Z` | Time zone name |\n",
    "|  `%z` | UTC offset in the form HH[SS[.fffff]] |\n"
   ]
  },
  {
   "cell_type": "markdown",
   "metadata": {},
   "source": [
    "## **Formatting**"
   ]
  },
  {
   "cell_type": "markdown",
   "metadata": {},
   "source": [
    "Weekday Month Day Hour:Minute:Second Year"
   ]
  },
  {
   "cell_type": "code",
   "execution_count": 15,
   "metadata": {},
   "outputs": [
    {
     "name": "stdout",
     "output_type": "stream",
     "text": [
      "ISO     : 2023-04-01 22:12:36.056359\n",
      "strftime: Sat Apr 01 22:12:36 2023\n"
     ]
    }
   ],
   "source": [
    "format = \"%a %b %d %H:%M:%S %Y\"\n",
    "\n",
    "today = datetime.datetime.today()\n",
    "print ('ISO     :', today)\n",
    "\n",
    "s = today.strftime(format)\n",
    "print ('strftime:', s)"
   ]
  },
  {
   "cell_type": "markdown",
   "metadata": {},
   "source": [
    "## Time in HH:MM:SS"
   ]
  },
  {
   "cell_type": "code",
   "execution_count": 16,
   "metadata": {},
   "outputs": [
    {
     "name": "stdout",
     "output_type": "stream",
     "text": [
      "22:12:36\n"
     ]
    }
   ],
   "source": [
    "print(today.strftime(\"%X\"))"
   ]
  },
  {
   "cell_type": "markdown",
   "metadata": {},
   "source": [
    "Obtain the hour with 12 hours time"
   ]
  },
  {
   "cell_type": "code",
   "execution_count": 17,
   "metadata": {},
   "outputs": [
    {
     "name": "stdout",
     "output_type": "stream",
     "text": [
      "10\n"
     ]
    }
   ],
   "source": [
    "print(today.strftime(\"%I\"))"
   ]
  },
  {
   "cell_type": "markdown",
   "metadata": {},
   "source": [
    "## AM or PM"
   ]
  },
  {
   "cell_type": "code",
   "execution_count": 18,
   "metadata": {},
   "outputs": [
    {
     "name": "stdout",
     "output_type": "stream",
     "text": [
      "PM\n"
     ]
    }
   ],
   "source": [
    "print(today.strftime(\"%p\"))"
   ]
  },
  {
   "cell_type": "markdown",
   "metadata": {},
   "source": [
    "%c - local date and time, %x-local's date, %X- local's time"
   ]
  },
  {
   "cell_type": "code",
   "execution_count": 19,
   "metadata": {},
   "outputs": [
    {
     "name": "stdout",
     "output_type": "stream",
     "text": [
      "Date and Time = Sat Apr  1 22:12:36 2023\n",
      "Date =          04/01/23\n",
      "Time =          22:12:36\n"
     ]
    }
   ],
   "source": [
    "print(\"Date and Time =\", today.strftime(\"%c\"))\n",
    "print(\"Date =         \", today.strftime(\"%x\"))\n",
    "print(\"Time =         \", today.strftime(\"%X\"))"
   ]
  },
  {
   "cell_type": "markdown",
   "metadata": {},
   "source": [
    "%I/%H - 12/24 Hour, %M - minute, %S - second, %p - local's AM/PM"
   ]
  },
  {
   "cell_type": "code",
   "execution_count": 20,
   "metadata": {},
   "outputs": [
    {
     "name": "stdout",
     "output_type": "stream",
     "text": [
      "Time =          10:12:36 PM\n",
      "Hour:Minutes =  22:12\n"
     ]
    }
   ],
   "source": [
    "print(\"Time =         \", today.strftime(\"%I:%M:%S %p\")) # 12-Hour:Minute:Second:AM\n",
    "print(\"Hour:Minutes = \", today.strftime(\"%H:%M\")) # 24-Hour:Minute"
   ]
  },
  {
   "cell_type": "markdown",
   "metadata": {},
   "source": [
    "## **Parsing**"
   ]
  },
  {
   "cell_type": "code",
   "execution_count": 21,
   "metadata": {},
   "outputs": [
    {
     "name": "stdout",
     "output_type": "stream",
     "text": [
      "strptime: Sat Apr 01 22:12:36 2023\n"
     ]
    }
   ],
   "source": [
    "d = datetime.datetime.strptime(s, format)\n",
    "print ('strptime:', d.strftime(format))"
   ]
  }
 ],
 "metadata": {
  "kernelspec": {
   "display_name": "Python 3 (ipykernel)",
   "language": "python",
   "name": "python3"
  },
  "language_info": {
   "codemirror_mode": {
    "name": "ipython",
    "version": 3
   },
   "file_extension": ".py",
   "mimetype": "text/x-python",
   "name": "python",
   "nbconvert_exporter": "python",
   "pygments_lexer": "ipython3",
   "version": "3.11.2"
  }
 },
 "nbformat": 4,
 "nbformat_minor": 1
}
