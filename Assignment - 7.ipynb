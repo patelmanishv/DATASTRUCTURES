{
 "cells": [
  {
   "cell_type": "markdown",
   "id": "acf404aa",
   "metadata": {},
   "source": [
    "# 1. State the major types of errors encountered in python."
   ]
  },
  {
   "cell_type": "markdown",
   "id": "f7508ed7",
   "metadata": {},
   "source": [
    "# 2. What is exception handling in python?"
   ]
  },
  {
   "cell_type": "markdown",
   "id": "bc9ef9b2",
   "metadata": {},
   "source": [
    "# 3.  How many except statements can a try-except block have?  \n",
    "a) zero  \n",
    "b) one  \n",
    "c) more than one  \n",
    "d) more than zero  \n",
    "\n",
    "# 4. When will the else part of try-except-else be executed?  \n",
    "a) always  \n",
    "b) when an exception occurs  \n",
    "c) when no exception occurs  \n",
    "d) when an exception occurs in to except block  \n",
    "\n",
    "# 5. What happens when ‘1’ == 1 is executed?  \n",
    "a) we get a True  \n",
    "b) we get a False  \n",
    "c) an TypeError occurs  \n",
    "d) a ValueError occurs  "
   ]
  },
  {
   "cell_type": "markdown",
   "id": "3d176f7e",
   "metadata": {},
   "source": [
    "# 6. List most common exceptions in python"
   ]
  },
  {
   "cell_type": "markdown",
   "id": "d3d99775",
   "metadata": {},
   "source": [
    "# 7. What is the output of the following ?\n",
    "\n",
    "```python\n",
    "try:\n",
    "\n",
    "print(“Hello”)\n",
    "   print(1/0)\n",
    "except ZeroDivisonError:\n",
    "    print(“Divided by zero”)\n",
    "finally:\n",
    "    print(“This is going to run anyway”)\n",
    "```"
   ]
  },
  {
   "cell_type": "markdown",
   "id": "f821bc0e",
   "metadata": {},
   "source": [
    "# 8. State the output of the following - \n",
    "\n",
    "```python\n",
    "try:\n",
    "variable = 8\n",
    "     print(variable + “hello”)\n",
    "     print(variable / 4)\n",
    "except ZeroDivisonError:\n",
    "     print(“Divided by zero”)\n",
    "except (ValueError,TypeError):\n",
    "     print(“Error occurred”)\n",
    "```       "
   ]
  },
  {
   "cell_type": "markdown",
   "id": "4b208644",
   "metadata": {},
   "source": [
    "# 9. Write the syntax and flow of the try except block"
   ]
  },
  {
   "cell_type": "markdown",
   "id": "51f52154",
   "metadata": {},
   "source": [
    "# 10. Write a custom exception and raise the error use case"
   ]
  }
 ],
 "metadata": {
  "kernelspec": {
   "display_name": "Python 3 (ipykernel)",
   "language": "python",
   "name": "python3"
  },
  "language_info": {
   "codemirror_mode": {
    "name": "ipython",
    "version": 3
   },
   "file_extension": ".py",
   "mimetype": "text/x-python",
   "name": "python",
   "nbconvert_exporter": "python",
   "pygments_lexer": "ipython3",
   "version": "3.9.13"
  }
 },
 "nbformat": 4,
 "nbformat_minor": 5
}
