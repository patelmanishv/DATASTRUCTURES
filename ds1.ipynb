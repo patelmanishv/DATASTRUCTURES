{
 "cells": [
  {
   "cell_type": "raw",
   "id": "37938de4",
   "metadata": {},
   "source": [
    "---\n",
    "title: \"DATA STRUCTURES AND ALGORITHMS USING PYTHON\"\n",
    "author: \"Manish Patel\"\n",
    "date: \"3/23/2023\"\n",
    "format: revealjs\n",
    "---"
   ]
  },
  {
   "cell_type": "markdown",
   "id": "1dec5563",
   "metadata": {},
   "source": [
    "## 1: Introduction to Data Structures using python\n",
    "\n",
    "- Lecture 1: Introduction to Python programming language, data types, variables, operators, and control structures.\n",
    "- Lecture 2 & 3: Introduction to Data Structures, Arrays, Linked Lists, Stacks, and Queues.\n",
    "- Lecture 5-6: Practice implementing arrays, linked lists, stacks, and queues in Python."
   ]
  },
  {
   "cell_type": "markdown",
   "id": "c8d1de34",
   "metadata": {},
   "source": [
    "## 2: Advanced Data Structures\n",
    "\n",
    "- Day 7-8: Introduction to Trees and Binary Trees.\n",
    "- Day 9-10: Practice implementing Binary Trees and Traversals in Python.\n",
    "- Day 11-12: Introduction to Heaps and Priority Queues.\n",
    "- Day 13-14: Practice implementing Heaps and Priority Queues in Python."
   ]
  },
  {
   "cell_type": "markdown",
   "id": "37255031",
   "metadata": {},
   "source": [
    "## 3: Advanced Data Structures Continued\n",
    "\n",
    "- Day 15-16: Introduction to Hash Tables.\n",
    "- Day 17-18: Practice implementing Hash Tables in Python.\n",
    "- Day 19-20: Introduction to Graphs and Graph Traversals.\n",
    "- Day 21-22: Practice implementing Graphs and Graph Traversals in Python."
   ]
  },
  {
   "cell_type": "markdown",
   "id": "28141d69",
   "metadata": {},
   "source": [
    "## 4: Advanced Topics\n",
    "\n",
    "- Day 23-24: Algorithm Analysis and Time Complexity.\n",
    "- Day 25-26: Sorting Algorithms - Quick Sort, Merge Sort, and Insertion Sort.\n",
    "- Day 27-28: Searching Algorithms - Linear Search and Binary Search.\n",
    "- Day 29-30: Review and Practice."
   ]
  },
  {
   "cell_type": "markdown",
   "id": "f1f61a01",
   "metadata": {
    "slideshow": {
     "slide_type": "slide"
    }
   },
   "source": [
    "![](https://global-uploads.webflow.com/6007f8b630f7e5727bc2e10d/6189918d43825ea7b7a2d686_61898ea4cf37648fdd8afeda_5_2rAWPbNtIiP4X7CtwuSS42TF1o-I-jv_pjgKWkw_DcPs46aENTDbTLMv6jfVUZcwMqbm3U2N9tsBxoHJxBezVroAcEb9S3XBychKqDvw_W2ea7AX6EU462pXSIEq4fT21_8dra.jpeg)"
   ]
  },
  {
   "cell_type": "markdown",
   "id": "43d65780",
   "metadata": {
    "slideshow": {
     "slide_type": "slide"
    }
   },
   "source": [
    "![](https://images.slideplayer.com/23/6841545/slides/slide_2.jpg)"
   ]
  },
  {
   "cell_type": "markdown",
   "id": "9fc0ca60",
   "metadata": {},
   "source": [
    "## WHY DATA STRUCTURES"
   ]
  },
  {
   "cell_type": "markdown",
   "id": "fe2c8ce7",
   "metadata": {},
   "source": [
    "![](https://3.bp.blogspot.com/-gn4IdeXgxig/Vuqboy8XYoI/AAAAAAAAAB8/PUFJITWZC2YEMjSwZigjgl3WWYWQrh3rA/w1200-h630-p-k-no-nu/data%2Bstructure.png)"
   ]
  },
  {
   "cell_type": "code",
   "execution_count": null,
   "id": "3b7422c6",
   "metadata": {},
   "outputs": [],
   "source": []
  }
 ],
 "metadata": {
  "hide_input": false,
  "kernelspec": {
   "display_name": "Python 3 (ipykernel)",
   "language": "python",
   "name": "python3"
  },
  "language_info": {
   "codemirror_mode": {
    "name": "ipython",
    "version": 3
   },
   "file_extension": ".py",
   "mimetype": "text/x-python",
   "name": "python",
   "nbconvert_exporter": "python",
   "pygments_lexer": "ipython3",
   "version": "3.9.13"
  }
 },
 "nbformat": 4,
 "nbformat_minor": 5
}
