{
 "cells": [
  {
   "cell_type": "markdown",
   "id": "67d02c20",
   "metadata": {},
   "source": [
    "### 1. Differentiate class and object\n",
    " ### 2. What is constructor? what is the use of it?\n",
    " ### 3. Create a class to model some real world object and create a new class to inherit from it.\n",
    " ### 4. Write a program that has a class Cars. Create two objects Maruti with color to be a red convertible and price Rs 10 lakhs and another Kia to be a blue sedan named Karens worth Rs 6 lakhs\n",
    " ### 5. Write a program that has a class Point with attributes as the X and Y co-ordi nates. Make two objects of this class and find the midpoint of both the points\n",
    " ### 6. Write a program that defines a class named Rectangle that takes the parameters length and breadth. The class Rectangle should also contain a method for computing its perimeter and area.\n",
    " ### 7. Write a program that defines a class with two methods: inputStr()  that will get the string using console input and printStr()  that will print the string in upper case. Also, test the class methods with a function\n",
    " ### 8. Create a class for plane vectors where the above mathematical operations are implemented by special methods. The class must contain two data attributes, one for each component of the vector, called x and y below. Include special methods for addition, subtraction, the scalar product (multiplication), the absolute value (length), comparison of two vectors (== and !=), as well as a method for printing out a vector.\n",
    " ### 9. Write Python Program to Simulate a Bank Account with Support for depositMoney, withdrawMoney and showBalance Operations\n",
    " ### 10. Implement the following hierarchy . The Staff function has name and salary as its data members, the derived class Teaching has subject as its data member and the class NonTeaching has department as its data member. The derived class method overrides (extends) the methods of the base class.\n"
   ]
  }
 ],
 "metadata": {
  "kernelspec": {
   "display_name": "Python 3 (ipykernel)",
   "language": "python",
   "name": "python3"
  },
  "language_info": {
   "codemirror_mode": {
    "name": "ipython",
    "version": 3
   },
   "file_extension": ".py",
   "mimetype": "text/x-python",
   "name": "python",
   "nbconvert_exporter": "python",
   "pygments_lexer": "ipython3",
   "version": "3.9.13"
  }
 },
 "nbformat": 4,
 "nbformat_minor": 5
}
