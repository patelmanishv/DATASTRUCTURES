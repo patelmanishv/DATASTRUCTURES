{
 "cells": [
  {
   "cell_type": "markdown",
   "metadata": {},
   "source": [
    "# ASSIGNMENT - 1"
   ]
  },
  {
   "cell_type": "markdown",
   "metadata": {},
   "source": [
    "# install anaconda distribution\n",
    "###### jupyter notebook"
   ]
  },
  {
   "cell_type": "markdown",
   "metadata": {
    "cell_id": "729d8b66a3d845acb330db360a002993",
    "deepnote_cell_type": "markdown"
   },
   "source": [
    "### Helpful Jupyter Commands\n",
    "\n",
    "Below are some useful commands to know when using Jupyter\n",
    "\n",
    "1. You can add a new cell by clicking on the \"+\" icon on top.\n",
    "2. You can delete a cell by selecting that cell and clicking on the \"scissors\" icon on top.\n",
    "3. You can execute a cell by either pressing shift+enter or selecting the \"play\" button on top.\n",
    "4. You can create a new file in Jupyter via the File menu->New Notebook option. Make sure to select Python 3 when creating your notebook.\n",
    "5. Also, for your code blocks make sure that Code is selected instead of another option like Markdown.\n",
    "6. Use the Enter key to go to the next line in a cell to enter the next statement.\n",
    "7. You can clear results by clicking on the Cell menu item and selecting Current Output->Clear or All Output->Clear depending on whether you are trying to just clear the output for one cell or for all cells.\n",
    "8. In case your program has crashed for some reason (infinite loop, for example), you can restart your Python session by select Kernel in the menu and selecting Restart.\n"
   ]
  },
  {
   "cell_type": "markdown",
   "metadata": {
    "cell_id": "8968c77b0a074b7db4b39c98601d23db",
    "deepnote_cell_type": "markdown"
   },
   "source": [
    "#### Exercise 1 - if statement\n",
    "\n",
    "Write a python program to accept a number from the user. Use the **if** statement to check to see if the number is greater than 100. If the number is greater than 100, print the message \"Found a number greater than 100\""
   ]
  },
  {
   "cell_type": "code",
   "execution_count": null,
   "metadata": {},
   "outputs": [],
   "source": [
    "#Write your answer here - \n"
   ]
  },
  {
   "cell_type": "markdown",
   "metadata": {
    "cell_id": "28b24a6417b547a581fe44761c675f63",
    "deepnote_cell_type": "code"
   },
   "source": [
    "Double click __here__ to reveal answer\n",
    "\n",
    "<!--\n",
    "numberStr = raw_input(\"Enter a number:\")\n",
    "number = int(numberStr)\n",
    "\n",
    "if number > 100:\n",
    "    print \"Found a number greater than 100\"\n",
    "### END CODE\n",
    "-->"
   ]
  },
  {
   "cell_type": "markdown",
   "metadata": {
    "cell_id": "36b5756b3aac427b8fd24c91d9ecb395",
    "deepnote_cell_type": "markdown"
   },
   "source": [
    "#### Exercise 2 - if...else statement\n",
    "\n",
    "Write a python program to accept the name of a user. Use the **if** statement to check to see if the name is \"Joe\". If the name is \"Joe\", print the message \"User Joe was entered\", otherwise if the name is not \"Joe\", print a message saying that \"User Joe was not entered\" "
   ]
  },
  {
   "cell_type": "code",
   "execution_count": null,
   "metadata": {},
   "outputs": [],
   "source": [
    "#Write your answer here - \n"
   ]
  },
  {
   "cell_type": "markdown",
   "metadata": {
    "cell_id": "afd88e4a722a4c1e993389ea284a7a56",
    "deepnote_cell_type": "code"
   },
   "source": [
    "Double click __here__ to reveal answer\n",
    "\n",
    "<!-- # userName = raw_input(\"Enter your name:\")\n",
    "\n",
    "# if userName == \"Joe\":\n",
    "#     print \"User Joe was entered\"\n",
    "# else:\n",
    "#     print \"User Joe was not entered\" -->\n",
    "\n"
   ]
  },
  {
   "cell_type": "markdown",
   "metadata": {
    "cell_id": "215661df220045f3a2d32a350a9614b0",
    "deepnote_cell_type": "markdown"
   },
   "source": [
    "#### Exercise 3 - if..elif...else statement\n",
    "\n",
    "Write a python program to accept the salary of the user. \n",
    "\n",
    "If the salary is **less than 70,000**, then print the message \"User salary is less than 70000\", otherwise if the salary is **less than 100,000**, print the message \"User salary is less than 100,000, otherwise, print the message \"User salary is greater than or equal to 100,000\""
   ]
  },
  {
   "cell_type": "code",
   "execution_count": null,
   "metadata": {},
   "outputs": [],
   "source": [
    "#Write your answer here - \n"
   ]
  },
  {
   "cell_type": "markdown",
   "metadata": {
    "cell_id": "2eb772886a644950808a33ca2a81fa6b",
    "deepnote_cell_type": "code"
   },
   "source": [
    "Double click __here__ to reveal answer\n",
    "\n",
    "<!-- userSalary = input(\"Enter your annual salary:\")\n",
    "salary = int(userSalary)\n",
    "if salary < 70000:\n",
    "    print \"User salary is less than 70000\"\n",
    "elif salary < 100000:\n",
    "    print \"User Salary is less than 100,000\"\n",
    "else: \n",
    "    print \"User salary is greater than or equa; to 100,000\"\n",
    " -->\n"
   ]
  },
  {
   "cell_type": "markdown",
   "metadata": {
    "cell_id": "19c2b000657e47ffa4a1cf3c99cf9254",
    "deepnote_cell_type": "markdown"
   },
   "source": [
    "#### Exercise 4 - for loop\n",
    "\n",
    "Write a program to get a number from the user. Find the some of all numbers from 1 to the number that the user entered.\n",
    "\n",
    "For example, if the user enters 10, then you would need to find the sum of all numbers from 1 to 10 like so. Use the range statement in the for loop...see week 2 classwork for more information on the range statement\n",
    "\n",
    "\n",
    "```\n",
    "1+2+3+4+5+6+7+8+9+10\n",
    "```\n",
    "\n",
    "Print the result"
   ]
  },
  {
   "cell_type": "code",
   "execution_count": null,
   "metadata": {},
   "outputs": [],
   "source": [
    "#Write your answer here - \n"
   ]
  },
  {
   "cell_type": "markdown",
   "metadata": {
    "cell_id": "0cf461de904f4d428981dd6f8b59ef44",
    "deepnote_cell_type": "code"
   },
   "source": [
    "Double click __here__ to reveal answer\n",
    "<!-- \n",
    "number = raw_input(\"Enter a number:\")\n",
    "newNumber = int(number)\n",
    "\n",
    "total = 0\n",
    "for index in range(0,newNumber):\n",
    "    total = total + index\n",
    "print total -->\n",
    "\n"
   ]
  },
  {
   "cell_type": "markdown",
   "metadata": {
    "cell_id": "376bce7f66b44551a1348b53169f4e08",
    "deepnote_cell_type": "markdown"
   },
   "source": [
    "#### Exercise - while loop\n",
    "\n",
    "**Guessing a number.**\n",
    "\n",
    "Initialize a variable called **myNumber** to any arbitrary value. For example, maybe you thought of a number 9\n",
    "\n",
    "Use the **while** loop to ask the user to enter a number. Check to see if the number entered by the user matches the number **myNumber** that you thought of. If there is a match, **break** from the **while** loop and print \"Yippee! User guessed the right number\". If there is no match allow the **while** loop to continue to ask the user for a number until a match is found\n"
   ]
  },
  {
   "cell_type": "code",
   "execution_count": null,
   "metadata": {},
   "outputs": [],
   "source": [
    "#Write your answer here - \n"
   ]
  },
  {
   "cell_type": "markdown",
   "metadata": {
    "cell_id": "fbc33f8408fa44628a4f6f046c034584",
    "deepnote_cell_type": "code"
   },
   "source": [
    "Double click __here__ to reveal answer\n",
    "\n",
    "\n",
    "<!-- myNumber = 9\n",
    "while True:\n",
    "    userNumber = raw_input(\"Enter a number:\")\n",
    "    newUserNumber = int(userNumber)\n",
    "    \n",
    "    if newUserNumber == myNumber:\n",
    "        print \"Yippee!\"\n",
    "        break\n",
    "    else:\n",
    "        print \"Keep Guessing...\" -->\n",
    "\n"
   ]
  },
  {
   "cell_type": "markdown",
   "metadata": {
    "cell_id": "74c497fc08b349dabee0f79f3f6295c6",
    "deepnote_cell_type": "markdown"
   },
   "source": [
    "## OPTIONAL EXERCISES\n",
    "\n",
    "Below is a set of optional exercises. These will not be graded but the solutions will be posted. I would strongly encourage you to try these out if you are done with the mandatory homework exercises to improve your understanding of python."
   ]
  },
  {
   "cell_type": "markdown",
   "metadata": {
    "cell_id": "831cc11575484d21bd5e13a49cd31b9e",
    "deepnote_cell_type": "markdown"
   },
   "source": [
    "#### Exercise 6\n",
    "\n",
    "Write a Python program to convert temperatures to and from celsius, fahrenheit.\n",
    "\n",
    "[ Formula : c/5 = f-32/9 [ where c = temperature in celsius and f = temperature in fahrenheit ] "
   ]
  },
  {
   "cell_type": "code",
   "execution_count": null,
   "metadata": {},
   "outputs": [],
   "source": [
    "#Write your answer here - \n"
   ]
  },
  {
   "cell_type": "markdown",
   "metadata": {
    "cell_id": "451a0a6c54ae4627a439f825542e0b5c",
    "deepnote_cell_type": "code"
   },
   "source": [
    "Double click __here__ to reveal answer\n",
    "\n",
    "<!-- \n",
    "temperatureInC = float(raw_input(\"Enter a T in Celsius:\"))\n",
    "temperatureInf = float(raw_input(\"Enter a T in Fahrenheit:\"))\n",
    "x = 5\n",
    "y = 9\n",
    "x1 = float(x)\n",
    "y1 = float(y)\n",
    "number = (x1/y1)\n",
    "c = number*(temperatureInf-32)\n",
    "print \"The T in degree C =\", c\n",
    "\n",
    "f = y1/x1*temperatureInC + 32\n",
    "print \"The Temperature in degree F =\", f -->\n",
    "\n",
    "\n",
    "\n",
    "\n",
    "<!-- # The trick here is to recall the difference between flots and integers.  The equation required floats. to work properly.\n",
    "temperatureInC = float(raw_input(\"Enter a T in Celsius:\"))\n",
    "temperatureInf = float(raw_input(\"Enter a T in Fahrenheit:\"))\n",
    "\n",
    "c = (5.0/9.0)*(temperatureInf-32)\n",
    "print \"The T in degree C =\", c\n",
    "\n",
    "f = 9.0/5.0*temperatureInC + 32\n",
    "print \"The Temperature in degree F =\", f -->"
   ]
  },
  {
   "cell_type": "markdown",
   "metadata": {
    "cell_id": "bba68ad959324b23b0803106f2257cae",
    "deepnote_cell_type": "markdown"
   },
   "source": [
    "#### Exercise 7\n",
    "\n",
    "    Write a Python program that prints all the numbers from 0 to 10 except 1 and 5. Use the **for** loop. Is there a way that I can remove 1 and 5 with one line of code"
   ]
  },
  {
   "cell_type": "code",
   "execution_count": null,
   "metadata": {},
   "outputs": [],
   "source": [
    "#Write your answer here - \n"
   ]
  },
  {
   "cell_type": "markdown",
   "metadata": {
    "cell_id": "2ee4b1a1b3b6413bb0d49aca7cee20dc",
    "deepnote_cell_type": "code"
   },
   "source": [
    "Double click __here__ to reveal answer\n",
    "\n",
    "\n",
    "<!-- myList = range(10)\n",
    "print myList\n",
    "myList = [index for index in range(10) if index !=1 and index !=5] \n",
    "print myList\n",
    "    \n",
    "\n",
    "jose = range(10)\n",
    "print jose\n",
    "for index in jose:\n",
    "    if index ==5: \n",
    "        jose.remove(index)\n",
    "        print jose\n",
    "\n",
    "a = range(10)\n",
    "print a\n",
    "ind2remove = [1,5]\n",
    "\n",
    "for i in sorted(ind2remove, reverse=True):\n",
    "    del a[i]\n",
    "print a\n",
    " -->"
   ]
  },
  {
   "cell_type": "markdown",
   "metadata": {
    "cell_id": "c88686556cef4e98b91725ab51503b77",
    "deepnote_cell_type": "markdown"
   },
   "source": [
    "#### Exercise 9\n",
    "\n",
    "Use a **while** loop to ask the user to enter a number. Print a running total of all the numbers that the user enters. If the user enters 0, break from the while loop."
   ]
  },
  {
   "cell_type": "code",
   "execution_count": null,
   "metadata": {
    "cell_id": "ea8db6cbfb464c08989f80765d93274d",
    "collapsed": true,
    "deepnote_cell_type": "code"
   },
   "outputs": [],
   "source": [
    "### YOUR CODE GOES BELOW\n",
    "#userNumber = raw_input(\"Enter a Number:\")\n",
    "\n",
    "\n",
    "### END CODE"
   ]
  },
  {
   "cell_type": "markdown",
   "metadata": {
    "cell_id": "9dc5de6e969d440db0117a7fe7c3df19",
    "deepnote_cell_type": "markdown"
   },
   "source": [
    "#### Exercise 10\n",
    "\n",
    "Write a Python program to create the multiplication table (from 1 to 10) of a number. Use the formatted print statements that you learnt in Week 2 and the **for** loop to print this table.\n",
    "\n",
    "Input a number: 6                                                       \n",
    "6 x 1 = 6                                                               \n",
    "6 x 2 = 12                                                              \n",
    "6 x 3 = 18                                                              \n",
    "6 x 4 = 24                                                              \n",
    "6 x 5 = 30                                                              \n",
    "6 x 6 = 36                                                              \n",
    "6 x 7 = 42                                                              \n",
    "6 x 8 = 48                                                              \n",
    "6 x 9 = 54                                                              \n",
    "6 x 10 = 60 "
   ]
  },
  {
   "cell_type": "code",
   "execution_count": null,
   "metadata": {
    "cell_id": "bd384a8d363b4e268b823d23f820c0e5",
    "collapsed": true,
    "deepnote_cell_type": "code"
   },
   "outputs": [],
   "source": [
    "### YOUR CODE GOES BELOW\n",
    "\n",
    "\n",
    "### END CODE"
   ]
  }
 ],
 "metadata": {
  "deepnote": {},
  "deepnote_execution_queue": [],
  "deepnote_notebook_id": "ce67b3984a4a4195a63d45d7fe2ff10a",
  "hide_input": false,
  "kernelspec": {
   "display_name": "Python 3 (ipykernel)",
   "language": "python",
   "name": "python3"
  },
  "language_info": {
   "codemirror_mode": {
    "name": "ipython",
    "version": 3
   },
   "file_extension": ".py",
   "mimetype": "text/x-python",
   "name": "python",
   "nbconvert_exporter": "python",
   "pygments_lexer": "ipython3",
   "version": "3.9.13"
  }
 },
 "nbformat": 4,
 "nbformat_minor": 1
}
