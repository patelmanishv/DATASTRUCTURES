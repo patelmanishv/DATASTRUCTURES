{
 "cells": [
  {
   "cell_type": "markdown",
   "id": "0e533c85",
   "metadata": {},
   "source": [
    "## 1. Demonstrate difference between recursion and dynamic programming using an example"
   ]
  },
  {
   "cell_type": "markdown",
   "id": "d2b7fa32",
   "metadata": {},
   "source": [
    "## 2. Write implementations of all datastructures using python"
   ]
  },
  {
   "cell_type": "markdown",
   "id": "3f3f2457",
   "metadata": {},
   "source": [
    "## 3. Differentiate Memoization and Tabulation"
   ]
  },
  {
   "cell_type": "markdown",
   "id": "c30a9121",
   "metadata": {},
   "source": [
    "## 4. List down and implement sorting and searching algorithms using python"
   ]
  }
 ],
 "metadata": {
  "kernelspec": {
   "display_name": "Python 3 (ipykernel)",
   "language": "python",
   "name": "python3"
  },
  "language_info": {
   "codemirror_mode": {
    "name": "ipython",
    "version": 3
   },
   "file_extension": ".py",
   "mimetype": "text/x-python",
   "name": "python",
   "nbconvert_exporter": "python",
   "pygments_lexer": "ipython3",
   "version": "3.10.9"
  }
 },
 "nbformat": 4,
 "nbformat_minor": 5
}
