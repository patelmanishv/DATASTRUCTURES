{
 "cells": [
  {
   "cell_type": "markdown",
   "metadata": {},
   "source": [
    "# ASSIGNMENT - 2"
   ]
  },
  {
   "cell_type": "markdown",
   "metadata": {},
   "source": [
    "#### Exercise 1 -  Using logical operators - and, or and not\n",
    "\n",
    "Get the ages of three persons Harry, Sally and Mary from the user. Check the below conditions and display the results\n",
    "\n",
    "1. If Harry and Sally are both less than 20 years old, display the message saying \"Harry and Sally are less than 20 years old\"\n",
    "2. If either Sally or Mary is older than 30, then display the message saying \"Either Sally or Mary is older than 30\"\n",
    "\n",
    "Remember that to do this you will need to use different variables to store the respective ages and then evaluate those ages using the if statement and logical operators."
   ]
  },
  {
   "cell_type": "code",
   "execution_count": null,
   "metadata": {
    "hide_input": true
   },
   "outputs": [],
   "source": [
    "harry_age = int(input(\"Enter age of harry\"))\n",
    "sally_age = int(input(\"Enter age of sally\"))\n",
    "mary_age = int(input(\"Enter age of mary\"))\n",
    "\n",
    "if harry_age<20 and sally_age<20:\n",
    "    print(\"Harry and Sally are less than 20 years old\")\n",
    "if sally_age>30 or mary_age>30:\n",
    "    print(\"Either Sally or Mary is older than 30\") "
   ]
  },
  {
   "cell_type": "markdown",
   "metadata": {},
   "source": [
    "# Exercise 2 - Find the length of a given string\n",
    "\n",
    "Ask the user to enter their first name. Compute the number of characters in the first name and print the result. \n",
    "\n",
    "Note that you will need to use the ** len ** function to obtain the number of characters in the string."
   ]
  },
  {
   "cell_type": "code",
   "execution_count": null,
   "metadata": {
    "hide_input": true
   },
   "outputs": [],
   "source": [
    "first_name = input(\"Enter your first name\")\n",
    "\n",
    "print(len(first_name))"
   ]
  },
  {
   "cell_type": "markdown",
   "metadata": {},
   "source": [
    "#### Exercise 3 - Reversing a String\n",
    "\n",
    "Ask the user to enter the name of their favorite movie. Reverse the name of the movie and print it out."
   ]
  },
  {
   "cell_type": "code",
   "execution_count": null,
   "metadata": {},
   "outputs": [],
   "source": []
  },
  {
   "cell_type": "code",
   "execution_count": null,
   "metadata": {
    "hide_input": true
   },
   "outputs": [],
   "source": [
    "fav_movie = input(\"Enter your favorite movie\")\n",
    "\n",
    "print(fav_movie[::-1])"
   ]
  },
  {
   "cell_type": "markdown",
   "metadata": {},
   "source": [
    "#### Exercise 4 - Converting an input string to lower case and looking for a match\n",
    "\n",
    "Ask the user to enter a **line of text** and a **search string**. Convert the line of text that the user entered to lower case. Search the resulting text for the search string. Print \"Search String Found\" if the search string was found, otherwise, print \"Search String not found\"\n",
    "\n",
    "For example, the user could enter \"Jack and Jill went up the Hill\" and the search string \"jill\". You first need to convert the input string to lower case like so - \"jack and jill went up the hill\". \n",
    "\n",
    "Next you will need to look for the search string in the input string. You can use the \"if searchString in text\" form of query to determine if the text contains the search string. See week 3 classowork for an example"
   ]
  },
  {
   "cell_type": "code",
   "execution_count": null,
   "metadata": {},
   "outputs": [],
   "source": []
  },
  {
   "cell_type": "code",
   "execution_count": null,
   "metadata": {
    "hide_input": true
   },
   "outputs": [],
   "source": [
    "text = (input(\"Enter a line of text\")).lower()\n",
    "search = input(\"Enter a search string\")\n",
    "if search in text:\n",
    "    print(\"Search String Found\")\n",
    "else:\n",
    "    print(\"Search string not found\")"
   ]
  },
  {
   "cell_type": "markdown",
   "metadata": {},
   "source": [
    "#### Exercise 5 - Parsing a comma separated set of values\n",
    "\n",
    "Ask the user to type in a grocery list. Ensure that each item in the grocery list is separated by a comma. Use the **split** command to extract each token (item) in the grocery list. Print the last item in the list.\n",
    "\n",
    "For example, if the user enters \"milk,bananas,sugar,eggs,cheese\", you will need to read this into a variable, parse the contents using the **split** command and print \"cheese\""
   ]
  },
  {
   "cell_type": "code",
   "execution_count": null,
   "metadata": {},
   "outputs": [],
   "source": []
  },
  {
   "cell_type": "code",
   "execution_count": null,
   "metadata": {
    "hide_input": true,
    "scrolled": true
   },
   "outputs": [],
   "source": [
    "grocery = input(\"Enter your grocery items with comma separation\")\n",
    "\n",
    "a = grocery.split(\",\")\n",
    "print(a[-1])\n",
    "\n"
   ]
  },
  {
   "cell_type": "markdown",
   "metadata": {},
   "source": [
    "#### Exercise 6\n",
    "\n",
    "Ask the user to type in a grocery list and a search item. Ensure that each item in the grocery list is separated by a comma and an arbitrary number of spaces. Use the **split** command to search for the search item in this list. \n",
    "\n",
    "For example, let us say that the user enters \"\"milk ,  bananas,  sugar,  eggs,  cheese  \" (notice the arbitrary spaces between items) and the search term is \"eggs\". You will need to look for \"eggs\" in the grocery list and if found, print the message \"Item found\", otherwise, print \"Item not found\""
   ]
  },
  {
   "cell_type": "code",
   "execution_count": null,
   "metadata": {},
   "outputs": [],
   "source": []
  },
  {
   "cell_type": "code",
   "execution_count": null,
   "metadata": {
    "hide_input": true
   },
   "outputs": [],
   "source": [
    "grocery = input(\"Enter your grocery items with comma and a space seperation\")\n",
    "search_item = input(\"Enter your search item\")\n",
    "b = grocery.split(\", \")\n",
    "\n",
    "if search_item in b:\n",
    "    print(\"Item found\")\n",
    "else:\n",
    "    print(\"Item not found\")\n",
    "\n"
   ]
  },
  {
   "cell_type": "markdown",
   "metadata": {},
   "source": [
    "#### Exercise 7\n",
    "\n",
    "Write a python program that takes in a list of words from the user and prints the shortest word in the list. If two words are equal short, just pick the first one that you see.\n"
   ]
  },
  {
   "cell_type": "code",
   "execution_count": null,
   "metadata": {},
   "outputs": [],
   "source": []
  },
  {
   "cell_type": "code",
   "execution_count": null,
   "metadata": {
    "hide_input": true
   },
   "outputs": [],
   "source": [
    "words = input(\"Enter some words\")\n",
    "c = words.split(\",\")\n",
    "list1=[]\n",
    "list2 =[]\n",
    "for item in c:\n",
    "    list1.append(item)\n",
    "    list2.append(len(item))\n",
    "min_length = min(list2)\n",
    "min_index = list2.index(min_length)\n",
    "print (list1[min_index])\n",
    "    "
   ]
  },
  {
   "cell_type": "markdown",
   "metadata": {},
   "source": [
    "#### Exercise 8\n",
    "\n",
    "Accept a line of text from the user with some repeating words. Ask the user to enter a search term (one of the repeating words). Count the number of times the search term repeats in the text.\n",
    "\n",
    "For example, if the sentence is - \"She sells sea shells on the sea shore\" and the search term is \"sea\", then the program should print the result 2, indicating that two occurrences of the word \"sea\" were found in the text\n"
   ]
  },
  {
   "cell_type": "code",
   "execution_count": null,
   "metadata": {},
   "outputs": [],
   "source": []
  },
  {
   "cell_type": "code",
   "execution_count": null,
   "metadata": {
    "hide_input": true
   },
   "outputs": [],
   "source": [
    "text = input(\"Enter a line of text \")\n",
    "search_term = input(\"Enter a search term \")\n",
    "split_words = text.split(\" \")\n",
    "list1 =[]\n",
    "list2 =[]\n",
    "for item in split_words:\n",
    "    if item in list1:\n",
    "        index = list1.index(item)\n",
    "        list2[index] += 1\n",
    "    else:\n",
    "        list1.append(item)\n",
    "        list2.append(1)\n",
    "if search_term in list1:\n",
    "    index1 = list1.index(search_term)\n",
    "    print(list2[index1])\n",
    "else:\n",
    "    print(\"search term not in given text\")\n",
    "    \n",
    "    \n"
   ]
  },
  {
   "cell_type": "markdown",
   "metadata": {},
   "source": [
    "#### Exercise 9\n",
    "\n",
    "Write a python program to get text from the user. Create a new text from the original text with the word \" stranger \" inserted in the middle of the text. Print the resulting new text."
   ]
  },
  {
   "cell_type": "code",
   "execution_count": null,
   "metadata": {},
   "outputs": [],
   "source": []
  },
  {
   "cell_type": "code",
   "execution_count": null,
   "metadata": {
    "hide_input": true
   },
   "outputs": [],
   "source": [
    "text = input(\"Enter a line of text: \")\n",
    "text_length = len(text)\n",
    "middle = len(text)//2\n",
    "print (text[:middle+1]+\"stranger\"+text[middle+1:])\n"
   ]
  },
  {
   "cell_type": "markdown",
   "metadata": {},
   "source": [
    "#### Exercise 10\n",
    "\n",
    "Write a python program to get a line of text from the user. Sort each word in the text alphabetically and print it out. \n",
    "\n",
    "For example, if the user enters \"Jack and Jill went up the hill\", the result should be \"and Jack Jill hill the up went\"\n"
   ]
  },
  {
   "cell_type": "code",
   "execution_count": null,
   "metadata": {},
   "outputs": [],
   "source": []
  },
  {
   "cell_type": "code",
   "execution_count": null,
   "metadata": {
    "hide_input": true
   },
   "outputs": [],
   "source": [
    "text = input(\"Enter a line of text: \").lower()\n",
    "text_split = text.split()\n",
    "text_sort = sorted(text_split)\n",
    "print(\" \".join(text_sort))"
   ]
  }
 ],
 "metadata": {
  "hide_input": false,
  "kernelspec": {
   "display_name": "Python 3 (ipykernel)",
   "language": "python",
   "name": "python3"
  },
  "language_info": {
   "codemirror_mode": {
    "name": "ipython",
    "version": 3
   },
   "file_extension": ".py",
   "mimetype": "text/x-python",
   "name": "python",
   "nbconvert_exporter": "python",
   "pygments_lexer": "ipython3",
   "version": "3.9.13"
  }
 },
 "nbformat": 4,
 "nbformat_minor": 2
}
