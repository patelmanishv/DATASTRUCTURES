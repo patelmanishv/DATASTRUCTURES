{
 "cells": [
  {
   "cell_type": "markdown",
   "id": "93d51259",
   "metadata": {},
   "source": [
    "# Matplotlib library Assignment - 12"
   ]
  },
  {
   "cell_type": "markdown",
   "id": "e894b42e",
   "metadata": {},
   "source": [
    "# 1.  Write a Python program to draw a line with suitable label in the x axis, y axis and a title."
   ]
  },
  {
   "cell_type": "markdown",
   "id": "b07067cd",
   "metadata": {},
   "source": [
    "# 2. Write a Python program to plot two or more lines on same plot with suitable legends of each line."
   ]
  },
  {
   "cell_type": "markdown",
   "id": "53ad492b",
   "metadata": {},
   "source": [
    "# 3. Write a Python program to create multiple plots including line, scatter, histogram and bar plot"
   ]
  },
  {
   "cell_type": "markdown",
   "id": "e4dc195d",
   "metadata": {},
   "source": [
    "# 4. Write a Python programming to create a pie chart of the popularity of programming Languages.  \n",
    "**Sample data:**\n",
    "- Programming languages: Java, Python, PHP, JavaScript, C#, C++\n",
    "- Popularity: 22.2, 17.6, 8.8, 8, 7.7, 6.7"
   ]
  },
  {
   "cell_type": "markdown",
   "id": "a078f3ab",
   "metadata": {},
   "source": [
    "# 5. Write a Python program to draw a scatter plot comparing two subject marks of Mathematics and Science. Use marks of 10 students.\n",
    "**Test Data:**  \n",
    "math_marks = [88, 92, 80, 89, 100, 80, 60, 100, 80, 34]  \n",
    "science_marks = [35, 79, 79, 48, 100, 88, 32, 45, 20, 30]  \n",
    "marks_range = [10, 20, 30, 40, 50, 60, 70, 80, 90, 100]"
   ]
  }
 ],
 "metadata": {
  "kernelspec": {
   "display_name": "Python 3 (ipykernel)",
   "language": "python",
   "name": "python3"
  },
  "language_info": {
   "codemirror_mode": {
    "name": "ipython",
    "version": 3
   },
   "file_extension": ".py",
   "mimetype": "text/x-python",
   "name": "python",
   "nbconvert_exporter": "python",
   "pygments_lexer": "ipython3",
   "version": "3.11.2"
  }
 },
 "nbformat": 4,
 "nbformat_minor": 5
}
