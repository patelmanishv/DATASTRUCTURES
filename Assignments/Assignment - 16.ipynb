{
 "cells": [
  {
   "cell_type": "markdown",
   "metadata": {},
   "source": [
    "# API ASSIGNMENT\n",
    "### Try to print the suggested queries below by using:\n",
    "\n",
    "- Requests library\n",
    "- params parameter\n",
    "- DataMuse API  \n",
    "`(Feel free to read their Documentation as you need)`"
   ]
  },
  {
   "cell_type": "code",
   "execution_count": null,
   "metadata": {},
   "outputs": [],
   "source": [
    "# HINT\n",
    "# import requests\n",
    "\n",
    "# par_list = [\"words?sp=Kentucky\"]\n",
    "# f = \"https://api.datamuse.com/words?\"\n",
    "# data = requests.get(f, params=par_list)\n",
    "\n",
    "# print(data.text)\n",
    "# lst = []\n",
    "# for i in data1.text:\n",
    "#     lst.insert(i[0])\n",
    "# print(lst)"
   ]
  }
 ],
 "metadata": {
  "kernelspec": {
   "display_name": "Python 3",
   "language": "python",
   "name": "python3"
  },
  "language_info": {
   "codemirror_mode": {
    "name": "ipython",
    "version": 3
   },
   "file_extension": ".py",
   "mimetype": "text/x-python",
   "name": "python",
   "nbconvert_exporter": "python",
   "pygments_lexer": "ipython3",
   "version": "3.8.5"
  }
 },
 "nbformat": 4,
 "nbformat_minor": 4
}
