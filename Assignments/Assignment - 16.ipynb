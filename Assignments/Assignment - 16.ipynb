{
 "cells": [
  {
   "cell_type": "markdown",
   "id": "3f75c483",
   "metadata": {},
   "source": [
    "## Assignment\n",
    "Write a function (named `number_days_between`) that:\n",
    "\n",
    "- Takes two arguments that are 8-digit integers of the form YYYYMMDD (actually a date), and\n",
    "- Returns the number of days between the two dates.\n",
    "\n",
    "For instance:\n",
    "\n",
    "```python\n",
    "   number_days_between(20200617, 20200619) = 2\n",
    "   number_days_between(20200619, 20100219) = 3773\n",
    "```"
   ]
  },
  {
   "cell_type": "markdown",
   "id": "a32947f3",
   "metadata": {},
   "source": [
    "## On July 16, 1969, the huge, 363-feet tall Saturn V rocket launches on the Apollo 11 mission from Pad A, Launch Complex 39, Kennedy Space Center, at 9:32 a.m. EDT. Write a Python program the computes (**from now**) the number of:\n",
    "\n",
    "* Years\n",
    "* Months\n",
    "* Days\n",
    "* Hours\n",
    "* Minutes\n",
    "* Seconds\n",
    "\n",
    "since the launch.\n",
    "\n",
    "Hint: <A HREF=\"https://stackoverflow.com/questions/1345827/how-do-i-find-the-time-difference-between-two-datetime-objects-in-python\"> Check this website</A>"
   ]
  },
  {
   "cell_type": "markdown",
   "id": "c73d4733",
   "metadata": {},
   "source": [
    "### Sample Problem 1"
   ]
  },
  {
   "cell_type": "markdown",
   "id": "4f73c84f",
   "metadata": {},
   "source": [
    "Write a function (add_Years) that adds numYears to a date object."
   ]
  },
  {
   "cell_type": "markdown",
   "id": "9b1522be",
   "metadata": {},
   "source": [
    "#### Solution"
   ]
  },
  {
   "cell_type": "code",
   "execution_count": null,
   "id": "dba69382",
   "metadata": {
    "hide_input": true
   },
   "outputs": [],
   "source": [
    "def add_Years (myDate, numYears):\n",
    "    return myDate.replace(year=myDate.year + numYears)"
   ]
  },
  {
   "cell_type": "markdown",
   "id": "bc4568cd",
   "metadata": {},
   "source": [
    "### Sample Problem 2"
   ]
  },
  {
   "cell_type": "markdown",
   "id": "8b13b278",
   "metadata": {},
   "source": [
    "Write a function (add_Months) that adds numMonths to a date object."
   ]
  },
  {
   "cell_type": "markdown",
   "id": "f35190cc",
   "metadata": {},
   "source": [
    "#### Solution"
   ]
  },
  {
   "cell_type": "code",
   "execution_count": null,
   "id": "8c44846c",
   "metadata": {
    "hide_input": true
   },
   "outputs": [],
   "source": [
    "import datetime\n",
    "\n",
    "def add_Months(myDate, numMonths):\n",
    "    m = myDate.month + numMonths\n",
    "    year  = m // 12\n",
    "    month = m % 12\n",
    "    if month == 0:\n",
    "       month = 12\n",
    "       year -= 1\n",
    "    try:\n",
    "        newDate = datetime.date(myDate.year+year, month, myDate.day)\n",
    "    except ValueError:\n",
    "        import calendar\n",
    "        # determine the total number of days in a new month\n",
    "        m1, d1 = calendar.monthrange(myDate.year+year, month)\n",
    "        newDate = datetime.date(myDate.year+year, month, d1)\n",
    "    return newDate"
   ]
  },
  {
   "cell_type": "markdown",
   "id": "c401746d",
   "metadata": {},
   "source": [
    "### Sample Problem 3"
   ]
  },
  {
   "cell_type": "markdown",
   "id": "b13e8c4a",
   "metadata": {},
   "source": [
    "Write a function (add_Days) that adds numDays to a date object."
   ]
  },
  {
   "cell_type": "markdown",
   "id": "c5fe66c1",
   "metadata": {},
   "source": [
    "#### Solution"
   ]
  },
  {
   "cell_type": "code",
   "execution_count": null,
   "id": "8fc8bb58",
   "metadata": {},
   "outputs": [],
   "source": [
    "def add_Days (myDate, numDays):\n",
    "    return myDate + datetime.timedelta(days=numDays)"
   ]
  },
  {
   "cell_type": "markdown",
   "id": "c70a088b",
   "metadata": {},
   "source": [
    "### Sample Problem 4"
   ]
  },
  {
   "cell_type": "markdown",
   "id": "420ae2e4",
   "metadata": {},
   "source": [
    "Write a function (increment_Date):\n",
    "<UL> \n",
    "<LI> That has as arguments refDate (in the format YYYYMMDD), numYears, numMonths and numDays, and \n",
    "<LI> That adds numYears, numMonths and numDays to refDate.\n",
    "<LI> That returns a new date in the format YYYYMMDD.\n",
    "</UL>\n",
    "<P>\n",
    "Note that Years, Months and Days can be negative numbers."
   ]
  },
  {
   "cell_type": "markdown",
   "id": "3ca64a94",
   "metadata": {},
   "source": [
    "#### Solution"
   ]
  },
  {
   "cell_type": "code",
   "execution_count": null,
   "id": "ac8a97dd",
   "metadata": {
    "hide_input": true
   },
   "outputs": [],
   "source": [
    "import datetime\n",
    "\n",
    "def increment_Date(Date, numYears=0, numMonths=0, numDays=0):\n",
    "    # Extract the year, the month and day from Date\n",
    "    y = Date // 10000\n",
    "    m = (Date % 10000) // 100\n",
    "    d = Date % 100\n",
    "    \n",
    "    # Determine the current date object\n",
    "    curDate = datetime.date(y, m, d)\n",
    "    \n",
    "    # Increment the date\n",
    "    curDate = add_Years (curDate, numYears)\n",
    "    curDate = add_Months(curDate, numMonths)\n",
    "    curDate = add_Days  (curDate, numDays)\n",
    "    \n",
    "    # Extract the new year, month and day\n",
    "    curY = curDate.year\n",
    "    curM = curDate.month\n",
    "    curD = curDate.day\n",
    "    \n",
    "    # Compute the new date in the format YYYYMMDD\n",
    "    newDate = 10000*curY + 100*curM + curD\n",
    "    \n",
    "    return newDate\n",
    "\n",
    "print(increment_Date(20001231, numMonths=-15, numDays=7))"
   ]
  }
 ],
 "metadata": {
  "kernelspec": {
   "display_name": "Python 3 (ipykernel)",
   "language": "python",
   "name": "python3"
  },
  "language_info": {
   "codemirror_mode": {
    "name": "ipython",
    "version": 3
   },
   "file_extension": ".py",
   "mimetype": "text/x-python",
   "name": "python",
   "nbconvert_exporter": "python",
   "pygments_lexer": "ipython3",
   "version": "3.11.2"
  }
 },
 "nbformat": 4,
 "nbformat_minor": 5
}
