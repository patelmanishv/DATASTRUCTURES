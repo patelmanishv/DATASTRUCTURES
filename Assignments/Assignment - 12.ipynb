{
 "cells": [
  {
   "cell_type": "markdown",
   "metadata": {},
   "source": [
    "# Numpy Assignment - Part 1"
   ]
  },
  {
   "cell_type": "markdown",
   "metadata": {},
   "source": [
    "\n",
    "<!DOCTYPE HTML PUBLIC \"-//W3C//DTD HTML 3.2//EN\">\n",
    "<FORM><B>Instructions:</B> Click the answer button to see the correct answer.<OL><P><LI>NumPY stands for?<OL TYPE=\"a\">\n",
    "<LI>Number In Python\n",
    "<LI>None Of the above\n",
    "<LI>Numbering Python\n",
    "<LI>Numerical Python</OL>\n",
    "<BR><SELECT><OPTION>Answer<OPTION>d</SELECT><P><LI>Numpy is developed by?<OL TYPE=\"a\">\n",
    "<LI>Jim Hugunin\n",
    "<LI>Guido van Rossum\n",
    "<LI>Travis Oliphant\n",
    "<LI>Wes McKinney</OL>\n",
    "<BR><SELECT><OPTION>Answer<OPTION>c</SELECT><P><LI>NumPy is often used along with packages like?<OL TYPE=\"a\">\n",
    "<LI>Matplotlib\n",
    "<LI>Both Scipy and Matplotlib\n",
    "<LI>SciPy\n",
    "<LI>Node.js</OL>\n",
    "<BR><SELECT><OPTION>Answer<OPTION>b</SELECT><P><LI>Which of the following Numpy operation are correct?<OL TYPE=\"a\">\n",
    "<LI>Operations related to linear algebra\n",
    "<LI>All of the above\n",
    "<LI>Fourier transforms and routines for shape manipulation.\n",
    "<LI>Mathematical and logical operations on arrays.</OL>\n",
    "<BR><SELECT><OPTION>Answer<OPTION>b</SELECT><P><LI>The most important object defined in NumPy is an N-dimensional array type called?<OL TYPE=\"a\">\n",
    "<LI>narray\n",
    "<LI>ndarray\n",
    "<LI>darray\n",
    "<LI>nd_array</OL>\n",
    "<BR><SELECT><OPTION>Answer<OPTION>b</SELECT><P><LI>The basic ndarray is created using?<OL TYPE=\"a\">\n",
    "<LI>numpy.array(object, dtype = None, copy = True, order = None, ndmin = 0)\n",
    "<LI>numpy.array(object, dtype = None, copy = True, order = None, subok = False, ndmin = 0)\n",
    "<LI>numpy_array(object, dtype = None, copy = True, order = None, subok = False, ndmin = 0)\n",
    "<LI>numpy.array(object, dtype = None, copy = True, subok = False, ndmin = 0)</OL>\n",
    "<BR><SELECT><OPTION>Answer<OPTION>b</SELECT><P><LI>What is the syntax for dtype object?<OL TYPE=\"a\">\n",
    "<LI>numpy_dtype(object, align, copy)\n",
    "<LI>numpy.dtype(object, align, copy, subok)\n",
    "<LI>numpy.dtype(object, align, copy)\n",
    "<LI>numpy.dtype(object, align, copy, ndmin)</OL>\n",
    "<BR><SELECT><OPTION>Answer<OPTION>c</SELECT><P><LI>Which of the following statement is false?<OL TYPE=\"a\">\n",
    "<LI>ndarray.dataitemSize is the buffer containing the actual elements of the array.\n",
    "<LI>ndarray is also known as the axis array.\n",
    "<LI>In Numpy, dimensions are called axes\n",
    "<LI>NumPy main object is the homogeneous multidimensional array</OL>\n",
    "<BR><SELECT><OPTION>Answer<OPTION>b</SELECT><P><LI>Which of the following function stacks 1D arrays as columns into a 2D array?<OL TYPE=\"a\">\n",
    "<LI>row_stack\n",
    "<LI>All of the above\n",
    "<LI>column_stack\n",
    "<LI>com_stack</OL>\n",
    "<BR><SELECT><OPTION>Answer<OPTION>c</SELECT><P><LI>If a dimension is given as ____ in a reshaping operation, the other dimensions are automatically calculate<OL TYPE=\"a\">\n",
    "<LI>Zero\n",
    "<LI>Negative one\n",
    "<LI>Infinite\n",
    "<LI>One</OL>\n",
    "<BR><SELECT><OPTION>Answer<OPTION>b</SELECT><P><LI>Each built-in data type has a character code that uniquely identifies it.What is meaning of code \"M\"?<OL TYPE=\"a\">\n",
    "<LI>objects\n",
    "<LI>datetime\n",
    "<LI>Unicode\n",
    "<LI>timedelta</OL>\n",
    "<BR><SELECT><OPTION>Answer<OPTION>b</SELECT><P><LI>What is the range of uint32 data type?<OL TYPE=\"a\">\n",
    "<LI>(0 to 4294967295)\n",
    "<LI>(-32768 to 32767)\n",
    "<LI>(0 to 65535)\n",
    "<LI>(-2147483648 to 2147483647)</OL>\n",
    "<BR><SELECT><OPTION>Answer<OPTION>a</SELECT></OL></FORM>\n",
    "</BODY></HTML>\n"
   ]
  },
  {
   "cell_type": "code",
   "execution_count": null,
   "metadata": {},
   "outputs": [],
   "source": []
  }
 ],
 "metadata": {
  "kernelspec": {
   "display_name": "Python 3",
   "language": "python",
   "name": "python3"
  },
  "language_info": {
   "codemirror_mode": {
    "name": "ipython",
    "version": 3
   },
   "file_extension": ".py",
   "mimetype": "text/x-python",
   "name": "python",
   "nbconvert_exporter": "python",
   "pygments_lexer": "ipython3",
   "version": "3.8.5"
  }
 },
 "nbformat": 4,
 "nbformat_minor": 4
}
