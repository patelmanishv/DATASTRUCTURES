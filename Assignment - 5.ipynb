{
 "cells": [
  {
   "cell_type": "markdown",
   "id": "fc3b4c78",
   "metadata": {},
   "source": [
    "# MCQS"
   ]
  },
  {
   "cell_type": "markdown",
   "id": "bcb712c4",
   "metadata": {},
   "source": [
    "# 1. Which of the following data structures is a FIFO data structure?\n",
    "1. List\n",
    "1. Stacks\n",
    "1. Queues\n",
    "\n",
    "# 2. How many maximum children can a binary tree have?\n",
    "1. 0\n",
    "1. 2\n",
    "1. 1\n",
    "1. 3\n",
    "\n",
    "# 3. Which of the following data structures uses dynamic memory allocation?\n",
    "1. Graphs\n",
    "1. Linked Lists\n",
    "1. Trees\n",
    "1. All of these\n",
    "\n",
    "# 4. In a queue, deletion is always done from the _____________\n",
    "1. Front end\n",
    "1. Rear end\n",
    "1. Middle\n",
    "1. None of these\n",
    "\n",
    "# 5. Which data structure is used to represent complex relationships between the nodes?\n",
    "1. Linked Lists\n",
    "1. Trees\n",
    "1. Stacks\n",
    "1. Graphs\n",
    "\n",
    "# 6. Which of the following is an example of a heterogeneous data structure?\n",
    "1. Structure\n",
    "1. List\n",
    "1. Linked list\n",
    "1. None of these\n",
    "\n",
    "# 7. Which of the following data structures is a linear type?\n",
    "1. Trees\n",
    "1. Graphs\n",
    "1. Queues\n",
    "1. None of the above\n",
    "\n",
    "# 8. The operation of processing each element in the list is called __________\n",
    "1. Traversal\n",
    "1. Merging\n",
    "1. Inserting\n",
    "1. Sorting\n",
    "\n",
    "# 9. Which one of the following cases does not exist/occur in complexity theory?\n",
    "1. Average Case\n",
    "1. Worst Case\n",
    "1. Best Case\n",
    "1. Minimal Case\n",
    "\n",
    "# 10. Which of the following are the two primary measures of the efficiency of an algorithm?\n",
    "1. Data & Time\n",
    "1. Data & Space\n",
    "1. Time & Space\n",
    "1. Time & Complexity"
   ]
  },
  {
   "cell_type": "markdown",
   "id": "6a77f45d",
   "metadata": {},
   "source": [
    "# SHORT QUESTIONS"
   ]
  },
  {
   "cell_type": "markdown",
   "id": "f8adc821",
   "metadata": {},
   "source": [
    "### 1. What is Time Complexity?\n",
    "\n",
    "### 2. What is Space Complexity?\n",
    "\n",
    "### 3. What is Big O Notation?\n",
    "\n",
    "### 4. Define Asymptotic Analysis.\n",
    "\n",
    "### 5. List the steps of an Algorithm development.\n",
    "\n",
    "### 6. What are the features of an algorithm?\n",
    "\n"
   ]
  }
 ],
 "metadata": {
  "hide_input": false,
  "kernelspec": {
   "display_name": "Python 3 (ipykernel)",
   "language": "python",
   "name": "python3"
  },
  "language_info": {
   "codemirror_mode": {
    "name": "ipython",
    "version": 3
   },
   "file_extension": ".py",
   "mimetype": "text/x-python",
   "name": "python",
   "nbconvert_exporter": "python",
   "pygments_lexer": "ipython3",
   "version": "3.9.13"
  }
 },
 "nbformat": 4,
 "nbformat_minor": 5
}
