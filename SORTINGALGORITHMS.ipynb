{
 "cells": [
  {
   "cell_type": "raw",
   "metadata": {},
   "source": [
    "---\n",
    "title: \"SORTING ALGORITHMS in Python\"\n",
    "format: \n",
    "    revealjs:\n",
    "        slide-number: true\n",
    "        theme: dark\n",
    "        width: 1400\n",
    "        height: 900\n",
    "        highlight-style: vim-dark\n",
    "        center: true\n",
    "        incremental: true\n",
    "        footer: \"Manish Patel\"\n",
    "        progress: true\n",
    "jupyter: python3\n",
    "embed-resources: true\n",
    "execute:\n",
    "  echo: true\n",
    "---"
   ]
  },
  {
   "cell_type": "markdown",
   "metadata": {},
   "source": [
    "## SORTING"
   ]
  },
  {
   "cell_type": "markdown",
   "metadata": {},
   "source": [
    "- Sorting is the process of placing elements from a collection into ascending or descending order.\n",
    "- `Bubble-Sort, Insertion-Sort and Selection-Sort` are easy to implement and are suitable for the small input set.\n",
    "- A sorting algorithm like `Merge-Sort, Quick-Sort and Heap-Sort` are some of the algorithms that are suitable for sorting large dataset."
   ]
  },
  {
   "cell_type": "raw",
   "metadata": {},
   "source": [
    "---"
   ]
  },
  {
   "cell_type": "markdown",
   "metadata": {},
   "source": [
    "![](https://lamfo-unb.github.io/img/Sorting-algorithms/Complexity.png)"
   ]
  },
  {
   "cell_type": "markdown",
   "metadata": {},
   "source": [
    "## BUBBLE SORTING"
   ]
  },
  {
   "cell_type": "markdown",
   "metadata": {},
   "source": [
    "Big(O) = O($n^2$)  \n",
    "Space complexity = O(1)"
   ]
  },
  {
   "cell_type": "markdown",
   "metadata": {},
   "source": [
    "![](https://upload.wikimedia.org/wikipedia/commons/c/c8/Bubble-sort-example-300px.gif?20131109191607)"
   ]
  },
  {
   "cell_type": "raw",
   "metadata": {},
   "source": [
    "---"
   ]
  },
  {
   "cell_type": "code",
   "execution_count": 14,
   "metadata": {},
   "outputs": [
    {
     "name": "stdout",
     "output_type": "stream",
     "text": [
      "[1, 2, 3, 4, 5, 6, 7, 8, 9]\n"
     ]
    }
   ],
   "source": [
    "def bubble_sort(arr):\n",
    "    \"\"\"\n",
    "    Sorts an array using the bubble sort algorithm.\n",
    "    \"\"\"\n",
    "    n = len(arr)\n",
    "\n",
    "    # Perform n-1 passes over the array\n",
    "    for i in range(n-1):\n",
    "\n",
    "        # Compare adjacent elements and swap them if they are in the wrong order\n",
    "        for j in range(n-i-1):\n",
    "            if arr[j] > arr[j+1]:\n",
    "                arr[j], arr[j+1] = arr[j+1], arr[j]\n",
    "\n",
    "    return arr\n",
    "\n",
    "arr = [5, 2, 8, 3, 9, 4, 1, 7, 6]\n",
    "sorted_arr = bubble_sort(arr)\n",
    "print(sorted_arr)"
   ]
  },
  {
   "cell_type": "markdown",
   "metadata": {},
   "source": [
    "## INSERTION SORT\n"
   ]
  },
  {
   "cell_type": "markdown",
   "metadata": {},
   "source": [
    "![](https://upload.wikimedia.org/wikipedia/commons/9/9c/Insertion-sort-example.gif)"
   ]
  },
  {
   "cell_type": "raw",
   "metadata": {},
   "source": [
    "---"
   ]
  },
  {
   "cell_type": "code",
   "execution_count": 13,
   "metadata": {},
   "outputs": [
    {
     "name": "stdout",
     "output_type": "stream",
     "text": [
      "[1, 2, 3, 4, 5, 6, 7, 8, 9]\n"
     ]
    }
   ],
   "source": [
    "def insertion_sort(arr):\n",
    "    \"\"\"\n",
    "    Sorts an array using the insertion sort algorithm.\n",
    "    \"\"\"\n",
    "    n = len(arr)\n",
    "\n",
    "    # Iterate over each element in the array\n",
    "    for i in range(1, n):\n",
    "        key = arr[i]\n",
    "        j = i - 1\n",
    "\n",
    "        # Move elements greater than the key one position to the right\n",
    "        while j >= 0 and arr[j] > key:\n",
    "            arr[j+1] = arr[j]\n",
    "            j -= 1\n",
    "\n",
    "        # Insert the key in its correct position\n",
    "        arr[j+1] = key\n",
    "\n",
    "    return arr\n",
    "\n",
    "arr = [5, 2, 8, 3, 9, 4, 1, 7, 6]\n",
    "sorted_arr = insertion_sort(arr)\n",
    "print(sorted_arr) "
   ]
  },
  {
   "cell_type": "markdown",
   "metadata": {},
   "source": [
    "## BUCKET SORT\n"
   ]
  },
  {
   "cell_type": "markdown",
   "metadata": {},
   "source": [
    "![](https://i.makeagif.com/media/5-18-2016/a7ppGv.gif)"
   ]
  },
  {
   "cell_type": "raw",
   "metadata": {},
   "source": [
    "---"
   ]
  },
  {
   "cell_type": "markdown",
   "metadata": {},
   "source": [
    "## BUCKET SORT ALGORITHM STEPS - \n",
    "\n",
    "1. Calculate the maximum and the minimum element of the array\n",
    "1. Calculate the range: range = (maximum - minimum) / n, where n is the number of buckets (Given as parameter)\n",
    "1. Create n empty buckets and initialize them with 0\n",
    "1. Loop through the unsorted array and perform the following: a) Calculate bucketIndex bucketIndex = (array[i] - minimum) / range b) Insert the ith element of the array into the bucket[bucketIndex]\n",
    "1. Sort the individual buckets\n",
    "1. Gather all the elements together"
   ]
  },
  {
   "cell_type": "markdown",
   "metadata": {},
   "source": [
    "## "
   ]
  },
  {
   "cell_type": "code",
   "execution_count": 11,
   "metadata": {},
   "outputs": [
    {
     "name": "stdout",
     "output_type": "stream",
     "text": [
      "[1, 2, 3, 4, 5, 6, 7, 8, 9]\n"
     ]
    }
   ],
   "source": [
    "def bucket_sort(arr):\n",
    "    \"\"\"\n",
    "    Sorts an array using the bucket sort algorithm.\n",
    "    \"\"\"\n",
    "    n = len(arr)\n",
    "    if n == 0:\n",
    "        return arr\n",
    "\n",
    "    # Determine the minimum and maximum values in the array\n",
    "    min_val, max_val = min(arr), max(arr)\n",
    "\n",
    "    # Determine the range of each bucket\n",
    "    bucket_size = (max_val - min_val) / n\n",
    "    if bucket_size == 0:\n",
    "        bucket_size = 1\n",
    "\n",
    "    # Create empty buckets\n",
    "    num_buckets = int((max_val - min_val) / bucket_size) + 1\n",
    "    buckets = [[] for _ in range(num_buckets)]\n",
    "\n",
    "    # Place each element in the appropriate bucket\n",
    "    for num in arr:\n",
    "        index = int((num - min_val) / bucket_size)\n",
    "        buckets[index].append(num)\n",
    "\n",
    "    # Sort each bucket and concatenate the sorted buckets\n",
    "    sorted_arr = []\n",
    "    for bucket in buckets:\n",
    "        bucket.sort()\n",
    "        sorted_arr += bucket\n",
    "\n",
    "    return sorted_arr\n",
    "\n",
    "arr = [5, 2, 8, 3, 9, 4, 1, 7, 6]\n",
    "sorted_arr = bucket_sort(arr)\n",
    "print(sorted_arr) "
   ]
  },
  {
   "cell_type": "markdown",
   "metadata": {},
   "source": [
    "## MERGE SORT"
   ]
  },
  {
   "cell_type": "markdown",
   "metadata": {},
   "source": [
    "![](https://upload.wikimedia.org/wikipedia/commons/c/cc/Merge-sort-example-300px.gif?20151222172210)"
   ]
  },
  {
   "cell_type": "raw",
   "metadata": {},
   "source": [
    "---"
   ]
  },
  {
   "cell_type": "code",
   "execution_count": 5,
   "metadata": {},
   "outputs": [
    {
     "name": "stdout",
     "output_type": "stream",
     "text": [
      "[1, 2, 3, 4, 5, 6, 7, 8, 9]\n"
     ]
    }
   ],
   "source": [
    "def merge_sort(arr):\n",
    "    \"\"\"\n",
    "    Sorts an array using the merge sort algorithm.\n",
    "    \"\"\"\n",
    "    # Base case: if the array is empty or has only one element, it is already sorted\n",
    "    if len(arr) <= 1:\n",
    "        return arr\n",
    "\n",
    "    # Recursive case: split the array into two halves and recursively sort each half\n",
    "    mid = len(arr) // 2\n",
    "    left_half = arr[:mid]\n",
    "    right_half = arr[mid:]\n",
    "    left_half = merge_sort(left_half)\n",
    "    right_half = merge_sort(right_half)\n",
    "\n",
    "    # Merge the two sorted halves\n",
    "    merged_arr = []\n",
    "    i = j = 0\n",
    "    while i < len(left_half) and j < len(right_half):\n",
    "        if left_half[i] <= right_half[j]:\n",
    "            merged_arr.append(left_half[i])\n",
    "            i += 1\n",
    "        else:\n",
    "            merged_arr.append(right_half[j])\n",
    "            j += 1\n",
    "\n",
    "    # Add any remaining elements from either half\n",
    "    merged_arr.extend(left_half[i:])\n",
    "    merged_arr.extend(right_half[j:])\n",
    "\n",
    "    return merged_arr\n",
    "arr = [5, 2, 8, 3, 9, 4, 1, 7, 6]\n",
    "sorted_arr = merge_sort(arr)\n",
    "print(sorted_arr) \n"
   ]
  },
  {
   "cell_type": "markdown",
   "metadata": {},
   "source": [
    "## SELECTION SORT"
   ]
  },
  {
   "cell_type": "markdown",
   "metadata": {},
   "source": [
    "![](http://www.michaelfxu.com/assets/gifs/sorts/selection-sort.gif)"
   ]
  },
  {
   "cell_type": "raw",
   "metadata": {},
   "source": [
    "---"
   ]
  },
  {
   "cell_type": "code",
   "execution_count": 6,
   "metadata": {},
   "outputs": [
    {
     "name": "stdout",
     "output_type": "stream",
     "text": [
      "[1, 2, 3, 4, 5, 6, 7, 8, 9]\n"
     ]
    }
   ],
   "source": [
    "def selection_sort(arr):\n",
    "    \"\"\"\n",
    "    Sorts an array using the selection sort algorithm.\n",
    "    \"\"\"\n",
    "    # Iterate over the array\n",
    "    for i in range(len(arr)):\n",
    "        # Find the index of the smallest element in the unsorted portion of the array\n",
    "        min_index = i\n",
    "        for j in range(i+1, len(arr)):\n",
    "            if arr[j] < arr[min_index]:\n",
    "                min_index = j\n",
    "\n",
    "        # Swap the smallest element with the current element\n",
    "        arr[i], arr[min_index] = arr[min_index], arr[i]\n",
    "\n",
    "    return arr\n",
    "arr = [5, 2, 8, 3, 9, 4, 1, 7, 6]\n",
    "sorted_arr = selection_sort(arr)\n",
    "print(sorted_arr) \n"
   ]
  },
  {
   "cell_type": "markdown",
   "metadata": {},
   "source": [
    "## SHELL SORT"
   ]
  },
  {
   "cell_type": "markdown",
   "metadata": {},
   "source": [
    "![](https://blogs.cuit.columbia.edu/zp2130/files/2018/12/Shell_Sort.gif)"
   ]
  },
  {
   "cell_type": "raw",
   "metadata": {},
   "source": [
    "---"
   ]
  },
  {
   "cell_type": "code",
   "execution_count": 7,
   "metadata": {},
   "outputs": [
    {
     "name": "stdout",
     "output_type": "stream",
     "text": [
      "[1, 2, 3, 4, 5, 6, 7, 8, 9]\n"
     ]
    }
   ],
   "source": [
    "def shell_sort(arr):\n",
    "    \"\"\"\n",
    "    Sorts an array using the shell sort algorithm.\n",
    "    \"\"\"\n",
    "    n = len(arr)\n",
    "    # Start with a large gap and gradually reduce it\n",
    "    gap = n // 2\n",
    "    while gap > 0:\n",
    "        # Do a gapped insertion sort for this gap size\n",
    "        for i in range(gap, n):\n",
    "            temp = arr[i]\n",
    "            j = i\n",
    "            while j >= gap and arr[j-gap] > temp:\n",
    "                arr[j] = arr[j-gap]\n",
    "                j -= gap\n",
    "            arr[j] = temp\n",
    "\n",
    "        # Reduce the gap for the next iteration\n",
    "        gap //= 2\n",
    "\n",
    "    return arr\n",
    "\n",
    "arr = [5, 2, 8, 3, 9, 4, 1, 7, 6]\n",
    "sorted_arr = shell_sort(arr)\n",
    "print(sorted_arr) "
   ]
  },
  {
   "cell_type": "markdown",
   "metadata": {},
   "source": [
    "## RADIX SORT"
   ]
  },
  {
   "cell_type": "markdown",
   "metadata": {},
   "source": [
    "![](https://ds055uzetaobb.cloudfront.net/brioche/uploads/IEZs8xJML3-radixsort_ed.png?width=1200)"
   ]
  },
  {
   "cell_type": "raw",
   "metadata": {},
   "source": [
    "---"
   ]
  },
  {
   "cell_type": "code",
   "execution_count": 8,
   "metadata": {},
   "outputs": [
    {
     "name": "stdout",
     "output_type": "stream",
     "text": [
      "[1, 2, 3, 4, 5, 6, 7, 8, 9]\n"
     ]
    }
   ],
   "source": [
    "def radix_sort(arr):\n",
    "    \"\"\"\n",
    "    Sorts an array using the radix sort algorithm.\n",
    "    \"\"\"\n",
    "    # Find the maximum number to know the number of digits\n",
    "    max_num = max(arr)\n",
    "\n",
    "    # Do counting sort for each digit\n",
    "    exp = 1\n",
    "    while max_num // exp > 0:\n",
    "        counting_sort(arr, exp)\n",
    "        exp *= 10\n",
    "\n",
    "    return arr\n",
    "\n",
    "def counting_sort(arr, exp):\n",
    "    \"\"\"\n",
    "    Performs counting sort on the array based on the given exponent.\n",
    "    \"\"\"\n",
    "    n = len(arr)\n",
    "\n",
    "    # Initialize the count array and output array\n",
    "    count = [0] * 10\n",
    "    output = [0] * n\n",
    "\n",
    "    # Count the occurrences of each digit\n",
    "    for i in range(n):\n",
    "        index = arr[i] // exp\n",
    "        count[index % 10] += 1\n",
    "\n",
    "    # Calculate the cumulative count of each digit\n",
    "    for i in range(1, 10):\n",
    "        count[i] += count[i-1]\n",
    "\n",
    "    # Build the output array\n",
    "    i = n - 1\n",
    "    while i >= 0:\n",
    "        index = arr[i] // exp\n",
    "        output[count[index % 10] - 1] = arr[i]\n",
    "        count[index % 10] -= 1\n",
    "        i -= 1\n",
    "\n",
    "    # Copy the output array to the original array\n",
    "    for i in range(n):\n",
    "        arr[i] = output[i]\n",
    "\n",
    "arr = [5, 2, 8, 3, 9, 4, 1, 7, 6]\n",
    "sorted_arr = radix_sort(arr)\n",
    "print(sorted_arr) "
   ]
  },
  {
   "cell_type": "markdown",
   "metadata": {},
   "source": [
    "## QUICK SORT"
   ]
  },
  {
   "cell_type": "markdown",
   "metadata": {},
   "source": [
    "![](https://www.tutorialspoint.com/data_structures_algorithms/images/quick_sort_partition_animation.gif)"
   ]
  },
  {
   "cell_type": "raw",
   "metadata": {},
   "source": [
    "---"
   ]
  },
  {
   "cell_type": "code",
   "execution_count": 9,
   "metadata": {},
   "outputs": [
    {
     "name": "stdout",
     "output_type": "stream",
     "text": [
      "[1, 2, 3, 4, 5, 6, 7, 8, 9]\n"
     ]
    }
   ],
   "source": [
    "def quick_sort(arr):\n",
    "    \"\"\"\n",
    "    Sorts an array using the quick sort algorithm.\n",
    "    \"\"\"\n",
    "    n = len(arr)\n",
    "    if n <= 1:\n",
    "        return arr\n",
    "\n",
    "    # Select a pivot element and partition the array\n",
    "    pivot = arr[n//2]\n",
    "    left, right, equal = [], [], []\n",
    "    for num in arr:\n",
    "        if num < pivot:\n",
    "            left.append(num)\n",
    "        elif num > pivot:\n",
    "            right.append(num)\n",
    "        else:\n",
    "            equal.append(num)\n",
    "\n",
    "    # Recursively sort the left and right partitions\n",
    "    left = quick_sort(left)\n",
    "    right = quick_sort(right)\n",
    "\n",
    "    # Concatenate the partitions and return the sorted array\n",
    "    return left + equal + right\n",
    "\n",
    "arr = [5, 2, 8, 3, 9, 4, 1, 7, 6]\n",
    "sorted_arr = quick_sort(arr)\n",
    "print(sorted_arr) "
   ]
  },
  {
   "cell_type": "markdown",
   "metadata": {},
   "source": [
    "## HEAP SORT"
   ]
  },
  {
   "cell_type": "markdown",
   "metadata": {},
   "source": [
    "![](https://upload.wikimedia.org/wikipedia/commons/4/4d/Heapsort-example.gif?20110419031008)"
   ]
  },
  {
   "cell_type": "raw",
   "metadata": {},
   "source": [
    "---"
   ]
  },
  {
   "cell_type": "code",
   "execution_count": 10,
   "metadata": {},
   "outputs": [
    {
     "name": "stdout",
     "output_type": "stream",
     "text": [
      "[1, 2, 3, 4, 5, 6, 7, 8, 9]\n"
     ]
    }
   ],
   "source": [
    "def heap_sort(arr):\n",
    "    \"\"\"\n",
    "    Sorts an array using the heap sort algorithm.\n",
    "    \"\"\"\n",
    "    n = len(arr)\n",
    "\n",
    "    # Build a max-heap from the array\n",
    "    for i in range(n // 2 - 1, -1, -1):\n",
    "        heapify(arr, n, i)\n",
    "\n",
    "    # Extract elements from the heap one by one and place them at the end of the array\n",
    "    for i in range(n-1, 0, -1):\n",
    "        arr[0], arr[i] = arr[i], arr[0]\n",
    "        heapify(arr, i, 0)\n",
    "\n",
    "    return arr\n",
    "\n",
    "def heapify(arr, n, i):\n",
    "    \"\"\"\n",
    "    Heapifies the subtree rooted at the given index i.\n",
    "    \"\"\"\n",
    "    largest = i\n",
    "    left = 2 * i + 1\n",
    "    right = 2 * i + 2\n",
    "\n",
    "    # Find the largest element among the root, left child, and right child\n",
    "    if left < n and arr[left] > arr[largest]:\n",
    "        largest = left\n",
    "    if right < n and arr[right] > arr[largest]:\n",
    "        largest = right\n",
    "\n",
    "    # Swap the root with the largest element if necessary\n",
    "    if largest != i:\n",
    "        arr[i], arr[largest] = arr[largest], arr[i]\n",
    "        heapify(arr, n, largest)\n",
    "\n",
    "arr = [5, 2, 8, 3, 9, 4, 1, 7, 6]\n",
    "sorted_arr = heap_sort(arr)\n",
    "print(sorted_arr)"
   ]
  }
 ],
 "metadata": {
  "kernelspec": {
   "display_name": "Python 3 (ipykernel)",
   "language": "python",
   "name": "python3"
  },
  "language_info": {
   "codemirror_mode": {
    "name": "ipython",
    "version": 3
   },
   "file_extension": ".py",
   "mimetype": "text/x-python",
   "name": "python",
   "nbconvert_exporter": "python",
   "pygments_lexer": "ipython3",
   "version": "3.11.2"
  }
 },
 "nbformat": 4,
 "nbformat_minor": 4
}
