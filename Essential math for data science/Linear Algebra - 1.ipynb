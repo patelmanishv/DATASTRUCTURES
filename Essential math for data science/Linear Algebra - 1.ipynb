{
 "cells": [
  {
   "cell_type": "raw",
   "id": "00bfeebe",
   "metadata": {},
   "source": [
    "---\n",
    "title: \"Linear Algebra foundation for Data Science\"\n",
    "format: \n",
    "    revealjs:\n",
    "        slide-number: true\n",
    "        theme: dark\n",
    "        width: 1600\n",
    "        height: 900\n",
    "        mainfont: Lato\n",
    "        highlight-style: vim-dark\n",
    "        incremental: true\n",
    "        footer: \"Manish Patel\"\n",
    "        progress: true\n",
    "jupyter: python3\n",
    "embed-resources: true\n",
    "execute:\n",
    "  echo: true\n",
    "---"
   ]
  },
  {
   "cell_type": "markdown",
   "id": "1602d776",
   "metadata": {},
   "source": [
    "## Sets"
   ]
  },
  {
   "cell_type": "markdown",
   "id": "0b3f37bb",
   "metadata": {},
   "source": [
    "- Sets are one of the most fundamental concepts in mathematics. \n",
    "- **Sets are well-defined collections of objects**. \n",
    "- Such objects are called **elements or members** of the set. \n",
    "- In the context of linear algebra, we say that a line is a set of points, and the set of all lines in the plane is a set of sets. Similarly, we can say that *vectors* are sets of points, and *matrices* sets of vectors."
   ]
  },
  {
   "cell_type": "markdown",
   "id": "18bbf617",
   "metadata": {},
   "source": [
    "## Belonging and inclusion"
   ]
  },
  {
   "cell_type": "markdown",
   "id": "c26d7231",
   "metadata": {},
   "source": [
    "We build sets using the notion of **`belonging`**. We denote that $a$ *belongs* (or is an *element* or *member* of) to $\\textit{A}$ with the Greek letter epsilon as:\n",
    "\n",
    "$$\n",
    "a \\in \\textit{A}\n",
    "$$\n",
    "\n",
    "Another important idea is **`inclusion`**, which allow us to build *subsets*. Consider sets $\\textit{A}$ and $\\textit{B}$. When every element of $\\textit{A}$ is an element of $\\textit{B}$, we say that $\\textit{A}$ is a *subset* of $\\textit{B}$, or that $\\textit{B}$ *includes* $\\textit{A}$. The notation is:\n",
    "\n",
    "$$\n",
    "\\textit{A} \\subset \\textit{B}\n",
    "$$\n",
    "\n",
    "or\n",
    "\n",
    "$$\n",
    "\\textit{B} \\supset \\textit{A}\n",
    "$$\n"
   ]
  },
  {
   "cell_type": "markdown",
   "id": "e57077a5",
   "metadata": {},
   "source": [
    "## Set specification"
   ]
  },
  {
   "cell_type": "markdown",
   "id": "8569bbee",
   "metadata": {},
   "source": [
    "In general, anything we assert about the elements of a set results in **generating a subset**. In other words, asserting things about sets is a way to manufacture subsets. Take as an example the set of all dogs, that I'll denote as $\\textit{D}$. I can assert now \"$d$ is black\". This is denoted as:\n",
    "$$\n",
    "\\textit{B} = \\{ d \\in \\textit{D} : \\text{d is black} \\}\n",
    "$$\n",
    "\n",
    "or \n",
    "\n",
    "$$\n",
    "\\textit{B} = \\{ d \\in \\textit{D} \\vert \\text{ d is black} \\}\n",
    "$$\n",
    "\n",
    "The colon ($:$) or vertical bar ($\\vert$) read as \"such that\". Therefore, we can read the above expression as: *all elements of $d$ in $\\textit{D}$ such that $d$ is black*. And that's how we obtain the set $\\textit{B}$ from $\\textit{A}$. \n",
    " "
   ]
  },
  {
   "cell_type": "markdown",
   "id": "c19405e8",
   "metadata": {},
   "source": [
    "## Ordered pairs "
   ]
  },
  {
   "cell_type": "markdown",
   "id": "b582d458",
   "metadata": {},
   "source": [
    "Consider a pair of sets $\\textit{x}$ and $\\textit{y}$. An **`unordered pair`** is a set whose elements are $\\{ \\textit{x},\\textit{y} \\}$, and $\\{ \\textit{x},\\textit{y} \\} = \\{ \\textit{y},\\textit{x} \\} $. Therefore, presentation order does not matter, the set is the same.\n",
    "\n",
    "In machine learning, we usually do care about presentation order. For this, we need to define an **`ordered pair`**. An **`ordered pair`** is denoted as $( \\textit{x},\\textit{y} )$, with $\\textit{x}$ as the *first coordinate* and $\\textit{y}$ as the *second coordinate*. A valid ordered pair has the property that $( \\textit{x},\\textit{y} ) \\ne ( \\textit{y},\\textit{x} )$."
   ]
  },
  {
   "cell_type": "markdown",
   "id": "eb83ecbc",
   "metadata": {},
   "source": [
    "## Relations"
   ]
  },
  {
   "cell_type": "markdown",
   "id": "64ce0c27",
   "metadata": {},
   "source": [
    "From ordered pairs, we can derive the idea of **`relations`** among sets or between elements and sets.   \n",
    "Relations can be binary, ternary, quaternary, or N-ary. \n",
    "In set theory, **relations** are defined as *sets of ordered pairs*, and denoted as $\\textit{R}$. Hence, we can express the relation between $\\textit{x}$ and $\\textit{y}$ as:\n",
    "\n",
    "$$\n",
    "\\textit{x R y}\n",
    "$$\n",
    "\n",
    "Further, for any $\\textit{z} \\in \\textit{R}$, there exist $\\textit{x}$ and $\\textit{y}$ such that $\\textit{z} = (\\textit{x}, \\textit{y})$. \n",
    "\n",
    "## Domain and Range\n",
    "\n",
    "From the definition of $\\textit{R}$, we can obtain the notions of **`domain`** and **`range`**. The **`domain`** is a set defined as:\n",
    "\n",
    "$$\n",
    "\\text{dom } \\textit{R} = \\{ \\textit{x:  for some y } ( \\textit{x R y)} \\}\n",
    "$$\n",
    "\n",
    "This reads as: the values of $\\textit{x}$ such that for at least one element of $\\textit{y}$, $\\textit{x}$ has a relation with $\\textit{y}$. \n",
    "\n",
    "The **`range`** is a set defined as:\n",
    "\n",
    "$$\n",
    "\\text{ran } \\textit{R} = \\{ \\textit{y:  for some x } ( \\textit{x R y)} \\}\n",
    "$$\n",
    "\n",
    "This reads: the set formed by the values of $\\text{y}$ such that at least one element of $\\textit{x}$, $\\textit{x}$ has a relation with $\\textit{y}$. "
   ]
  },
  {
   "cell_type": "markdown",
   "id": "a9774b9f",
   "metadata": {},
   "source": [
    "## Functions"
   ]
  },
  {
   "cell_type": "markdown",
   "id": "02d77350",
   "metadata": {},
   "source": [
    "Consider a pair of sets $\\textit{X}$ and $\\textit{Y}$. We say that a **`function`** from $\\textit{X}$ to $\\textit{Y}$ is relation such that:\n",
    "\n",
    "- $dom \\textit{ f} = \\textit{X}$ and\n",
    "- such that for each $\\textit{x} \\in \\textit{X}$ there is a unique element of  $\\textit{y} \\in \\textit{Y}$ with $(\\textit{x}, \\textit{y}) \\in {f}$ \n",
    "\n",
    "More informally, we say that a function \"*transform*\" or \"*maps*\" or \"*sends*\" $\\textit{x}$ onto $\\textit{y}$, and for each \"*argument*\" $\\textit{x}$ there is a unique value $\\textit{y}$ that $\\textit{f }$ \"*assumes*\" or \"*takes*\".\n",
    "\n",
    "We typically denote a relation or function or transformation or mapping from X onto Y as:\n",
    "\n",
    "$$\n",
    "\\textit{f}: \\textit{X} \\rightarrow \\textit{Y}\n",
    "$$\n",
    "or\n",
    "$$\n",
    "\\textit{f}(\\textit{x}) = \\textit{y} \n",
    "$$\n",
    "\n"
   ]
  },
  {
   "cell_type": "markdown",
   "id": "2fc03d08",
   "metadata": {},
   "source": [
    "## Functions\n",
    "\n",
    "In the figure, the left-pane shows a valid function, i.e., each value $\\textit{f}(\\textit{x})$ *maps* uniquely onto one value of $\\textit{y}$. The right-pane is not a function, since each value $\\textit{f}(\\textit{x})$ *maps* onto multiple values of $\\textit{y}$."
   ]
  },
  {
   "cell_type": "markdown",
   "id": "0e9ca7f0",
   "metadata": {},
   "source": [
    "<center>\n",
    "<img src=\"./images/b-function.svg\" width=\"1000\" height=\"700\">\n",
    "<center/>"
   ]
  },
  {
   "cell_type": "markdown",
   "id": "89ac2bf2",
   "metadata": {},
   "source": [
    "## Goal of Machine Learning"
   ]
  },
  {
   "cell_type": "markdown",
   "id": "5ccc92e0",
   "metadata": {},
   "source": [
    "**The ultimate goal of machine learning is learning functions from data**, i.e., transformations or mappings from the *domain* onto the *range* of a function.   \n",
    "This may sound simplistic, but it's true.   \n",
    "The *domain* $\\textit{X}$ is usually a vector (or set) of *`variables`* or *`features`* mapping onto a vector of *`target`* values.   \n",
    "`In machine learning the words transformation and mapping are used interchangeably, but both just mean function.`"
   ]
  },
  {
   "cell_type": "markdown",
   "id": "f2b431a3",
   "metadata": {},
   "source": [
    "## IMPORT LIBRARIES"
   ]
  },
  {
   "cell_type": "code",
   "execution_count": 3,
   "id": "8ad55dfd",
   "metadata": {},
   "outputs": [
    {
     "data": {
      "text/plain": [
       "ThemeRegistry.enable('dark')"
      ]
     },
     "execution_count": 3,
     "metadata": {},
     "output_type": "execute_result"
    }
   ],
   "source": [
    "# Libraries for this section \n",
    "import numpy as np\n",
    "import pandas as pd\n",
    "import altair as alt\n",
    "alt.themes.enable('dark')"
   ]
  },
  {
   "cell_type": "markdown",
   "id": "2e1559c7",
   "metadata": {},
   "source": [
    "# Vectors"
   ]
  },
  {
   "cell_type": "markdown",
   "id": "4a97fdf1",
   "metadata": {},
   "source": [
    "Linear algebra is the study of vectors. At the most general level, vectors are **`ordered finite lists of numbers`**.   \n",
    "Vectors are the most fundamental mathematical object in machine learning.   \n",
    "We use them to **`represent attributes of entities`**: age, sex, test scores, etc.   \n",
    "We represent vectors by a bold lower-case letter like $\\bf{v}$ or as a lower-case letter with an arrow on top like $\\vec{v}$.    \n",
    "Vectors are a type of mathematical object that can be **`added together`** and/or **`multiplied by a number`** to obtain another object of **`the same kind`**.   \n",
    "For instance, if we have a vector $\\bf{x} = \\text{age}$ and a second vector $\\bf{y} = \\text{weight}$, we can add them together and obtain a third vector $\\bf{z} = x + y$. We can also multiply $2 \\times \\bf{x}$ to obtain $2\\bf{x}$, again, a vector.   \n",
    "This is what we mean by *the same kind*: the returning object is still a *vector*. "
   ]
  },
  {
   "cell_type": "markdown",
   "id": "90c8c57c",
   "metadata": {},
   "source": [
    "## Types of vectors"
   ]
  },
  {
   "cell_type": "markdown",
   "id": "fc221b36",
   "metadata": {},
   "source": [
    "Vectors come in three flavors:   \n",
    "(1) **`geometric vectors`**   \n",
    "(2) **`polynomials`**  \n",
    "(3) and **elements of $\\mathbb{R^n}$ space**.  "
   ]
  },
  {
   "cell_type": "markdown",
   "id": "4146ac82",
   "metadata": {},
   "source": [
    "### Geometric vectors"
   ]
  },
  {
   "cell_type": "markdown",
   "id": "5702dd68",
   "metadata": {},
   "source": [
    "**`Geometric vectors are oriented segments`**.   \n",
    "Many linear algebra concepts come from the geometric point of view of vectors: `space, plane, distance,` etc."
   ]
  },
  {
   "cell_type": "markdown",
   "id": "760ab04e",
   "metadata": {},
   "source": [
    "## "
   ]
  },
  {
   "cell_type": "markdown",
   "id": "c157eb7e",
   "metadata": {},
   "source": [
    "<center> Fig. 2: Geometric vectors <center/>"
   ]
  },
  {
   "cell_type": "markdown",
   "id": "71612b21",
   "metadata": {},
   "source": [
    "<center>\n",
    "<img src=\"./images/b-geometric-vectors.svg\">\n",
    "<center/>"
   ]
  },
  {
   "cell_type": "markdown",
   "id": "9278315b",
   "metadata": {},
   "source": [
    "## Polynomials"
   ]
  },
  {
   "cell_type": "markdown",
   "id": "6a052785",
   "metadata": {},
   "source": [
    "**`A polynomial is an expression` like $f(x) = x^2 + y + 1$**. This is, a expression adding multiple \"`terms`\" (nomials). Polynomials are vectors because they meet the definition of a vector: they can be added together to get another polynomial, and they can be multiplied together to get another polynomial. "
   ]
  },
  {
   "cell_type": "markdown",
   "id": "9df87867",
   "metadata": {},
   "source": [
    "$$\n",
    "\\text{function addition is valid} \\\\\n",
    "f(x) + g(x)\\\\\n",
    "$$\n",
    "$$\n",
    "and\\\\\n",
    "$$\n",
    "$$\n",
    "\\text{multiplying by a scalar is valid} \\\\\n",
    "5 \\times f(x)\n",
    "$$"
   ]
  },
  {
   "cell_type": "markdown",
   "id": "21e9a1f5",
   "metadata": {},
   "source": [
    "## Polynomials "
   ]
  },
  {
   "cell_type": "markdown",
   "id": "565a3836",
   "metadata": {},
   "source": [
    "<center> Fig. 3: Polynomials <center/>"
   ]
  },
  {
   "cell_type": "markdown",
   "id": "dc6d88f7",
   "metadata": {},
   "source": [
    "<center>\n",
    "<img src=\"./images/b-polynomials-vectors.svg\">\n",
    "<center/>"
   ]
  },
  {
   "cell_type": "markdown",
   "id": "756629b1",
   "metadata": {},
   "source": [
    "## Elements of $\\mathbb{R}^n$"
   ]
  },
  {
   "cell_type": "markdown",
   "id": "486a56ef",
   "metadata": {},
   "source": [
    "**Elements of $\\mathbb{R}^n$ are sets of real numbers**. This type of representation is arguably the most important for applied machine learning. It is how data is commonly represented in computers to build machine learning models. For instance, a vector in $\\mathbb{R}^3$ takes the shape of:\n",
    "\n",
    "$$\n",
    "\\bf{x}=\n",
    "\\begin{bmatrix}\n",
    "x_1 \\\\\n",
    "x_2 \\\\\n",
    "x_3\n",
    "\\end{bmatrix}\n",
    "\\in \\mathbb{R}^3\n",
    "$$\n"
   ]
  },
  {
   "cell_type": "markdown",
   "id": "a6fa0109",
   "metadata": {},
   "source": [
    "## Polynomial Operations {.smaller}"
   ]
  },
  {
   "cell_type": "markdown",
   "id": "fa7be6e5",
   "metadata": {},
   "source": [
    "$$\n",
    "\\text{addition is valid} \\\\\n",
    "\\phantom{space}\\\\\n",
    "\\begin{bmatrix}\n",
    "1 \\\\\n",
    "2 \\\\\n",
    "3\n",
    "\\end{bmatrix} +\n",
    "\\begin{bmatrix}\n",
    "1 \\\\\n",
    "2 \\\\\n",
    "3\n",
    "\\end{bmatrix}=\n",
    "\\begin{bmatrix}\n",
    "2 \\\\\n",
    "4 \\\\\n",
    "6\n",
    "\\end{bmatrix}\\\\\n",
    "$$\n",
    "$$\n",
    "and\\\\\n",
    "$$\n",
    "$$\n",
    "\\text{multiplying by a scalar is valid} \\\\\n",
    "\\phantom{space}\\\\\n",
    "5 \\times\n",
    "\\begin{bmatrix}\n",
    "1 \\\\\n",
    "2 \\\\\n",
    "3\n",
    "\\end{bmatrix} = \n",
    "\\begin{bmatrix}\n",
    "5 \\\\\n",
    "10 \\\\\n",
    "15\n",
    "\\end{bmatrix}\n",
    "$$"
   ]
  },
  {
   "cell_type": "markdown",
   "id": "f27f6e4f",
   "metadata": {},
   "source": [
    "## Numpy Arrays "
   ]
  },
  {
   "cell_type": "markdown",
   "id": "594e0f88",
   "metadata": {},
   "source": [
    "In `NumPy` vectors are represented as n-dimensional arrays. To create a vector in $\\mathbb{R^3}$:"
   ]
  },
  {
   "cell_type": "code",
   "execution_count": 2,
   "id": "b0365dd3",
   "metadata": {},
   "outputs": [],
   "source": [
    "x = np.array([[1],\n",
    "              [2],\n",
    "              [3]])"
   ]
  },
  {
   "cell_type": "markdown",
   "id": "af36ce20",
   "metadata": {},
   "source": [
    "We can inspect the vector shape by:"
   ]
  },
  {
   "cell_type": "code",
   "execution_count": 3,
   "id": "e8d75acc",
   "metadata": {},
   "outputs": [
    {
     "data": {
      "text/plain": [
       "(3, 1)"
      ]
     },
     "execution_count": 3,
     "metadata": {},
     "output_type": "execute_result"
    }
   ],
   "source": [
    "x.shape # (3 dimensions, 1 element on each)"
   ]
  },
  {
   "cell_type": "code",
   "execution_count": 4,
   "id": "6141fd14",
   "metadata": {},
   "outputs": [
    {
     "name": "stdout",
     "output_type": "stream",
     "text": [
      "A 3-dimensional vector:\n",
      "[[1]\n",
      " [2]\n",
      " [3]]\n"
     ]
    }
   ],
   "source": [
    "print(f'A 3-dimensional vector:\\n{x}')"
   ]
  },
  {
   "cell_type": "markdown",
   "id": "65731f45",
   "metadata": {},
   "source": [
    "## Zero vector, unit vector, and sparse vector {.smaller}"
   ]
  },
  {
   "cell_type": "markdown",
   "id": "e47c4e1d",
   "metadata": {},
   "source": [
    "**`Zero vectors`**, are vectors composed of zeros, and zeros only. It is common to see this vector denoted as simply $0$, regardless of the dimensionality. Hence, you may see a 3-dimensional or 10-dimensional with all entries equal to 0, refered as \"the 0\" vector. For instance:\n",
    "\n",
    "$$\n",
    "\\bf{0} = \n",
    "\\begin{bmatrix}\n",
    "0\\\\\n",
    "0\\\\\n",
    "0\n",
    "\\end{bmatrix}\n",
    "$$\n",
    "\n",
    "**`Unit vectors`**, are vectors composed of a single element equal to one, and the rest to zero. Unit vectors are important to understand applications like norms. For instance, $\\bf{x_1}$, $\\bf{x_2}$, and $\\bf{x_3}$ are unit vectors:\n",
    "\n",
    "$$\n",
    "\\bf{x_1} = \n",
    "\\begin{bmatrix}\n",
    "1\\\\\n",
    "0\\\\\n",
    "0\n",
    "\\end{bmatrix},\n",
    "\\bf{x_2} = \n",
    "\\begin{bmatrix}\n",
    "0\\\\\n",
    "1\\\\\n",
    "0\n",
    "\\end{bmatrix},\n",
    "\\bf{x_3} = \n",
    "\\begin{bmatrix}\n",
    "0\\\\\n",
    "0\\\\\n",
    "1\n",
    "\\end{bmatrix}\n",
    "$$\n",
    "\n",
    "**`Sparse vectors`**, are vectors with most of its elements equal to zero. We denote the number of nonzero elements of a vector $\\bf{x}$ as $nnz(x)$. The sparser possible vector is the zero vector. Sparse vectors are common in machine learning applications and often require some type of method to deal with them effectively.  "
   ]
  },
  {
   "cell_type": "markdown",
   "id": "f8800a0e",
   "metadata": {},
   "source": [
    "\n",
    "## Vector dimensions and coordinate system"
   ]
  },
  {
   "cell_type": "markdown",
   "id": "a8e4a3e2",
   "metadata": {},
   "source": [
    "Vectors can have any number of dimensions.   \n",
    "The most common are the 2-dimensional cartesian plane, and the 3-dimensional space.   \n",
    "Vectors in 2 and 3 dimensions are used often for pedgagogical purposes since we can visualize them as geometric vectors.   Nevetheless, most problems in machine learning entail more dimensions, sometiome hundreds or thousands of dimensions.   \n",
    "The notation for a vector $\\bf{x}$ of arbitrary dimensions, $n$ is:  \n",
    "\n",
    "$$\n",
    "\\bf{x} = \n",
    "\\begin{bmatrix}\n",
    "x_1 \\\\ x_2 \\\\ \\vdots \\\\ x_n\n",
    "\\end{bmatrix}\n",
    "\\in \\mathbb{R}^n\n",
    "$$\n",
    "\n",
    "## Coordinate system\n",
    "\n",
    "Vectors dimensions map into **coordinate systems or perpendicular axes**.   \n",
    "Coordinate systems have an origin at $(0,0,0)$, hence, when we define a vector:\n",
    "\n",
    "$$\\bf{x} = \\begin{bmatrix} 3 \\\\ 2 \\\\ 1 \\end{bmatrix} \\in \\mathbb{R}^3$$\n"
   ]
  },
  {
   "cell_type": "markdown",
   "id": "85d92544",
   "metadata": {},
   "source": [
    "## Graphical Example"
   ]
  },
  {
   "cell_type": "markdown",
   "id": "2b2820ea",
   "metadata": {},
   "source": [
    "<center> Fig. 4: Coordinate systems <center/>"
   ]
  },
  {
   "cell_type": "markdown",
   "id": "ec2b9b26",
   "metadata": {},
   "source": [
    "<center>\n",
    "<img src=\"./images/b-coordinate-system.svg\">\n",
    "<center/>"
   ]
  },
  {
   "cell_type": "markdown",
   "id": "2c2a1859",
   "metadata": {},
   "source": [
    "## Basic vector operations"
   ]
  },
  {
   "cell_type": "markdown",
   "id": "7d1b5ecd",
   "metadata": {},
   "source": [
    "### Vector-vector addition "
   ]
  },
  {
   "cell_type": "markdown",
   "id": "7a1edc0d",
   "metadata": {},
   "source": [
    "We used vector-vector addition to define vectors without defining vector-vector addition. Vector-vector addition is an element-wise operation, only defined for vectors of the same size (i.e., number of elements). Consider two vectors of the same size, then: \n",
    "\n",
    "$$\n",
    "\\bf{x} + \\bf{y} = \n",
    "\\begin{bmatrix}\n",
    "x_1\\\\\n",
    "\\vdots\\\\\n",
    "x_n\n",
    "\\end{bmatrix}+\n",
    "\\begin{bmatrix}\n",
    "y_1\\\\\n",
    "\\vdots\\\\\n",
    "y_n\n",
    "\\end{bmatrix} =\n",
    "\\begin{bmatrix}\n",
    "x_1 + y_1\\\\\n",
    "\\vdots\\\\\n",
    "x_n + y_n\n",
    "\\end{bmatrix}\n",
    "$$"
   ]
  },
  {
   "cell_type": "markdown",
   "id": "dbbe8716",
   "metadata": {},
   "source": [
    "For instance:"
   ]
  },
  {
   "cell_type": "markdown",
   "id": "12c09a5a",
   "metadata": {},
   "source": [
    "$$\n",
    "\\bf{x} + \\bf{y} = \n",
    "\\begin{bmatrix}\n",
    "1\\\\\n",
    "2\\\\\n",
    "3\n",
    "\\end{bmatrix}+\n",
    "\\begin{bmatrix}\n",
    "1\\\\\n",
    "2\\\\\n",
    "3\n",
    "\\end{bmatrix} =\n",
    "\\begin{bmatrix}\n",
    "1 + 1\\\\\n",
    "2 + 2\\\\\n",
    "3 + 3\n",
    "\\end{bmatrix} =\n",
    "\\begin{bmatrix}\n",
    "2\\\\\n",
    "4\\\\\n",
    "6\n",
    "\\end{bmatrix}\n",
    "$$"
   ]
  },
  {
   "cell_type": "markdown",
   "id": "90a6dcbe",
   "metadata": {},
   "source": [
    "## PROPERTIES"
   ]
  },
  {
   "cell_type": "markdown",
   "id": "5f481e30",
   "metadata": {},
   "source": [
    "Vector addition has a series of **fundamental properties** worth mentioning:\n",
    "\n",
    "1. `Commutativity`: $x + y = y + x$\n",
    "2. `Associativity`: $(x + y) + z = x + (y + z)$\n",
    "3. `Adding the zero vector has no effect`: $x + 0 = 0 + x = x$\n",
    "4. `Substracting a vector from itself returns the zero vector`: $x - x = 0$"
   ]
  },
  {
   "cell_type": "markdown",
   "id": "1f332af4",
   "metadata": {},
   "source": [
    "## NUMPY "
   ]
  },
  {
   "cell_type": "markdown",
   "id": "711b3915",
   "metadata": {},
   "source": [
    "In `NumPy`, we add two vectors of the same with the `+` operator or the `add` method:"
   ]
  },
  {
   "cell_type": "code",
   "execution_count": 5,
   "id": "2a47cc21",
   "metadata": {},
   "outputs": [],
   "source": [
    "x = y = np.array([[1],\n",
    "                  [2],\n",
    "                  [3]])"
   ]
  },
  {
   "cell_type": "code",
   "execution_count": 6,
   "id": "cb8b66b8",
   "metadata": {},
   "outputs": [
    {
     "data": {
      "text/plain": [
       "array([[2],\n",
       "       [4],\n",
       "       [6]])"
      ]
     },
     "execution_count": 6,
     "metadata": {},
     "output_type": "execute_result"
    }
   ],
   "source": [
    "x + y"
   ]
  },
  {
   "cell_type": "code",
   "execution_count": 7,
   "id": "42da9714",
   "metadata": {},
   "outputs": [
    {
     "data": {
      "text/plain": [
       "array([[2],\n",
       "       [4],\n",
       "       [6]])"
      ]
     },
     "execution_count": 7,
     "metadata": {},
     "output_type": "execute_result"
    }
   ],
   "source": [
    "np.add(x,y)"
   ]
  },
  {
   "cell_type": "markdown",
   "id": "afbe9837",
   "metadata": {},
   "source": [
    "## Vector-scalar multiplication"
   ]
  },
  {
   "cell_type": "markdown",
   "id": "22b29137",
   "metadata": {},
   "source": [
    "Vector-scalar multiplication is an element-wise operation. It's defined as:"
   ]
  },
  {
   "cell_type": "markdown",
   "id": "4c5d69ef",
   "metadata": {},
   "source": [
    "$$\n",
    "\\alpha \\bf{x} = \n",
    "\\begin{bmatrix}\n",
    "\\alpha \\bf{x_1}\\\\\n",
    "\\vdots \\\\\n",
    "\\alpha \\bf{x_n}\n",
    "\\end{bmatrix}\n",
    "$$"
   ]
  },
  {
   "cell_type": "markdown",
   "id": "e4bc4353",
   "metadata": {},
   "source": [
    "Consider $\\alpha = 2$ and $\\bf{x} = \\begin{bmatrix} 1 \\\\ 2 \\\\ 3 \\end{bmatrix}$:"
   ]
  },
  {
   "cell_type": "markdown",
   "id": "84af7a65",
   "metadata": {},
   "source": [
    "$$\n",
    "\\alpha \\bf{x} = \n",
    "\\begin{bmatrix}\n",
    "2 \\times 1\\\\\n",
    "2 \\times 2\\\\\n",
    "2 \\times 3\n",
    "\\end{bmatrix} = \n",
    "\\begin{bmatrix}\n",
    "2\\\\\n",
    "4\\\\\n",
    "6\n",
    "\\end{bmatrix}\n",
    "$$"
   ]
  },
  {
   "cell_type": "markdown",
   "id": "7d5dbe93",
   "metadata": {},
   "source": [
    "## PROPERTIES"
   ]
  },
  {
   "cell_type": "markdown",
   "id": "eeb3a9b3",
   "metadata": {},
   "source": [
    "Vector-scalar multiplication satisfies a series of important properties:\n",
    "\n",
    "1. `Associativity`: $(\\alpha \\beta) \\bf{x} = \\alpha (\\beta \\bf{x})$\n",
    "2. `Left-distributive property`: $(\\alpha + \\beta) \\bf{x} = \\alpha \\bf{x} + \\beta \\bf{x}$\n",
    "3. `Right-distributive property`: $\\bf{x} (\\alpha + \\beta) = \\bf{x} \\alpha + \\bf{x} \\beta$\n",
    "4. `Right-distributive property for vector addition`: $\\alpha (\\bf{x} + \\bf{y}) = \\alpha \\bf{x} + \\alpha \\bf{y}$"
   ]
  },
  {
   "cell_type": "markdown",
   "id": "2c3fc117",
   "metadata": {},
   "source": [
    "## NUMPY MULTIPLICATIONS "
   ]
  },
  {
   "cell_type": "markdown",
   "id": "e8bb95cc",
   "metadata": {},
   "source": [
    "In `NumPy`, we compute scalar-vector multiplication with the `*` operator:"
   ]
  },
  {
   "cell_type": "code",
   "execution_count": 8,
   "id": "075b512c",
   "metadata": {},
   "outputs": [],
   "source": [
    "alpha = 2\n",
    "x = np.array([[1],\n",
    "             [2],\n",
    "             [3]])"
   ]
  },
  {
   "cell_type": "code",
   "execution_count": 9,
   "id": "8338e6eb",
   "metadata": {},
   "outputs": [
    {
     "data": {
      "text/plain": [
       "array([[2],\n",
       "       [4],\n",
       "       [6]])"
      ]
     },
     "execution_count": 9,
     "metadata": {},
     "output_type": "execute_result"
    }
   ],
   "source": [
    "alpha * x"
   ]
  },
  {
   "cell_type": "markdown",
   "id": "68ea6a6b",
   "metadata": {},
   "source": [
    "## Linear combinations of vectors {.smaller}"
   ]
  },
  {
   "cell_type": "markdown",
   "id": "19f25731",
   "metadata": {},
   "source": [
    "There are only two legal operations with vectors in linear algebra: **addition** and **multiplication by numbers**. When we combine those, we get a **linear combination**."
   ]
  },
  {
   "cell_type": "markdown",
   "id": "2d706492",
   "metadata": {},
   "source": [
    "$$\n",
    "\\alpha \\bf{x} + \\beta \\bf{y} = \n",
    "\\alpha\n",
    "\\begin{bmatrix}\n",
    "x_1 \\\\ \n",
    "x_2\n",
    "\\end{bmatrix}+\n",
    "\\beta\n",
    "\\begin{bmatrix}\n",
    "y_1 \\\\ \n",
    "y_2\n",
    "\\end{bmatrix}=\n",
    "\\begin{bmatrix}\n",
    "\\alpha x_1 + \\alpha x_2\\\\ \n",
    "\\beta y_1 + \\beta y_2\n",
    "\\end{bmatrix}\n",
    "$$"
   ]
  },
  {
   "cell_type": "markdown",
   "id": "d67bed9f",
   "metadata": {},
   "source": [
    "Consider $\\alpha = 2$, $\\beta = 3$, $\\bf{x}=\\begin{bmatrix}2 \\\\ 3\\end{bmatrix}$, and $\\begin{bmatrix}4 \\\\ 5\\end{bmatrix}$.\n",
    "\n",
    "We obtain:"
   ]
  },
  {
   "cell_type": "markdown",
   "id": "0c21941b",
   "metadata": {},
   "source": [
    "$$\n",
    "\\alpha \\bf{x} + \\beta \\bf{y} = \n",
    "2\n",
    "\\begin{bmatrix}\n",
    "2 \\\\ \n",
    "3\n",
    "\\end{bmatrix}+\n",
    "3\n",
    "\\begin{bmatrix}\n",
    "4 \\\\ \n",
    "5\n",
    "\\end{bmatrix}=\n",
    "\\begin{bmatrix}\n",
    "2 \\times 2 + 2 \\times 4\\\\ \n",
    "2 \\times 3 + 3 \\times 5\n",
    "\\end{bmatrix}=\n",
    "\\begin{bmatrix}\n",
    "10 \\\\\n",
    "21\n",
    "\\end{bmatrix}\n",
    "$$"
   ]
  },
  {
   "cell_type": "markdown",
   "id": "49d5e421",
   "metadata": {},
   "source": [
    "Another way to express linear combinations you'll see often is with summation notation. Consider a set of vectors $x_1, ..., x_k$ and scalars $\\beta_1, ..., \\beta_k \\in \\mathbb{R}$, then:   "
   ]
  },
  {
   "cell_type": "markdown",
   "id": "885145a9",
   "metadata": {},
   "source": [
    "$$\n",
    "\\sum_{i=1}^k \\beta_i x_i := \\beta_1x_1 + ... + \\beta_kx_k\n",
    "$$"
   ]
  },
  {
   "cell_type": "markdown",
   "id": "6e7c6f48",
   "metadata": {},
   "source": [
    "Note that $:=$ means \"*is defined as*\".\n",
    "\n",
    "Linear combinations are the most fundamental operation in linear algebra. Everything in linear algebra results from linear combinations. For instance, linear regression is a linear combination of vectors. **Fig. 2** shows an example of how adding two geometrical vectors looks like for intuition."
   ]
  },
  {
   "cell_type": "markdown",
   "id": "0ff780a8",
   "metadata": {},
   "source": [
    "## NUMPY LINEAR COMBINATION "
   ]
  },
  {
   "cell_type": "markdown",
   "id": "ad16959d",
   "metadata": {},
   "source": [
    "In `NumPy`, we do linear combinations as:"
   ]
  },
  {
   "cell_type": "code",
   "execution_count": 10,
   "id": "e2d7a553",
   "metadata": {},
   "outputs": [],
   "source": [
    "a, b = 2, 3\n",
    "x , y = np.array([[2],[3]]), np.array([[4], [5]])"
   ]
  },
  {
   "cell_type": "code",
   "execution_count": 11,
   "id": "81b504ac",
   "metadata": {},
   "outputs": [
    {
     "data": {
      "text/plain": [
       "array([[16],\n",
       "       [21]])"
      ]
     },
     "execution_count": 11,
     "metadata": {},
     "output_type": "execute_result"
    }
   ],
   "source": [
    "a*x + b*y"
   ]
  },
  {
   "cell_type": "markdown",
   "id": "8fad8adb",
   "metadata": {},
   "source": [
    "## Vector-vector multiplication: dot product {.smaller}"
   ]
  },
  {
   "cell_type": "markdown",
   "id": "ff7257aa",
   "metadata": {},
   "source": [
    "Vector-vector multiplication is commonly known as a **dot product** or **inner product**. The dot product of $\\bf{x}$ and $\\bf{y}$ is defined as: \n",
    "\n",
    "$$\n",
    "\\bf{x} \\cdot \\bf{y} :=\n",
    "\\begin{bmatrix}\n",
    "x_1 \\\\\n",
    "x_2\n",
    "\\end{bmatrix}^T\n",
    "\\begin{bmatrix}\n",
    "y_1 \\\\\n",
    "y_2\n",
    "\\end{bmatrix} =\n",
    "\\begin{bmatrix}\n",
    "x_1 & x_2\n",
    "\\end{bmatrix}\n",
    "\\begin{bmatrix}\n",
    "y_1 \\\\\n",
    "y_2\n",
    "\\end{bmatrix} =\n",
    "x_1 \\times y_1 + x_2 \\times y_2 \n",
    "$$\n",
    "\n",
    "Where the $T$ superscript denotes the transpose of the vector. Transposing a vector just means to \"flip\" the column vector to a row vector counterclockwise. For instance:\n",
    "\n",
    "$$\n",
    "\\bf{x} \\cdot \\bf{y} =\n",
    "\\begin{bmatrix}\n",
    "-2 \\\\\n",
    "2\n",
    "\\end{bmatrix}\n",
    "\\begin{bmatrix}\n",
    "4 \\\\\n",
    "-3\n",
    "\\end{bmatrix} =\n",
    "\\begin{bmatrix}\n",
    "-2 & 2\n",
    "\\end{bmatrix}\n",
    "\\begin{bmatrix}\n",
    "4 \\\\\n",
    "-3\n",
    "\\end{bmatrix} =\n",
    "-2 \\times 4 + 2 \\times -3 = (-8) + (-6) = -14  \n",
    "$$\n",
    "\n"
   ]
  },
  {
   "cell_type": "markdown",
   "id": "6548b1fd",
   "metadata": {},
   "source": [
    "## Example"
   ]
  },
  {
   "cell_type": "markdown",
   "id": "afcf4835",
   "metadata": {},
   "source": [
    "\n",
    "To multiply two vectors with dimensions (rows=2, cols=1) in `Numpy`, we need to transpose the first vector at using the `@` operator:"
   ]
  },
  {
   "cell_type": "code",
   "execution_count": 1,
   "id": "1a5108b1",
   "metadata": {},
   "outputs": [
    {
     "name": "stdout",
     "output_type": "stream",
     "text": [
      "[[-2]\n",
      " [ 2]]\n",
      "[[ 4]\n",
      " [-3]]\n"
     ]
    }
   ],
   "source": [
    "import numpy as np\n",
    "x, y = np.array([[-2],[2]]), np.array([[4],[-3]])\n",
    "print(x)\n",
    "print(y)"
   ]
  },
  {
   "cell_type": "code",
   "execution_count": 3,
   "id": "1fb01a00",
   "metadata": {},
   "outputs": [
    {
     "name": "stdout",
     "output_type": "stream",
     "text": [
      "[[-2  2]]\n"
     ]
    }
   ],
   "source": [
    "print(x.T)"
   ]
  },
  {
   "cell_type": "code",
   "execution_count": 2,
   "id": "21d9e2d9",
   "metadata": {},
   "outputs": [
    {
     "data": {
      "text/plain": [
       "array([[-14]])"
      ]
     },
     "execution_count": 2,
     "metadata": {},
     "output_type": "execute_result"
    }
   ],
   "source": [
    "x.T @ y"
   ]
  },
  {
   "cell_type": "markdown",
   "id": "143e2d70",
   "metadata": {},
   "source": [
    "# Vector space, span, and subspace"
   ]
  },
  {
   "cell_type": "markdown",
   "id": "31330533",
   "metadata": {},
   "source": [
    "## Vector space"
   ]
  },
  {
   "cell_type": "markdown",
   "id": "02f961d7",
   "metadata": {},
   "source": [
    "In its more general form, a **`vector space`**, also known as **`linear space`**, is a collection of objects that follow the rules defined for vectors in $\\mathbb{R}^n$.   \n",
    "More colloquially, a vector space is the set of proper vectors and all possible linear combinations of the vector set.   \n",
    "In addition, vector addition and multiplication must follow these eight rules:   \n",
    "\n",
    "1. `Commutativity`: $x + y = y + x$\n",
    "2. `Associativity`: $x + (y + x) = (y + x) + z$\n",
    "3. `Unique zero vector`: $x + 0 = x$ $\\forall$ $x$ \n",
    "4.  $\\forall$ $x$ there is a unique vector $x$ such that $x + -x = 0$\n",
    "5. identity element of scalar multiplication: $1x = x$\n",
    "6. distributivity of scalar multiplication w.r.t vector addition: $x(y + z) = xz + zy$\n",
    "7. $x(yz) = (xy)z$\n",
    "8. $(y + z)x = yx + zx$\n"
   ]
  },
  {
   "cell_type": "markdown",
   "id": "9453b4dc",
   "metadata": {},
   "source": [
    "## Vector span {.smaller}"
   ]
  },
  {
   "cell_type": "markdown",
   "id": "0dfe415c",
   "metadata": {},
   "source": [
    "Consider the vectors $\\bf{x}$ and $\\bf{y}$ and the scalars $\\alpha$ and $\\beta$. If we take *all* possible linear combinations of $\\alpha \\bf{x} + \\beta \\bf{y}$ we would obtain the **span** of such vectors. "
   ]
  },
  {
   "cell_type": "markdown",
   "id": "f5cee5af",
   "metadata": {},
   "source": [
    "<center> Fig. 5: Vector Span <center/>"
   ]
  },
  {
   "cell_type": "markdown",
   "id": "c2506130",
   "metadata": {},
   "source": [
    "<center>\n",
    "<img src=\"./images/b-vector-span.svg\">\n",
    "<center/>"
   ]
  },
  {
   "cell_type": "markdown",
   "id": "15484b85",
   "metadata": {},
   "source": [
    "## Vector subspaces"
   ]
  },
  {
   "cell_type": "markdown",
   "id": "e259dcbc",
   "metadata": {},
   "source": [
    "A **`vector subspace` (or linear subspace) is a vector space that lies within a larger vector space**. These are also known as linear subspaces. Consider a subspace $S$. For a vector to be a valid subspace it has to meet **three conditions**:\n",
    "\n",
    "1. Contains the zero vector, $\\bf{0} \\in S$\n",
    "2. Closure under multiplication, $\\forall \\alpha \\in \\mathbb{R} \\rightarrow  \\alpha \\times s_i \\in S$\n",
    "3. Closure under addition, $\\forall s_i \\in S \\rightarrow  s_1 + s_2 \\in S$\n"
   ]
  },
  {
   "cell_type": "markdown",
   "id": "c0bc63a2",
   "metadata": {},
   "source": [
    "##"
   ]
  },
  {
   "cell_type": "markdown",
   "id": "42348d1d",
   "metadata": {},
   "source": [
    "<center> Fig. 6: Vector subspaces <center/>"
   ]
  },
  {
   "cell_type": "markdown",
   "id": "ae751ff6",
   "metadata": {},
   "source": [
    "<center>\n",
    "<img src=\"./images/b-vector-subspace.svg\">\n",
    "<center/>"
   ]
  },
  {
   "cell_type": "markdown",
   "id": "393999b8",
   "metadata": {},
   "source": [
    "## Example  - Part 1"
   ]
  },
  {
   "cell_type": "markdown",
   "id": "a89108d2",
   "metadata": {},
   "source": [
    "Is $\\bf{x}=\\begin{bmatrix} 1 \\\\ 1 \\end{bmatrix}$ a valid subspace of $\\mathbb{R^2}$?   \n",
    "Let's evaluate $\\bf{x}$ on the three conditions:\n",
    "\n",
    "**`Contains the zero vector`**: it does. Remember that the span of a vector are all linear combinations of such a vector. Therefore, we can simply multiply by $0$ to get $\\begin{bmatrix}0 \\\\ 0 \\end{bmatrix}$:\n",
    "\n",
    "$$\n",
    "\\bf{x}\\times 0=0\n",
    "\\begin{bmatrix}\n",
    "1 \\\\ \n",
    "1 \n",
    "\\end{bmatrix}\n",
    "=\n",
    "\\begin{bmatrix}\n",
    "0 \\\\ \n",
    "0 \n",
    "\\end{bmatrix}\n",
    "$$"
   ]
  },
  {
   "cell_type": "markdown",
   "id": "2a4b6645",
   "metadata": {},
   "source": [
    "## Example - Part 2"
   ]
  },
  {
   "cell_type": "markdown",
   "id": "dd16d019",
   "metadata": {},
   "source": [
    "**`Closure under multiplication`** implies that if take any vector belonging to $\\bf{x}$ and multiply by any real scalar $\\alpha$, the resulting vector stays within the span of $\\bf{x}$. Algebraically is easy to see that we can multiply $\\begin{bmatrix} 1 \\\\ 1 \\end{bmatrix}$ by any scalar $\\alpha$, and the resulting vector remains in the 2-dimensional plane (i.e., the span of $\\mathbb{R}^2$)."
   ]
  },
  {
   "cell_type": "markdown",
   "id": "9bddbf76",
   "metadata": {},
   "source": [
    "**`Closure under addition`** implies that if we add together any vectors belonging to $\\bf{x}$, the resulting vector remains within the span of $\\mathbb{R}^2$. Again, algebraically is clear that if we add $\\bf{x}$ + $\\bf{x}$, the resulting vector will remain in $\\mathbb{R}^2$. There is no way to get to $\\mathbb{R^3}$ or $\\mathbb{R^4}$ or any space outside the two-dimensional plane by adding $\\bf{x}$ multiple times. "
   ]
  }
 ],
 "metadata": {
  "kernelspec": {
   "display_name": "Python 3 (ipykernel)",
   "language": "python",
   "name": "python3"
  },
  "language_info": {
   "codemirror_mode": {
    "name": "ipython",
    "version": 3
   },
   "file_extension": ".py",
   "mimetype": "text/x-python",
   "name": "python",
   "nbconvert_exporter": "python",
   "pygments_lexer": "ipython3",
   "version": "3.10.9"
  }
 },
 "nbformat": 4,
 "nbformat_minor": 5
}
