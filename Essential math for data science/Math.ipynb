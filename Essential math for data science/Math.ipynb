{
 "cells": [
  {
   "cell_type": "raw",
   "id": "b7264615",
   "metadata": {},
   "source": [
    "---\n",
    "title: \"Esssential Math for Data Science\"\n",
    "format: \n",
    "    revealjs:\n",
    "        slide-number: true\n",
    "        theme: dark\n",
    "        width: 1400\n",
    "        height: 900\n",
    "        highlight-style: vim-dark\n",
    "        center: true\n",
    "        incremental: true\n",
    "        footer: \"Manish Patel\"\n",
    "        progress: true\n",
    "jupyter: python3\n",
    "embed-resources: true\n",
    "execute:\n",
    "  echo: true\n",
    "---"
   ]
  },
  {
   "cell_type": "markdown",
   "id": "74dfc53a",
   "metadata": {},
   "source": [
    "## Three pillars of data science & ML "
   ]
  },
  {
   "cell_type": "markdown",
   "id": "e8cef725",
   "metadata": {},
   "source": [
    "![](https://www.freecodecamp.org/news/content/images/2021/08/pillars_ds.png)"
   ]
  },
  {
   "cell_type": "markdown",
   "id": "1300e357",
   "metadata": {},
   "source": [
    "## Data Science Roles"
   ]
  },
  {
   "cell_type": "markdown",
   "id": "589f1623",
   "metadata": {},
   "source": [
    "![](images/dsvenn.png)"
   ]
  },
  {
   "cell_type": "markdown",
   "id": "157e657d",
   "metadata": {},
   "source": [
    "## APPLICATIONS OF LINEAR ALGEBRA "
   ]
  },
  {
   "cell_type": "markdown",
   "id": "fd55dc7c",
   "metadata": {},
   "source": [
    "![](https://media5.datahacker.rs/2020/03/73-2-1.jpg)"
   ]
  },
  {
   "cell_type": "markdown",
   "id": "bbff82ab",
   "metadata": {},
   "source": [
    "## Data Science Roadmap{background-color=\"aquamarine\"}\n",
    "![](https://miro.medium.com/v2/resize:fit:1400/format:webp/1*QDmmmgCKwq828aatsvdwcw.png)"
   ]
  }
 ],
 "metadata": {
  "kernelspec": {
   "display_name": "Python 3 (ipykernel)",
   "language": "python",
   "name": "python3"
  },
  "language_info": {
   "codemirror_mode": {
    "name": "ipython",
    "version": 3
   },
   "file_extension": ".py",
   "mimetype": "text/x-python",
   "name": "python",
   "nbconvert_exporter": "python",
   "pygments_lexer": "ipython3",
   "version": "3.10.9"
  }
 },
 "nbformat": 4,
 "nbformat_minor": 5
}
