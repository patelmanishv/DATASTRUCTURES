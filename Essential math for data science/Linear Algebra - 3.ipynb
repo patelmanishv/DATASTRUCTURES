{
 "cells": [
  {
   "cell_type": "raw",
   "id": "389786a8",
   "metadata": {},
   "source": [
    "---\n",
    "title: \"Linear Algebra foundation for Data Science\"\n",
    "format: \n",
    "    revealjs:\n",
    "        slide-number: true\n",
    "        theme: dark\n",
    "        width: 1600\n",
    "        height: 900\n",
    "        mainfont: Lato\n",
    "        highlight-style: vim-dark\n",
    "        incremental: true\n",
    "        footer: \"Manish Patel\"\n",
    "        progress: true\n",
    "jupyter: python3\n",
    "embed-resources: true\n",
    "execute:\n",
    "  echo: true\n",
    "---"
   ]
  },
  {
   "cell_type": "markdown",
   "id": "e75ecfe9",
   "metadata": {},
   "source": [
    "## Systems of linear equations"
   ]
  },
  {
   "cell_type": "markdown",
   "id": "71a3074b",
   "metadata": {},
   "source": [
    "The purpose of linear algebra as a tool is to **solve systems of linear equations**.  One can express this as a linear equation: \n",
    "\n",
    "$$\n",
    "f_\\text{flour} \\times w_1 + b_\\text{baking powder}  \\times w_2 + e_\\text{eggs}  \\times w_3 + m_\\text{milk} \\times w_4 = P_\\text{pancakes}\n",
    "$$\n",
    "\n",
    "The above expression describe *a* linear equation. A *system* of linear equations involve multiple equations that have to be solved **simultaneously**. Consider:\n",
    "\n",
    "$$\n",
    "x + 2y = 8 \\\\\n",
    "5x - 3y = 1\n",
    "$$\n",
    "\n",
    "Now we have a system with two unknowns, $x$ and $y$. We'll see general methods to solve systems of linear equations later. For now, I'll give you the answer: $x=2$ and $y=3$. Geometrically, we can see that both equations produce a straight line in the 2-dimensional plane. The point on where both lines encounter is the solution to the linear system."
   ]
  },
  {
   "cell_type": "markdown",
   "id": "4184316d",
   "metadata": {},
   "source": [
    "## SOLUTION OF LINEAR SYSTEMS\n",
    "![](https://www.mathsisfun.com/algebra/images/system-linear-types.svg)"
   ]
  },
  {
   "cell_type": "markdown",
   "id": "a21755be",
   "metadata": {},
   "source": [
    "## IMPORT LIBRARIES "
   ]
  },
  {
   "cell_type": "code",
   "execution_count": 10,
   "id": "6851a176",
   "metadata": {},
   "outputs": [],
   "source": [
    "# Libraries for this section \n",
    "import numpy as np\n",
    "import pandas as pd\n"
   ]
  },
  {
   "cell_type": "markdown",
   "id": "e645889f",
   "metadata": {},
   "source": [
    "# Matrices"
   ]
  },
  {
   "cell_type": "markdown",
   "id": "485ce75d",
   "metadata": {},
   "source": [
    "A matrix is simply an ordered **collection of vectors**.   \n",
    "More formally, we represent a matrix with a italicized upper-case letter like $\\textit{A}$. In two dimensions, we say the matrix $\\textit{A}$ has $m$ rows and $n$ columns. Each entry of $\\textit{A}$ is defined as $a_{ij}$, $i=1,..., m,$ and $j=1,...,n$. A matrix $\\textit{A} \\in \\mathbb{R^{m\\times n}}$ is defines as:"
   ]
  },
  {
   "cell_type": "markdown",
   "id": "49a3776d",
   "metadata": {},
   "source": [
    "$$\n",
    "A :=\n",
    "\\begin{bmatrix}\n",
    "a_{11} & a_{12} & \\cdots & a_{1n}\\\\\n",
    "a_{21} & a_{22} & \\cdots & a_{2n}\\\\\n",
    "\\vdots & \\vdots & \\ddots & \\vdots\\\\\n",
    "a_{m1} & a_{m2} & \\cdots & a_{mn}\n",
    "\\end{bmatrix},\n",
    "a_{ij} \\in \\mathbb{R}\n",
    "$$"
   ]
  },
  {
   "cell_type": "markdown",
   "id": "91b62317",
   "metadata": {},
   "source": [
    "## Numpy Matrix "
   ]
  },
  {
   "cell_type": "markdown",
   "id": "604d9b23",
   "metadata": {},
   "source": [
    "In `Numpy`, we construct matrices with the `array` method: "
   ]
  },
  {
   "cell_type": "code",
   "execution_count": 27,
   "id": "c70e3fab",
   "metadata": {},
   "outputs": [
    {
     "name": "stdout",
     "output_type": "stream",
     "text": [
      "a 2x2 Matrix:\n",
      "[[0 2]\n",
      " [1 4]]\n"
     ]
    }
   ],
   "source": [
    "A = np.array([[0,2],  # 1st row\n",
    "              [1,4]]) # 2nd row\n",
    "\n",
    "print(f'a 2x2 Matrix:\\n{A}')"
   ]
  },
  {
   "cell_type": "markdown",
   "id": "fadcb2a2",
   "metadata": {},
   "source": [
    "## Basic Matrix operations"
   ]
  },
  {
   "cell_type": "markdown",
   "id": "651bc788",
   "metadata": {},
   "source": [
    "### Matrix-matrix addition "
   ]
  },
  {
   "cell_type": "markdown",
   "id": "046ed538",
   "metadata": {},
   "source": [
    "We add matrices in a element-wise fashion. The sum of $\\textit{A} \\in \\mathbb{R}^{m\\times n}$ and $\\textit{B} \\in \\mathbb{R}^{m\\times n}$ is defined as:\n",
    "\n",
    "$$\n",
    "\\textit{A} + \\textit{B} := \n",
    "\\begin{bmatrix}\n",
    "a_{11} + b_{11} & \\cdots & a_{1n} + b_{1n} \\\\\n",
    "\\vdots & \\ddots & \\vdots \\\\\n",
    "a_{m1} + b_{m1} & \\cdots & a_{mn} + b_{mn}\n",
    "\\end{bmatrix}\n",
    "\\in \\mathbb{R^{m\\times n}}\n",
    "$$"
   ]
  },
  {
   "cell_type": "markdown",
   "id": "17862291",
   "metadata": {},
   "source": [
    "For instance: \n",
    "$$\n",
    "\\textit{A} = \n",
    "\\begin{bmatrix}\n",
    "0 & 2 \\\\\n",
    "1 & 4\n",
    "\\end{bmatrix} + \n",
    "\\textit{B} = \n",
    "\\begin{bmatrix}\n",
    "3 & 1 \\\\\n",
    "-3 & 2\n",
    "\\end{bmatrix}=\n",
    "\\begin{bmatrix}\n",
    "0+3 & 2+1 \\\\\n",
    "3+(-3) & 2+2\n",
    "\\end{bmatrix}=\n",
    "\\begin{bmatrix}\n",
    "3 & 3 \\\\\n",
    "-2 & 6\n",
    "\\end{bmatrix}\n",
    "$$ "
   ]
  },
  {
   "cell_type": "markdown",
   "id": "f515deeb",
   "metadata": {},
   "source": [
    "## Numpy Add "
   ]
  },
  {
   "cell_type": "markdown",
   "id": "08332ff0",
   "metadata": {},
   "source": [
    "In `Numpy`, we add matrices with the `+` operator or `add` method:"
   ]
  },
  {
   "cell_type": "code",
   "execution_count": 28,
   "id": "b9a30732",
   "metadata": {},
   "outputs": [],
   "source": [
    "A = np.array([[0,2],\n",
    "              [1,4]])\n",
    "B = np.array([[3,1],\n",
    "              [-3,2]])"
   ]
  },
  {
   "cell_type": "code",
   "execution_count": 29,
   "id": "67e70276",
   "metadata": {},
   "outputs": [
    {
     "data": {
      "text/plain": [
       "array([[ 3,  3],\n",
       "       [-2,  6]])"
      ]
     },
     "execution_count": 29,
     "metadata": {},
     "output_type": "execute_result"
    }
   ],
   "source": [
    "A + B"
   ]
  },
  {
   "cell_type": "code",
   "execution_count": 30,
   "id": "fda17b83",
   "metadata": {},
   "outputs": [
    {
     "data": {
      "text/plain": [
       "array([[ 3,  3],\n",
       "       [-2,  6]])"
      ]
     },
     "execution_count": 30,
     "metadata": {},
     "output_type": "execute_result"
    }
   ],
   "source": [
    "np.add(A, B)"
   ]
  },
  {
   "cell_type": "markdown",
   "id": "e5f74055",
   "metadata": {},
   "source": [
    "## Matrix-scalar multiplication"
   ]
  },
  {
   "cell_type": "markdown",
   "id": "7c8b5cb6",
   "metadata": {},
   "source": [
    "Matrix-scalar multiplication is an element-wise operation. Each element of the matrix $\\textit{A}$ is multiplied by the scalar $\\alpha$. Is defined as:\n",
    "\n",
    "$$\n",
    "a_{ij} \\times \\alpha, \\text{such that } (\\alpha \\textit{A})_{ij} = \\alpha(\\textit{A})_{ij}\n",
    "$$\n",
    "\n",
    "Consider $\\alpha=2$ and $\\textit{A}=\\begin{bmatrix}1 & 2 \\\\ 3 & 4\\end{bmatrix}$, then:"
   ]
  },
  {
   "cell_type": "markdown",
   "id": "0cd070bc",
   "metadata": {},
   "source": [
    "$$\n",
    "\\alpha \\textit{A} =\n",
    "2\n",
    "\\begin{bmatrix}\n",
    "1 & 2 \\\\\n",
    "3 & 4\n",
    "\\end{bmatrix}=\n",
    "\\begin{bmatrix}\n",
    "2\\times 1 & 2\\times 2 \\\\\n",
    "2\\times 3 & 2 \\times4 \n",
    "\\end{bmatrix}=\n",
    "\\begin{bmatrix}\n",
    "2 & 4 \\\\\n",
    "6 & 8 \n",
    "\\end{bmatrix}\n",
    "$$"
   ]
  },
  {
   "cell_type": "markdown",
   "id": "e0f5cebc",
   "metadata": {},
   "source": [
    "## Numpy Multiplication\n",
    "In `NumPy`, we compute matrix-scalar multiplication with the `*` operator or `multiply` method:"
   ]
  },
  {
   "cell_type": "code",
   "execution_count": 31,
   "id": "30b855f2",
   "metadata": {},
   "outputs": [],
   "source": [
    "alpha = 2\n",
    "A = np.array([[1,2],\n",
    "              [3,4]])"
   ]
  },
  {
   "cell_type": "code",
   "execution_count": 32,
   "id": "99e828c0",
   "metadata": {},
   "outputs": [
    {
     "data": {
      "text/plain": [
       "array([[2, 4],\n",
       "       [6, 8]])"
      ]
     },
     "execution_count": 32,
     "metadata": {},
     "output_type": "execute_result"
    }
   ],
   "source": [
    "alpha * A"
   ]
  },
  {
   "cell_type": "code",
   "execution_count": 33,
   "id": "0d4a28ea",
   "metadata": {},
   "outputs": [
    {
     "data": {
      "text/plain": [
       "array([[2, 4],\n",
       "       [6, 8]])"
      ]
     },
     "execution_count": 33,
     "metadata": {},
     "output_type": "execute_result"
    }
   ],
   "source": [
    "np.multiply(alpha, A)"
   ]
  },
  {
   "cell_type": "markdown",
   "id": "ccc66d37",
   "metadata": {},
   "source": [
    "## Matrix-vector multiplication: dot product"
   ]
  },
  {
   "cell_type": "markdown",
   "id": "6c9d976f",
   "metadata": {},
   "source": [
    "Matrix-vector multiplication equals to taking the dot product of each column $n$ of a $\\textit{A}$ with each element $\\bf{x}$ resulting in a vector $\\bf{y}$. Is defined as: "
   ]
  },
  {
   "cell_type": "markdown",
   "id": "29caa4a7",
   "metadata": {},
   "source": [
    "$$\n",
    "\\textit{A}\\cdot\\bf{x}:=\n",
    "\\begin{bmatrix}\n",
    "a_{11} & \\cdots & a_{1n}\\\\\n",
    "\\vdots & \\ddots & \\vdots\\\\\n",
    "a_{m1} & \\cdots & a_{mn}\n",
    "\\end{bmatrix}\n",
    "\\begin{bmatrix}\n",
    "x_1\\\\\n",
    "\\vdots\\\\\n",
    "x_n\n",
    "\\end{bmatrix}=\n",
    "x_1\n",
    "\\begin{bmatrix}\n",
    "a_{11}\\\\\n",
    "\\vdots\\\\\n",
    "a_{m1}\n",
    "\\end{bmatrix}+\n",
    "x_2\n",
    "\\begin{bmatrix}\n",
    "a_{12}\\\\\n",
    "\\vdots\\\\\n",
    "a_{m2}\n",
    "\\end{bmatrix}+\n",
    "x_n\n",
    "\\begin{bmatrix}\n",
    "a_{1n}\\\\\n",
    "\\vdots\\\\\n",
    "a_{mn}\n",
    "\\end{bmatrix}=\n",
    "\\begin{bmatrix}\n",
    "y_1\\\\\n",
    "\\vdots\\\\\n",
    "y_{mn}\n",
    "\\end{bmatrix}\n",
    "$$"
   ]
  },
  {
   "cell_type": "markdown",
   "id": "535a6f4f",
   "metadata": {},
   "source": [
    "For instance:"
   ]
  },
  {
   "cell_type": "markdown",
   "id": "802d5bc1",
   "metadata": {},
   "source": [
    "$$\n",
    "\\textit{A}\\cdot\\bf{x}=\n",
    "\\begin{bmatrix}\n",
    "0 & 2\\\\\n",
    "1 & 4\n",
    "\\end{bmatrix}\n",
    "\\begin{bmatrix}\n",
    "1\\\\\n",
    "2\n",
    "\\end{bmatrix}=\n",
    "1\n",
    "\\begin{bmatrix}\n",
    "0 \\\\\n",
    "1\n",
    "\\end{bmatrix}+\n",
    "2\n",
    "\\begin{bmatrix}\n",
    "2 \\\\\n",
    "4\n",
    "\\end{bmatrix}=\n",
    "\\begin{bmatrix}\n",
    "1\\times0 + 2\\times2 \\\\\n",
    "1\\times1 + 2\\times4\n",
    "\\end{bmatrix}=\n",
    "\\begin{bmatrix}\n",
    "4 \\\\\n",
    "9\n",
    "\\end{bmatrix}\n",
    "$$"
   ]
  },
  {
   "cell_type": "markdown",
   "id": "1782a12b",
   "metadata": {},
   "source": [
    "## Numpy implementation "
   ]
  },
  {
   "cell_type": "markdown",
   "id": "30ff6024",
   "metadata": {},
   "source": [
    "In numpy, we compute the matrix-vector product with the `@` operator or `dot` method:"
   ]
  },
  {
   "cell_type": "code",
   "execution_count": 34,
   "id": "1d71be11",
   "metadata": {},
   "outputs": [],
   "source": [
    "A = np.array([[0,2],\n",
    "              [1,4]])\n",
    "x = np.array([[1],\n",
    "              [2]])"
   ]
  },
  {
   "cell_type": "code",
   "execution_count": 35,
   "id": "fd2fd0a8",
   "metadata": {},
   "outputs": [
    {
     "data": {
      "text/plain": [
       "array([[4],\n",
       "       [9]])"
      ]
     },
     "execution_count": 35,
     "metadata": {},
     "output_type": "execute_result"
    }
   ],
   "source": [
    "A @ x"
   ]
  },
  {
   "cell_type": "code",
   "execution_count": 36,
   "id": "30201fcf",
   "metadata": {},
   "outputs": [
    {
     "data": {
      "text/plain": [
       "array([[4],\n",
       "       [9]])"
      ]
     },
     "execution_count": 36,
     "metadata": {},
     "output_type": "execute_result"
    }
   ],
   "source": [
    "np.dot(A, x)"
   ]
  },
  {
   "cell_type": "markdown",
   "id": "d21769bc",
   "metadata": {},
   "source": [
    "## Matrix-matrix multiplication"
   ]
  },
  {
   "cell_type": "markdown",
   "id": "0f2b4afc",
   "metadata": {},
   "source": [
    "Matrix-matrix multiplication is a dot produt as well. To work, the number of columns in the first matrix $\\textit{A}$ has to be equal to the number of rows in the second matrix $\\textit{B}$. Hence, $\\textit{A} \\in \\mathbb{R^{m\\times n}}$ times $\\textit{B} \\in \\mathbb{R^{n\\times p}}$ to be valid. \n",
    "\n",
    "We define $\\textit{A} \\in \\mathbb{R^{n\\times p}} \\cdot \\textit{B} \\in \\mathbb{R^{n\\times p}} = \\textit{C} \\in \\mathbb{R^{m\\times p}}$: "
   ]
  },
  {
   "cell_type": "markdown",
   "id": "90fe5e9d",
   "metadata": {},
   "source": [
    "$$\n",
    "\\textit{A}\\cdot\\textit{B}:=\n",
    "\\begin{bmatrix}\n",
    "a_{11} & \\cdots & a_{1n}\\\\\n",
    "\\vdots & \\ddots & \\vdots\\\\\n",
    "a_{m1} & \\cdots & a_{mn}\n",
    "\\end{bmatrix}\n",
    "\\begin{bmatrix}\n",
    "b_{11} & \\cdots & b_{1p}\\\\\n",
    "\\vdots & \\ddots & \\vdots\\\\\n",
    "b_{n1} & \\cdots & b_{np}\n",
    "\\end{bmatrix}=\n",
    "\\begin{bmatrix}\n",
    "c_{11} & \\cdots & c_{1p}\\\\\n",
    "\\vdots & \\ddots & \\vdots\\\\\n",
    "c_{m1} & \\cdots & c_{mp}\n",
    "\\end{bmatrix}\n",
    "$$"
   ]
  },
  {
   "cell_type": "markdown",
   "id": "9e43b2a4",
   "metadata": {},
   "source": [
    "## COMPACT WAY "
   ]
  },
  {
   "cell_type": "markdown",
   "id": "907a0b0e",
   "metadata": {},
   "source": [
    "A compact way to define the matrix-matrix product is:"
   ]
  },
  {
   "cell_type": "markdown",
   "id": "9388894a",
   "metadata": {},
   "source": [
    "$$\n",
    "c_{ij} := \\sum_{l=1}^n a_{il}b_{lj}, \\text{  with   }i=1,...m, \\text{ and}, j=1,...,p\n",
    "$$"
   ]
  },
  {
   "cell_type": "markdown",
   "id": "5640526a",
   "metadata": {},
   "source": [
    "## EXAMPLE"
   ]
  },
  {
   "cell_type": "markdown",
   "id": "f98333e2",
   "metadata": {},
   "source": [
    "$$\n",
    "\\textit{A}\\cdot\\textit{B}=\n",
    "\\begin{bmatrix}\n",
    "0 & 2\\\\\n",
    "1 & 4\n",
    "\\end{bmatrix}\n",
    "\\begin{bmatrix}\n",
    "1 & 3\\\\\n",
    "2 & 1\n",
    "\\end{bmatrix}=\n",
    "\\begin{bmatrix}\n",
    "1\\times0 + 2\\times2 & 3\\times0 + 1\\times2 \\\\\n",
    "1\\times1 + 2\\times4 & 3\\times1 + 1\\times4\n",
    "\\end{bmatrix}=\n",
    "\\begin{bmatrix}\n",
    "4 & 2\\\\\n",
    "9 & 7\n",
    "\\end{bmatrix}\n",
    "$$"
   ]
  },
  {
   "cell_type": "markdown",
   "id": "a7bf956c",
   "metadata": {},
   "source": [
    "## PROPERTIES"
   ]
  },
  {
   "cell_type": "markdown",
   "id": "c4ee8fe8",
   "metadata": {},
   "source": [
    ":::{.nonincremental}\n",
    "Matrix-matrix multiplication has a series of important properties:\n",
    "\n",
    "- `Associativity`: $(\\textit{A}\\textit{B}) \\textit{C} = \\textit{A}(\\textit{B}\\textit{C})$\n",
    "- `Associativity with scalar multiplication`: $\\alpha (\\textit{A}\\textit{B}) = (\\alpha \\textit{A}) \\textit{B}$\n",
    "- `Distributivity with addition`: $\\textit{A}(\\textit{B}+\\textit{C}) = A+B + AC$\n",
    "- `Transpose of product`: $(\\textit{A}\\textit{B})^T = \\textit{B}^T\\textit{A}^T$\n",
    "\n",
    "It's also important to remember that **matrix-matrix multiplication orders matter**, this is, it is **not commutative**. Hence, in general, $AB \\ne BA$.\n",
    "\n",
    ":::"
   ]
  },
  {
   "cell_type": "markdown",
   "id": "6ac49c07",
   "metadata": {},
   "source": [
    "## Numpy implementation \n",
    "In `NumPy`, we obtan the matrix-matrix product with the `@` operator or `dot` method: "
   ]
  },
  {
   "cell_type": "code",
   "execution_count": 37,
   "id": "e217ec83",
   "metadata": {},
   "outputs": [],
   "source": [
    "A = np.array([[0,2],\n",
    "              [1,4]])\n",
    "B = np.array([[1,3],\n",
    "              [2,1]])"
   ]
  },
  {
   "cell_type": "code",
   "execution_count": 38,
   "id": "3f3115b9",
   "metadata": {},
   "outputs": [
    {
     "data": {
      "text/plain": [
       "array([[4, 2],\n",
       "       [9, 7]])"
      ]
     },
     "execution_count": 38,
     "metadata": {},
     "output_type": "execute_result"
    }
   ],
   "source": [
    "A @ B"
   ]
  },
  {
   "cell_type": "code",
   "execution_count": 39,
   "id": "9970ce03",
   "metadata": {},
   "outputs": [
    {
     "data": {
      "text/plain": [
       "array([[4, 2],\n",
       "       [9, 7]])"
      ]
     },
     "execution_count": 39,
     "metadata": {},
     "output_type": "execute_result"
    }
   ],
   "source": [
    "np.dot(A, B)"
   ]
  },
  {
   "cell_type": "markdown",
   "id": "70c965e7",
   "metadata": {},
   "source": [
    "## Matrix identity {.smaller}"
   ]
  },
  {
   "cell_type": "markdown",
   "id": "653f24ab",
   "metadata": {},
   "source": [
    "An identity matrix is a square matrix with ones on the diagonal from the upper left to the bottom right, and zeros everywhere else. We denote the identity matrix as $\\textit{I}_n$. We define $\\textit{I} \\in \\mathbb{R}^{n \\times n}$ as:\n",
    "\n",
    "$$\n",
    "\\textit{I}_n := \n",
    "\\begin{bmatrix}\n",
    "1 & 0 & \\cdots & 0 & 0 \\\\\n",
    "0 & 1 & \\cdots & 0 & 0 \\\\\n",
    "0 & 0 & \\ddots & 0 & 0 \\\\\n",
    "0 & 0 & \\cdots & 1 & 0 \\\\\n",
    "0 & 0 & \\cdots & 0 & 1\n",
    "\\end{bmatrix}\n",
    "\\in \\mathbb{R}^{n \\times n}\n",
    "$$\n",
    "\n",
    "For example:\n",
    "\n",
    "$$\n",
    "\\textit{I}_3 =\n",
    "\\begin{bmatrix}\n",
    "1 & 0 & 0 \\\\\n",
    "0 & 1 & 0 \\\\\n",
    "0 & 0 & 1\n",
    "\\end{bmatrix}\n",
    "$$\n",
    "\n"
   ]
  },
  {
   "cell_type": "markdown",
   "id": "7abd9b44",
   "metadata": {},
   "source": [
    "## Matrix inverse {.smaller}"
   ]
  },
  {
   "cell_type": "markdown",
   "id": "431641e2",
   "metadata": {},
   "source": [
    "Consider the square matrix $\\textit{A} \\in \\mathbb{R}^{n \\times n}$. We define $\\textit{A}^{-1}$ as matrix with the property:\n",
    "\n",
    "$$\n",
    "\\textit{A}^{-1}\\textit{A} = \\textit{I}_n = \\textit{A}\\textit{A}^{-1}\n",
    "$$\n",
    "\n",
    "The main reason we care about the inverse, is because it allows to **solve systems of linear equations** in certain situations. Consider a system of linear equations as:\n",
    "\n",
    "$$\n",
    "\\textit{A}\\bf{x} = \\bf{y}\n",
    "$$\n",
    "\n",
    "Assuming $\\textit{A}$ has an inverse, we can multiply by the inverse on both sides:\n",
    "\n",
    "$$\n",
    "\\textit{A}^{-1}\\textit{A}\\bf{x} = \\textit{A}^{-1}\\bf{y}\n",
    "$$\n",
    "\n",
    "And get: \n",
    "\n",
    "$$\n",
    "\\textit{I}\\bf{x} = \\textit{A}^{-1}\\bf{y}\n",
    "$$\n",
    "\n",
    "Since the $\\textit{I}$ does not affect $\\bf{x}$ at all, our final expression becomes:\n",
    "\n",
    "$$\n",
    "\\bf{x} = \\textit{A}^{-1}\\bf{y}\n",
    "$$\n"
   ]
  },
  {
   "cell_type": "markdown",
   "id": "dfe7c875",
   "metadata": {},
   "source": [
    "## Numpy implementation "
   ]
  },
  {
   "cell_type": "markdown",
   "id": "7052a10d",
   "metadata": {},
   "source": [
    "In `NumPy`, we can compute the inverse of a matrix with the `.linalg.inv` method:"
   ]
  },
  {
   "cell_type": "code",
   "execution_count": 40,
   "id": "2b3a58fc",
   "metadata": {},
   "outputs": [],
   "source": [
    "A = np.array([[1, 2, 1],\n",
    "              [4, 4, 5],\n",
    "              [6, 7, 7]])"
   ]
  },
  {
   "cell_type": "code",
   "execution_count": 41,
   "id": "59bacbc2",
   "metadata": {},
   "outputs": [
    {
     "name": "stdout",
     "output_type": "stream",
     "text": [
      "A inverse:\n",
      "[[-7. -7.  6.]\n",
      " [ 2.  1. -1.]\n",
      " [ 4.  5. -4.]]\n"
     ]
    }
   ],
   "source": [
    "A_i = np.linalg.inv(A)\n",
    "print(f'A inverse:\\n{A_i}')"
   ]
  },
  {
   "cell_type": "markdown",
   "id": "76352a7a",
   "metadata": {},
   "source": [
    "We can check the $\\textit{A}^{-1}$ is correct by multiplying. If so, we should obtain the identity $\\textit{I}_3$"
   ]
  },
  {
   "cell_type": "code",
   "execution_count": 42,
   "id": "75e3b69a",
   "metadata": {},
   "outputs": [
    {
     "name": "stdout",
     "output_type": "stream",
     "text": [
      "A_i times A resulsts in I_3:\n",
      "[[ 1.  0.  0.]\n",
      " [ 0.  1. -0.]\n",
      " [ 0. -0.  1.]]\n"
     ]
    }
   ],
   "source": [
    "I = np.round(A_i @ A)\n",
    "print(f'A_i times A resulsts in I_3:\\n{I}')"
   ]
  },
  {
   "cell_type": "markdown",
   "id": "da75ed0f",
   "metadata": {},
   "source": [
    "## Matrix transpose "
   ]
  },
  {
   "cell_type": "markdown",
   "id": "e8382d5d",
   "metadata": {},
   "source": [
    "Consider a matrix $\\textit{A} \\in \\mathbb{R}^{m \\times n}$. The **transpose** of $\\textit{A}$ is denoted as $\\textit{A}^T \\in \\mathbb{R}^{m \\times n}$. We obtain $\\textit{A}^T$ as:\n",
    "\n",
    "$$\n",
    "(\\textit{A}^T)_{ij} = \\textit{A}_ji  \n",
    "$$\n",
    "\n",
    "In other words, we get the $\\textit{A}^T$ by switching the columns by the rows of $\\textit{A}$. For instance:\n",
    "\n",
    "$$\n",
    "\\begin{bmatrix}\n",
    "1 & 2 \\\\\n",
    "3 & 4 \\\\\n",
    "5 & 6\n",
    "\\end{bmatrix}^T\n",
    "= \n",
    "\\begin{bmatrix}\n",
    "1 & 3 & 5 \\\\\n",
    "2 & 4 & 6\n",
    "\\end{bmatrix}\n",
    "$$"
   ]
  },
  {
   "cell_type": "markdown",
   "id": "679d9a27",
   "metadata": {},
   "source": [
    "## Numpy implementation \n",
    "In `NumPy`, we obtain the transpose with the `T` method:"
   ]
  },
  {
   "cell_type": "code",
   "execution_count": 43,
   "id": "d19b29ea",
   "metadata": {},
   "outputs": [],
   "source": [
    "A = np.array([[1, 2],\n",
    "              [3, 4],\n",
    "              [5, 6]])"
   ]
  },
  {
   "cell_type": "code",
   "execution_count": 44,
   "id": "eb858860",
   "metadata": {},
   "outputs": [
    {
     "data": {
      "text/plain": [
       "array([[1, 3, 5],\n",
       "       [2, 4, 6]])"
      ]
     },
     "execution_count": 44,
     "metadata": {},
     "output_type": "execute_result"
    }
   ],
   "source": [
    "A.T"
   ]
  },
  {
   "cell_type": "markdown",
   "id": "0726c892",
   "metadata": {},
   "source": [
    "# Special matrices"
   ]
  },
  {
   "cell_type": "markdown",
   "id": "db32f0d4",
   "metadata": {},
   "source": [
    "## Rectangular matrix"
   ]
  },
  {
   "cell_type": "markdown",
   "id": "bd6cdcf6",
   "metadata": {},
   "source": [
    "Matrices are said to be *rectangular* when the number of rows is $\\ne$ to the number of columns, i.e.,  $\\textit{A}^{m \\times n}$ with $m \\ne n$. For instance: \n",
    "\n",
    "$$\n",
    "\\begin{bmatrix}\n",
    "1 & 2 & 3 \\\\\n",
    "4 & 5 & 6\n",
    "\\end{bmatrix}\n",
    "$$"
   ]
  },
  {
   "cell_type": "markdown",
   "id": "5ea3ac89",
   "metadata": {},
   "source": [
    "## Square matrix"
   ]
  },
  {
   "cell_type": "markdown",
   "id": "5ae894b4",
   "metadata": {},
   "source": [
    "Matrices are said to be **square** when the number of rows $=$ the number of columns, i.e., $\\textit{A}^{n \\times n}$. For instance:\n",
    "\n",
    "$$\n",
    "\\begin{bmatrix}\n",
    "1 & 2 & 3 \\\\\n",
    "4 & 5 & 6 \\\\\n",
    "7 & 8 & 9\n",
    "\\end{bmatrix}\n",
    "$$"
   ]
  },
  {
   "cell_type": "markdown",
   "id": "2bdc1371",
   "metadata": {},
   "source": [
    "### Diagonal matrix"
   ]
  },
  {
   "cell_type": "markdown",
   "id": "12c2a0e6",
   "metadata": {},
   "source": [
    "Square matrices are said to be **diagonal** when each of its non-diagonal elements is zero, i.e., For $\\textit{D} = (d_{i,j})$, we have $\\forall i,j \\in n, i \\ne j \\implies d_{i,j} = 0$. For instance:\n",
    "\n",
    "$$\n",
    "\\begin{bmatrix}\n",
    "1 & 0 & 0 \\\\\n",
    "0 & 5 & 0 \\\\\n",
    "0 & 0 & 9\n",
    "\\end{bmatrix}\n",
    "$$"
   ]
  },
  {
   "cell_type": "markdown",
   "id": "9231d339",
   "metadata": {},
   "source": [
    "## Upper triangular matrix"
   ]
  },
  {
   "cell_type": "markdown",
   "id": "74e6e51e",
   "metadata": {},
   "source": [
    "Square matrices are said to be **upper triangular** when the elements below the main diagonal are zero, i.e., For $\\textit{D} = (d_{i,j})$, we have $d_{i,j} = 0, \\text{for } i>j$. For instance:\n",
    "\n",
    "$$\n",
    "\\begin{bmatrix}\n",
    "1 & 2 & 3 \\\\\n",
    "0 & 5 & 6 \\\\\n",
    "0 & 0 & 9\n",
    "\\end{bmatrix}\n",
    "$$"
   ]
  },
  {
   "cell_type": "markdown",
   "id": "5a136291",
   "metadata": {},
   "source": [
    "### Lower triangular matrix"
   ]
  },
  {
   "cell_type": "markdown",
   "id": "f52d9e36",
   "metadata": {},
   "source": [
    "Square matrices are said to be **lower triangular** when the elements above the main diagonal are zero, i.e., For $\\textit{D} = (d_{i,j})$, we have $d_{i,j} = 0, \\text{for } i<j$. For instance:\n",
    "\n",
    "$$\n",
    "\\begin{bmatrix}\n",
    "1 & 0 & 0 \\\\\n",
    "4 & 5 & 0 \\\\\n",
    "7 & 8 & 9\n",
    "\\end{bmatrix}\n",
    "$$"
   ]
  },
  {
   "cell_type": "markdown",
   "id": "ef31f3a2",
   "metadata": {},
   "source": [
    "## Symmetric matrix"
   ]
  },
  {
   "cell_type": "markdown",
   "id": "4a469285",
   "metadata": {},
   "source": [
    "Square matrices are said to be symmetric its equal to its transpose, i.e., $\\textit{A} = \\textit{A}^T$. For instance:\n",
    "\n",
    "$$\n",
    "\\begin{bmatrix}\n",
    "1 & 2 & 3 \\\\\n",
    "2 & 1 & 6 \\\\\n",
    "3 & 6 & 1\n",
    "\\end{bmatrix}\n",
    "$$"
   ]
  },
  {
   "cell_type": "markdown",
   "id": "e9f87fdc",
   "metadata": {},
   "source": [
    "## Identity matrix"
   ]
  },
  {
   "cell_type": "markdown",
   "id": "1dd145ca",
   "metadata": {},
   "source": [
    "A diagonal matrix is said to be the identity when the elements along its main diagonal are equal to one. For instance:\n",
    "\n",
    "$$\n",
    "\\begin{bmatrix}\n",
    "1 & 0 & 0 \\\\\n",
    "0 & 1 & 0 \\\\\n",
    "0 & 0 & 1\n",
    "\\end{bmatrix}\n",
    "$$"
   ]
  },
  {
   "cell_type": "markdown",
   "id": "2943b536",
   "metadata": {},
   "source": [
    "## Scalar matrix"
   ]
  },
  {
   "cell_type": "markdown",
   "id": "04656dc4",
   "metadata": {},
   "source": [
    "Diagonal matrices are said to be scalar when all the elements along its main diaonal are equal, i.e., $\\textit{D} = \\alpha\\textit{I}$.  For instance:\n",
    "\n",
    "$$\n",
    "\\begin{bmatrix}\n",
    "2 & 0 & 0 \\\\\n",
    "0 & 2 & 0 \\\\\n",
    "0 & 0 & 2\n",
    "\\end{bmatrix}\n",
    "$$\n"
   ]
  },
  {
   "cell_type": "markdown",
   "id": "1484889f",
   "metadata": {},
   "source": [
    "## Null or zero matrix"
   ]
  },
  {
   "cell_type": "markdown",
   "id": "10891d26",
   "metadata": {},
   "source": [
    "Matrices are said to be null or zero matrices when all its elements equal to zero, wich is denoted as $0_{m \\times n}$. For instance:\n",
    "\n",
    "$$\n",
    "\\begin{bmatrix}\n",
    "0 & 0 & 0 \\\\\n",
    "0 & 0 & 0 \\\\\n",
    "0 & 0 & 0\n",
    "\\end{bmatrix}\n",
    "$$"
   ]
  },
  {
   "cell_type": "markdown",
   "id": "60861cfb",
   "metadata": {},
   "source": [
    "## Echelon matrix {.smaller}"
   ]
  },
  {
   "cell_type": "markdown",
   "id": "d4b656c2",
   "metadata": {},
   "source": [
    "::: {.nonincremental}\n",
    "Matrices are said to be on **echelon form** when it has undergone the process of Gaussian elimination. More specifically:\n",
    "\n",
    "- Zero rows are at the bottom of the matrix\n",
    "- The leading entry (pivot) of each nonzero row is to the right of the leading entry of the row above it \n",
    "- Each leading entry is the only nonzero entry in its column\n",
    "\n",
    "For instance: \n",
    "\n",
    "$$\n",
    "\\begin{bmatrix}\n",
    "1 & 3 & 5 \\\\\n",
    "2 & 2 & -1 \\\\\n",
    "1 & 3 & 2 \n",
    "\\end{bmatrix}\n",
    "$$\n",
    "\n",
    "In echelon form after Gaussian Elimination becomes:\n",
    "\n",
    "$$\n",
    "\\begin{bmatrix}\n",
    "1 & 3 & 5 \\\\\n",
    "0 & -4 & -11 \\\\\n",
    "0 & 0 & -3 \n",
    "\\end{bmatrix}\n",
    "$$\n",
    ":::"
   ]
  },
  {
   "cell_type": "markdown",
   "id": "adc94755",
   "metadata": {},
   "source": [
    "## Antidiagonal matrix"
   ]
  },
  {
   "cell_type": "markdown",
   "id": "972bdf8d",
   "metadata": {},
   "source": [
    "Matrices are said to be **antidiagonal** when all the entries are zero but the antidiagonal (i.e., the diagonal starting from the bottom left corner to the upper right corner). For instance:\n",
    "\n",
    "$$\n",
    "\\begin{bmatrix}\n",
    "0 & 0 & 3 \\\\\n",
    "0 & 5 & 0 \\\\\n",
    "7 & 0 & 0\n",
    "\\end{bmatrix}\n",
    "$$"
   ]
  },
  {
   "cell_type": "markdown",
   "id": "ca0dd274",
   "metadata": {},
   "source": [
    "## Design matrix"
   ]
  },
  {
   "cell_type": "markdown",
   "id": "8eb92c12",
   "metadata": {},
   "source": [
    "**Design matrix** is a special name for matrices containing explanatory variables or features in the context of statistics and machine learning. Some authors favor this name to refer to the set of variables or features in a model."
   ]
  },
  {
   "cell_type": "markdown",
   "id": "112a2d35",
   "metadata": {},
   "source": [
    "## Matrices as systems of linear equations"
   ]
  },
  {
   "cell_type": "markdown",
   "id": "6a5aed64",
   "metadata": {},
   "source": [
    "Matrices are ideal to represent systems of linear equations. Consider the matrix $\\textit{M}$ and vectors $w$ and $y$ in $\\in \\mathbb{R}^3$. We can set up a system of linear equations as $\\textit{M}w = y$ as:\n",
    "\n",
    "$$\n",
    "\\begin{bmatrix}\n",
    "m_{11} & m_{12} & m_{13} \\\\\n",
    "m_{21} & m_{22} & m_{23} \\\\\n",
    "m_{31} & m_{32} & m_{33} \\\\\n",
    "\\end{bmatrix}\n",
    "\\begin{bmatrix}\n",
    "w_{1} \\\\\n",
    "w_{2} \\\\\n",
    "w_{3}\n",
    "\\end{bmatrix}=\n",
    "\\begin{bmatrix}\n",
    "y_{1} \\\\\n",
    "y_{2} \\\\\n",
    "y_{3}\n",
    "\\end{bmatrix}\n",
    "$$\n",
    "\n",
    "This is equivalent to:\n",
    "$$\n",
    "\\begin{matrix}\n",
    "m_{11}w_{1} + m_{12}w_{2} + m_{13}w_{3} =y_{1} \\\\\n",
    "m_{21}w_{1} + m_{22}w_{2} + m_{23}w_{3} =y_{2} \\\\\n",
    "m_{31}w_{1} + m_{32}w_{2} + m_{33}w_{3} =y_{3}\n",
    "\\end{matrix}\n",
    "$$\n",
    "\n",
    "Geometrically, the solution for this representation equals to plot a **set of planes in 3-dimensional space**, one for each equation, and to find the segment where the planes intersect."
   ]
  },
  {
   "cell_type": "markdown",
   "id": "ee9532f0",
   "metadata": {},
   "source": [
    "## "
   ]
  },
  {
   "cell_type": "markdown",
   "id": "ac6014d5",
   "metadata": {},
   "source": [
    "<center> Fig. 12: Visualiation system of equations as planes <center/>"
   ]
  },
  {
   "cell_type": "markdown",
   "id": "61df5641",
   "metadata": {},
   "source": [
    "<center>\n",
    "<img src=\"./images/b-planes-intersection.svg\">\n",
    "<center/>"
   ]
  },
  {
   "cell_type": "markdown",
   "id": "77dda5c5",
   "metadata": {},
   "source": [
    "## 3D space "
   ]
  },
  {
   "cell_type": "markdown",
   "id": "ceb74b4e",
   "metadata": {},
   "source": [
    "An alternative way, which I personally prefer to use, is to represent the system as a **linear combination of the column vectors times a scaling term**:\n",
    "\n",
    "$$\n",
    "w_1\n",
    "\\begin{bmatrix}\n",
    "m_{11}\\\\\n",
    "m_{21}\\\\\n",
    "m_{31}\n",
    "\\end{bmatrix}+\n",
    "w_2\n",
    "\\begin{bmatrix}\n",
    "m_{12}\\\\\n",
    "m_{22}\\\\\n",
    "m_{32}\n",
    "\\end{bmatrix}+\n",
    "w_3\n",
    "\\begin{bmatrix}\n",
    "m_{13}\\\\\n",
    "m_{23}\\\\\n",
    "m_{33}\n",
    "\\end{bmatrix}=\n",
    "\\begin{bmatrix}\n",
    "y_{1} \\\\\n",
    "y_{2} \\\\\n",
    "y_{3}\n",
    "\\end{bmatrix}\n",
    "$$\n",
    "\n",
    "Geometrically, the solution for this representation equals to plot a set of **vectors in 3-dimensional** space, one for each column vector, then scale them by $w_i$ and add them up, tip to tail, to find the resulting vector $y$."
   ]
  },
  {
   "cell_type": "markdown",
   "id": "11818ecf",
   "metadata": {},
   "source": [
    "## "
   ]
  },
  {
   "cell_type": "markdown",
   "id": "a716e2cb",
   "metadata": {},
   "source": [
    "<center> Fig. 13: System of equations as linear combination of vectors <center/>"
   ]
  },
  {
   "cell_type": "markdown",
   "id": "369daa04",
   "metadata": {},
   "source": [
    "<center>\n",
    "<img src=\"./images/b-vectors-combination.svg\">\n",
    "<center/>"
   ]
  },
  {
   "cell_type": "markdown",
   "id": "e514db11",
   "metadata": {},
   "source": [
    "# The four fundamental matrix subspaces"
   ]
  },
  {
   "cell_type": "markdown",
   "id": "410ccfa5",
   "metadata": {},
   "source": [
    "## "
   ]
  },
  {
   "attachments": {
    "20210619010033_60cd41b145390_lesson_6___col_space__row_space__null_space__rank__nullitypage0.png": {
     "image/png": "[encoded data removed]"
    }
   },
   "cell_type": "markdown",
   "id": "bf2cea08",
   "metadata": {},
   "source": [
    "![](attachment:20210619010033_60cd41b145390_lesson_6___col_space__row_space__null_space__rank__nullitypage0.png)"
   ]
  },
  {
   "cell_type": "markdown",
   "id": "02ee1e3e",
   "metadata": {},
   "source": [
    "## "
   ]
  },
  {
   "cell_type": "markdown",
   "id": "da43bbc9",
   "metadata": {},
   "source": [
    "![](https://www.cs.utexas.edu/users/flame/laff/alaff/images/Chapter04/FundamentalSpaces.png)"
   ]
  },
  {
   "cell_type": "markdown",
   "id": "1dfe5a2e",
   "metadata": {},
   "source": [
    "## Solving systems of linear equations with Matrices"
   ]
  },
  {
   "cell_type": "markdown",
   "id": "07829e8e",
   "metadata": {},
   "source": [
    "### Gaussian Elimination"
   ]
  },
  {
   "cell_type": "markdown",
   "id": "072fdf8f",
   "metadata": {},
   "source": [
    "**Gaussian Elimination**, is a robust algorithm to solve linear systems. We say is robust, because it works in general, it all possible circumstances. It works by *eliminating* terms from a system of equations, such that it is simplified to the point where we obtain the **row echelon form** of the matrix. A matrix is in row echelon form when all rows contain zeros at the bottom left of the matrix. For instance:\n",
    "\n",
    "$$\n",
    "\\begin{bmatrix}\n",
    "p_1 & a & b \\\\\n",
    "0 & p_2 & c \\\\\n",
    "0 & 0 & p_3 \n",
    "\\end{bmatrix}\n",
    "$$\n",
    "\n",
    "The $p$ values along the diagonal are the **pivots** also known as basic variables of the matrix. An important remark about the pivots, is that they indicate which vectors are linearly independent in the matrix, once the matrix has been reduced to the row echelon form.\n",
    "\n",
    "## Transformations\n",
    "There are three *elementary transformations* in Gaussian Elimination that when combined, allow simplifying any system to its row echelon form:\n",
    "\n",
    "1. Addition and subtraction of two equations (rows) \n",
    "2. Multiplication of an equation (rows) by a number \n",
    "3. Switching equations (rows)\n",
    "\n",
    "Consider the following system $\\textit{A} \\bf{w} = \\bf{y}$:\n",
    "\n",
    "$$\n",
    "\\begin{bmatrix}\n",
    "1 & 3 & 5 \\\\\n",
    "2 & 2 & -1 \\\\\n",
    "1 & 3 & 2 \n",
    "\\end{bmatrix}\n",
    "\\begin{bmatrix}\n",
    "w_{1} \\\\\n",
    "w_{2} \\\\\n",
    "w_{3}\n",
    "\\end{bmatrix}=\n",
    "\\begin{bmatrix}\n",
    "-1 \\\\\n",
    "1 \\\\\n",
    "2\n",
    "\\end{bmatrix}\n",
    "$$\n",
    "\n",
    "## Augmented matrix\n",
    "To aid the application of Gaussian Elimination, we can generate an **augmented matrix** $(\\textit{A} \\vert \\bf{y})$, this is, appending $\\bf{y}$ to $\\textit{A}$ on this manner:\n",
    "\n",
    "$$\n",
    "\\left[\n",
    "\\begin{matrix}\n",
    "1 & 3 & 5 \\\\\n",
    "2 & 2 & -1 \\\\\n",
    "1 & 3 & 2 \n",
    "\\end{matrix}\n",
    "  \\left|\n",
    "    \\,\n",
    "\\begin{matrix}\n",
    "-1 \\\\\n",
    "1 \\\\\n",
    "2\n",
    "\\end{matrix}\n",
    "  \\right.\n",
    "\\right]\n",
    "$$\n"
   ]
  },
  {
   "cell_type": "markdown",
   "id": "9fd366ca",
   "metadata": {},
   "source": [
    "## Matrix operations "
   ]
  },
  {
   "cell_type": "markdown",
   "id": "fe9631c5",
   "metadata": {},
   "source": [
    "We start by multiplying row 1 by and substracting it from row 2 as $R_2 - 2R_1$ to obtain:\n",
    "\n",
    "$$\n",
    "\\left[\n",
    "\\begin{matrix}\n",
    "1 & 3 & 5 \\\\\n",
    "0 & -4 & -11 \\\\\n",
    "1 & 3 & 2 \n",
    "\\end{matrix}\n",
    "  \\left|\n",
    "    \\,\n",
    "\\begin{matrix}\n",
    "-1 \\\\\n",
    "3 \\\\\n",
    "2\n",
    "\\end{matrix}\n",
    "  \\right.\n",
    "\\right]\n",
    "$$"
   ]
  },
  {
   "cell_type": "markdown",
   "id": "f0701cba",
   "metadata": {},
   "source": [
    "If we substract row 1 from row 3 as $R_3 - R_1$ we get:\n",
    "\n",
    "$$\n",
    "\\left[\n",
    "\\begin{matrix}\n",
    "1 & 3 & 5 \\\\\n",
    "0 & -4 & -11 \\\\\n",
    "0 & 0 & -3 \n",
    "\\end{matrix}\n",
    "  \\left|\n",
    "    \\,\n",
    "\\begin{matrix}\n",
    "-1 \\\\\n",
    "3 \\\\\n",
    "3\n",
    "\\end{matrix}\n",
    "  \\right.\n",
    "\\right]\n",
    "$$"
   ]
  },
  {
   "cell_type": "markdown",
   "id": "11bd5064",
   "metadata": {},
   "source": [
    "## Backsubstitution"
   ]
  },
  {
   "cell_type": "markdown",
   "id": "3524d3b6",
   "metadata": {},
   "source": [
    "At this point, we have found the row echelon form of $\\textit{A}$. If we divide row 3 by -3, We know that $w_3 = -1$. By **backsubsitution**, we can solve for $w_2$ as:\n",
    "\n",
    "$$\n",
    "\\begin{matrix}\n",
    "-4w_2 + -11(-1) = 3 \\\\\n",
    "-4w_2 = -8 \\\\\n",
    "w_2 = 2\n",
    "\\end{matrix}\n",
    "$$\n",
    "\n",
    "Again, taking $w_2=2$ and $w_3=-1$ we can solve for $w_1$ as:\n",
    "\n",
    "$$\n",
    "w_1 + 3(2) + 5(-1) = -1 \\\\\n",
    "w_1 + 6 - 5 = -1 \\\\\n",
    "w_1 = -2\n",
    "$$"
   ]
  },
  {
   "cell_type": "markdown",
   "id": "ecc7345f",
   "metadata": {},
   "source": [
    "In this manner, we have found that the solution for our system is $w_1 = -2$, $w_2=2$, and $w_3 = -1$.  \n",
    "\n"
   ]
  },
  {
   "cell_type": "markdown",
   "id": "059a0482",
   "metadata": {},
   "source": [
    "## NUMPY SOLVE\n",
    "\n",
    "In `NumPy`, we can solve a system of equations with Gaussian Elimination with the `linalg.solve` method as:"
   ]
  },
  {
   "cell_type": "code",
   "execution_count": 48,
   "id": "24ac0d9e",
   "metadata": {},
   "outputs": [],
   "source": [
    "A = np.array([[1, 3, 5],\n",
    "              [2, 2, -1],\n",
    "              [1, 3, 2]])\n",
    "y = np.array([[-1],\n",
    "              [1],\n",
    "              [2]])"
   ]
  },
  {
   "cell_type": "code",
   "execution_count": 49,
   "id": "7591779f",
   "metadata": {},
   "outputs": [
    {
     "data": {
      "text/plain": [
       "array([[-2.],\n",
       "       [ 2.],\n",
       "       [-1.]])"
      ]
     },
     "execution_count": 49,
     "metadata": {},
     "output_type": "execute_result"
    }
   ],
   "source": [
    "np.linalg.solve(A, y)"
   ]
  },
  {
   "cell_type": "markdown",
   "id": "7c8d6c74",
   "metadata": {},
   "source": [
    "Which confirms our solution is correct."
   ]
  },
  {
   "cell_type": "markdown",
   "id": "1f153eef",
   "metadata": {},
   "source": [
    "## Gauss-Jordan Elimination"
   ]
  },
  {
   "cell_type": "markdown",
   "id": "6344e363",
   "metadata": {},
   "source": [
    "The only difference between **Gaussian Elimination** and **Gauss-Jordan Elimination**, is that this time we \"keep going\" with the elemental row operations until we obtain the **reduced row echelon form**. The *reduced* part means two additionak things: (1) the pivots must be $1$, (2) and the entries above the pivots must be $0$. This is simplest form a system of linear equations can take. For instance, for a 3x3 matrix:\n",
    "\n",
    "$$\n",
    "\\begin{bmatrix}\n",
    "1 & 0 & 0 \\\\\n",
    "0 & 1 & 0 \\\\\n",
    "0 & 0 & 1 \n",
    "\\end{bmatrix}\n",
    "$$"
   ]
  },
  {
   "cell_type": "markdown",
   "id": "888c9b1a",
   "metadata": {},
   "source": [
    "## Steps "
   ]
  },
  {
   "cell_type": "markdown",
   "id": "dd54eb29",
   "metadata": {},
   "source": [
    "Let's retake from where we left Gaussian elimination in the above section. If we divide row 3 by -3 and row 2 by -4 as $\\frac{R_3}{-3}$ and $\\frac{R_2}{-4}$, we get:"
   ]
  },
  {
   "cell_type": "markdown",
   "id": "f11c371f",
   "metadata": {},
   "source": [
    "$$\n",
    "\\left[\n",
    "\\begin{matrix}\n",
    "1 & 3 & 5 \\\\\n",
    "0 & 1 & 2.75 \\\\\n",
    "0 & 0 & 1 \n",
    "\\end{matrix}\n",
    "  \\left|\n",
    "    \\,\n",
    "\\begin{matrix}\n",
    "-1 \\\\\n",
    "-0.75 \\\\\n",
    "-1\n",
    "\\end{matrix}\n",
    "  \\right.\n",
    "\\right]\n",
    "$$"
   ]
  },
  {
   "cell_type": "markdown",
   "id": "951986e9",
   "metadata": {},
   "source": [
    "Again, by this point we we know $w_3 = -1$. If we multiply row 2 by 3 and substract from row 1 as $R_1 - 3R_2$:"
   ]
  },
  {
   "cell_type": "markdown",
   "id": "8da9a48f",
   "metadata": {},
   "source": [
    "$$\n",
    "\\left[\n",
    "\\begin{matrix}\n",
    "1 & 0 & -3.25 \\\\\n",
    "0 & 1 & 2.75 \\\\\n",
    "0 & 0 & 1 \n",
    "\\end{matrix}\n",
    "  \\left|\n",
    "    \\,\n",
    "\\begin{matrix}\n",
    "1.25 \\\\\n",
    "-0.75 \\\\\n",
    "-1\n",
    "\\end{matrix}\n",
    "  \\right.\n",
    "\\right]\n",
    "$$"
   ]
  },
  {
   "cell_type": "markdown",
   "id": "1cfbabc8",
   "metadata": {},
   "source": [
    "## Reduced Row Echelon form "
   ]
  },
  {
   "cell_type": "markdown",
   "id": "af8d413f",
   "metadata": {},
   "source": [
    "Finally, we can add 3.25 times row 3 to row 1, and substract 2.75 times row 3 to row 2, as $R_1 + 3.25R_3$ and $R_2 - 2.75R_3$ to get the **reduced row echelon form** as:\n",
    "\n",
    "$$\n",
    "\\left[\n",
    "\\begin{matrix}\n",
    "1 & 0 & 0 \\\\\n",
    "0 & 1 & 0 \\\\\n",
    "0 & 0 & 1 \n",
    "\\end{matrix}\n",
    "  \\left|\n",
    "    \\,\n",
    "\\begin{matrix}\n",
    "-2 \\\\\n",
    "2 \\\\\n",
    "-1\n",
    "\\end{matrix}\n",
    "  \\right.\n",
    "\\right]\n",
    "$$\n"
   ]
  },
  {
   "cell_type": "markdown",
   "id": "ea071018",
   "metadata": {},
   "source": [
    "Now, by simply following the rules of matrix-vector multiplication, we get =\n",
    "\n",
    "$$\n",
    "w_1\n",
    "\\begin{bmatrix}\n",
    "1\\\\\n",
    "0\\\\\n",
    "0\n",
    "\\end{bmatrix}+\n",
    "w_2\n",
    "\\begin{bmatrix}\n",
    "0\\\\\n",
    "1\\\\\n",
    "0\n",
    "\\end{bmatrix}+\n",
    "w_3\n",
    "\\begin{bmatrix}\n",
    "0\\\\\n",
    "0\\\\\n",
    "1\n",
    "\\end{bmatrix}=\n",
    "\\begin{bmatrix}\n",
    "w_1\\\\\n",
    "w_2\\\\\n",
    "w_3\n",
    "\\end{bmatrix}=\n",
    "\\begin{bmatrix}\n",
    "-2 \\\\\n",
    "2 \\\\\n",
    "-1\n",
    "\\end{bmatrix}\n",
    "$$\n",
    "\n",
    "There you go, we obtained that $w_1 = -2$, $w_2 = 2$, and $w_3 = -1$."
   ]
  },
  {
   "cell_type": "markdown",
   "id": "d446d1ec",
   "metadata": {},
   "source": [
    "## Matrix basis and rank"
   ]
  },
  {
   "cell_type": "markdown",
   "id": "b8669e77",
   "metadata": {},
   "source": [
    "A set of $n$ linearly independent column vectors with $n$ elements forms a **basis**. For instance, the column vectors of $\\textit{A}$ are a basis:\n",
    "\n",
    "$$\\textit{A}=\n",
    "\\begin{bmatrix}\n",
    "1 & 0 \\\\\n",
    "0 & 1\n",
    "\\end{bmatrix}\n",
    "$$\n",
    "\n",
    "\"A basis for what?\" You may be wondering. In the case of $\\textit{A}$, for any vector $\\bf{y} \\in \\mathbb{R}^2$. On the contrary, the column vectors for $\\textit{B}$ *do not* form a basis for $\\mathbb{R}^2$:\n",
    "\n",
    "$$\\textit{B}=\n",
    "\\begin{bmatrix}\n",
    "1 & 0 & 1\\\\\n",
    "0 & 1 & 1\n",
    "\\end{bmatrix}\n",
    "$$\n",
    "\n",
    "In the case of $\\textit{B}$, the third column vector is a linear combination of first and second column vectors. \n",
    "\n",
    "## Independence dimension inequality\n",
    "The definition of a *basis* depends on the **independence-dimension inequality**, which states that a *linearly independent set of $n$ vectors can have at most $n$ elements*.   \n",
    "Alternatively, we say that any set of $n$ vectors with $n+1$ elements is, *necessarily*, linearly dependent.   \n",
    "Given that each vector in a *basis* is linearly independent, we say that any vector $\\bf{y}$ with $n$ elements, can be generated in a unique linear combination of the *basis* vectors. Hence, any matrix more columns than rows (as in $\\textit{B}$) will have dependent vectors.   \n",
    "*Basis* are sometimes referred to as the *minimal generating set*.\n",
    "\n",
    "## How to find basis?\n",
    "An important question is how to find the *basis* for a matrix. Another way to put the same question is to found out which vectors are linearly independent of each other. Hence, we need to solve:\n",
    "\n",
    "$$\n",
    "\\sum_{i=1}^k \\beta_i a_i = 0\n",
    "$$\n",
    "\n",
    "Where $a_i$ are the column vectors of $\\textit{A}$. We can approach this by using **Gaussian Elimination** or **Gauss-Jordan Elimination** and reducing $\\textit{A}$ to its **row echelon form** or **reduced row echelon form**. In either case, recall that the *pivots* of the echelon form indicate the set of linearly independent vectors in a matrix.\n"
   ]
  },
  {
   "cell_type": "markdown",
   "id": "03b5bcf0",
   "metadata": {},
   "source": [
    "## DETERMINANT OF A MATRIX "
   ]
  },
  {
   "attachments": {
    "Determinants_Part_01_V_03-666x1024.jpg": {
     "image/jpeg": "[encoded data removed]"
    }
   },
   "cell_type": "markdown",
   "id": "1ee548ab",
   "metadata": {},
   "source": [
    "![](attachment:Determinants_Part_01_V_03-666x1024.jpg)"
   ]
  },
  {
   "cell_type": "markdown",
   "id": "fb75d9ea",
   "metadata": {},
   "source": [
    "## SYMPY MATRIX OPERATIONS "
   ]
  },
  {
   "cell_type": "markdown",
   "id": "a24e7fac",
   "metadata": {},
   "source": [
    "`NumPy` does not have a method to obtain the row echelon form of a matrix. But, we can use `Sympy`, a Python library for symbolic mathematics that counts with a module for Matrices operations.`SymPy` has a method to obtain the reduced row echelon form and the pivots, `rref`. "
   ]
  },
  {
   "cell_type": "code",
   "execution_count": 1,
   "id": "09222bd7",
   "metadata": {},
   "outputs": [],
   "source": [
    "from sympy import Matrix "
   ]
  },
  {
   "cell_type": "code",
   "execution_count": 2,
   "id": "222093c4",
   "metadata": {},
   "outputs": [],
   "source": [
    "A = Matrix([[1, 0, 1],\n",
    "            [0, 1, 1]])"
   ]
  },
  {
   "cell_type": "code",
   "execution_count": 3,
   "id": "e8eb4c6e",
   "metadata": {},
   "outputs": [],
   "source": [
    "B = Matrix([[1, 2, 3, -1],\n",
    "            [2, -1, -4, 8],\n",
    "            [-1, 1, 3, -5],\n",
    "            [-1, 2, 5, -6],\n",
    "            [-1, -2, -3, 1]])"
   ]
  },
  {
   "cell_type": "code",
   "execution_count": 4,
   "id": "b2eaf59d",
   "metadata": {},
   "outputs": [],
   "source": [
    "A_rref, A_pivots = A.rref()"
   ]
  },
  {
   "cell_type": "markdown",
   "id": "c329ce73",
   "metadata": {},
   "source": [
    "## REDUCED ROW ECHELON FORM "
   ]
  },
  {
   "cell_type": "code",
   "execution_count": 5,
   "id": "b758f214",
   "metadata": {},
   "outputs": [
    {
     "name": "stdout",
     "output_type": "stream",
     "text": [
      "Reduced row echelon form of A:\n"
     ]
    }
   ],
   "source": [
    "print('Reduced row echelon form of A:')"
   ]
  },
  {
   "cell_type": "markdown",
   "id": "9f81527f",
   "metadata": {},
   "source": [
    "$$\n",
    "\\begin{bmatrix}\n",
    "1 & 0 & 1\\\\\n",
    "0 & 1 & 1\n",
    "\\end{bmatrix}\n",
    "$$"
   ]
  },
  {
   "cell_type": "code",
   "execution_count": 6,
   "id": "27c08916",
   "metadata": {},
   "outputs": [
    {
     "name": "stdout",
     "output_type": "stream",
     "text": [
      "Column pivots of A: (0, 1)\n"
     ]
    }
   ],
   "source": [
    "print(f'Column pivots of A: {A_pivots}')"
   ]
  },
  {
   "cell_type": "code",
   "execution_count": 7,
   "id": "87ae6128",
   "metadata": {},
   "outputs": [],
   "source": [
    "B_rref, B_pivots = B.rref()"
   ]
  },
  {
   "cell_type": "code",
   "execution_count": 8,
   "id": "98cdf627",
   "metadata": {},
   "outputs": [
    {
     "name": "stdout",
     "output_type": "stream",
     "text": [
      "Reduced row echelon form of B:\n"
     ]
    }
   ],
   "source": [
    "print('Reduced row echelon form of B:')"
   ]
  },
  {
   "cell_type": "markdown",
   "id": "abc6d1e3",
   "metadata": {},
   "source": [
    "$$\n",
    "\\begin{bmatrix}\n",
    "1 & 0 & -1 & 0\\\\\n",
    "0 & 1 & 2 & 0\\\\\n",
    "0 & 0 & 0 & 1\\\\\n",
    "0 & 0 & 0 & 0\\\\\n",
    "0 & 0 & 0 & 0\n",
    "\\end{bmatrix}\n",
    "$$"
   ]
  },
  {
   "cell_type": "markdown",
   "id": "89fe7b96",
   "metadata": {},
   "source": [
    "## PIVOTS "
   ]
  },
  {
   "cell_type": "code",
   "execution_count": 9,
   "id": "52b8e208",
   "metadata": {},
   "outputs": [
    {
     "name": "stdout",
     "output_type": "stream",
     "text": [
      "Column pivots of A: (0, 1, 3)\n"
     ]
    }
   ],
   "source": [
    "print(f'Column pivots of A: {B_pivots}')\n",
    "# For $\\textit{A}$, we found that the first and second column vectors are the *basis*, whereas for $\\textit{B}$ is the first, second, and fourth."
   ]
  },
  {
   "cell_type": "markdown",
   "id": "f5e40ff0",
   "metadata": {},
   "source": [
    "## Rank\n",
    "- The **rank** of a matrix $\\textit{A}$ is the dimensionality of the vector space generated by its number of linearly independent column vectors.   \n",
    "- This happens to be identical to the dimensionality of the vector space generated by its row vectors. We denote the *rank* of matrix as $rk(\\textit{A})$ or $rank(\\textit{A})$.\n",
    "\n",
    "- For an square matrix $\\mathbb{R}^{m\\times n}$ (i.e., $m=n$), we say is **full rank** when every column and/or row is linearly independent.     \n",
    "- For a non-square matrix with $m>n$ (i.e., more rows than columns), we say is **full rank** when every row is linearly independent.     \n",
    "- When $m<n$ (i.e., more columns than rows), we say is **full rank** when every column is linearly independent.\n"
   ]
  },
  {
   "cell_type": "markdown",
   "id": "847aa52d",
   "metadata": {},
   "source": [
    "## Matrix norm"
   ]
  },
  {
   "cell_type": "markdown",
   "id": "17edaedc",
   "metadata": {},
   "source": [
    "- As with vectors, we can measure the size of a matrix by computing its **norm**. There are multiple ways to define the norm for a matrix, as long it satisfies the same properties defined for vectors norms: (1) absolutely homogeneous, (2) triangle inequality, (3) positive definite.\n",
    "- Most commonly used norms in machine learning: (1) **Frobenius norm**, (2) **max norm**, (3) **spectral norm**.\n"
   ]
  },
  {
   "cell_type": "markdown",
   "id": "df006b68",
   "metadata": {},
   "source": [
    "## Frobenius norm"
   ]
  },
  {
   "cell_type": "markdown",
   "id": "37f4f014",
   "metadata": {},
   "source": [
    "The **Frobenius norm** is an element-wise norm named after the German mathematician Ferdinand Georg Frobenius. We denote this norm as $\\Vert \\textit{A} \\Vert_F$. You can think about this norm as flattening out the matrix into a long vector. For instance, a $3 \\times 3$ matrix would become a vector with $n=9$ entries. We define the Frobenius norm as:\n",
    "\n",
    "$$\n",
    "\\Vert \\textit{A} \\Vert_F := \\sqrt{\\sum_{i=1}^m \\sum_{j=1}^n a_{ij}^2} \n",
    "$$\n",
    "\n",
    "In words: square each entry of $\\textit{A}$, add them together, and then take the square root. \n",
    "\n",
    "In `NumPy`, we can compute the Frobenius norm as with the `linal.norm` method ant `fro` as the argument:"
   ]
  },
  {
   "cell_type": "code",
   "execution_count": 59,
   "id": "bad62883",
   "metadata": {},
   "outputs": [],
   "source": [
    "A = np.array([[1, 2, 3],\n",
    "              [4, 5, 6], \n",
    "              [7, 8, 9]])"
   ]
  },
  {
   "cell_type": "code",
   "execution_count": 60,
   "id": "c3172bb3",
   "metadata": {},
   "outputs": [
    {
     "data": {
      "text/plain": [
       "16.881943016134134"
      ]
     },
     "execution_count": 60,
     "metadata": {},
     "output_type": "execute_result"
    }
   ],
   "source": [
    "np.linalg.norm(A, 'fro')"
   ]
  },
  {
   "cell_type": "markdown",
   "id": "b93c98b4",
   "metadata": {},
   "source": [
    "## Max norm"
   ]
  },
  {
   "cell_type": "markdown",
   "id": "7575aa30",
   "metadata": {},
   "source": [
    "The **max norm** or **infinity norm** of a matrix equals to the largest sum of the absolute value of row vectors. We denote the max norm as $\\Vert \\textit{A} \\Vert_max$. Consider $\\textit{A} \\in \\mathbb{R}^{m \\times n}$. We define the max norm for $\\textit{A}$ as:\n",
    "\n",
    "$$\n",
    "\\Vert \\textit{A} \\Vert_{max} := \\text{max}_{i} \\sum_{j=1}^n\\vert a_{ij} \\vert\n",
    "$$\n",
    "\n",
    "This equals to go row by row, adding the absolute value of each entry, and then selecting the largest sum.\n",
    "\n",
    "In `Numpy`, we compute the max norm as:"
   ]
  },
  {
   "cell_type": "code",
   "execution_count": 61,
   "id": "fe63b547",
   "metadata": {},
   "outputs": [],
   "source": [
    "A = np.array([[1, 2, 3],\n",
    "              [4, 5, 6], \n",
    "              [7, 8, 9]])"
   ]
  },
  {
   "cell_type": "code",
   "execution_count": 62,
   "id": "675b632c",
   "metadata": {},
   "outputs": [
    {
     "data": {
      "text/plain": [
       "24.0"
      ]
     },
     "execution_count": 62,
     "metadata": {},
     "output_type": "execute_result"
    }
   ],
   "source": [
    "np.linalg.norm(A, np.inf)"
   ]
  },
  {
   "cell_type": "markdown",
   "id": "96d5e8fd",
   "metadata": {},
   "source": [
    "In this case, is easy to see that the third row has the largest absolute value."
   ]
  },
  {
   "cell_type": "markdown",
   "id": "54995bfe",
   "metadata": {},
   "source": [
    "## Spectral norm"
   ]
  },
  {
   "cell_type": "markdown",
   "id": "f284f15b",
   "metadata": {},
   "source": [
    "The **spectral norm** of a matrix equals to the largest singular value $\\sigma_1$. We denote the spectral norm as $\\Vert \\textit{A} \\Vert_2$. Consider $\\textit{A} \\in \\mathbb{R}^{m \\times n}$. We define the spectral for $\\textit{A}$ as:\n",
    "\n",
    "$$\n",
    "\\Vert \\textit{A} \\Vert_2 := \n",
    "\\text{max}_{x} \n",
    "\\frac{\\Vert \\textit{A}\\textbf{x} \\Vert_2}{\\Vert \\textbf{x} \\Vert_2}\n",
    "$$\n",
    "\n",
    "In `Numpy`, we compute the max norm as:"
   ]
  },
  {
   "cell_type": "code",
   "execution_count": 63,
   "id": "adcd7f8f",
   "metadata": {},
   "outputs": [],
   "source": [
    "A = np.array([[1, 2, 3],\n",
    "              [4, 5, 6], \n",
    "              [7, 8, 9]])"
   ]
  },
  {
   "cell_type": "code",
   "execution_count": 64,
   "id": "18d4a3af",
   "metadata": {},
   "outputs": [
    {
     "data": {
      "text/plain": [
       "16.84810335261421"
      ]
     },
     "execution_count": 64,
     "metadata": {},
     "output_type": "execute_result"
    }
   ],
   "source": [
    "np.linalg.norm(A, 2)"
   ]
  },
  {
   "cell_type": "markdown",
   "id": "f770b78a",
   "metadata": {},
   "source": [
    "## Affine mappings"
   ]
  },
  {
   "cell_type": "markdown",
   "id": "7931a2b0",
   "metadata": {},
   "source": [
    "The simplest way to describe affine mappings (or transformations) is as a *linear mapping* + *translation*. Hence, an affine mapping $\\textit{M}$ takes the form of:\n",
    "\n",
    "$$\n",
    "\\textit{M}(\\textbf{x}) = \\textit{A}\\textbf{x} + \\textbf{b}\n",
    "$$\n",
    "\n",
    "Where $\\textit{A}$ is a linear mapping or transformation and $\\textbf{b}$ is the translation vector.\n",
    "\n",
    "\n",
    "From a geometrical perspective, affine mappings displace spaces (lines or hyperplanes) from the origin of the coordinate space. Consequently, affine mappings do not operate over *vector spaces* as the zero vector condition $\\bf{0} \\in S$ does not hold anymore. "
   ]
  },
  {
   "cell_type": "markdown",
   "id": "d75ba3b0",
   "metadata": {},
   "source": [
    "## "
   ]
  },
  {
   "cell_type": "markdown",
   "id": "4cf10457",
   "metadata": {},
   "source": [
    "<center> Fig. 14: Affine mapping <center/>"
   ]
  },
  {
   "cell_type": "markdown",
   "id": "e1cf71f6",
   "metadata": {},
   "source": [
    "<center>\n",
    "<img src=\"./images/b-affine-mapping.svg\">\n",
    "<center/>"
   ]
  },
  {
   "cell_type": "markdown",
   "id": "aa606037",
   "metadata": {},
   "source": [
    "## Affine combination of vectors"
   ]
  },
  {
   "cell_type": "markdown",
   "id": "f22c4709",
   "metadata": {},
   "source": [
    "We can think in affine combinations of vectors, as linear combinations with an added constraint. \n",
    "Let's recall de definitoon for a linear combination. Consider a set of vectors $x_1, ..., x_k$ and scalars $\\beta_1, ..., \\beta_k \\in \\mathbb{R}$, then a linear combination is:   \n",
    "\n",
    "$$\n",
    "\\sum_{j=1}^k \\beta_j x_j := \\beta_1x_1 + ... + \\beta_kx_k\n",
    "$$\n",
    "\n",
    "For affine combinations, we add the condition:\n",
    "\n",
    "$$\n",
    "\\sum_{j=1}^k \\beta_j = 1\n",
    "$$\n",
    "\n",
    "In words, we constrain the sum of the weights $\\beta$ to $1$. In practice, this defines a *weighted average of the vectors*. This restriction has a palpable effect which is easier to grasp from a geometric perspective."
   ]
  },
  {
   "cell_type": "markdown",
   "id": "cb92be0f",
   "metadata": {},
   "source": [
    "## "
   ]
  },
  {
   "cell_type": "markdown",
   "id": "3ef3202b",
   "metadata": {},
   "source": [
    "<center> Fig. 15: Affine combinations <center/>"
   ]
  },
  {
   "cell_type": "markdown",
   "id": "d426d03b",
   "metadata": {},
   "source": [
    "<center>\n",
    "<img src=\"./images/b-affine-combination.svg\">\n",
    "<center/>"
   ]
  },
  {
   "cell_type": "markdown",
   "id": "16825c25",
   "metadata": {},
   "source": [
    "**Fig. 15** shows two affine combinations. The first combination with weights $\\beta_1 = \\frac{1}{2}$ and $\\beta_2 = \\frac{1}{2}$, which yields the midpoint between vectors $\\bf{x}$ and $\\bf{y}$. The second combination with weights $\\beta_1 = 3$ and $\\beta_2 =-1$ (add up to $1$), which yield a point over the vector $\\bf{z}$. In both cases, we have that the resulting vector lies on the same line. This is a general consequence of constraining the sum of the weights to $1$: *every affine combination of the same set of vectors will map onto the same space*. "
   ]
  },
  {
   "cell_type": "markdown",
   "id": "206d29bf",
   "metadata": {},
   "source": [
    "## Eigenvectors, Eigenvalues and Eigenspaces"
   ]
  },
  {
   "attachments": {
    "6.1+Definitions.jpg": {
     "image/jpeg": "[encoded data removed]"
    }
   },
   "cell_type": "markdown",
   "id": "b6acfb14",
   "metadata": {},
   "source": [
    "![](attachment:6.1+Definitions.jpg)"
   ]
  },
  {
   "cell_type": "markdown",
   "id": "c11e90e6",
   "metadata": {},
   "source": [
    "## NUMPY OPERATION "
   ]
  },
  {
   "cell_type": "code",
   "execution_count": 142,
   "id": "8db49160",
   "metadata": {},
   "outputs": [],
   "source": [
    "A = np.array([[4, 2],\n",
    "              [1, 3]])\n",
    "\n",
    "values, vectors = np.linalg.eig(A)"
   ]
  },
  {
   "cell_type": "code",
   "execution_count": 143,
   "id": "dae08893",
   "metadata": {},
   "outputs": [
    {
     "name": "stdout",
     "output_type": "stream",
     "text": [
      "Eigenvalues of A:\n",
      "[5. 2.]\n",
      "\n",
      "Eigenvectors of A:\n",
      "[[ 0.894 -0.707]\n",
      " [ 0.447  0.707]]\n"
     ]
    }
   ],
   "source": [
    "print(f'Eigenvalues of A:\\n{values}\\n')\n",
    "print(f'Eigenvectors of A:\\n{np.round(vectors,3)}')"
   ]
  },
  {
   "cell_type": "markdown",
   "id": "6fbe6be0",
   "metadata": {},
   "source": [
    "The eigenvalues are effectively $5$ and $2$. The eigenvectors (aside rounding error), match exactly what we found. For $\\lambda=5$, $2\\textbf{x}_1 = \\textbf{x}_1$, and for $\\lambda=2$ that $\\textbf{x}_1 = - \\textbf{x}_2$.\n",
    "\n"
   ]
  },
  {
   "cell_type": "markdown",
   "id": "1564ca42",
   "metadata": {},
   "source": [
    "## EXAMPLE "
   ]
  },
  {
   "cell_type": "markdown",
   "id": "71960b2c",
   "metadata": {},
   "source": [
    "Not all matrices will have eigenvalues and eigenvectors in $\\mathbb{R}$. \n",
    "$$\n",
    "\\begin{bmatrix}\n",
    "0 & -1 \\\\\n",
    "1 & 0\n",
    "\\end{bmatrix}\n",
    "$$\n",
    "\n",
    "Let's compute its eigenvectors and eigenvalues in `NumPy`:"
   ]
  },
  {
   "cell_type": "code",
   "execution_count": 144,
   "id": "c4cae065",
   "metadata": {},
   "outputs": [],
   "source": [
    "B = np.array([[0, -1],\n",
    "              [1, 0]])\n",
    "\n",
    "values, vectors = np.linalg.eig(B)"
   ]
  },
  {
   "cell_type": "code",
   "execution_count": 145,
   "id": "aab48457",
   "metadata": {},
   "outputs": [
    {
     "name": "stdout",
     "output_type": "stream",
     "text": [
      "B Eigenvalues:\n",
      "[0.+1.j 0.-1.j]\n",
      "\n",
      "B Eigenvectors:\n",
      "[[0.70710678+0.j         0.70710678-0.j        ]\n",
      " [0.        -0.70710678j 0.        +0.70710678j]]\n",
      "\n"
     ]
    }
   ],
   "source": [
    "print(f'B Eigenvalues:\\n{values}\\n')\n",
    "print(f'B Eigenvectors:\\n{vectors}\\n')"
   ]
  },
  {
   "cell_type": "markdown",
   "id": "44ed06f1",
   "metadata": {},
   "source": [
    "The ***+0.j*** indicates the solution yield imaginary numbers, meaning that there are not eigenvectors or eigenvalues for the matrix $\\textit{B} \\in \\mathbb{R}$"
   ]
  },
  {
   "cell_type": "markdown",
   "id": "c14957fd",
   "metadata": {},
   "source": [
    "## Trace and determinant with eigenvalues"
   ]
  },
  {
   "cell_type": "markdown",
   "id": "400e8be7",
   "metadata": {},
   "source": [
    "The **trace** of a matrix is the *sum of its diagonal elements*. Formally, we define the trace for a square matrix $\\textit{A} \\in \\mathbb{R}^{n \\times n}$ as:\n",
    "\n",
    "$$\n",
    "tr(\\textit{A}) := \\sum_{i=1}^n = a_{ii}\n",
    "$$\n",
    "\n",
    "There is something very special about eigenvalues: *its sum equals the trace of the matrix*. Recall the matrix $\\textit{A}$ from the previous section: \n",
    "\n",
    "$$\n",
    "\\begin{bmatrix}\n",
    "4 & 2 \\\\\n",
    "1 & 3\n",
    "\\end{bmatrix}\n",
    "$$\n",
    "\n",
    "Which has a trace equal to $4 + 3 = 7$. We found that their eigenvalues were $\\lambda_1 = 2$ and $\\lambda_2 = 5$, which also add up to $7$. \n",
    "\n"
   ]
  },
  {
   "cell_type": "markdown",
   "id": "bc7374d6",
   "metadata": {},
   "source": [
    "## DETERMINANT "
   ]
  },
  {
   "cell_type": "markdown",
   "id": "8aec9cdf",
   "metadata": {},
   "source": [
    "Here is another curious fact about eigenvalues: *its product equals to the determinant of the matrix*. The determinant of $\\textit{A}$ equals to $(4 \\times 3) - (2 \\times 1) = 10$. The product of the eigenvalues is also $10$.\n",
    "\n",
    "These two properties hold only when we have a full set of eigenvalues, this is when we have as many eigenvalues as dimensions in the matrix. "
   ]
  }
 ],
 "metadata": {
  "kernelspec": {
   "display_name": "Python 3 (ipykernel)",
   "language": "python",
   "name": "python3"
  },
  "language_info": {
   "codemirror_mode": {
    "name": "ipython",
    "version": 3
   },
   "file_extension": ".py",
   "mimetype": "text/x-python",
   "name": "python",
   "nbconvert_exporter": "python",
   "pygments_lexer": "ipython3",
   "version": "3.10.9"
  }
 },
 "nbformat": 4,
 "nbformat_minor": 5
}
