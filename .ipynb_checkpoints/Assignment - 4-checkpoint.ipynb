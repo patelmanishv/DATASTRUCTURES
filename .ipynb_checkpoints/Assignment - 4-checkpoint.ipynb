{
 "cells": [
  {
   "cell_type": "markdown",
   "id": "3b2d2a52",
   "metadata": {},
   "source": [
    "# ASSIGNMENT - 4 \n",
    "\n",
    "The solution is listed on [Github](https://github.com/patelmanishv/DATASTRUCTURES)"
   ]
  },
  {
   "cell_type": "markdown",
   "id": "e2f84995",
   "metadata": {},
   "source": [
    "# Write a Python program to remove the element at a specific index of an array.\n",
    "<hr>"
   ]
  },
  {
   "cell_type": "code",
   "execution_count": null,
   "id": "ee02283d",
   "metadata": {
    "jupyter": {
     "source_hidden": true
    }
   },
   "outputs": [],
   "source": [
    "import array as arr\n",
    "a = arr.array('i', [1, 2, 3, 4, 5])\n",
    "a.pop(2)\n",
    "print(a)"
   ]
  },
  {
   "cell_type": "markdown",
   "id": "42bb375d",
   "metadata": {},
   "source": [
    "# Write a Python program to insert an element at a specific index of an array.\n",
    "<hr>"
   ]
  },
  {
   "cell_type": "code",
   "execution_count": null,
   "id": "1fb7d3e0",
   "metadata": {
    "jupyter": {
     "source_hidden": true
    }
   },
   "outputs": [],
   "source": [
    "import array as arr\n",
    "a = arr.array('i', [1, 2, 3, 4, 5])\n",
    "a.insert(2, 6)\n",
    "print(a)"
   ]
  },
  {
   "cell_type": "markdown",
   "id": "8067fcf7",
   "metadata": {},
   "source": [
    "# Write a Python program to append an element to the end of an array.\n",
    "<hr>"
   ]
  },
  {
   "cell_type": "code",
   "execution_count": null,
   "id": "0f8bf83e",
   "metadata": {
    "jupyter": {
     "source_hidden": true
    }
   },
   "outputs": [],
   "source": [
    "import array as arr\n",
    "a = arr.array('i', [1, 2, 3, 4, 5])\n",
    "a.append(6)\n",
    "print(a)"
   ]
  },
  {
   "cell_type": "markdown",
   "id": "793f2eda",
   "metadata": {},
   "source": [
    "# Write a Python program to count the number of occurrences of an element in an array.\n",
    "<hr>"
   ]
  },
  {
   "cell_type": "code",
   "execution_count": null,
   "id": "7abeb1e2",
   "metadata": {
    "jupyter": {
     "source_hidden": true
    }
   },
   "outputs": [],
   "source": [
    "import array as arr\n",
    "a = arr.array('i', [1, 2, 3, 4, 5, 3])\n",
    "print(a.count(3))"
   ]
  },
  {
   "cell_type": "markdown",
   "id": "555ffa6b",
   "metadata": {},
   "source": [
    "# Find the maximum element in an array:\n",
    "<hr>\n"
   ]
  },
  {
   "cell_type": "code",
   "execution_count": null,
   "id": "ce315e06",
   "metadata": {
    "jupyter": {
     "source_hidden": true
    }
   },
   "outputs": [],
   "source": [
    "arr = [5, 10, 3, 20, 7]\n",
    "max_elem = max(arr)\n",
    "print(max_elem) # Output: 20"
   ]
  },
  {
   "cell_type": "markdown",
   "id": "4b768145",
   "metadata": {
    "tags": []
   },
   "source": [
    "# Find the minimum element in an array:\n",
    "<hr>"
   ]
  },
  {
   "cell_type": "code",
   "execution_count": null,
   "id": "68459cb2",
   "metadata": {
    "jupyter": {
     "source_hidden": true
    }
   },
   "outputs": [],
   "source": [
    "arr = [5, 10, 3, 20, 7]\n",
    "min_elem = min(arr)\n",
    "print(min_elem) # Output: 3"
   ]
  },
  {
   "cell_type": "markdown",
   "id": "13681bab",
   "metadata": {},
   "source": [
    "# Find the sum of all elements in an array:\n",
    "<hr>"
   ]
  },
  {
   "cell_type": "code",
   "execution_count": null,
   "id": "6d2dc4a8",
   "metadata": {
    "jupyter": {
     "source_hidden": true
    }
   },
   "outputs": [],
   "source": [
    "arr = [5, 10, 3, 20, 7]\n",
    "sum_arr = sum(arr)\n",
    "print(sum_arr) # Output: 45"
   ]
  },
  {
   "cell_type": "markdown",
   "id": "0983838f",
   "metadata": {},
   "source": [
    "# Find the average of all elements in an array:\n",
    "<hr>"
   ]
  },
  {
   "cell_type": "code",
   "execution_count": null,
   "id": "17b98b62",
   "metadata": {
    "jupyter": {
     "source_hidden": true
    }
   },
   "outputs": [],
   "source": [
    "arr = [5, 10, 3, 20, 7]\n",
    "avg_arr = sum(arr) / len(arr)\n",
    "print(avg_arr) # Output: 9.0\n"
   ]
  },
  {
   "cell_type": "markdown",
   "id": "27a78bcd",
   "metadata": {},
   "source": [
    "# Reverse a given array:\n",
    "<hr>"
   ]
  },
  {
   "cell_type": "code",
   "execution_count": null,
   "id": "0c0cc1de",
   "metadata": {
    "jupyter": {
     "source_hidden": true
    }
   },
   "outputs": [],
   "source": [
    "arr = [5, 10, 3, 20, 7]\n",
    "reversed_arr = arr[::-1]\n",
    "print(reversed_arr) # Output: [7, 20, 3, 10, 5]\n"
   ]
  },
  {
   "cell_type": "markdown",
   "id": "55847f9e",
   "metadata": {},
   "source": [
    "# Remove duplicates from an array:\n",
    "<hr>"
   ]
  },
  {
   "cell_type": "code",
   "execution_count": null,
   "id": "01c68d7d",
   "metadata": {
    "jupyter": {
     "source_hidden": true
    }
   },
   "outputs": [],
   "source": [
    "arr = [5, 10, 3, 20, 7, 5, 3]\n",
    "unique_arr = list(set(arr))\n",
    "print(unique_arr) # Output: [3, 5, 7, 10, 20]\n"
   ]
  },
  {
   "cell_type": "markdown",
   "id": "ab336db7",
   "metadata": {},
   "source": [
    "# Find the index of an element in an array:\n",
    "<hr>"
   ]
  },
  {
   "cell_type": "code",
   "execution_count": null,
   "id": "a0ca053a",
   "metadata": {
    "jupyter": {
     "source_hidden": true
    }
   },
   "outputs": [],
   "source": [
    "arr = [5, 10, 3, 20, 7]\n",
    "index = arr.index(10)\n",
    "print(index) # Output: 1\n"
   ]
  },
  {
   "cell_type": "markdown",
   "id": "0baef812",
   "metadata": {},
   "source": [
    "# Sort an array in ascending order:\n",
    "<hr>"
   ]
  },
  {
   "cell_type": "code",
   "execution_count": null,
   "id": "40a461d5",
   "metadata": {
    "jupyter": {
     "source_hidden": true
    }
   },
   "outputs": [],
   "source": [
    "arr = [5, 10, 3, 20, 7]\n",
    "sorted_arr = sorted(arr)\n",
    "print(sorted_arr) # Output: [3, 5, 7, 10, 20]\n"
   ]
  },
  {
   "cell_type": "markdown",
   "id": "a09c2f2b",
   "metadata": {},
   "source": [
    "# Write a Python program to find the common elements between two arrays.\n",
    "<hr>"
   ]
  },
  {
   "cell_type": "code",
   "execution_count": null,
   "id": "f37887da",
   "metadata": {
    "jupyter": {
     "source_hidden": true
    }
   },
   "outputs": [],
   "source": [
    "arr1 = [1, 2, 3, 4, 5]\n",
    "arr2 = [4, 5, 6, 7, 8]\n",
    "common_arr = [i for i in arr1 if i in arr2]\n",
    "print(\"Common elements:\", common_arr)\n"
   ]
  },
  {
   "cell_type": "markdown",
   "id": "b69a92da",
   "metadata": {},
   "source": [
    "# Write a Python program to merge two arrays into a single array.\n",
    "<hr>"
   ]
  },
  {
   "cell_type": "code",
   "execution_count": null,
   "id": "6a56a06d",
   "metadata": {
    "jupyter": {
     "source_hidden": true
    }
   },
   "outputs": [],
   "source": [
    "arr1 = [1, 2, 3]\n",
    "arr2 = [4, 5, 6]\n",
    "merged_arr = arr1 + arr2\n",
    "print(\"Merged array:\", merged_arr)"
   ]
  },
  {
   "cell_type": "markdown",
   "id": "bad0cc6e",
   "metadata": {},
   "source": [
    "# Write a Python program to rotate an array to the right by n positions.\n",
    "<hr>"
   ]
  },
  {
   "cell_type": "code",
   "execution_count": null,
   "id": "797c7490",
   "metadata": {
    "jupyter": {
     "source_hidden": true
    }
   },
   "outputs": [],
   "source": [
    "arr = [1, 2, 3, 4, 5]\n",
    "n = 2\n",
    "arr = arr[-n:] + arr[:-n]\n",
    "print(\"Rotated array:\", arr)"
   ]
  },
  {
   "cell_type": "markdown",
   "id": "8b47245c",
   "metadata": {},
   "source": [
    "# Write a Python program to find the frequency of each element in an array.\n",
    "<hr>"
   ]
  },
  {
   "cell_type": "code",
   "execution_count": null,
   "id": "3b6e9d4e",
   "metadata": {
    "jupyter": {
     "source_hidden": true
    }
   },
   "outputs": [],
   "source": [
    "arr = [1, 2, 3, 2, 4, 3, 5]\n",
    "freq = {}\n",
    "for i in arr:\n",
    "  if i in freq:\n",
    "    freq[i] += 1\n",
    "  else:\n",
    "    freq[i] = 1\n",
    "print(\"Frequency of elements:\", freq)"
   ]
  },
  {
   "cell_type": "markdown",
   "id": "ed5c8aaa",
   "metadata": {},
   "source": [
    "# Write a Python program to find the kth smallest element in an array.\n",
    "<hr>"
   ]
  },
  {
   "cell_type": "markdown",
   "id": "c2a62acb",
   "metadata": {},
   "source": [
    "# Write a Python program to find a pair with the highest product from a given array of integers. \n",
    "<hr>"
   ]
  },
  {
   "cell_type": "code",
   "execution_count": null,
   "id": "6178eb7a",
   "metadata": {},
   "outputs": [],
   "source": [
    "def max_Product(arr): \n",
    "    arr_len = len(arr) \n",
    "    if (arr_len < 2): \n",
    "        print(\"No pairs exists\") \n",
    "        return      \n",
    "    # Initialize max product pair \n",
    "    x = arr[0]; y = arr[1] \n",
    "\n",
    "    # Traverse through every possible pair     \n",
    "    for i in range(0, arr_len): \n",
    "\n",
    "        for j in range(i + 1, arr_len): \n",
    "            if (arr[i] * arr[j] > x * y): \n",
    "                x = arr[i]; y = arr[j] \n",
    "\n",
    "    return x,y    \n",
    "\n",
    "nums = [1, 2, 3, 4, 7, 0, 8, 4] \n",
    "print(\"Original array:\", nums)\n",
    "print(\"Maximum product pair is:\", max_Product(nums))"
   ]
  },
  {
   "cell_type": "code",
   "execution_count": null,
   "id": "4846e361",
   "metadata": {
    "tags": []
   },
   "outputs": [],
   "source": [
    "arr = [1, 5, 2, 9, 3]\n",
    "k = 3\n",
    "arr.sort()\n",
    "print(\"Kth smallest element:\", arr[k-1])"
   ]
  },
  {
   "cell_type": "markdown",
   "id": "f990d983",
   "metadata": {},
   "source": [
    "# Write a Python program that removes all duplicate elements from an array and returns a new array.\n",
    "<hr>"
   ]
  },
  {
   "cell_type": "code",
   "execution_count": null,
   "id": "648bd6a3",
   "metadata": {},
   "outputs": [],
   "source": [
    "import array as arr\n",
    "def test(nums):\n",
    "    return sorted(set(nums),key=nums.index)\n",
    "\n",
    "array_num = arr.array('i', [1, 3, 5, 1, 3, 7, 9])\n",
    "print(\"Original array:\")\n",
    "for i in range(len(array_num)):    \n",
    "    print(array_num[i], end=' ')\n",
    "print(\"\\nAfter removing duplicate elements from the said array:\")\n",
    "result = arr.array('i', test(array_num))\n",
    "for i in range(len(result)):    \n",
    "    print(result[i], end=' ')\n",
    "array_num = arr.array('i', [2, 4, 2, 6, 4, 8])\n",
    "print(\"\\nOriginal array:\")\n",
    "for i in range(len(array_num)):    \n",
    "    print(array_num[i], end=' ')\n",
    "print(\"\\nAfter removing duplicate elements from the said array:\")\n",
    "result = arr.array('i', test(array_num))\n",
    "for i in range(len(result)):    \n",
    "    print(result[i], end=' ')"
   ]
  },
  {
   "cell_type": "markdown",
   "id": "6bbd40c7",
   "metadata": {},
   "source": [
    "# Write a Python program to find the missing number in a given array of numbers between 10 and 20.\n",
    "<hr>"
   ]
  },
  {
   "cell_type": "code",
   "execution_count": null,
   "id": "ee31b785",
   "metadata": {},
   "outputs": [],
   "source": [
    "mport array as arr\n",
    "def test(nums):\n",
    "    return sum(range(10, 21)) - sum(list(nums))\n",
    "\n",
    "array_num = arr.array('i', [10, 11, 12, 13, 14, 16, 17, 18, 19, 20])\n",
    "print(\"Original array:\")\n",
    "for i in range(len(array_num)):    \n",
    "    print(array_num[i], end=' ')\n",
    "print(\"\\nMissing number in the said array (10-20): \",test(array_num))\n",
    " \n",
    "array_num = arr.array('i', [10, 11, 12, 13, 14, 15, 16, 17, 18, 19])\n",
    "print(\"\\nOriginal array:\")\n",
    "for i in range(len(array_num)):    \n",
    "    print(array_num[i], end=' ')\n",
    "print(\"\\nMissing number in the said array (10-20): \",test(array_num))"
   ]
  }
 ],
 "metadata": {
  "hide_input": false,
  "kernelspec": {
   "display_name": "Python 3 (ipykernel)",
   "language": "python",
   "name": "python3"
  },
  "language_info": {
   "codemirror_mode": {
    "name": "ipython",
    "version": 3
   },
   "file_extension": ".py",
   "mimetype": "text/x-python",
   "name": "python",
   "nbconvert_exporter": "python",
   "pygments_lexer": "ipython3",
   "version": "3.9.13"
  },
  "toc-autonumbering": true
 },
 "nbformat": 4,
 "nbformat_minor": 5
}
