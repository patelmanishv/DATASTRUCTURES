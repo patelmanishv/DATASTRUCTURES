{
 "cells": [
  {
   "cell_type": "raw",
   "metadata": {},
   "source": [
    "---\n",
    "title: \"API in Python\"\n",
    "format: \n",
    "    revealjs:\n",
    "        slide-number: true\n",
    "        theme: dark\n",
    "        width: 1400\n",
    "        height: 900\n",
    "        highlight-style: vim-dark\n",
    "        center: true\n",
    "        incremental: true\n",
    "        footer: \"Manish Patel\"\n",
    "        progress: true\n",
    "jupyter: python3\n",
    "embed-resources: true\n",
    "execute:\n",
    "  echo: true\n",
    "---"
   ]
  },
  {
   "cell_type": "markdown",
   "metadata": {},
   "source": [
    "## What is an API?\n",
    "- An API (Application Programming Interface) serves as a middleware that lets you channel data between software products.\n",
    "- You can use it to define requests that have been made, handle business logic, the and manage data formats."
   ]
  },
  {
   "cell_type": "markdown",
   "metadata": {},
   "source": [
    "## Working of API {background-color=\"aquamarine\"}"
   ]
  },
  {
   "cell_type": "markdown",
   "metadata": {},
   "source": [
    "![](https://www.redhat.com/rhdc/managed-files/styles/wysiwyg_full_width/private/API-page-graphic.png?itok=RRsvST-_)"
   ]
  },
  {
   "cell_type": "markdown",
   "metadata": {},
   "source": [
    "## TYPES OF API"
   ]
  },
  {
   "cell_type": "markdown",
   "metadata": {},
   "source": [
    "![](https://static.wixstatic.com/media/27c955_92fd7de3dab544a18def5d391dabc810~mv2.png/v1/fill/w_600,h_316,al_c,q_85,usm_0.66_1.00_0.01,enc_auto/27c955_92fd7de3dab544a18def5d391dabc810~mv2.png)"
   ]
  },
  {
   "cell_type": "markdown",
   "metadata": {},
   "source": [
    "## {background-iframe=\"https://openweathermap.org/api/one-call-3\"}"
   ]
  },
  {
   "cell_type": "markdown",
   "metadata": {},
   "source": [
    "## OPENWEATHER API"
   ]
  },
  {
   "cell_type": "code",
   "execution_count": 5,
   "metadata": {},
   "outputs": [
    {
     "name": "stdout",
     "output_type": "stream",
     "text": [
      "----------Ahmedabad-----------\n",
      "Temperature: 30.02\n",
      "Humidity: 37\n",
      "Pressure: 1007\n",
      "Weather Report: scattered clouds\n"
     ]
    }
   ],
   "source": [
    "#| code-line-numbers: \"1-2|3-4|5-6|7-8|9-10|11-12|13-14|15-16|17-18|19-20|21-22|23-24|25-26|27-28|29-30|31-32|33-34\"\n",
    "# importing requests and json\n",
    "import requests, json\n",
    "# base URL\n",
    "BASE_URL = \"https://api.openweathermap.org/data/2.5/weather?\"\n",
    "# City Name \n",
    "CITY = \"Ahmedabad\"\n",
    "# API key \n",
    "API_KEY = \"6661dfea9bba66f4296e4422eefb0cd1\"\n",
    "# upadting the URL\n",
    "URL = BASE_URL + \"q=\" + CITY + \"&appid=\" +  API_KEY + \"&lang=en&units=metric\"\n",
    "# HTTP request\n",
    "response = requests.get(URL)\n",
    "# checking the status code of the request\n",
    "if response.status_code == 200:\n",
    "   # getting data in the json format\n",
    "   data = response.json()\n",
    "   # getting the main dict block\n",
    "   main = data['main']\n",
    "   # getting temperature\n",
    "   temperature = main['temp']\n",
    "   # getting the humidity\n",
    "   humidity = main['humidity']\n",
    "   # getting the pressure\n",
    "   pressure = main['pressure']\n",
    "   # weather report\n",
    "   report = data['weather']\n",
    "   print(f\"{CITY:-^30}\")\n",
    "   print(f\"Temperature: {temperature}\")\n",
    "   print(f\"Humidity: {humidity}\")\n",
    "   print(f\"Pressure: {pressure}\")\n",
    "   print(f\"Weather Report: {report[0]['description']}\")\n",
    "else:\n",
    "   # showing the error message\n",
    "   print(\"Error in the HTTP request\")"
   ]
  }
 ],
 "metadata": {
  "kernelspec": {
   "display_name": "Python 3 (ipykernel)",
   "language": "python",
   "name": "python3"
  },
  "language_info": {
   "codemirror_mode": {
    "name": "ipython",
    "version": 3
   },
   "file_extension": ".py",
   "mimetype": "text/x-python",
   "name": "python",
   "nbconvert_exporter": "python",
   "pygments_lexer": "ipython3",
   "version": "3.11.2"
  }
 },
 "nbformat": 4,
 "nbformat_minor": 4
}
